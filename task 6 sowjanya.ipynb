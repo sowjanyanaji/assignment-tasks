{
 "cells": [
  {
   "cell_type": "markdown",
   "id": "7b22ce35",
   "metadata": {},
   "source": [
    "**Assignment Task 1: Tuple Basics Create a Python tuple containing the names of your favorite fruits** \n",
    "    \n",
    "**Write a Python program to print each fruit name from the tuple.**\n"
   ]
  },
  {
   "cell_type": "code",
   "execution_count": 1,
   "id": "8cd5a845",
   "metadata": {},
   "outputs": [
    {
     "name": "stdout",
     "output_type": "stream",
     "text": [
      "('apple', 'banana', 'orange', 'guava', 'papaya')\n"
     ]
    }
   ],
   "source": [
    "fruits=(\"apple\",\"banana\",\"orange\",\"guava\",\"papaya\",)\n",
    "print(fruits)\n"
   ]
  },
  {
   "cell_type": "markdown",
   "id": "792b213a",
   "metadata": {},
   "source": [
    "Assignment Task 2: \n",
    "\n",
    "**Tuple Operations Given two tuples, write a Python program to concatenate them into a single tuple and then find the length of the resulting tuple.**"
   ]
  },
  {
   "cell_type": "code",
   "execution_count": 3,
   "id": "f7278844",
   "metadata": {},
   "outputs": [],
   "source": [
    "Tuple_1=(\"sowjanya\",\"pranitha\",\"padma\",\"shreya\")\n",
    "Tuple_2=(\"Surya\",\"Prabhas\",\"Mahesbabu\",\"NTR\")"
   ]
  },
  {
   "cell_type": "code",
   "execution_count": 4,
   "id": "0b150d46",
   "metadata": {},
   "outputs": [],
   "source": [
    "a = Tuple_1+Tuple_2"
   ]
  },
  {
   "cell_type": "code",
   "execution_count": 5,
   "id": "0ead43d9",
   "metadata": {},
   "outputs": [
    {
     "data": {
      "text/plain": [
       "('sowjanya',\n",
       " 'pranitha',\n",
       " 'padma',\n",
       " 'shreya',\n",
       " 'Surya',\n",
       " 'Prabhas',\n",
       " 'Mahesbabu',\n",
       " 'NTR')"
      ]
     },
     "execution_count": 5,
     "metadata": {},
     "output_type": "execute_result"
    }
   ],
   "source": [
    "a"
   ]
  },
  {
   "cell_type": "code",
   "execution_count": 6,
   "id": "8a49c9a5",
   "metadata": {},
   "outputs": [
    {
     "data": {
      "text/plain": [
       "8"
      ]
     },
     "execution_count": 6,
     "metadata": {},
     "output_type": "execute_result"
    }
   ],
   "source": [
    "len(a)"
   ]
  },
  {
   "cell_type": "markdown",
   "id": "b27dd1e9",
   "metadata": {},
   "source": [
    "Assignment Task 3:\n",
    "\n",
    "**Set Creation Create a Python set containing the first 10 even numbers (2, 4, 6, ...). Write a program to display this set.**"
   ]
  },
  {
   "cell_type": "code",
   "execution_count": 7,
   "id": "04b209be",
   "metadata": {},
   "outputs": [],
   "source": [
    "even_numbers = set(range(2,21,2))"
   ]
  },
  {
   "cell_type": "code",
   "execution_count": 8,
   "id": "965af20e",
   "metadata": {},
   "outputs": [
    {
     "data": {
      "text/plain": [
       "{2, 4, 6, 8, 10, 12, 14, 16, 18, 20}"
      ]
     },
     "execution_count": 8,
     "metadata": {},
     "output_type": "execute_result"
    }
   ],
   "source": [
    "even_numbers"
   ]
  },
  {
   "cell_type": "code",
   "execution_count": 9,
   "id": "f797fd14",
   "metadata": {},
   "outputs": [],
   "source": [
    "# range() ---> range(start, stop[, step]) -> range object"
   ]
  },
  {
   "cell_type": "markdown",
   "id": "0b91885f",
   "metadata": {},
   "source": [
    "Assignment Task 4: \n",
    "    \n",
    "**Set Operations : Given two sets, write a Python program to find the union, intersection, and difference of these sets.**"
   ]
  },
  {
   "cell_type": "code",
   "execution_count": 14,
   "id": "89a8dde4",
   "metadata": {},
   "outputs": [
    {
     "data": {
      "text/plain": [
       "{1, 2, 3, 4, 5, 6, 8, 10}"
      ]
     },
     "execution_count": 14,
     "metadata": {},
     "output_type": "execute_result"
    }
   ],
   "source": [
    "set1 = {1,2,3,4,5}\n",
    "set2 = {2,4,6,8,10}\n",
    "set1.union(set2) #combines two sets"
   ]
  },
  {
   "cell_type": "code",
   "execution_count": 13,
   "id": "8d2ee52d",
   "metadata": {},
   "outputs": [
    {
     "data": {
      "text/plain": [
       "{2, 4}"
      ]
     },
     "execution_count": 13,
     "metadata": {},
     "output_type": "execute_result"
    }
   ],
   "source": [
    "set1.intersection(set2) #it gives common values out of two sets."
   ]
  },
  {
   "cell_type": "code",
   "execution_count": 15,
   "id": "df34d0d8",
   "metadata": {},
   "outputs": [
    {
     "data": {
      "text/plain": [
       "{1, 3, 5}"
      ]
     },
     "execution_count": 15,
     "metadata": {},
     "output_type": "execute_result"
    }
   ],
   "source": [
    "set1.difference(set2) #it gives other than intersection values of the set which we mention at first."
   ]
  },
  {
   "cell_type": "code",
   "execution_count": 17,
   "id": "9866d937",
   "metadata": {},
   "outputs": [
    {
     "data": {
      "text/plain": [
       "{6, 8, 10}"
      ]
     },
     "execution_count": 17,
     "metadata": {},
     "output_type": "execute_result"
    }
   ],
   "source": [
    "set2.difference(set1) #here it gives uncommon values of set 2"
   ]
  },
  {
   "cell_type": "markdown",
   "id": "8212400d",
   "metadata": {},
   "source": [
    "Assignment Task 5:\n",
    "\n",
    "**Tuple and Set : Conversion Write a Python program that takes a tuple of integers and converts it into a set. Then, find and print the maximum and minimum values from the set.**"
   ]
  },
  {
   "cell_type": "code",
   "execution_count": 18,
   "id": "9d6af2fc",
   "metadata": {},
   "outputs": [],
   "source": [
    "num1= (22,33,44,55,66)\n",
    "a = set(num1)"
   ]
  },
  {
   "cell_type": "code",
   "execution_count": 19,
   "id": "0d682851",
   "metadata": {},
   "outputs": [
    {
     "data": {
      "text/plain": [
       "66"
      ]
     },
     "execution_count": 19,
     "metadata": {},
     "output_type": "execute_result"
    }
   ],
   "source": [
    "max(a)  #gives biggest value"
   ]
  },
  {
   "cell_type": "code",
   "execution_count": 21,
   "id": "b5839083",
   "metadata": {},
   "outputs": [
    {
     "data": {
      "text/plain": [
       "22"
      ]
     },
     "execution_count": 21,
     "metadata": {},
     "output_type": "execute_result"
    }
   ],
   "source": [
    "min(a)  #gives smallest value"
   ]
  },
  {
   "cell_type": "markdown",
   "id": "63470221",
   "metadata": {},
   "source": [
    "Assignment Task 6: \n",
    "\n",
    "**Tuple Immutability Explain the concept of immutability in Python tuples with examples. Discuss why tuples are considered immutable data structures.**"
   ]
  },
  {
   "cell_type": "markdown",
   "id": "6be93400",
   "metadata": {},
   "source": [
    "Immuatbality means it doesn't effect the original values of the datatypes.\n",
    "\n",
    "Immutable objects can be used as keys in dictionaries and elements in sets because their values don't change."
   ]
  },
  {
   "cell_type": "code",
   "execution_count": 22,
   "id": "a8912233",
   "metadata": {},
   "outputs": [
    {
     "ename": "AttributeError",
     "evalue": "'tuple' object has no attribute 'append'",
     "output_type": "error",
     "traceback": [
      "\u001b[1;31m---------------------------------------------------------------------------\u001b[0m",
      "\u001b[1;31mAttributeError\u001b[0m                            Traceback (most recent call last)",
      "Cell \u001b[1;32mIn[22], line 2\u001b[0m\n\u001b[0;32m      1\u001b[0m t \u001b[38;5;241m=\u001b[39m \u001b[38;5;241m1\u001b[39m,\u001b[38;5;241m2\u001b[39m,\u001b[38;5;241m3\u001b[39m,\u001b[38;5;241m4\u001b[39m\n\u001b[1;32m----> 2\u001b[0m t\u001b[38;5;241m.\u001b[39mappend()\n",
      "\u001b[1;31mAttributeError\u001b[0m: 'tuple' object has no attribute 'append'"
     ]
    }
   ],
   "source": [
    "t = 1,2,3,4\n",
    "t.append()"
   ]
  },
  {
   "cell_type": "markdown",
   "id": "2462ff2c",
   "metadata": {},
   "source": [
    "**tuple object doesn't have mutable features like append, insert,extend, remove, clear,pop**"
   ]
  },
  {
   "cell_type": "code",
   "execution_count": 23,
   "id": "db5dbd20",
   "metadata": {},
   "outputs": [],
   "source": [
    "t= (1,2,3,4)\n",
    "t1= (1,2,3,4,5)\n",
    "t2=t+t1"
   ]
  },
  {
   "cell_type": "code",
   "execution_count": 24,
   "id": "3f901898",
   "metadata": {},
   "outputs": [
    {
     "data": {
      "text/plain": [
       "(1, 2, 3, 4, 1, 2, 3, 4, 5)"
      ]
     },
     "execution_count": 24,
     "metadata": {},
     "output_type": "execute_result"
    }
   ],
   "source": [
    "t2"
   ]
  },
  {
   "cell_type": "code",
   "execution_count": 25,
   "id": "601f275d",
   "metadata": {},
   "outputs": [
    {
     "data": {
      "text/plain": [
       "(1, 2, 3, 4)"
      ]
     },
     "execution_count": 25,
     "metadata": {},
     "output_type": "execute_result"
    }
   ],
   "source": [
    "t"
   ]
  },
  {
   "cell_type": "markdown",
   "id": "039846c8",
   "metadata": {},
   "source": [
    "**Set Operations and Methods: Write a Python program that takes a set of numbers and performs the following operations:**\n",
    "\n",
    "Add a new number to the set.\n",
    "\n",
    "Remove a number from the set.\n",
    "\n",
    "Check if a specific number is in the set.\n",
    "\n",
    "Find the size of the set."
   ]
  },
  {
   "cell_type": "code",
   "execution_count": 26,
   "id": "9677afc4",
   "metadata": {},
   "outputs": [],
   "source": [
    "s1={1,2,3,4,5,6,7,8}"
   ]
  },
  {
   "cell_type": "code",
   "execution_count": 27,
   "id": "cbed89f3",
   "metadata": {},
   "outputs": [],
   "source": [
    "s1.add(10)"
   ]
  },
  {
   "cell_type": "code",
   "execution_count": 28,
   "id": "dd9a0ba7",
   "metadata": {},
   "outputs": [
    {
     "data": {
      "text/plain": [
       "{1, 2, 3, 4, 5, 6, 7, 8, 10}"
      ]
     },
     "execution_count": 28,
     "metadata": {},
     "output_type": "execute_result"
    }
   ],
   "source": [
    "s1"
   ]
  },
  {
   "cell_type": "code",
   "execution_count": 29,
   "id": "9f6f1021",
   "metadata": {},
   "outputs": [],
   "source": [
    "s1.remove(2) #value 2 will be removed from the set"
   ]
  },
  {
   "cell_type": "code",
   "execution_count": 30,
   "id": "2cbd8cf9",
   "metadata": {},
   "outputs": [
    {
     "data": {
      "text/plain": [
       "{1, 3, 4, 5, 6, 7, 8, 10}"
      ]
     },
     "execution_count": 30,
     "metadata": {},
     "output_type": "execute_result"
    }
   ],
   "source": [
    "s1"
   ]
  },
  {
   "cell_type": "code",
   "execution_count": 32,
   "id": "5efa828e",
   "metadata": {},
   "outputs": [
    {
     "data": {
      "text/plain": [
       "True"
      ]
     },
     "execution_count": 32,
     "metadata": {},
     "output_type": "execute_result"
    }
   ],
   "source": [
    "3 in s1"
   ]
  },
  {
   "cell_type": "code",
   "execution_count": 33,
   "id": "988cf9b1",
   "metadata": {},
   "outputs": [
    {
     "data": {
      "text/plain": [
       "8"
      ]
     },
     "execution_count": 33,
     "metadata": {},
     "output_type": "execute_result"
    }
   ],
   "source": [
    "len(s1)"
   ]
  },
  {
   "cell_type": "markdown",
   "id": "8ce970d7",
   "metadata": {},
   "source": [
    "Assignment Task 8: \n",
    "\n",
    "**Tuple Slicing Given a tuple of 10 elements, write a Python program to print the elements from the 3rd to the 7th position using slicing.**"
   ]
  },
  {
   "cell_type": "code",
   "execution_count": 34,
   "id": "96187f8f",
   "metadata": {},
   "outputs": [],
   "source": [
    "string = (\"hey\",\"hi\",\"hello\",\"hai\",\"helo\",\"hie\",\"heya\",\"hi!\",\"Hai\",\"Hei\")"
   ]
  },
  {
   "cell_type": "code",
   "execution_count": 35,
   "id": "3a7971aa",
   "metadata": {},
   "outputs": [
    {
     "data": {
      "text/plain": [
       "('hai', 'helo', 'hie', 'heya', 'hi!')"
      ]
     },
     "execution_count": 35,
     "metadata": {},
     "output_type": "execute_result"
    }
   ],
   "source": [
    "string[3:8]"
   ]
  },
  {
   "cell_type": "markdown",
   "id": "f010515e",
   "metadata": {},
   "source": [
    "Assignment Task 9:\n",
    "\n",
    "**Set Operations with Lists Create a Python list with duplicate elements and convert it into a set to remove duplicates. Then, write a program to count how many duplicates were removed.**"
   ]
  },
  {
   "cell_type": "code",
   "execution_count": 38,
   "id": "a9f45ae5",
   "metadata": {},
   "outputs": [],
   "source": [
    "my_list = [\"h\",\"g\",\"i\",1,2,3,\"h\",2,\"g\"]"
   ]
  },
  {
   "cell_type": "code",
   "execution_count": 39,
   "id": "d7aa77bb",
   "metadata": {},
   "outputs": [],
   "source": [
    "set1 = set(my_list)"
   ]
  },
  {
   "cell_type": "code",
   "execution_count": 40,
   "id": "217ef33e",
   "metadata": {},
   "outputs": [
    {
     "data": {
      "text/plain": [
       "{1, 2, 3, 'g', 'h', 'i'}"
      ]
     },
     "execution_count": 40,
     "metadata": {},
     "output_type": "execute_result"
    }
   ],
   "source": [
    "set1"
   ]
  },
  {
   "cell_type": "code",
   "execution_count": 41,
   "id": "26b90774",
   "metadata": {},
   "outputs": [],
   "source": [
    "dup = len(my_list)-len(set1)"
   ]
  },
  {
   "cell_type": "code",
   "execution_count": 42,
   "id": "62171a91",
   "metadata": {},
   "outputs": [
    {
     "data": {
      "text/plain": [
       "3"
      ]
     },
     "execution_count": 42,
     "metadata": {},
     "output_type": "execute_result"
    }
   ],
   "source": [
    "dup"
   ]
  },
  {
   "cell_type": "markdown",
   "id": "4f7094ad",
   "metadata": {},
   "source": [
    "Assignment Task 10:\n",
    "\n",
    "**Tuple and Set Combinations Create a tuple containing the names of your friend's favorite movies and a set containing the names of your favorite movies. Write a Python program to find and display common elements**"
   ]
  },
  {
   "cell_type": "code",
   "execution_count": 43,
   "id": "f1b3502a",
   "metadata": {},
   "outputs": [],
   "source": [
    "Friends_movies = (\"vaishali\",\"e nagaraniki emindi\",\"sontham\",\"orange\")\n",
    "my_fav = {\"vaishali\",\"sontham\",\"akasham ni hadura\"}"
   ]
  },
  {
   "cell_type": "markdown",
   "id": "02df24c0",
   "metadata": {},
   "source": [
    "**here common elements indicates both's fav movie, which is related to intersection function. And we need to change tuple data type as intersection function is present in set**\n",
    "\n"
   ]
  },
  {
   "cell_type": "code",
   "execution_count": 48,
   "id": "75c99da5",
   "metadata": {},
   "outputs": [],
   "source": [
    "C = set(Friends_movies).intersection(my_fav)"
   ]
  },
  {
   "cell_type": "code",
   "execution_count": 50,
   "id": "011298e7",
   "metadata": {},
   "outputs": [
    {
     "data": {
      "text/plain": [
       "{'sontham', 'vaishali'}"
      ]
     },
     "execution_count": 50,
     "metadata": {},
     "output_type": "execute_result"
    }
   ],
   "source": [
    "C"
   ]
  },
  {
   "cell_type": "code",
   "execution_count": null,
   "id": "5966d00f",
   "metadata": {},
   "outputs": [],
   "source": []
  }
 ],
 "metadata": {
  "kernelspec": {
   "display_name": "Python 3 (ipykernel)",
   "language": "python",
   "name": "python3"
  },
  "language_info": {
   "codemirror_mode": {
    "name": "ipython",
    "version": 3
   },
   "file_extension": ".py",
   "mimetype": "text/x-python",
   "name": "python",
   "nbconvert_exporter": "python",
   "pygments_lexer": "ipython3",
   "version": "3.11.4"
  }
 },
 "nbformat": 4,
 "nbformat_minor": 5
}

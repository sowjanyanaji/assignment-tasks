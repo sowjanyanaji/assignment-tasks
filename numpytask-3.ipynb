{
 "cells": [
  {
   "cell_type": "markdown",
   "id": "64701462",
   "metadata": {},
   "source": [
    "# Data Cleaning using numpy\n",
    "\n",
    "The following are the student marks of a class [44,24,np.nan,59,32,96,188,52,62,58,52,120,np.nan,np.nan,3,56,81,59,,122,92,np.nan,87,96,97,1,19,2,53, 44]"
   ]
  },
  {
   "cell_type": "code",
   "execution_count": 4,
   "id": "23cc1945",
   "metadata": {},
   "outputs": [],
   "source": [
    "import numpy as np"
   ]
  },
  {
   "cell_type": "code",
   "execution_count": 6,
   "id": "a6ca5eea",
   "metadata": {},
   "outputs": [],
   "source": [
    "array = np.array([44,24,np.nan,59,32,96,188,52,62,58,52,120,np.nan,np.nan,3,56,81,59,122,92,np.nan,87,96,97,1,19,2,53, 44])"
   ]
  },
  {
   "cell_type": "markdown",
   "id": "c26af1d4",
   "metadata": {},
   "source": [
    "**Find the no of outliers and missing values?**\n"
   ]
  },
  {
   "cell_type": "code",
   "execution_count": 8,
   "id": "5dcd18f7",
   "metadata": {},
   "outputs": [
    {
     "data": {
      "text/plain": [
       "4"
      ]
     },
     "execution_count": 8,
     "metadata": {},
     "output_type": "execute_result"
    }
   ],
   "source": [
    "np.sum(np.isnan(array))"
   ]
  },
  {
   "cell_type": "code",
   "execution_count": 9,
   "id": "40c0a806",
   "metadata": {},
   "outputs": [
    {
     "data": {
      "text/plain": [
       "array([188., 120., 122.])"
      ]
     },
     "execution_count": 9,
     "metadata": {},
     "output_type": "execute_result"
    }
   ],
   "source": [
    "outliers = (array[(array > 100) | (array < 0)])\n",
    "outliers"
   ]
  },
  {
   "cell_type": "markdown",
   "id": "5931c346",
   "metadata": {},
   "source": [
    "**replace the outliers with 45 and missing value with 87.**\n"
   ]
  },
  {
   "cell_type": "code",
   "execution_count": 19,
   "id": "6c779072",
   "metadata": {},
   "outputs": [
    {
     "data": {
      "text/plain": [
       "array([ 44.,  24.,  nan,  59.,  32.,  96., 188.,  52.,  62.,  58.,  52.,\n",
       "       120.,  nan,  nan,   3.,  56.,  81.,  59., 122.,  92.,  nan,  87.,\n",
       "        96.,  97.,   1.,  19.,   2.,  53.,  44.])"
      ]
     },
     "execution_count": 19,
     "metadata": {},
     "output_type": "execute_result"
    }
   ],
   "source": [
    "array"
   ]
  },
  {
   "cell_type": "code",
   "execution_count": 20,
   "id": "b7ad7a99",
   "metadata": {},
   "outputs": [
    {
     "data": {
      "text/plain": [
       "array([44., 24., nan, 59., 32., 96., 45., 52., 62., 58., 52., 45., nan,\n",
       "       nan,  3., 56., 81., 59., 45., 92., nan, 87., 96., 97.,  1., 19.,\n",
       "        2., 53., 44.])"
      ]
     },
     "execution_count": 20,
     "metadata": {},
     "output_type": "execute_result"
    }
   ],
   "source": [
    "r = np.where((array > 100) | (array < 0),45,array)   #replacing 45 for outliers\n",
    "r"
   ]
  },
  {
   "cell_type": "code",
   "execution_count": 31,
   "id": "e2233e8e",
   "metadata": {},
   "outputs": [
    {
     "data": {
      "text/plain": [
       "array([44., 24., 87., 59., 32., 96., 45., 52., 62., 58., 52., 45., 87.,\n",
       "       87.,  3., 56., 81., 59., 45., 92., 87., 87., 96., 97.,  1., 19.,\n",
       "        2., 53., 44.])"
      ]
     },
     "execution_count": 31,
     "metadata": {},
     "output_type": "execute_result"
    }
   ],
   "source": [
    "mis_val = np.where(np.isnan(array),87,r)      #missing value with 87\n",
    "mis_val"
   ]
  },
  {
   "cell_type": "markdown",
   "id": "13829d70",
   "metadata": {},
   "source": [
    "**what is the average marks of students after 2nd step?**"
   ]
  },
  {
   "cell_type": "code",
   "execution_count": 32,
   "id": "06127354",
   "metadata": {},
   "outputs": [
    {
     "data": {
      "text/plain": [
       "56.96551724137931"
      ]
     },
     "execution_count": 32,
     "metadata": {},
     "output_type": "execute_result"
    }
   ],
   "source": [
    "np.mean(mis_val)"
   ]
  },
  {
   "cell_type": "markdown",
   "id": "c9abd8dd",
   "metadata": {},
   "source": [
    "**How many students got less than 60 marks?**\n"
   ]
  },
  {
   "cell_type": "code",
   "execution_count": 26,
   "id": "1e5ff77f",
   "metadata": {},
   "outputs": [
    {
     "data": {
      "text/plain": [
       "array([ 44.,  24.,  87.,  59.,  32.,  96., 188.,  52.,  62.,  58.,  52.,\n",
       "       120.,  87.,  87.,   3.,  56.,  81.,  59., 122.,  92.,  87.,  87.,\n",
       "        96.,  97.,   1.,  19.,   2.,  53.,  44.])"
      ]
     },
     "execution_count": 26,
     "metadata": {},
     "output_type": "execute_result"
    }
   ],
   "source": [
    "mis_val"
   ]
  },
  {
   "cell_type": "code",
   "execution_count": 33,
   "id": "caa48533",
   "metadata": {},
   "outputs": [
    {
     "data": {
      "text/plain": [
       "array([44., 24., 59., 32., 45., 52., 58., 52., 45.,  3., 56., 59., 45.,\n",
       "        1., 19.,  2., 53., 44.])"
      ]
     },
     "execution_count": 33,
     "metadata": {},
     "output_type": "execute_result"
    }
   ],
   "source": [
    "students = mis_val[(mis_val <60)]\n",
    "students"
   ]
  },
  {
   "cell_type": "code",
   "execution_count": 34,
   "id": "49230e01",
   "metadata": {},
   "outputs": [
    {
     "data": {
      "text/plain": [
       "18"
      ]
     },
     "execution_count": 34,
     "metadata": {},
     "output_type": "execute_result"
    }
   ],
   "source": [
    "len(students)"
   ]
  },
  {
   "cell_type": "markdown",
   "id": "6652bf45",
   "metadata": {},
   "source": [
    "**what is the maximum marks?**\n"
   ]
  },
  {
   "cell_type": "code",
   "execution_count": 35,
   "id": "17ddcc9e",
   "metadata": {},
   "outputs": [
    {
     "data": {
      "text/plain": [
       "97.0"
      ]
     },
     "execution_count": 35,
     "metadata": {},
     "output_type": "execute_result"
    }
   ],
   "source": [
    "max(mis_val)"
   ]
  },
  {
   "cell_type": "markdown",
   "id": "1779bad2",
   "metadata": {},
   "source": [
    "**Convert the marks to float32.**\n"
   ]
  },
  {
   "cell_type": "code",
   "execution_count": 36,
   "id": "1abd3e7a",
   "metadata": {},
   "outputs": [],
   "source": [
    "float1 = mis_val.astype('float32')"
   ]
  },
  {
   "cell_type": "code",
   "execution_count": 37,
   "id": "ef892e79",
   "metadata": {},
   "outputs": [
    {
     "data": {
      "text/plain": [
       "array([44., 24., 87., 59., 32., 96., 45., 52., 62., 58., 52., 45., 87.,\n",
       "       87.,  3., 56., 81., 59., 45., 92., 87., 87., 96., 97.,  1., 19.,\n",
       "        2., 53., 44.], dtype=float32)"
      ]
     },
     "execution_count": 37,
     "metadata": {},
     "output_type": "execute_result"
    }
   ],
   "source": [
    "float1"
   ]
  },
  {
   "cell_type": "markdown",
   "id": "23b642ef",
   "metadata": {},
   "source": [
    "**Solving Linear Equations**\n",
    "\n",
    "2x + 3y - z = 10\n",
    "\n",
    "x - y + 2z = 5\n",
    "\n",
    "3x + 2y + z = 12\n",
    "\n",
    "\n",
    "\n",
    "Solve the system of equations using NumPy's linalg.solve function."
   ]
  },
  {
   "cell_type": "code",
   "execution_count": 38,
   "id": "6a9e24e5",
   "metadata": {},
   "outputs": [
    {
     "data": {
      "text/plain": [
       "array([-6.75539944e+15,  6.75539944e+15,  6.75539944e+15])"
      ]
     },
     "execution_count": 38,
     "metadata": {},
     "output_type": "execute_result"
    }
   ],
   "source": [
    "a = np.array([[2,3,-1],[1,-1,2],[3,2,1]])\n",
    "b = np.array([10,5,12])\n",
    "np.linalg.solve(a,b)"
   ]
  },
  {
   "cell_type": "markdown",
   "id": "41e3e280",
   "metadata": {},
   "source": [
    "2x + y - z + 3w = 8\n",
    "\n",
    "3x - 2y + 2z + 2w = 1\n",
    "\n",
    "x + 3y - 2z + w = 7\n",
    "\n",
    "4x - y + z - 2w = 3"
   ]
  },
  {
   "cell_type": "code",
   "execution_count": 40,
   "id": "f49ec873",
   "metadata": {},
   "outputs": [],
   "source": [
    "s = np.array([[2,1,-1,3], [3,-2,2,2],[1,3,-2,1],[4,-1,1,-2]])"
   ]
  },
  {
   "cell_type": "code",
   "execution_count": 41,
   "id": "b51c9ba4",
   "metadata": {},
   "outputs": [],
   "source": [
    "p = np.array([8,1,7,3])"
   ]
  },
  {
   "cell_type": "code",
   "execution_count": 42,
   "id": "6626fcd1",
   "metadata": {},
   "outputs": [
    {
     "data": {
      "text/plain": [
       "array([ 1.73170732, -0.75609756, -3.46341463,  0.6097561 ])"
      ]
     },
     "execution_count": 42,
     "metadata": {},
     "output_type": "execute_result"
    }
   ],
   "source": [
    "np.linalg.solve(s,p)"
   ]
  },
  {
   "cell_type": "markdown",
   "id": "918fe3df",
   "metadata": {},
   "source": [
    "4x + 2y - 3z = 10\n",
    "\n",
    "-2x + 3y + z = -3\n",
    "\n",
    "x - y + 2z = 4"
   ]
  },
  {
   "cell_type": "code",
   "execution_count": 44,
   "id": "ddeeb8fe",
   "metadata": {},
   "outputs": [],
   "source": [
    "c = np.array([[4,2,-3],[-2,3,1],[1,-1,2]])"
   ]
  },
  {
   "cell_type": "code",
   "execution_count": 45,
   "id": "1e246467",
   "metadata": {},
   "outputs": [],
   "source": [
    "d = np.array([10,-3,4])"
   ]
  },
  {
   "cell_type": "code",
   "execution_count": 46,
   "id": "5c8362a0",
   "metadata": {},
   "outputs": [
    {
     "data": {
      "text/plain": [
       "array([2.85365854, 0.6097561 , 0.87804878])"
      ]
     },
     "execution_count": 46,
     "metadata": {},
     "output_type": "execute_result"
    }
   ],
   "source": [
    "np.linalg.solve(c,d)"
   ]
  },
  {
   "cell_type": "markdown",
   "id": "c9c97994",
   "metadata": {},
   "source": [
    "**Conditional Selection with np.where()**\n",
    "\n",
    "1)Generate a random 1D array A of 10 integers between 1 and 100.\n",
    "\n",
    "2)Use np.where() to find the indices where the elements of A are greater than 50.\n",
    "\n",
    "3)Create a new array B that contains elements from A where the condition is met.\n",
    "\n",
    "4)Calculate the mean of array B and print it along with arrays A and B."
   ]
  },
  {
   "cell_type": "code",
   "execution_count": 49,
   "id": "4f66997c",
   "metadata": {},
   "outputs": [],
   "source": [
    "a = np.arange(1,100)"
   ]
  },
  {
   "cell_type": "code",
   "execution_count": 50,
   "id": "973b5eae",
   "metadata": {},
   "outputs": [
    {
     "data": {
      "text/plain": [
       "array([ 1,  2,  3,  4,  5,  6,  7,  8,  9, 10, 11, 12, 13, 14, 15, 16, 17,\n",
       "       18, 19, 20, 21, 22, 23, 24, 25, 26, 27, 28, 29, 30, 31, 32, 33, 34,\n",
       "       35, 36, 37, 38, 39, 40, 41, 42, 43, 44, 45, 46, 47, 48, 49, 50, 51,\n",
       "       52, 53, 54, 55, 56, 57, 58, 59, 60, 61, 62, 63, 64, 65, 66, 67, 68,\n",
       "       69, 70, 71, 72, 73, 74, 75, 76, 77, 78, 79, 80, 81, 82, 83, 84, 85,\n",
       "       86, 87, 88, 89, 90, 91, 92, 93, 94, 95, 96, 97, 98, 99])"
      ]
     },
     "execution_count": 50,
     "metadata": {},
     "output_type": "execute_result"
    }
   ],
   "source": [
    "a"
   ]
  },
  {
   "cell_type": "code",
   "execution_count": 51,
   "id": "f809df67",
   "metadata": {},
   "outputs": [],
   "source": [
    "b = np.where((a>50))"
   ]
  },
  {
   "cell_type": "code",
   "execution_count": 52,
   "id": "bf11e211",
   "metadata": {},
   "outputs": [
    {
     "data": {
      "text/plain": [
       "(array([50, 51, 52, 53, 54, 55, 56, 57, 58, 59, 60, 61, 62, 63, 64, 65, 66,\n",
       "        67, 68, 69, 70, 71, 72, 73, 74, 75, 76, 77, 78, 79, 80, 81, 82, 83,\n",
       "        84, 85, 86, 87, 88, 89, 90, 91, 92, 93, 94, 95, 96, 97, 98],\n",
       "       dtype=int64),)"
      ]
     },
     "execution_count": 52,
     "metadata": {},
     "output_type": "execute_result"
    }
   ],
   "source": [
    "b"
   ]
  },
  {
   "cell_type": "code",
   "execution_count": 53,
   "id": "a2d81672",
   "metadata": {},
   "outputs": [
    {
     "data": {
      "text/plain": [
       "74.0"
      ]
     },
     "execution_count": 53,
     "metadata": {},
     "output_type": "execute_result"
    }
   ],
   "source": [
    "np.mean(b)"
   ]
  },
  {
   "cell_type": "markdown",
   "id": "48c768e0",
   "metadata": {},
   "source": [
    "**Replace Values with np.where()**\n",
    "\n",
    "1)Create a 4x4 random integer matrix C with values between -10 and 10.\n",
    "\n",
    "2)Use np.where() to replace all negative values in matrix C with 0.\n",
    "\n",
    "3)Print the original matrix C and the modified matrix."
   ]
  },
  {
   "cell_type": "code",
   "execution_count": 55,
   "id": "f300e758",
   "metadata": {},
   "outputs": [
    {
     "data": {
      "text/plain": [
       "array([[ -9,  -2,   7,   9],\n",
       "       [  7,  -2, -10,  -7],\n",
       "       [  4,  -2,   0,   2],\n",
       "       [ -6,   7,  -5,  -5]])"
      ]
     },
     "execution_count": 55,
     "metadata": {},
     "output_type": "execute_result"
    }
   ],
   "source": [
    "r1 = np.random.randint(-10,10,16).reshape(4,4)\n",
    "r1"
   ]
  },
  {
   "cell_type": "code",
   "execution_count": 56,
   "id": "e2bc116a",
   "metadata": {},
   "outputs": [
    {
     "data": {
      "text/plain": [
       "array([[0, 0, 7, 9],\n",
       "       [7, 0, 0, 0],\n",
       "       [4, 0, 0, 2],\n",
       "       [0, 7, 0, 0]])"
      ]
     },
     "execution_count": 56,
     "metadata": {},
     "output_type": "execute_result"
    }
   ],
   "source": [
    "new = np.where((r1<0),0,r1)\n",
    "new"
   ]
  },
  {
   "cell_type": "code",
   "execution_count": 58,
   "id": "14d780ba",
   "metadata": {},
   "outputs": [
    {
     "data": {
      "text/plain": [
       "array([[[ -9,  -2,   7,   9],\n",
       "        [  7,  -2, -10,  -7],\n",
       "        [  4,  -2,   0,   2],\n",
       "        [ -6,   7,  -5,  -5]],\n",
       "\n",
       "       [[  0,   0,   7,   9],\n",
       "        [  7,   0,   0,   0],\n",
       "        [  4,   0,   0,   2],\n",
       "        [  0,   7,   0,   0]]])"
      ]
     },
     "execution_count": 58,
     "metadata": {},
     "output_type": "execute_result"
    }
   ],
   "source": [
    "print1 = np.stack((r1,new))\n",
    "print1"
   ]
  },
  {
   "cell_type": "code",
   "execution_count": null,
   "id": "2e2ed101",
   "metadata": {},
   "outputs": [],
   "source": []
  }
 ],
 "metadata": {
  "kernelspec": {
   "display_name": "Python 3 (ipykernel)",
   "language": "python",
   "name": "python3"
  },
  "language_info": {
   "codemirror_mode": {
    "name": "ipython",
    "version": 3
   },
   "file_extension": ".py",
   "mimetype": "text/x-python",
   "name": "python",
   "nbconvert_exporter": "python",
   "pygments_lexer": "ipython3",
   "version": "3.11.4"
  }
 },
 "nbformat": 4,
 "nbformat_minor": 5
}

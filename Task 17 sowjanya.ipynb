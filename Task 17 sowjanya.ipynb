{
 "cells": [
  {
   "cell_type": "markdown",
   "id": "bea58b2b",
   "metadata": {},
   "source": [
    "# Task 17"
   ]
  },
  {
   "cell_type": "markdown",
   "id": "ace1f1b1",
   "metadata": {},
   "source": [
    "**Create a file Write a Python program that creates a text file named \"data.txt\" and add data about python programming (should contain at least 5 lines)**"
   ]
  },
  {
   "cell_type": "code",
   "execution_count": 11,
   "id": "928e374a",
   "metadata": {},
   "outputs": [],
   "source": [
    "task = open(\"data.txt\",\"w+\")"
   ]
  },
  {
   "cell_type": "code",
   "execution_count": 12,
   "id": "806f94c6",
   "metadata": {},
   "outputs": [
    {
     "data": {
      "text/plain": [
       "313"
      ]
     },
     "execution_count": 12,
     "metadata": {},
     "output_type": "execute_result"
    }
   ],
   "source": [
    "task.write(\"Python is a high-level, general-purpose programming language. Its design philosophy emphasizes code readability with the use of significant indentation. Python is dynamically typed and garbage-collected. It supports multiple programming paradigms, including structured, object-oriented and functional programming.\")"
   ]
  },
  {
   "cell_type": "markdown",
   "id": "7989bc11",
   "metadata": {},
   "source": [
    "**Read and Display File Contents Write a Python program that reads a text file named \"data.txt\" and displays its contents on the screen.**"
   ]
  },
  {
   "cell_type": "code",
   "execution_count": 14,
   "id": "bc78653c",
   "metadata": {},
   "outputs": [
    {
     "data": {
      "text/plain": [
       "'Python is a high-level, general-purpose programming language. Its design philosophy emphasizes code readability with the use of significant indentation. Python is dynamically typed and garbage-collected. It supports multiple programming paradigms, including structured, object-oriented and functional programming.'"
      ]
     },
     "execution_count": 14,
     "metadata": {},
     "output_type": "execute_result"
    }
   ],
   "source": [
    "task.seek(0)\n",
    "task.read()"
   ]
  },
  {
   "cell_type": "markdown",
   "id": "4723ca87",
   "metadata": {},
   "source": [
    "\n",
    "**Count Words in a File Write a Python program that reads a text file named \"data.txt\" and counts the total number of words in the file. Display the word count on the screen.**"
   ]
  },
  {
   "cell_type": "code",
   "execution_count": 17,
   "id": "6f9150de",
   "metadata": {},
   "outputs": [],
   "source": [
    "task = open(\"data.txt\",\"r+\")"
   ]
  },
  {
   "cell_type": "code",
   "execution_count": 21,
   "id": "323d5ce5",
   "metadata": {},
   "outputs": [],
   "source": [
    "task.seek(0)\n",
    "a = task.read()"
   ]
  },
  {
   "cell_type": "code",
   "execution_count": 22,
   "id": "e31e74c0",
   "metadata": {},
   "outputs": [
    {
     "data": {
      "text/plain": [
       "313"
      ]
     },
     "execution_count": 22,
     "metadata": {},
     "output_type": "execute_result"
    }
   ],
   "source": [
    "len(a)"
   ]
  },
  {
   "cell_type": "code",
   "execution_count": 23,
   "id": "4da9e96b",
   "metadata": {},
   "outputs": [
    {
     "data": {
      "text/plain": [
       "['Python',\n",
       " 'is',\n",
       " 'a',\n",
       " 'high-level,',\n",
       " 'general-purpose',\n",
       " 'programming',\n",
       " 'language.',\n",
       " 'Its',\n",
       " 'design',\n",
       " 'philosophy',\n",
       " 'emphasizes',\n",
       " 'code',\n",
       " 'readability',\n",
       " 'with',\n",
       " 'the',\n",
       " 'use',\n",
       " 'of',\n",
       " 'significant',\n",
       " 'indentation.',\n",
       " 'Python',\n",
       " 'is',\n",
       " 'dynamically',\n",
       " 'typed',\n",
       " 'and',\n",
       " 'garbage-collected.',\n",
       " 'It',\n",
       " 'supports',\n",
       " 'multiple',\n",
       " 'programming',\n",
       " 'paradigms,',\n",
       " 'including',\n",
       " 'structured,',\n",
       " 'object-oriented',\n",
       " 'and',\n",
       " 'functional',\n",
       " 'programming.']"
      ]
     },
     "execution_count": 23,
     "metadata": {},
     "output_type": "execute_result"
    }
   ],
   "source": [
    "a.split()"
   ]
  },
  {
   "cell_type": "code",
   "execution_count": 25,
   "id": "5ea1d01b",
   "metadata": {},
   "outputs": [],
   "source": [
    "task.close()"
   ]
  },
  {
   "cell_type": "markdown",
   "id": "8be51a4f",
   "metadata": {},
   "source": [
    "\n",
    "**Search and Replace Create a Python program that reads a text file named \"data.txt\" and asks the user to enter a word to search for. If the word is found in the file, replace all occurrences of the word with a new word provided by the user.**"
   ]
  },
  {
   "cell_type": "code",
   "execution_count": 50,
   "id": "29738a2b",
   "metadata": {},
   "outputs": [],
   "source": [
    "task = open(\"data.txt\",\"r+\")"
   ]
  },
  {
   "cell_type": "code",
   "execution_count": 51,
   "id": "f827bdd6",
   "metadata": {},
   "outputs": [],
   "source": [
    "task.seek(0)\n",
    "b = task.read()"
   ]
  },
  {
   "cell_type": "code",
   "execution_count": 32,
   "id": "653ebd1a",
   "metadata": {},
   "outputs": [
    {
     "data": {
      "text/plain": [
       "12"
      ]
     },
     "execution_count": 32,
     "metadata": {},
     "output_type": "execute_result"
    }
   ],
   "source": [
    "b.find(\"high-level\")"
   ]
  },
  {
   "cell_type": "code",
   "execution_count": 35,
   "id": "96a7b052",
   "metadata": {},
   "outputs": [
    {
     "data": {
      "text/plain": [
       "'Python is a HIGH LEVEL, general-purpose programming language. Its design philosophy emphasizes code readability with the use of significant indentation. Python is dynamically typed and garbage-collected. It supports multiple programming paradigms, including structured, object-oriented and functional programming.'"
      ]
     },
     "execution_count": 35,
     "metadata": {},
     "output_type": "execute_result"
    }
   ],
   "source": [
    "b.replace(\"high-level\",\"HIGH LEVEL\")"
   ]
  },
  {
   "cell_type": "code",
   "execution_count": 54,
   "id": "c36943c3",
   "metadata": {},
   "outputs": [
    {
     "name": "stdout",
     "output_type": "stream",
     "text": [
      "enter the word: supports\n",
      "enter the nw: encourages\n",
      "Python is a high-level, general-purpose programming language. Its design philosophy emphasizes code readability with the use of significant indentation. Python is dynamically typed and garbage-collected. It encourages multiple programming paradigms, including structured, object-oriented and functional programming.\n"
     ]
    }
   ],
   "source": [
    "w = input(\"enter the word: \")\n",
    "nw =  input(\"enter the nw: \")\n",
    "if w in b:\n",
    "    print(b.replace(w,nw))"
   ]
  },
  {
   "cell_type": "markdown",
   "id": "7c795444",
   "metadata": {},
   "source": [
    "\n",
    "**Append to a File Write a Python program that prompts the user to enter a sentence. Append this sentence to an existing file named \"notes.txt\". Make sure the newly added sentence starts on a new line.**"
   ]
  },
  {
   "cell_type": "code",
   "execution_count": 43,
   "id": "dede5b8a",
   "metadata": {},
   "outputs": [
    {
     "name": "stdout",
     "output_type": "stream",
     "text": [
      "enter the sentence: Excited to see the output\n"
     ]
    }
   ],
   "source": [
    "sen = input(\"enter the sentence: \")\n",
    "with open(\"notes.txt\",\"a+\") as file:\n",
    "    file.write(\"program for a append\")\n",
    "    file.write(f\"\\n{sen}\")"
   ]
  },
  {
   "cell_type": "code",
   "execution_count": 44,
   "id": "62bfaed6",
   "metadata": {},
   "outputs": [
    {
     "name": "stdout",
     "output_type": "stream",
     "text": [
      "program for a append\n",
      "Excited to see the output\n"
     ]
    }
   ],
   "source": [
    "file = open(\"notes.txt\",\"r\")\n",
    "n=file.read()\n",
    "print(n)"
   ]
  },
  {
   "cell_type": "code",
   "execution_count": null,
   "id": "d088b4ed",
   "metadata": {},
   "outputs": [],
   "source": []
  }
 ],
 "metadata": {
  "kernelspec": {
   "display_name": "Python 3 (ipykernel)",
   "language": "python",
   "name": "python3"
  },
  "language_info": {
   "codemirror_mode": {
    "name": "ipython",
    "version": 3
   },
   "file_extension": ".py",
   "mimetype": "text/x-python",
   "name": "python",
   "nbconvert_exporter": "python",
   "pygments_lexer": "ipython3",
   "version": "3.11.4"
  }
 },
 "nbformat": 4,
 "nbformat_minor": 5
}

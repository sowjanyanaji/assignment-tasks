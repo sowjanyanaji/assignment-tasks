{
 "cells": [
  {
   "cell_type": "markdown",
   "id": "8060b9a4",
   "metadata": {},
   "source": [
    "**while loops and their use in programming.**\n",
    "1. Write a Python program that uses a while loop to print the numbers from `A` to `P`.\n",
    "\n",
    "2. Modify the program to print only the even numbers from `1 to 20 except mutiple of 3` using a while loop.\n",
    "\n",
    "3. Create a program that prompts the user for an integer input and then uses a while loop to print the countdown from `that number to 1`.\n",
    "\n",
    "\n",
    "4. Write a Python program that uses a while loop to repeatedly ask the user to enter a number. If the user enters 0, exit the loop using the `break` statement. Otherwise, continue prompting for numbers.\n",
    "\n",
    "5. Create a program that uses a while loop to print the numbers from 1 to 20, but skip printing the numbers 5, 10, and 15 using the `continue` statement.\n",
    "\n",
    "6. Write a Python program that simulates a simple password entry system. Ask the user to enter a password, and use a while loop to repeatedly prompt for the password until the correct password \"abc123\" is entered. Once the correct password is entered, exit the loop.\n",
    "\n",
    "7. Calculate and print the sum of all the positive integers entered by the user.\n",
    "\n",
    "\n",
    "\n",
    "."
   ]
  },
  {
   "cell_type": "markdown",
   "id": "1f0cf82d",
   "metadata": {},
   "source": [
    "**1)Write a Python program that uses a while loop to print the numbers from A to P.**"
   ]
  },
  {
   "cell_type": "code",
   "execution_count": 2,
   "id": "39f8980b",
   "metadata": {},
   "outputs": [
    {
     "name": "stdout",
     "output_type": "stream",
     "text": [
      "A\n",
      "B\n",
      "C\n",
      "D\n",
      "E\n",
      "F\n",
      "G\n",
      "H\n",
      "I\n",
      "J\n",
      "K\n",
      "L\n",
      "M\n",
      "N\n",
      "O\n",
      "P\n"
     ]
    }
   ],
   "source": [
    "a=0\n",
    "while a <=15:\n",
    "    print(chr(65+a))\n",
    "    a=a+1\n",
    "    \n",
    "    \n",
    "    \n",
    "\n",
    "    "
   ]
  },
  {
   "cell_type": "markdown",
   "id": "09e89eca",
   "metadata": {},
   "source": [
    "**2. Modify the program to print only the even numbers from `1 to 20 except mutiple of 3` using a while loop.**\n"
   ]
  },
  {
   "cell_type": "code",
   "execution_count": 3,
   "id": "66311a02",
   "metadata": {},
   "outputs": [
    {
     "name": "stdout",
     "output_type": "stream",
     "text": [
      "2\n",
      "4\n",
      "8\n",
      "10\n",
      "14\n",
      "16\n",
      "20\n"
     ]
    }
   ],
   "source": [
    "a=1\n",
    "while a <= 20:\n",
    "    if a%2==0 and a%3!=0:\n",
    "        print(a)\n",
    "    a=a+1\n",
    "            "
   ]
  },
  {
   "cell_type": "markdown",
   "id": "325b7e72",
   "metadata": {},
   "source": [
    "3) **Create a program that prompts the user for an integer input and then uses a while loop to print the countdown from that number to 1.**"
   ]
  },
  {
   "cell_type": "code",
   "execution_count": 6,
   "id": "f782ac18",
   "metadata": {},
   "outputs": [
    {
     "name": "stdout",
     "output_type": "stream",
     "text": [
      "enter the value : 5\n",
      "5\n",
      "4\n",
      "3\n",
      "2\n",
      "1\n"
     ]
    }
   ],
   "source": [
    "a = int(input(\"enter the value : \"))\n",
    "while a >= 1:\n",
    "    print(a)\n",
    "    a=a-1"
   ]
  },
  {
   "cell_type": "markdown",
   "id": "14bc7ebd",
   "metadata": {},
   "source": [
    "4.**Write a Python program that uses a while loop to repeatedly ask the user to enter a number. If the user enters 0, exit the loop using the break statement. Otherwise, continue prompting for numbers.**"
   ]
  },
  {
   "cell_type": "code",
   "execution_count": 3,
   "id": "3443c3f7",
   "metadata": {},
   "outputs": [
    {
     "name": "stdout",
     "output_type": "stream",
     "text": [
      "enter the number7\n",
      "enter a number\n",
      "enter a number\n",
      "enter a number\n",
      "enter a number\n",
      "enter a number\n",
      "enter a number\n",
      "enter a number\n"
     ]
    }
   ],
   "source": [
    "a= int(input(\"enter the number\"))\n",
    "while a>0:  \n",
    "    print(\"enter a number\")\n",
    "    a=a-1\n",
    "    if(a==0):\n",
    "        break\n",
    "\n",
    "\n",
    "\n",
    "    "
   ]
  },
  {
   "cell_type": "code",
   "execution_count": 12,
   "id": "dfb3946c",
   "metadata": {},
   "outputs": [
    {
     "name": "stdout",
     "output_type": "stream",
     "text": [
      "enter the number4\n",
      "enter the number2\n",
      "enter the number0\n"
     ]
    }
   ],
   "source": [
    "a= int(input(\"enter the number\"))\n",
    "while a>0:  \n",
    "    a=int(input(\"enter the number\"))\n",
    "    a=a-1\n",
    "    if(a==0):\n",
    "        break\n"
   ]
  },
  {
   "cell_type": "code",
   "execution_count": 47,
   "id": "03532989",
   "metadata": {},
   "outputs": [
    {
     "name": "stdout",
     "output_type": "stream",
     "text": [
      "enter the number9\n",
      "enter the number8\n",
      "enter the number0\n"
     ]
    }
   ],
   "source": [
    "a= int(input(\"enter the number\"))\n",
    "while a!=0:\n",
    "    a = int(input(\"enter the number\"))\n",
    "    continue\n",
    "    if a==0:\n",
    "        break"
   ]
  },
  {
   "cell_type": "code",
   "execution_count": 52,
   "id": "8f06147f",
   "metadata": {},
   "outputs": [
    {
     "name": "stdout",
     "output_type": "stream",
     "text": [
      "enter the number: 4\n",
      "4\n",
      "enter the number: 4\n",
      "4\n",
      "enter the number: 4\n",
      "4\n",
      "enter the number: 5\n",
      "5\n",
      "enter the number: 0\n",
      "you entered 0\n"
     ]
    }
   ],
   "source": [
    "a= int(input(\"enter the number: \"))\n",
    "print(a)\n",
    "\n",
    "while a:\n",
    "    a=int(input(\"enter the number: \"))\n",
    "    if a == 0:\n",
    "        print(\"you entered 0\")\n",
    "        break\n",
    "    else:\n",
    "        print(a)\n",
    "        continue"
   ]
  },
  {
   "cell_type": "markdown",
   "id": "bfc545dc",
   "metadata": {},
   "source": [
    "5)**Create a program that uses a while loop to print the numbers from 1 to 20, but skip printing the numbers 5, 10, and 15 using the continue statement.**"
   ]
  },
  {
   "cell_type": "code",
   "execution_count": 51,
   "id": "0fb12a8b",
   "metadata": {},
   "outputs": [
    {
     "name": "stdout",
     "output_type": "stream",
     "text": [
      "1\n",
      "2\n",
      "3\n",
      "4\n",
      "6\n",
      "7\n",
      "8\n",
      "9\n",
      "11\n",
      "12\n",
      "13\n",
      "14\n",
      "16\n",
      "17\n",
      "18\n",
      "19\n",
      "20\n"
     ]
    }
   ],
   "source": [
    "for i in range(1,21):\n",
    "    if i in [5,10,15]:\n",
    "        continue\n",
    "    else:\n",
    "        print(i)"
   ]
  },
  {
   "cell_type": "markdown",
   "id": "2c20ccb1",
   "metadata": {},
   "source": [
    "6)**Write a Python program that simulates a simple password entry system. Ask the user to enter a password, and use a while loop to repeatedly prompt for the password until the correct password \"abc123\" is entered. Once the correct password is entered, exit the loop.**"
   ]
  },
  {
   "cell_type": "code",
   "execution_count": 57,
   "id": "3592f840",
   "metadata": {},
   "outputs": [
    {
     "name": "stdout",
     "output_type": "stream",
     "text": [
      "enter the password: mbsdk\n",
      "enter the password: nakhd\n",
      "enter the password: abc123\n"
     ]
    }
   ],
   "source": [
    "a= input(\"enter the password: \")\n",
    "while a:\n",
    "    if (a != \"abc123\"):\n",
    "        a=input(\"enter the password: \")\n",
    "    else:\n",
    "        break"
   ]
  },
  {
   "cell_type": "markdown",
   "id": "1a8f4e1c",
   "metadata": {},
   "source": [
    "7) **Calculate and print the sum of all the positive integers entered by the user.**\n"
   ]
  },
  {
   "cell_type": "code",
   "execution_count": 67,
   "id": "61f2edab",
   "metadata": {},
   "outputs": [
    {
     "name": "stdout",
     "output_type": "stream",
     "text": [
      "enter the number: 4\n",
      "enter the number : 4\n",
      "8\n",
      "enter the number : 6\n",
      "14\n",
      "enter the number : 6\n",
      "20\n",
      "enter the number : 0\n",
      "20\n"
     ]
    }
   ],
   "source": [
    "a=int(input(\"enter the number: \"))\n",
    "total=a\n",
    "while a:\n",
    "    if a>0:  \n",
    "        a=int(input(\"enter the number : \"))\n",
    "        total += a\n",
    "        print(total)\n",
    "    else:\n",
    "        break\n",
    "    \n",
    "    \n",
    "    \n"
   ]
  },
  {
   "cell_type": "code",
   "execution_count": null,
   "id": "4722e357",
   "metadata": {},
   "outputs": [],
   "source": []
  }
 ],
 "metadata": {
  "kernelspec": {
   "display_name": "Python 3 (ipykernel)",
   "language": "python",
   "name": "python3"
  },
  "language_info": {
   "codemirror_mode": {
    "name": "ipython",
    "version": 3
   },
   "file_extension": ".py",
   "mimetype": "text/x-python",
   "name": "python",
   "nbconvert_exporter": "python",
   "pygments_lexer": "ipython3",
   "version": "3.11.4"
  }
 },
 "nbformat": 4,
 "nbformat_minor": 5
}

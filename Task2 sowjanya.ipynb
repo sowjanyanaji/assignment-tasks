{
 "cells": [
  {
   "cell_type": "markdown",
   "id": "b8536ea7",
   "metadata": {},
   "source": [
    "* Write a program that calculates the `sum, difference, product, and quotient` of two numbers: 10 and 5.\n",
    "\n",
    "* Create a program that calculates the `area of a circle` with a radius of 4.5 units."
   ]
  },
  {
   "cell_type": "code",
   "execution_count": 3,
   "id": "4fa90964",
   "metadata": {},
   "outputs": [
    {
     "data": {
      "text/plain": [
       "15"
      ]
     },
     "execution_count": 3,
     "metadata": {},
     "output_type": "execute_result"
    }
   ],
   "source": [
    "a=10\n",
    "b= 5\n",
    "a+b\n"
   ]
  },
  {
   "cell_type": "code",
   "execution_count": 4,
   "id": "9ff0e191",
   "metadata": {},
   "outputs": [
    {
     "data": {
      "text/plain": [
       "5"
      ]
     },
     "execution_count": 4,
     "metadata": {},
     "output_type": "execute_result"
    }
   ],
   "source": [
    "a-b"
   ]
  },
  {
   "cell_type": "code",
   "execution_count": 5,
   "id": "561e7946",
   "metadata": {},
   "outputs": [
    {
     "data": {
      "text/plain": [
       "50"
      ]
     },
     "execution_count": 5,
     "metadata": {},
     "output_type": "execute_result"
    }
   ],
   "source": [
    "a*b"
   ]
  },
  {
   "cell_type": "code",
   "execution_count": 11,
   "id": "8890bb1d",
   "metadata": {},
   "outputs": [
    {
     "data": {
      "text/plain": [
       "2"
      ]
     },
     "execution_count": 11,
     "metadata": {},
     "output_type": "execute_result"
    }
   ],
   "source": [
    "a//b"
   ]
  },
  {
   "cell_type": "code",
   "execution_count": 18,
   "id": "116ab47f",
   "metadata": {},
   "outputs": [],
   "source": [
    "r = 4.5\n",
    "p = 3.14\n"
   ]
  },
  {
   "cell_type": "code",
   "execution_count": 19,
   "id": "02338193",
   "metadata": {},
   "outputs": [],
   "source": [
    "a = r*p**p"
   ]
  },
  {
   "cell_type": "code",
   "execution_count": 21,
   "id": "b84785c6",
   "metadata": {},
   "outputs": [
    {
     "name": "stdout",
     "output_type": "stream",
     "text": [
      "163.5202749607862\n"
     ]
    }
   ],
   "source": [
    "print(a)"
   ]
  },
  {
   "cell_type": "markdown",
   "id": "3f81b9d8",
   "metadata": {},
   "source": [
    "*  Write a program that `swaps` the values of two variables: x with a value of 5 and \"y\" with a value of 10.\n",
    "* Create a program that calculates `compound interest` for a principal amount of $1000, an interest rate of 5%, and a time period of 3 years."
   ]
  },
  {
   "cell_type": "code",
   "execution_count": 29,
   "id": "b10b0756",
   "metadata": {},
   "outputs": [],
   "source": [
    "x= 5\n",
    "y = 10"
   ]
  },
  {
   "cell_type": "code",
   "execution_count": 30,
   "id": "71d4c333",
   "metadata": {},
   "outputs": [],
   "source": [
    "t = x\n",
    "x = y\n",
    "y= t"
   ]
  },
  {
   "cell_type": "code",
   "execution_count": 31,
   "id": "45367068",
   "metadata": {},
   "outputs": [
    {
     "data": {
      "text/plain": [
       "10"
      ]
     },
     "execution_count": 31,
     "metadata": {},
     "output_type": "execute_result"
    }
   ],
   "source": [
    "x"
   ]
  },
  {
   "cell_type": "code",
   "execution_count": 32,
   "id": "be5ce753",
   "metadata": {},
   "outputs": [
    {
     "data": {
      "text/plain": [
       "5"
      ]
     },
     "execution_count": 32,
     "metadata": {},
     "output_type": "execute_result"
    }
   ],
   "source": [
    "y"
   ]
  },
  {
   "cell_type": "code",
   "execution_count": 35,
   "id": "e3eb9c2e",
   "metadata": {},
   "outputs": [],
   "source": [
    "P = 1000\n",
    "R = 5         #RATE OF INTEREST\n",
    "T = 3\n",
    "               # cI = P[(1+R/100)**T-P]"
   ]
  },
  {
   "cell_type": "code",
   "execution_count": 61,
   "id": "801edaa7",
   "metadata": {},
   "outputs": [],
   "source": [
    "first = P*(1+R/100)**3-P"
   ]
  },
  {
   "cell_type": "code",
   "execution_count": 62,
   "id": "29f9f862",
   "metadata": {},
   "outputs": [
    {
     "name": "stdout",
     "output_type": "stream",
     "text": [
      "157.62500000000023\n"
     ]
    }
   ],
   "source": [
    "print(first)"
   ]
  },
  {
   "cell_type": "markdown",
   "id": "768483d0",
   "metadata": {},
   "source": [
    "* Write a program that `compares` two numbers: 7 and 12, and determines whether the first number is greater than, less than, or equal to the second number.\n",
    "* Create a program that `checks` if a person of age 18 is eligible to vote based on the voting age requirement.(True/False)"
   ]
  },
  {
   "cell_type": "code",
   "execution_count": 81,
   "id": "5f4c2b4e",
   "metadata": {},
   "outputs": [
    {
     "name": "stdout",
     "output_type": "stream",
     "text": [
      "Enter first number: 7\n",
      "Enter second number : 12\n"
     ]
    }
   ],
   "source": [
    "num1 = int(input(\"Enter first number: \"))\n",
    "num2 = int(input(\"Enter second number : \"))\n"
   ]
  },
  {
   "cell_type": "code",
   "execution_count": 88,
   "id": "586887be",
   "metadata": {},
   "outputs": [
    {
     "name": "stdout",
     "output_type": "stream",
     "text": [
      "num2 is greater than num1\n"
     ]
    }
   ],
   "source": [
    "if num1 >= num2:\n",
    " print(\"num1 is greater than num2\")\n",
    "else:\n",
    " print(\"num2 is greater than num1\")"
   ]
  },
  {
   "cell_type": "code",
   "execution_count": 89,
   "id": "383ee0ea",
   "metadata": {},
   "outputs": [
    {
     "name": "stdout",
     "output_type": "stream",
     "text": [
      "Enter person age: 17\n"
     ]
    }
   ],
   "source": [
    "num1 = int(input(\"Enter person age: \"))\n"
   ]
  },
  {
   "cell_type": "code",
   "execution_count": 90,
   "id": "30fe4dda",
   "metadata": {},
   "outputs": [
    {
     "name": "stdout",
     "output_type": "stream",
     "text": [
      "False\n"
     ]
    }
   ],
   "source": [
    "if num1 >= 18:\n",
    " print(\"True\")\n",
    "else:\n",
    " print(\"False\")\n",
    "    \n",
    "    "
   ]
  },
  {
   "cell_type": "code",
   "execution_count": null,
   "id": "22ff6f9d",
   "metadata": {},
   "outputs": [],
   "source": []
  },
  {
   "cell_type": "markdown",
   "id": "7881a204",
   "metadata": {},
   "source": [
    "* Create a program that `swaps` the values of two integers: `a` with a value of 10 and `b` with a value of 20 using\n",
    " *  bitwise XOR (^) operator.\n",
    " * Logical AND\n",
    " * Logical OR\n",
    " * Logical NOT"
   ]
  },
  {
   "cell_type": "markdown",
   "id": "2d6a10f9",
   "metadata": {},
   "source": [
    "*  Create a Python program that calculates the `area of a rectangle`. Prompt the `user to enter` the length and width of the rectangle, `store them` in variables, and compute the area using the formula:area length width.Finally, `print the calculated area.\n",
    " \n",
    "length = int(input(\"enter the length: \"))\n",
    "\n",
    "width = int(input(\"enter the width: \"))\n",
    "\n",
    "area = length*width\n",
    "\n",
    "print(area)\n",
    "\n",
    "* Create a Python program that calculates the `average` of three exam scores. Prompt the user to enter the scores, `store them` in variables, calculate the average, and print the result.\n",
    "\n",
    " T1 = float(input(\"enter the score: \"))\n",
    " \n",
    " T2 = float(input(\"enter the score: \"))\n",
    " \n",
    " T3 = float(input(\"enter the score: \"))\n",
    " \n",
    " avg = (T1+T2+T3)/3\n",
    " \n",
    " print avg\n",
    "\n",
    "\n",
    "\n",
    "* Write a Python program that `converts` temperature from Celsius to Fahrenheit. Prompt the user to enter a temperature in Celsius, store it in a variable, and convert it to Fahrenheit using the formula: `Fahrenheit = (Celsius* 9/5)+32`, and print the converted temperature.\n",
    "\n",
    "Temp = float(input(\"enter the cel temp: \"))\n",
    "\n",
    "enter the cel temp: 23\n",
    "\n",
    "Fahrenheit = (Temp* 9/5)+32\n",
    "\n",
    "print(Fahrenheit)\n",
    "\n",
    "73.4\n",
    "\n",
    "* What are the `logical operators` in Python? Explain `each one` with an example.\n",
    "A logical operator is a symbol or word used to connect two or more expressions such that the value of the compound expression produced depends only on that of the original expressions and on the meaning of the operator. It mainly consists of AND OR NOT\n",
    "\n",
    "**LOGICAL AND**\n",
    "it is basically based on condition and based on value\n",
    "* based on condition : if both the condition statisfies then the output will be true.\n",
    "\n",
    "a= 10\n",
    "\n",
    "b= 20\n",
    "\n",
    "c= 30\n",
    "\n",
    "(a == b) and (a < b)\n",
    "\n",
    "False\n",
    "\n",
    "*based on value : if we give two values last value will be the output\n",
    "\n",
    "10 and 20\n",
    "\n",
    "20\n",
    "\n",
    "**LOGICAL OR**\n",
    "\n",
    "*Based on condition : if both are false then the condition is false \n",
    "\n",
    "a= 12\n",
    "\n",
    "b= 13\n",
    "\n",
    "(a==b) or (a<b)\n",
    "\n",
    "True\n",
    "\n",
    "*based on value : if give two values, then it takes first value\n",
    "\n",
    "10 and 20 \n",
    "\n",
    "10\n",
    "\n",
    "**Logical Not**\n",
    "\n",
    "It is represented as not'' and 0, 0.0, empty space considered as false. so not(false) will be true\n",
    "\n",
    "not''\n",
    "\n",
    "True\n",
    "\n",
    "not'   '\n",
    "\n",
    "false\n",
    "\n",
    "\n",
    "* What are the `membership` operators in Python? Explain their usage with examples\n",
    "\n",
    "Membership operators denotes with in, not in to check the member\n",
    "\n",
    "x= \"hello world\"\n",
    "\n",
    "print( \"hello\" not in x)\n",
    "\n",
    "false\n",
    "\n",
    "* List and briefly explain the `basic data types` available in Python.\n",
    "\n",
    "basic data types consists of numeric and non numeric\n",
    "\n",
    "numerical = int, float\n",
    "\n",
    "non numerical = bool(true or false)\n",
    "\n",
    "string can be considered as basic as well as collection\n",
    "\n",
    "\n",
    "\n",
    "* Write a Python code snippet that `assigns a value to a variable `and determines its `data type` using the type() function.\n",
    "\n",
    "a= 34\n",
    "\n",
    "type(a)\n",
    "\n",
    "int"
   ]
  },
  {
   "cell_type": "markdown",
   "id": "95ed62b5",
   "metadata": {},
   "source": [
    "Assignment: Basic Python Operators\n",
    "\n",
    "**Task 1: Arithmetic Operators**\n",
    "1. Write a Python program that takes two user-input numbers and displays their sum using the addition operator.\n",
    "2. Create a program to calculate the area of a rectangle. Prompt the user for the length and width, then use multiplication to find the area.\n",
    "3. Implement a program that converts temperature from Celsius to Fahrenheit using the formula: Fahrenheit = (Celsius * 9/5) + 32.\n",
    "\n",
    "**Task 2: Comparison Operators**\n",
    "1. Write a program that compares two user-input numbers and prints whether the first number is greater than the second number or not.\n",
    "2. Create a program that determines whether a user-input year is a leap year or not. A leap year is divisible by 4 and not divisible by 100, unless it is also divisible by 400.\n",
    "3. Implement a simple guessing game. Generate a random number between 1 and 100 and have the user guess the number. Provide feedback if their guess is too high or too low, and let them know when they've guessed correctly.\n",
    "\n",
    "**Task 3: Logical Operators**\n",
    "1. Write a program that checks whether a user-input number is positive and even using logical AND (`and`) operator.\n",
    "2. Create a login system where you define a correct username and password. Ask the user for their input and compare it with the correct credentials using logical OR (`or`) operator. Provide access if either the username or password is correct.\n",
    "3. Implement a program that determines whether a given year is a leap year and divisible by 7 using logical NOT (`not`) operator.\n",
    "\n",
    "**Task 4: Assignment Operators**\n",
    "1. Write a program to calculate the square of a number using the exponentiation operator (`**`) and assign it back to the same variable.\n",
    "2. Create a program that keeps track of the total score in a game. Prompt the user for their latest score and update the total score using the addition assignment operator (`+=`).\n",
    "3. Implement a program to convert seconds into hours, minutes, and remaining seconds using both division and modulo operators, and then assign each value using assignment operators.\n",
    "\n",
    "**Task 5: Bitwise Operators**\n",
    "1. Write a program that performs a bitwise AND operation between two user-input numbers and displays the result.\n",
    "2. Create a program to toggle the nth bit of a given number. Ask the user for the number and the value of n, then use bitwise XOR (^) operator to toggle the bit.\n",
    "3. Implement a program to swap the values of two variables without using a temporary variable, only using bitwise XOR (^) operator.\n",
    "\n"
   ]
  },
  {
   "cell_type": "markdown",
   "id": "b4f4e3dc",
   "metadata": {},
   "source": [
    "## Comparison operators"
   ]
  },
  {
   "cell_type": "markdown",
   "id": "3f5224ff",
   "metadata": {},
   "source": [
    "** Create a program that determines whether a user-input year is a leap year or not. A leap year is divisible by 4 and not divisible by 100, unless it is also divisible by 400.**"
   ]
  },
  {
   "cell_type": "code",
   "execution_count": 91,
   "id": "5de72b41",
   "metadata": {},
   "outputs": [
    {
     "name": "stdout",
     "output_type": "stream",
     "text": [
      "Enter year to be checked:1996\n"
     ]
    }
   ],
   "source": [
    "year=int(input(\"Enter year to be checked:\"))"
   ]
  },
  {
   "cell_type": "code",
   "execution_count": 107,
   "id": "29554883",
   "metadata": {},
   "outputs": [
    {
     "name": "stdout",
     "output_type": "stream",
     "text": [
      "The year is a leap year!\n"
     ]
    }
   ],
   "source": [
    "if(year%4==0 and year%100!=0 or year%400==0): \n",
    " print(\"The year is a leap year!\")\n",
    "else: \n",
    " print(\"The year is not a leap year!\")"
   ]
  },
  {
   "cell_type": "markdown",
   "id": "6e508cab",
   "metadata": {},
   "source": [
    "## Logical operator"
   ]
  },
  {
   "cell_type": "markdown",
   "id": "f7a845ee",
   "metadata": {},
   "source": [
    "\n",
    "** write a program that checks whether a user-input number is positive and even using logical AND (and) operator.**"
   ]
  },
  {
   "cell_type": "code",
   "execution_count": 116,
   "id": "f0e049de",
   "metadata": {},
   "outputs": [
    {
     "name": "stdout",
     "output_type": "stream",
     "text": [
      "enter any number: 3\n",
      "number is not positive and not even\n"
     ]
    }
   ],
   "source": [
    "number=int(input(\"enter any number: \"))\n",
    "if(number%2==0 and number>0):\n",
    " print(\"number is even and positive\")\n",
    "else:\n",
    " print(\"number is not positive and not even\")"
   ]
  },
  {
   "cell_type": "markdown",
   "id": "53380f33",
   "metadata": {},
   "source": [
    "Create a login system where you define a correct username and password. Ask the user for their input and compare it with the correct credentials using logical OR (or) operator. Provide access if either the username or password is correct."
   ]
  },
  {
   "cell_type": "code",
   "execution_count": 124,
   "id": "2da92c5a",
   "metadata": {},
   "outputs": [
    {
     "name": "stdout",
     "output_type": "stream",
     "text": [
      "enter usernamesowjanya\n",
      "enter the passwordsowji\n",
      "access provided\n"
     ]
    }
   ],
   "source": [
    "username=\"sowjanya\"\n",
    "password=\"sowji\"\n",
    "\n",
    "username_=input(\"enter username\")\n",
    "password_=(input(\"enter the password\"))\n",
    "if(username_==username)or(password_==password): print(\"access provided\")\n",
    "else:\n",
    "              print(\"access denied\")"
   ]
  },
  {
   "cell_type": "markdown",
   "id": "d7b3a5d0",
   "metadata": {},
   "source": [
    "Implement a program that determines whether a given year is a leap year and divisible by 7 using logical NOT (not) operator."
   ]
  },
  {
   "cell_type": "code",
   "execution_count": 125,
   "id": "77853f4f",
   "metadata": {},
   "outputs": [
    {
     "name": "stdout",
     "output_type": "stream",
     "text": [
      "enter any year: 2007\n",
      "not leap year and not divisible 7\n"
     ]
    }
   ],
   "source": [
    "year=int(input(\"enter any year: \"))\n",
    "if(year%4 == 0 and year % 100 !=0 or (year % 400 ==0)and not('year%7!=0')):\n",
    "    print(\"leap year and divisible by 7\")\n",
    "else:\n",
    "    print(\"not leap year and not divisible 7\")"
   ]
  },
  {
   "cell_type": "markdown",
   "id": "9ecc00ac",
   "metadata": {},
   "source": [
    "## assignment operator"
   ]
  },
  {
   "cell_type": "markdown",
   "id": "1c798071",
   "metadata": {},
   "source": [
    "Write a program to calculate the square of a number using the exponentiation operator (**) and assign it back to the same variable."
   ]
  },
  {
   "cell_type": "code",
   "execution_count": 130,
   "id": "d6aa50c7",
   "metadata": {},
   "outputs": [
    {
     "name": "stdout",
     "output_type": "stream",
     "text": [
      "enter the var: 5\n"
     ]
    }
   ],
   "source": [
    "a = int(input(\"enter the var: \"))\n",
    "b = a**2"
   ]
  },
  {
   "cell_type": "code",
   "execution_count": 131,
   "id": "47fcc01c",
   "metadata": {},
   "outputs": [
    {
     "name": "stdout",
     "output_type": "stream",
     "text": [
      "25\n"
     ]
    }
   ],
   "source": [
    "print(b)"
   ]
  },
  {
   "cell_type": "code",
   "execution_count": null,
   "id": "08e221bf",
   "metadata": {},
   "outputs": [],
   "source": []
  }
 ],
 "metadata": {
  "kernelspec": {
   "display_name": "Python 3 (ipykernel)",
   "language": "python",
   "name": "python3"
  },
  "language_info": {
   "codemirror_mode": {
    "name": "ipython",
    "version": 3
   },
   "file_extension": ".py",
   "mimetype": "text/x-python",
   "name": "python",
   "nbconvert_exporter": "python",
   "pygments_lexer": "ipython3",
   "version": "3.11.4"
  }
 },
 "nbformat": 4,
 "nbformat_minor": 5
}

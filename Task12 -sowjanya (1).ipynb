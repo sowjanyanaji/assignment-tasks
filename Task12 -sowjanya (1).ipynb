{
 "cells": [
  {
   "cell_type": "markdown",
   "id": "8060b9a4",
   "metadata": {},
   "source": [
    "**while loops and their use in programming.**\n",
    "1. Write a Python program that uses a while loop to print the numbers from `A` to `P`.\n",
    "\n",
    "2. Modify the program to print only the even numbers from `1 to 20 except mutiple of 3` using a while loop.\n",
    "\n",
    "3. Create a program that prompts the user for an integer input and then uses a while loop to print the countdown from `that number to 1`.\n",
    "\n",
    "\n",
    "4. Write a Python program that uses a while loop to repeatedly ask the user to enter a number. If the user enters 0, exit the loop using the `break` statement. Otherwise, continue prompting for numbers.\n",
    "\n",
    "5. Create a program that uses a while loop to print the numbers from 1 to 20, but skip printing the numbers 5, 10, and 15 using the `continue` statement.\n",
    "\n",
    "6. Write a Python program that simulates a simple password entry system. Ask the user to enter a password, and use a while loop to repeatedly prompt for the password until the correct password \"abc123\" is entered. Once the correct password is entered, exit the loop.\n",
    "\n",
    "7. Calculate and print the sum of all the positive integers entered by the user.\n",
    "\n",
    "\n",
    "\n",
    "."
   ]
  },
  {
   "cell_type": "markdown",
   "id": "1f0cf82d",
   "metadata": {},
   "source": [
    "**1)Write a Python program that uses a while loop to print the numbers from A to P.**"
   ]
  },
  {
   "cell_type": "code",
   "execution_count": 2,
   "id": "39f8980b",
   "metadata": {},
   "outputs": [
    {
     "name": "stdout",
     "output_type": "stream",
     "text": [
      "A\n",
      "B\n",
      "C\n",
      "D\n",
      "E\n",
      "F\n",
      "G\n",
      "H\n",
      "I\n",
      "J\n",
      "K\n",
      "L\n",
      "M\n",
      "N\n",
      "O\n",
      "P\n"
     ]
    }
   ],
   "source": [
    "a=0\n",
    "while a <=15:\n",
    "    print(chr(65+a))\n",
    "    a=a+1\n",
    "    \n",
    "    \n",
    "    \n",
    "\n",
    "    "
   ]
  },
  {
   "cell_type": "markdown",
   "id": "09e89eca",
   "metadata": {},
   "source": [
    "**2. Modify the program to print only the even numbers from `1 to 20 except mutiple of 3` using a while loop.**\n"
   ]
  },
  {
   "cell_type": "code",
   "execution_count": 3,
   "id": "66311a02",
   "metadata": {},
   "outputs": [
    {
     "name": "stdout",
     "output_type": "stream",
     "text": [
      "2\n",
      "4\n",
      "8\n",
      "10\n",
      "14\n",
      "16\n",
      "20\n"
     ]
    }
   ],
   "source": [
    "a=1\n",
    "while a <= 20:\n",
    "    if a%2==0 and a%3!=0:\n",
    "        print(a)\n",
    "    a=a+1\n",
    "            "
   ]
  },
  {
   "cell_type": "markdown",
   "id": "325b7e72",
   "metadata": {},
   "source": [
    "3) **Create a program that prompts the user for an integer input and then uses a while loop to print the countdown from that number to 1.**"
   ]
  },
  {
   "cell_type": "code",
   "execution_count": 6,
   "id": "f782ac18",
   "metadata": {},
   "outputs": [
    {
     "name": "stdout",
     "output_type": "stream",
     "text": [
      "enter the value : 5\n",
      "5\n",
      "4\n",
      "3\n",
      "2\n",
      "1\n"
     ]
    }
   ],
   "source": [
    "a = int(input(\"enter the value : \"))\n",
    "while a >= 1:\n",
    "    print(a)\n",
    "    a=a-1"
   ]
  },
  {
   "cell_type": "markdown",
   "id": "14bc7ebd",
   "metadata": {},
   "source": [
    "4.**Write a Python program that uses a while loop to repeatedly ask the user to enter a number. If the user enters 0, exit the loop using the break statement. Otherwise, continue prompting for numbers.**"
   ]
  },
  {
   "cell_type": "code",
   "execution_count": 1,
   "id": "858c3259",
   "metadata": {},
   "outputs": [
    {
     "name": "stdout",
     "output_type": "stream",
     "text": [
      "enter the number: 3\n",
      "3\n",
      "enter the number: 4\n",
      "4\n",
      "enter the number: 1\n",
      "1\n",
      "enter the number: 2\n",
      "2\n",
      "enter the number: 0\n"
     ]
    }
   ],
   "source": [
    "a= int(input(\"enter the number: \"))\n",
    "print(a)\n",
    "\n",
    "while a:\n",
    "    a=int(input(\"enter the number: \"))\n",
    "    if a == 0:\n",
    "        break\n",
    "    else:\n",
    "        print(a)\n",
    "        continue"
   ]
  },
  {
   "cell_type": "markdown",
   "id": "af699e81",
   "metadata": {},
   "source": [
    "5)**Create a program that uses a while loop to print the numbers from 1 to 20, but skip printing the numbers 5, 10, and 15 using the continue statement.**"
   ]
  },
  {
   "cell_type": "code",
   "execution_count": 28,
   "id": "1d86431d",
   "metadata": {},
   "outputs": [
    {
     "name": "stdout",
     "output_type": "stream",
     "text": [
      "1\n",
      "2\n",
      "3\n",
      "4\n",
      "6\n",
      "7\n",
      "8\n",
      "9\n",
      "11\n",
      "12\n",
      "13\n",
      "14\n",
      "16\n",
      "17\n",
      "18\n",
      "19\n",
      "20\n"
     ]
    }
   ],
   "source": [
    "a=1\n",
    "while a<=20:\n",
    "    if a in [5,10,15]:\n",
    "        pass\n",
    "        a=a+1\n",
    "    else:\n",
    "        print(a)\n",
    "        a=a+1\n"
   ]
  },
  {
   "cell_type": "markdown",
   "id": "a92a0752",
   "metadata": {},
   "source": [
    "6)**Write a Python program that simulates a simple password entry system. Ask the user to enter a password, and use a while loop to repeatedly prompt for the password until the correct password \"abc123\" is entered. Once the correct password is entered, exit the loop.**"
   ]
  },
  {
   "cell_type": "code",
   "execution_count": 27,
   "id": "1cac98dd",
   "metadata": {},
   "outputs": [
    {
     "name": "stdout",
     "output_type": "stream",
     "text": [
      "enter the password: 2ekjbg\n",
      "enter the password: dkwjd\n",
      "enter the password: abc123\n"
     ]
    }
   ],
   "source": [
    "a= input(\"enter the password: \")\n",
    "while (a != \"abc123\"): \n",
    "        a=input(\"enter the password: \")"
   ]
  },
  {
   "cell_type": "markdown",
   "id": "9a9fc008",
   "metadata": {},
   "source": [
    "7) **Calculate and print the sum of all the positive integers entered by the user.**\n"
   ]
  },
  {
   "cell_type": "code",
   "execution_count": 29,
   "id": "42c5f2cb",
   "metadata": {},
   "outputs": [
    {
     "name": "stdout",
     "output_type": "stream",
     "text": [
      "how many numbers you want to add: 3\n",
      "enter the number : 2\n",
      "enter the number : -1\n",
      "enter positive numbers only\n",
      "enter the number : 3\n",
      "enter the number : 4\n",
      "the sum of integers 9\n"
     ]
    }
   ],
   "source": [
    "num = int(input(\"how many numbers you want to add: \"))\n",
    "total=0\n",
    "while num>0:\n",
    "    b=int(input(\"enter the number : \"))\n",
    "    if(b>0):\n",
    "        total += b\n",
    "        num=num-1\n",
    "        \n",
    "                \n",
    "    else:\n",
    "        print(\"enter positive numbers only\")\n",
    "        \n",
    "        \n",
    "print(\"the sum of integers\",total)  \n",
    "    \n",
    "    \n"
   ]
  },
  {
   "cell_type": "markdown",
   "id": "4dcab598",
   "metadata": {},
   "source": []
  }
 ],
 "metadata": {
  "kernelspec": {
   "display_name": "Python 3 (ipykernel)",
   "language": "python",
   "name": "python3"
  },
  "language_info": {
   "codemirror_mode": {
    "name": "ipython",
    "version": 3
   },
   "file_extension": ".py",
   "mimetype": "text/x-python",
   "name": "python",
   "nbconvert_exporter": "python",
   "pygments_lexer": "ipython3",
   "version": "3.11.4"
  }
 },
 "nbformat": 4,
 "nbformat_minor": 5
}

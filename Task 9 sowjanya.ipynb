{
 "cells": [
  {
   "cell_type": "markdown",
   "id": "dd8718fa",
   "metadata": {},
   "source": [
    "\n",
    "\n",
    "1. **Print Numbers from 1 to N:**\n",
    "   Write a Python program that uses a for loop to print all numbers from `1 to N` and `substract 5 `from each number.where N is a `positive integer` entered by the user.\n",
    "\n",
    "2. **Calculate the Sum of Numbers from 1 to N:**\n",
    "   Write a Python program that calculates and prints the `sum` of all numbers from `1 to N`, where N is a `positive integer` entered by the user, using a for loop.\n",
    "\n",
    "3. **Print Even Numbers:**\n",
    "   Write a Python program that prints all `even numbers` from `50 to 100` using a `for` loop.\n",
    "\n",
    "4. **Reverse a String:**\n",
    "   Write a Python program that takes a string as input and uses a `for loop` to print the characters of the string in `reverse order`.\n",
    "\n",
    "5. **Count Vowels in a String:**\n",
    "    `name = \"innomatics research labs\"`\n",
    "   Write a Python program uses a for loop to count the number of vowels (a, e, i, o, u) in the string. Ignore case sensitivity.\n",
    "\n",
    "6. **Generate a Multiplication Table:**\n",
    "   Write a Python program that generates and prints the multiplication table for  6.\n"
   ]
  },
  {
   "cell_type": "markdown",
   "id": "9f50ad88",
   "metadata": {},
   "source": [
    "**Print Numbers from 1 to N: Write a Python program that uses a for loop to print all numbers from 1 to N and substract 5 from each number.where N is a positive integer entered by the user**"
   ]
  },
  {
   "cell_type": "code",
   "execution_count": 20,
   "id": "859641e9",
   "metadata": {},
   "outputs": [
    {
     "name": "stdout",
     "output_type": "stream",
     "text": [
      "enter the number : 7\n"
     ]
    }
   ],
   "source": [
    "n = int(input(\"enter the number : \"))"
   ]
  },
  {
   "cell_type": "code",
   "execution_count": 23,
   "id": "d4a21960",
   "metadata": {},
   "outputs": [
    {
     "name": "stdout",
     "output_type": "stream",
     "text": [
      "-4\n",
      "-3\n",
      "-2\n",
      "-1\n",
      "0\n",
      "1\n",
      "2\n"
     ]
    }
   ],
   "source": [
    "for i in range(1,n+1):\n",
    "    print(i-5)\n",
    "    "
   ]
  },
  {
   "cell_type": "markdown",
   "id": "d49cc034",
   "metadata": {},
   "source": [
    "**Calculate the Sum of Numbers from 1 to N: Write a Python program that calculates and prints the sum of all numbers from 1 to N, where N is a positive integer entered by the user, using a for loop.**"
   ]
  },
  {
   "cell_type": "code",
   "execution_count": 24,
   "id": "6e1dd496",
   "metadata": {},
   "outputs": [
    {
     "name": "stdout",
     "output_type": "stream",
     "text": [
      "enter the number : 3\n"
     ]
    }
   ],
   "source": [
    "total = 0\n",
    "n = int(input(\"enter the number : \"))\n",
    "for i in range(1,n+1):\n",
    "    total=total+i\n",
    "    "
   ]
  },
  {
   "cell_type": "code",
   "execution_count": 25,
   "id": "168c58d1",
   "metadata": {},
   "outputs": [
    {
     "data": {
      "text/plain": [
       "6"
      ]
     },
     "execution_count": 25,
     "metadata": {},
     "output_type": "execute_result"
    }
   ],
   "source": [
    "total"
   ]
  },
  {
   "cell_type": "markdown",
   "id": "1cfcdadc",
   "metadata": {},
   "source": [
    "**Print Even Numbers: Write a Python program that prints all even numbers from 50 to 100 using a for loop.**"
   ]
  },
  {
   "cell_type": "code",
   "execution_count": 28,
   "id": "7f2fa4a6",
   "metadata": {},
   "outputs": [
    {
     "name": "stdout",
     "output_type": "stream",
     "text": [
      "50\n",
      "52\n",
      "54\n",
      "56\n",
      "58\n",
      "60\n",
      "62\n",
      "64\n",
      "66\n",
      "68\n",
      "70\n",
      "72\n",
      "74\n",
      "76\n",
      "78\n",
      "80\n",
      "82\n",
      "84\n",
      "86\n",
      "88\n",
      "90\n",
      "92\n",
      "94\n",
      "96\n",
      "98\n",
      "100\n"
     ]
    }
   ],
   "source": [
    "for i in range(50,101):\n",
    "    if(i%2==0):\n",
    "        print(i)"
   ]
  },
  {
   "cell_type": "markdown",
   "id": "fdb685b4",
   "metadata": {},
   "source": [
    "**Reverse a String: Write a Python program that takes a string as input and uses a for loop to print the characters of the string in reverse order.**"
   ]
  },
  {
   "cell_type": "code",
   "execution_count": 31,
   "id": "93f5f0a0",
   "metadata": {},
   "outputs": [
    {
     "name": "stdout",
     "output_type": "stream",
     "text": [
      "enter the string : sowji\n",
      "i\n",
      "j\n",
      "w\n",
      "o\n",
      "s\n"
     ]
    }
   ],
   "source": [
    "string = input(\"enter the string : \")\n",
    "for i in string[-1: : -1]:\n",
    "    print(i)"
   ]
  },
  {
   "cell_type": "markdown",
   "id": "b750926f",
   "metadata": {},
   "source": [
    "**Count Vowels in a String: name = \"innomatics research labs\" Write a Python program uses a for loop to count the number of vowels (a, e, i, o, u) in the string. Ignore case sensitivity.**"
   ]
  },
  {
   "cell_type": "code",
   "execution_count": 43,
   "id": "d78fd4f6",
   "metadata": {},
   "outputs": [],
   "source": [
    "string =\"innomatics research labs\"\n"
   ]
  },
  {
   "cell_type": "code",
   "execution_count": 44,
   "id": "ae0c4097",
   "metadata": {},
   "outputs": [
    {
     "data": {
      "text/plain": [
       "24"
      ]
     },
     "execution_count": 44,
     "metadata": {},
     "output_type": "execute_result"
    }
   ],
   "source": [
    "len(string)"
   ]
  },
  {
   "cell_type": "code",
   "execution_count": 67,
   "id": "f78fc6e0",
   "metadata": {},
   "outputs": [],
   "source": [
    "vo=[]\n",
    "for i in string:\n",
    "    if i in (\"a\",\"e\",\"i\",\"o\",\"u\"):\n",
    "        vo.append(i)\n",
    "        "
   ]
  },
  {
   "cell_type": "code",
   "execution_count": 68,
   "id": "2b20df5a",
   "metadata": {},
   "outputs": [
    {
     "data": {
      "text/plain": [
       "['i', 'o', 'a', 'i', 'e', 'e', 'a', 'a']"
      ]
     },
     "execution_count": 68,
     "metadata": {},
     "output_type": "execute_result"
    }
   ],
   "source": [
    "vo"
   ]
  },
  {
   "cell_type": "code",
   "execution_count": 69,
   "id": "2f7f352d",
   "metadata": {},
   "outputs": [
    {
     "data": {
      "text/plain": [
       "8"
      ]
     },
     "execution_count": 69,
     "metadata": {},
     "output_type": "execute_result"
    }
   ],
   "source": [
    "len(vo)"
   ]
  },
  {
   "cell_type": "markdown",
   "id": "b19a3464",
   "metadata": {},
   "source": [
    "**Generate a Multiplication Table: Write a Python program that generates and prints the multiplication table for 6.**"
   ]
  },
  {
   "cell_type": "code",
   "execution_count": 74,
   "id": "e9f2e1eb",
   "metadata": {},
   "outputs": [
    {
     "name": "stdout",
     "output_type": "stream",
     "text": [
      " 6 * 1 = 6\n",
      " 6 * 2 = 12\n",
      " 6 * 3 = 18\n",
      " 6 * 4 = 24\n",
      " 6 * 5 = 30\n",
      " 6 * 6 = 36\n",
      " 6 * 7 = 42\n",
      " 6 * 8 = 48\n",
      " 6 * 9 = 54\n",
      " 6 * 10 = 60\n"
     ]
    }
   ],
   "source": [
    "n = range(1,11)\n",
    "for i in n:\n",
    "    print(f\" 6 * {i} = {i*6}\")"
   ]
  },
  {
   "cell_type": "code",
   "execution_count": null,
   "id": "03a3c42e",
   "metadata": {},
   "outputs": [],
   "source": []
  }
 ],
 "metadata": {
  "kernelspec": {
   "display_name": "Python 3 (ipykernel)",
   "language": "python",
   "name": "python3"
  },
  "language_info": {
   "codemirror_mode": {
    "name": "ipython",
    "version": 3
   },
   "file_extension": ".py",
   "mimetype": "text/x-python",
   "name": "python",
   "nbconvert_exporter": "python",
   "pygments_lexer": "ipython3",
   "version": "3.11.4"
  }
 },
 "nbformat": 4,
 "nbformat_minor": 5
}

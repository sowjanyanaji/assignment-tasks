{
 "cells": [
  {
   "cell_type": "markdown",
   "id": "b53e5b73",
   "metadata": {},
   "source": [
    "# Task 3\n",
    "\n",
    "1. Find all Statistic Measures\n",
    "2. Which subject has highest average ?\n",
    "3. What are the Student IDs who got more tham 80% GPA?\n",
    "4. How many female students are there in the class?\n",
    "5. What is the ratio of male students and female students?\n",
    "6. What are the marks of male students in statistics ?\n",
    "7. What is the ID of the class topper ?\n",
    "8. What is the gender of probabilty topper?\n",
    "9. Create Pivot Table for gender and class?\n",
    "10. Which subject got least average marks.?\n",
    "11. How many male and female students are there ?\n",
    "12. How many female student are there from class A?\n",
    "13. Which class has more strength ?\n",
    "14.Sort the data as per algebra ?\n",
    "15. How many students got exactly 64 marks from functional analysis?"
   ]
  },
  {
   "cell_type": "code",
   "execution_count": 3,
   "id": "67bef7c9",
   "metadata": {},
   "outputs": [],
   "source": [
    "import pandas as pd\n",
    "import numpy as np"
   ]
  },
  {
   "cell_type": "code",
   "execution_count": 7,
   "id": "5f67cc89",
   "metadata": {},
   "outputs": [
    {
     "data": {
      "text/html": [
       "<div>\n",
       "<style scoped>\n",
       "    .dataframe tbody tr th:only-of-type {\n",
       "        vertical-align: middle;\n",
       "    }\n",
       "\n",
       "    .dataframe tbody tr th {\n",
       "        vertical-align: top;\n",
       "    }\n",
       "\n",
       "    .dataframe thead th {\n",
       "        text-align: right;\n",
       "    }\n",
       "</style>\n",
       "<table border=\"1\" class=\"dataframe\">\n",
       "  <thead>\n",
       "    <tr style=\"text-align: right;\">\n",
       "      <th></th>\n",
       "      <th>ID</th>\n",
       "      <th>class</th>\n",
       "      <th>gender</th>\n",
       "      <th>GPA</th>\n",
       "      <th>Algebra</th>\n",
       "      <th>Calculus1</th>\n",
       "      <th>Calculus2</th>\n",
       "      <th>Statistics</th>\n",
       "      <th>Probability</th>\n",
       "      <th>Measure</th>\n",
       "      <th>Functional_analysis</th>\n",
       "    </tr>\n",
       "  </thead>\n",
       "  <tbody>\n",
       "    <tr>\n",
       "      <th>0</th>\n",
       "      <td>1141</td>\n",
       "      <td>A</td>\n",
       "      <td>male</td>\n",
       "      <td>73.47</td>\n",
       "      <td>64</td>\n",
       "      <td>81</td>\n",
       "      <td>87</td>\n",
       "      <td>60</td>\n",
       "      <td>74</td>\n",
       "      <td>71</td>\n",
       "      <td>60</td>\n",
       "    </tr>\n",
       "    <tr>\n",
       "      <th>1</th>\n",
       "      <td>1142</td>\n",
       "      <td>A</td>\n",
       "      <td>female</td>\n",
       "      <td>71.22</td>\n",
       "      <td>57</td>\n",
       "      <td>50</td>\n",
       "      <td>51</td>\n",
       "      <td>51</td>\n",
       "      <td>55</td>\n",
       "      <td>62</td>\n",
       "      <td>61</td>\n",
       "    </tr>\n",
       "    <tr>\n",
       "      <th>2</th>\n",
       "      <td>1143</td>\n",
       "      <td>A</td>\n",
       "      <td>female</td>\n",
       "      <td>74.56</td>\n",
       "      <td>47</td>\n",
       "      <td>48</td>\n",
       "      <td>71</td>\n",
       "      <td>60</td>\n",
       "      <td>61</td>\n",
       "      <td>68</td>\n",
       "      <td>64</td>\n",
       "    </tr>\n",
       "    <tr>\n",
       "      <th>3</th>\n",
       "      <td>1144</td>\n",
       "      <td>A</td>\n",
       "      <td>female</td>\n",
       "      <td>72.89</td>\n",
       "      <td>46</td>\n",
       "      <td>72</td>\n",
       "      <td>38</td>\n",
       "      <td>60</td>\n",
       "      <td>29</td>\n",
       "      <td>54</td>\n",
       "      <td>51</td>\n",
       "    </tr>\n",
       "    <tr>\n",
       "      <th>4</th>\n",
       "      <td>1145</td>\n",
       "      <td>A</td>\n",
       "      <td>female</td>\n",
       "      <td>70.11</td>\n",
       "      <td>49</td>\n",
       "      <td>45</td>\n",
       "      <td>63</td>\n",
       "      <td>60</td>\n",
       "      <td>66</td>\n",
       "      <td>66</td>\n",
       "      <td>61</td>\n",
       "    </tr>\n",
       "    <tr>\n",
       "      <th>...</th>\n",
       "      <td>...</td>\n",
       "      <td>...</td>\n",
       "      <td>...</td>\n",
       "      <td>...</td>\n",
       "      <td>...</td>\n",
       "      <td>...</td>\n",
       "      <td>...</td>\n",
       "      <td>...</td>\n",
       "      <td>...</td>\n",
       "      <td>...</td>\n",
       "      <td>...</td>\n",
       "    </tr>\n",
       "    <tr>\n",
       "      <th>100</th>\n",
       "      <td>1241</td>\n",
       "      <td>A</td>\n",
       "      <td>female</td>\n",
       "      <td>88.34</td>\n",
       "      <td>87</td>\n",
       "      <td>83</td>\n",
       "      <td>92</td>\n",
       "      <td>98</td>\n",
       "      <td>93</td>\n",
       "      <td>86</td>\n",
       "      <td>90</td>\n",
       "    </tr>\n",
       "    <tr>\n",
       "      <th>101</th>\n",
       "      <td>1242</td>\n",
       "      <td>B</td>\n",
       "      <td>male</td>\n",
       "      <td>89.84</td>\n",
       "      <td>98</td>\n",
       "      <td>77</td>\n",
       "      <td>95</td>\n",
       "      <td>98</td>\n",
       "      <td>96</td>\n",
       "      <td>88</td>\n",
       "      <td>100</td>\n",
       "    </tr>\n",
       "    <tr>\n",
       "      <th>102</th>\n",
       "      <td>1243</td>\n",
       "      <td>B</td>\n",
       "      <td>male</td>\n",
       "      <td>88.82</td>\n",
       "      <td>83</td>\n",
       "      <td>80</td>\n",
       "      <td>91</td>\n",
       "      <td>98</td>\n",
       "      <td>93</td>\n",
       "      <td>95</td>\n",
       "      <td>71</td>\n",
       "    </tr>\n",
       "    <tr>\n",
       "      <th>103</th>\n",
       "      <td>1244</td>\n",
       "      <td>A</td>\n",
       "      <td>male</td>\n",
       "      <td>86.60</td>\n",
       "      <td>92</td>\n",
       "      <td>82</td>\n",
       "      <td>91</td>\n",
       "      <td>99</td>\n",
       "      <td>94</td>\n",
       "      <td>82</td>\n",
       "      <td>78</td>\n",
       "    </tr>\n",
       "    <tr>\n",
       "      <th>104</th>\n",
       "      <td>1245</td>\n",
       "      <td>A</td>\n",
       "      <td>male</td>\n",
       "      <td>93.71</td>\n",
       "      <td>93</td>\n",
       "      <td>97</td>\n",
       "      <td>99</td>\n",
       "      <td>100</td>\n",
       "      <td>97</td>\n",
       "      <td>90</td>\n",
       "      <td>90</td>\n",
       "    </tr>\n",
       "  </tbody>\n",
       "</table>\n",
       "<p>105 rows × 11 columns</p>\n",
       "</div>"
      ],
      "text/plain": [
       "       ID class  gender    GPA  Algebra  Calculus1  Calculus2  Statistics  \\\n",
       "0    1141     A    male  73.47       64         81         87          60   \n",
       "1    1142     A  female  71.22       57         50         51          51   \n",
       "2    1143     A  female  74.56       47         48         71          60   \n",
       "3    1144     A  female  72.89       46         72         38          60   \n",
       "4    1145     A  female  70.11       49         45         63          60   \n",
       "..    ...   ...     ...    ...      ...        ...        ...         ...   \n",
       "100  1241     A  female  88.34       87         83         92          98   \n",
       "101  1242     B    male  89.84       98         77         95          98   \n",
       "102  1243     B    male  88.82       83         80         91          98   \n",
       "103  1244     A    male  86.60       92         82         91          99   \n",
       "104  1245     A    male  93.71       93         97         99         100   \n",
       "\n",
       "     Probability  Measure  Functional_analysis  \n",
       "0             74       71                   60  \n",
       "1             55       62                   61  \n",
       "2             61       68                   64  \n",
       "3             29       54                   51  \n",
       "4             66       66                   61  \n",
       "..           ...      ...                  ...  \n",
       "100           93       86                   90  \n",
       "101           96       88                  100  \n",
       "102           93       95                   71  \n",
       "103           94       82                   78  \n",
       "104           97       90                   90  \n",
       "\n",
       "[105 rows x 11 columns]"
      ]
     },
     "execution_count": 7,
     "metadata": {},
     "output_type": "execute_result"
    }
   ],
   "source": [
    "a = pd.read_csv(r\"C:\\Users\\anaji\\Sowjanya\\Task FOLDER\\Pandas\\studens_data.csv\")\n",
    "a"
   ]
  },
  {
   "cell_type": "markdown",
   "id": "8023742c",
   "metadata": {},
   "source": [
    "1) Find all Statistic Measures?"
   ]
  },
  {
   "cell_type": "code",
   "execution_count": 8,
   "id": "63b1def3",
   "metadata": {},
   "outputs": [
    {
     "data": {
      "text/html": [
       "<div>\n",
       "<style scoped>\n",
       "    .dataframe tbody tr th:only-of-type {\n",
       "        vertical-align: middle;\n",
       "    }\n",
       "\n",
       "    .dataframe tbody tr th {\n",
       "        vertical-align: top;\n",
       "    }\n",
       "\n",
       "    .dataframe thead th {\n",
       "        text-align: right;\n",
       "    }\n",
       "</style>\n",
       "<table border=\"1\" class=\"dataframe\">\n",
       "  <thead>\n",
       "    <tr style=\"text-align: right;\">\n",
       "      <th></th>\n",
       "      <th>ID</th>\n",
       "      <th>GPA</th>\n",
       "      <th>Algebra</th>\n",
       "      <th>Calculus1</th>\n",
       "      <th>Calculus2</th>\n",
       "      <th>Statistics</th>\n",
       "      <th>Probability</th>\n",
       "      <th>Measure</th>\n",
       "      <th>Functional_analysis</th>\n",
       "    </tr>\n",
       "  </thead>\n",
       "  <tbody>\n",
       "    <tr>\n",
       "      <th>count</th>\n",
       "      <td>105.000000</td>\n",
       "      <td>105.000000</td>\n",
       "      <td>105.000000</td>\n",
       "      <td>105.000000</td>\n",
       "      <td>105.000000</td>\n",
       "      <td>105.000000</td>\n",
       "      <td>105.000000</td>\n",
       "      <td>105.000000</td>\n",
       "      <td>105.000000</td>\n",
       "    </tr>\n",
       "    <tr>\n",
       "      <th>mean</th>\n",
       "      <td>1193.000000</td>\n",
       "      <td>82.957048</td>\n",
       "      <td>76.057143</td>\n",
       "      <td>71.961905</td>\n",
       "      <td>78.942857</td>\n",
       "      <td>85.133333</td>\n",
       "      <td>83.876190</td>\n",
       "      <td>80.761905</td>\n",
       "      <td>75.323810</td>\n",
       "    </tr>\n",
       "    <tr>\n",
       "      <th>std</th>\n",
       "      <td>30.454885</td>\n",
       "      <td>6.053187</td>\n",
       "      <td>11.722618</td>\n",
       "      <td>12.197039</td>\n",
       "      <td>14.997326</td>\n",
       "      <td>10.269509</td>\n",
       "      <td>10.514363</td>\n",
       "      <td>10.296119</td>\n",
       "      <td>13.003324</td>\n",
       "    </tr>\n",
       "    <tr>\n",
       "      <th>min</th>\n",
       "      <td>1141.000000</td>\n",
       "      <td>63.490000</td>\n",
       "      <td>46.000000</td>\n",
       "      <td>38.000000</td>\n",
       "      <td>17.000000</td>\n",
       "      <td>51.000000</td>\n",
       "      <td>29.000000</td>\n",
       "      <td>54.000000</td>\n",
       "      <td>9.000000</td>\n",
       "    </tr>\n",
       "    <tr>\n",
       "      <th>25%</th>\n",
       "      <td>1167.000000</td>\n",
       "      <td>79.340000</td>\n",
       "      <td>67.000000</td>\n",
       "      <td>64.000000</td>\n",
       "      <td>71.000000</td>\n",
       "      <td>80.000000</td>\n",
       "      <td>79.000000</td>\n",
       "      <td>74.000000</td>\n",
       "      <td>67.000000</td>\n",
       "    </tr>\n",
       "    <tr>\n",
       "      <th>50%</th>\n",
       "      <td>1193.000000</td>\n",
       "      <td>84.110000</td>\n",
       "      <td>76.000000</td>\n",
       "      <td>73.000000</td>\n",
       "      <td>83.000000</td>\n",
       "      <td>87.000000</td>\n",
       "      <td>85.000000</td>\n",
       "      <td>81.000000</td>\n",
       "      <td>76.000000</td>\n",
       "    </tr>\n",
       "    <tr>\n",
       "      <th>75%</th>\n",
       "      <td>1219.000000</td>\n",
       "      <td>87.300000</td>\n",
       "      <td>84.000000</td>\n",
       "      <td>80.000000</td>\n",
       "      <td>91.000000</td>\n",
       "      <td>92.000000</td>\n",
       "      <td>92.000000</td>\n",
       "      <td>89.000000</td>\n",
       "      <td>85.000000</td>\n",
       "    </tr>\n",
       "    <tr>\n",
       "      <th>max</th>\n",
       "      <td>1245.000000</td>\n",
       "      <td>93.710000</td>\n",
       "      <td>98.000000</td>\n",
       "      <td>100.000000</td>\n",
       "      <td>99.000000</td>\n",
       "      <td>100.000000</td>\n",
       "      <td>97.000000</td>\n",
       "      <td>100.000000</td>\n",
       "      <td>100.000000</td>\n",
       "    </tr>\n",
       "  </tbody>\n",
       "</table>\n",
       "</div>"
      ],
      "text/plain": [
       "                ID         GPA     Algebra   Calculus1   Calculus2  \\\n",
       "count   105.000000  105.000000  105.000000  105.000000  105.000000   \n",
       "mean   1193.000000   82.957048   76.057143   71.961905   78.942857   \n",
       "std      30.454885    6.053187   11.722618   12.197039   14.997326   \n",
       "min    1141.000000   63.490000   46.000000   38.000000   17.000000   \n",
       "25%    1167.000000   79.340000   67.000000   64.000000   71.000000   \n",
       "50%    1193.000000   84.110000   76.000000   73.000000   83.000000   \n",
       "75%    1219.000000   87.300000   84.000000   80.000000   91.000000   \n",
       "max    1245.000000   93.710000   98.000000  100.000000   99.000000   \n",
       "\n",
       "       Statistics  Probability     Measure  Functional_analysis  \n",
       "count  105.000000   105.000000  105.000000           105.000000  \n",
       "mean    85.133333    83.876190   80.761905            75.323810  \n",
       "std     10.269509    10.514363   10.296119            13.003324  \n",
       "min     51.000000    29.000000   54.000000             9.000000  \n",
       "25%     80.000000    79.000000   74.000000            67.000000  \n",
       "50%     87.000000    85.000000   81.000000            76.000000  \n",
       "75%     92.000000    92.000000   89.000000            85.000000  \n",
       "max    100.000000    97.000000  100.000000           100.000000  "
      ]
     },
     "execution_count": 8,
     "metadata": {},
     "output_type": "execute_result"
    }
   ],
   "source": [
    "a.describe()"
   ]
  },
  {
   "cell_type": "markdown",
   "id": "dd195acb",
   "metadata": {},
   "source": [
    "2. Which subject has highest average ?"
   ]
  },
  {
   "cell_type": "code",
   "execution_count": 20,
   "id": "34a06f73",
   "metadata": {},
   "outputs": [
    {
     "data": {
      "text/plain": [
       "Algebra                76.057143\n",
       "Calculus1              71.961905\n",
       "Calculus2              78.942857\n",
       "Statistics             85.133333\n",
       "Probability            83.876190\n",
       "Measure                80.761905\n",
       "Functional_analysis    75.323810\n",
       "dtype: float64"
      ]
     },
     "execution_count": 20,
     "metadata": {},
     "output_type": "execute_result"
    }
   ],
   "source": [
    "avg = a.loc[:,['Algebra','Calculus1','Calculus2','Statistics','Probability','Measure','Functional_analysis']].mean()\n",
    "avg"
   ]
  },
  {
   "cell_type": "code",
   "execution_count": 23,
   "id": "3642b7c2",
   "metadata": {},
   "outputs": [
    {
     "data": {
      "text/plain": [
       "85.13333333333334"
      ]
     },
     "execution_count": 23,
     "metadata": {},
     "output_type": "execute_result"
    }
   ],
   "source": [
    "avg.max()  #highest average"
   ]
  },
  {
   "cell_type": "markdown",
   "id": "d9c56065",
   "metadata": {},
   "source": [
    "3. What are the Student IDs who got more tham 80% GPA?"
   ]
  },
  {
   "cell_type": "code",
   "execution_count": 25,
   "id": "8d150af6",
   "metadata": {},
   "outputs": [
    {
     "data": {
      "text/html": [
       "<div>\n",
       "<style scoped>\n",
       "    .dataframe tbody tr th:only-of-type {\n",
       "        vertical-align: middle;\n",
       "    }\n",
       "\n",
       "    .dataframe tbody tr th {\n",
       "        vertical-align: top;\n",
       "    }\n",
       "\n",
       "    .dataframe thead th {\n",
       "        text-align: right;\n",
       "    }\n",
       "</style>\n",
       "<table border=\"1\" class=\"dataframe\">\n",
       "  <thead>\n",
       "    <tr style=\"text-align: right;\">\n",
       "      <th></th>\n",
       "      <th>ID</th>\n",
       "      <th>class</th>\n",
       "      <th>gender</th>\n",
       "      <th>GPA</th>\n",
       "      <th>Algebra</th>\n",
       "      <th>Calculus1</th>\n",
       "      <th>Calculus2</th>\n",
       "      <th>Statistics</th>\n",
       "      <th>Probability</th>\n",
       "      <th>Measure</th>\n",
       "      <th>Functional_analysis</th>\n",
       "    </tr>\n",
       "  </thead>\n",
       "  <tbody>\n",
       "    <tr>\n",
       "      <th>11</th>\n",
       "      <td>1152</td>\n",
       "      <td>B</td>\n",
       "      <td>female</td>\n",
       "      <td>83.65</td>\n",
       "      <td>73</td>\n",
       "      <td>75</td>\n",
       "      <td>76</td>\n",
       "      <td>71</td>\n",
       "      <td>85</td>\n",
       "      <td>74</td>\n",
       "      <td>89</td>\n",
       "    </tr>\n",
       "    <tr>\n",
       "      <th>13</th>\n",
       "      <td>1154</td>\n",
       "      <td>A</td>\n",
       "      <td>male</td>\n",
       "      <td>80.08</td>\n",
       "      <td>67</td>\n",
       "      <td>65</td>\n",
       "      <td>74</td>\n",
       "      <td>73</td>\n",
       "      <td>87</td>\n",
       "      <td>68</td>\n",
       "      <td>76</td>\n",
       "    </tr>\n",
       "    <tr>\n",
       "      <th>14</th>\n",
       "      <td>1155</td>\n",
       "      <td>A</td>\n",
       "      <td>male</td>\n",
       "      <td>81.67</td>\n",
       "      <td>73</td>\n",
       "      <td>60</td>\n",
       "      <td>55</td>\n",
       "      <td>76</td>\n",
       "      <td>77</td>\n",
       "      <td>74</td>\n",
       "      <td>64</td>\n",
       "    </tr>\n",
       "    <tr>\n",
       "      <th>15</th>\n",
       "      <td>1156</td>\n",
       "      <td>B</td>\n",
       "      <td>female</td>\n",
       "      <td>82.07</td>\n",
       "      <td>72</td>\n",
       "      <td>63</td>\n",
       "      <td>70</td>\n",
       "      <td>76</td>\n",
       "      <td>81</td>\n",
       "      <td>86</td>\n",
       "      <td>73</td>\n",
       "    </tr>\n",
       "    <tr>\n",
       "      <th>17</th>\n",
       "      <td>1158</td>\n",
       "      <td>A</td>\n",
       "      <td>male</td>\n",
       "      <td>81.50</td>\n",
       "      <td>68</td>\n",
       "      <td>67</td>\n",
       "      <td>55</td>\n",
       "      <td>76</td>\n",
       "      <td>85</td>\n",
       "      <td>75</td>\n",
       "      <td>87</td>\n",
       "    </tr>\n",
       "    <tr>\n",
       "      <th>...</th>\n",
       "      <td>...</td>\n",
       "      <td>...</td>\n",
       "      <td>...</td>\n",
       "      <td>...</td>\n",
       "      <td>...</td>\n",
       "      <td>...</td>\n",
       "      <td>...</td>\n",
       "      <td>...</td>\n",
       "      <td>...</td>\n",
       "      <td>...</td>\n",
       "      <td>...</td>\n",
       "    </tr>\n",
       "    <tr>\n",
       "      <th>100</th>\n",
       "      <td>1241</td>\n",
       "      <td>A</td>\n",
       "      <td>female</td>\n",
       "      <td>88.34</td>\n",
       "      <td>87</td>\n",
       "      <td>83</td>\n",
       "      <td>92</td>\n",
       "      <td>98</td>\n",
       "      <td>93</td>\n",
       "      <td>86</td>\n",
       "      <td>90</td>\n",
       "    </tr>\n",
       "    <tr>\n",
       "      <th>101</th>\n",
       "      <td>1242</td>\n",
       "      <td>B</td>\n",
       "      <td>male</td>\n",
       "      <td>89.84</td>\n",
       "      <td>98</td>\n",
       "      <td>77</td>\n",
       "      <td>95</td>\n",
       "      <td>98</td>\n",
       "      <td>96</td>\n",
       "      <td>88</td>\n",
       "      <td>100</td>\n",
       "    </tr>\n",
       "    <tr>\n",
       "      <th>102</th>\n",
       "      <td>1243</td>\n",
       "      <td>B</td>\n",
       "      <td>male</td>\n",
       "      <td>88.82</td>\n",
       "      <td>83</td>\n",
       "      <td>80</td>\n",
       "      <td>91</td>\n",
       "      <td>98</td>\n",
       "      <td>93</td>\n",
       "      <td>95</td>\n",
       "      <td>71</td>\n",
       "    </tr>\n",
       "    <tr>\n",
       "      <th>103</th>\n",
       "      <td>1244</td>\n",
       "      <td>A</td>\n",
       "      <td>male</td>\n",
       "      <td>86.60</td>\n",
       "      <td>92</td>\n",
       "      <td>82</td>\n",
       "      <td>91</td>\n",
       "      <td>99</td>\n",
       "      <td>94</td>\n",
       "      <td>82</td>\n",
       "      <td>78</td>\n",
       "    </tr>\n",
       "    <tr>\n",
       "      <th>104</th>\n",
       "      <td>1245</td>\n",
       "      <td>A</td>\n",
       "      <td>male</td>\n",
       "      <td>93.71</td>\n",
       "      <td>93</td>\n",
       "      <td>97</td>\n",
       "      <td>99</td>\n",
       "      <td>100</td>\n",
       "      <td>97</td>\n",
       "      <td>90</td>\n",
       "      <td>90</td>\n",
       "    </tr>\n",
       "  </tbody>\n",
       "</table>\n",
       "<p>76 rows × 11 columns</p>\n",
       "</div>"
      ],
      "text/plain": [
       "       ID class  gender    GPA  Algebra  Calculus1  Calculus2  Statistics  \\\n",
       "11   1152     B  female  83.65       73         75         76          71   \n",
       "13   1154     A    male  80.08       67         65         74          73   \n",
       "14   1155     A    male  81.67       73         60         55          76   \n",
       "15   1156     B  female  82.07       72         63         70          76   \n",
       "17   1158     A    male  81.50       68         67         55          76   \n",
       "..    ...   ...     ...    ...      ...        ...        ...         ...   \n",
       "100  1241     A  female  88.34       87         83         92          98   \n",
       "101  1242     B    male  89.84       98         77         95          98   \n",
       "102  1243     B    male  88.82       83         80         91          98   \n",
       "103  1244     A    male  86.60       92         82         91          99   \n",
       "104  1245     A    male  93.71       93         97         99         100   \n",
       "\n",
       "     Probability  Measure  Functional_analysis  \n",
       "11            85       74                   89  \n",
       "13            87       68                   76  \n",
       "14            77       74                   64  \n",
       "15            81       86                   73  \n",
       "17            85       75                   87  \n",
       "..           ...      ...                  ...  \n",
       "100           93       86                   90  \n",
       "101           96       88                  100  \n",
       "102           93       95                   71  \n",
       "103           94       82                   78  \n",
       "104           97       90                   90  \n",
       "\n",
       "[76 rows x 11 columns]"
      ]
     },
     "execution_count": 25,
     "metadata": {},
     "output_type": "execute_result"
    }
   ],
   "source": [
    "c = a[a['GPA']> 80]\n",
    "c"
   ]
  },
  {
   "cell_type": "code",
   "execution_count": 27,
   "id": "2e04da08",
   "metadata": {},
   "outputs": [
    {
     "data": {
      "text/html": [
       "<div>\n",
       "<style scoped>\n",
       "    .dataframe tbody tr th:only-of-type {\n",
       "        vertical-align: middle;\n",
       "    }\n",
       "\n",
       "    .dataframe tbody tr th {\n",
       "        vertical-align: top;\n",
       "    }\n",
       "\n",
       "    .dataframe thead th {\n",
       "        text-align: right;\n",
       "    }\n",
       "</style>\n",
       "<table border=\"1\" class=\"dataframe\">\n",
       "  <thead>\n",
       "    <tr style=\"text-align: right;\">\n",
       "      <th></th>\n",
       "      <th>ID</th>\n",
       "      <th>GPA</th>\n",
       "    </tr>\n",
       "  </thead>\n",
       "  <tbody>\n",
       "    <tr>\n",
       "      <th>11</th>\n",
       "      <td>1152</td>\n",
       "      <td>83.65</td>\n",
       "    </tr>\n",
       "    <tr>\n",
       "      <th>13</th>\n",
       "      <td>1154</td>\n",
       "      <td>80.08</td>\n",
       "    </tr>\n",
       "    <tr>\n",
       "      <th>14</th>\n",
       "      <td>1155</td>\n",
       "      <td>81.67</td>\n",
       "    </tr>\n",
       "    <tr>\n",
       "      <th>15</th>\n",
       "      <td>1156</td>\n",
       "      <td>82.07</td>\n",
       "    </tr>\n",
       "    <tr>\n",
       "      <th>17</th>\n",
       "      <td>1158</td>\n",
       "      <td>81.50</td>\n",
       "    </tr>\n",
       "    <tr>\n",
       "      <th>...</th>\n",
       "      <td>...</td>\n",
       "      <td>...</td>\n",
       "    </tr>\n",
       "    <tr>\n",
       "      <th>100</th>\n",
       "      <td>1241</td>\n",
       "      <td>88.34</td>\n",
       "    </tr>\n",
       "    <tr>\n",
       "      <th>101</th>\n",
       "      <td>1242</td>\n",
       "      <td>89.84</td>\n",
       "    </tr>\n",
       "    <tr>\n",
       "      <th>102</th>\n",
       "      <td>1243</td>\n",
       "      <td>88.82</td>\n",
       "    </tr>\n",
       "    <tr>\n",
       "      <th>103</th>\n",
       "      <td>1244</td>\n",
       "      <td>86.60</td>\n",
       "    </tr>\n",
       "    <tr>\n",
       "      <th>104</th>\n",
       "      <td>1245</td>\n",
       "      <td>93.71</td>\n",
       "    </tr>\n",
       "  </tbody>\n",
       "</table>\n",
       "<p>76 rows × 2 columns</p>\n",
       "</div>"
      ],
      "text/plain": [
       "       ID    GPA\n",
       "11   1152  83.65\n",
       "13   1154  80.08\n",
       "14   1155  81.67\n",
       "15   1156  82.07\n",
       "17   1158  81.50\n",
       "..    ...    ...\n",
       "100  1241  88.34\n",
       "101  1242  89.84\n",
       "102  1243  88.82\n",
       "103  1244  86.60\n",
       "104  1245  93.71\n",
       "\n",
       "[76 rows x 2 columns]"
      ]
     },
     "execution_count": 27,
     "metadata": {},
     "output_type": "execute_result"
    }
   ],
   "source": [
    "c[['ID','GPA']]"
   ]
  },
  {
   "cell_type": "markdown",
   "id": "10d9eb34",
   "metadata": {},
   "source": [
    "4) How many female students are there in the class?"
   ]
  },
  {
   "cell_type": "code",
   "execution_count": 29,
   "id": "268e0d89",
   "metadata": {},
   "outputs": [
    {
     "data": {
      "text/plain": [
       "68"
      ]
     },
     "execution_count": 29,
     "metadata": {},
     "output_type": "execute_result"
    }
   ],
   "source": [
    "len(a[a['gender']=='female'])"
   ]
  },
  {
   "cell_type": "markdown",
   "id": "a8728588",
   "metadata": {},
   "source": [
    "5. What is the ratio of male students and female students?"
   ]
  },
  {
   "cell_type": "code",
   "execution_count": 300,
   "id": "26e72d83",
   "metadata": {},
   "outputs": [
    {
     "data": {
      "text/plain": [
       "0.5441176470588235"
      ]
     },
     "execution_count": 300,
     "metadata": {},
     "output_type": "execute_result"
    }
   ],
   "source": [
    " len(a[a['gender']=='male'])/len(a[a['gender']=='female']) "
   ]
  },
  {
   "cell_type": "markdown",
   "id": "075812b4",
   "metadata": {},
   "source": [
    "6.What are the marks of male students in statistics ?"
   ]
  },
  {
   "cell_type": "code",
   "execution_count": 62,
   "id": "fae2a6c4",
   "metadata": {},
   "outputs": [
    {
     "data": {
      "text/plain": [
       "0       60\n",
       "5       61\n",
       "6       63\n",
       "10      69\n",
       "13      73\n",
       "14      76\n",
       "16      76\n",
       "17      76\n",
       "18      76\n",
       "19      78\n",
       "20      78\n",
       "21      78\n",
       "24      80\n",
       "28      83\n",
       "31      83\n",
       "32      83\n",
       "33      83\n",
       "40      85\n",
       "47      87\n",
       "50      87\n",
       "59      89\n",
       "61      89\n",
       "65      90\n",
       "72      92\n",
       "78      92\n",
       "82      92\n",
       "89      94\n",
       "90      95\n",
       "92      95\n",
       "96      97\n",
       "97      97\n",
       "98      97\n",
       "99      97\n",
       "101     98\n",
       "102     98\n",
       "103     99\n",
       "104    100\n",
       "Name: Statistics, dtype: int64"
      ]
     },
     "execution_count": 62,
     "metadata": {},
     "output_type": "execute_result"
    }
   ],
   "source": [
    "a[a['gender']=='male']['Statistics']"
   ]
  },
  {
   "cell_type": "markdown",
   "id": "7962a756",
   "metadata": {},
   "source": [
    "7. What is the ID of the class topper ?"
   ]
  },
  {
   "cell_type": "code",
   "execution_count": 68,
   "id": "a3ea5ea2",
   "metadata": {},
   "outputs": [
    {
     "data": {
      "text/plain": [
       "93.71"
      ]
     },
     "execution_count": 68,
     "metadata": {},
     "output_type": "execute_result"
    }
   ],
   "source": [
    "toper = a['GPA'].max()\n",
    "toper"
   ]
  },
  {
   "cell_type": "code",
   "execution_count": 89,
   "id": "29031417",
   "metadata": {},
   "outputs": [
    {
     "data": {
      "text/html": [
       "<div>\n",
       "<style scoped>\n",
       "    .dataframe tbody tr th:only-of-type {\n",
       "        vertical-align: middle;\n",
       "    }\n",
       "\n",
       "    .dataframe tbody tr th {\n",
       "        vertical-align: top;\n",
       "    }\n",
       "\n",
       "    .dataframe thead th {\n",
       "        text-align: right;\n",
       "    }\n",
       "</style>\n",
       "<table border=\"1\" class=\"dataframe\">\n",
       "  <thead>\n",
       "    <tr style=\"text-align: right;\">\n",
       "      <th>GPA</th>\n",
       "      <th>63.49</th>\n",
       "      <th>64.75</th>\n",
       "      <th>65.04</th>\n",
       "      <th>70.11</th>\n",
       "      <th>71.22</th>\n",
       "      <th>72.89</th>\n",
       "      <th>73.47</th>\n",
       "      <th>74.11</th>\n",
       "      <th>74.17</th>\n",
       "      <th>74.43</th>\n",
       "      <th>...</th>\n",
       "      <th>89.95</th>\n",
       "      <th>90.31</th>\n",
       "      <th>90.62</th>\n",
       "      <th>90.66</th>\n",
       "      <th>91.14</th>\n",
       "      <th>91.61</th>\n",
       "      <th>91.74</th>\n",
       "      <th>91.90</th>\n",
       "      <th>93.06</th>\n",
       "      <th>93.71</th>\n",
       "    </tr>\n",
       "    <tr>\n",
       "      <th>ID</th>\n",
       "      <th></th>\n",
       "      <th></th>\n",
       "      <th></th>\n",
       "      <th></th>\n",
       "      <th></th>\n",
       "      <th></th>\n",
       "      <th></th>\n",
       "      <th></th>\n",
       "      <th></th>\n",
       "      <th></th>\n",
       "      <th></th>\n",
       "      <th></th>\n",
       "      <th></th>\n",
       "      <th></th>\n",
       "      <th></th>\n",
       "      <th></th>\n",
       "      <th></th>\n",
       "      <th></th>\n",
       "      <th></th>\n",
       "      <th></th>\n",
       "      <th></th>\n",
       "    </tr>\n",
       "  </thead>\n",
       "  <tbody>\n",
       "    <tr>\n",
       "      <th>1141</th>\n",
       "      <td>NaN</td>\n",
       "      <td>NaN</td>\n",
       "      <td>NaN</td>\n",
       "      <td>NaN</td>\n",
       "      <td>NaN</td>\n",
       "      <td>NaN</td>\n",
       "      <td>93.71</td>\n",
       "      <td>NaN</td>\n",
       "      <td>NaN</td>\n",
       "      <td>NaN</td>\n",
       "      <td>...</td>\n",
       "      <td>NaN</td>\n",
       "      <td>NaN</td>\n",
       "      <td>NaN</td>\n",
       "      <td>NaN</td>\n",
       "      <td>NaN</td>\n",
       "      <td>NaN</td>\n",
       "      <td>NaN</td>\n",
       "      <td>NaN</td>\n",
       "      <td>NaN</td>\n",
       "      <td>NaN</td>\n",
       "    </tr>\n",
       "    <tr>\n",
       "      <th>1142</th>\n",
       "      <td>NaN</td>\n",
       "      <td>NaN</td>\n",
       "      <td>NaN</td>\n",
       "      <td>NaN</td>\n",
       "      <td>93.71</td>\n",
       "      <td>NaN</td>\n",
       "      <td>NaN</td>\n",
       "      <td>NaN</td>\n",
       "      <td>NaN</td>\n",
       "      <td>NaN</td>\n",
       "      <td>...</td>\n",
       "      <td>NaN</td>\n",
       "      <td>NaN</td>\n",
       "      <td>NaN</td>\n",
       "      <td>NaN</td>\n",
       "      <td>NaN</td>\n",
       "      <td>NaN</td>\n",
       "      <td>NaN</td>\n",
       "      <td>NaN</td>\n",
       "      <td>NaN</td>\n",
       "      <td>NaN</td>\n",
       "    </tr>\n",
       "    <tr>\n",
       "      <th>1143</th>\n",
       "      <td>NaN</td>\n",
       "      <td>NaN</td>\n",
       "      <td>NaN</td>\n",
       "      <td>NaN</td>\n",
       "      <td>NaN</td>\n",
       "      <td>NaN</td>\n",
       "      <td>NaN</td>\n",
       "      <td>NaN</td>\n",
       "      <td>NaN</td>\n",
       "      <td>NaN</td>\n",
       "      <td>...</td>\n",
       "      <td>NaN</td>\n",
       "      <td>NaN</td>\n",
       "      <td>NaN</td>\n",
       "      <td>NaN</td>\n",
       "      <td>NaN</td>\n",
       "      <td>NaN</td>\n",
       "      <td>NaN</td>\n",
       "      <td>NaN</td>\n",
       "      <td>NaN</td>\n",
       "      <td>NaN</td>\n",
       "    </tr>\n",
       "    <tr>\n",
       "      <th>1144</th>\n",
       "      <td>NaN</td>\n",
       "      <td>NaN</td>\n",
       "      <td>NaN</td>\n",
       "      <td>NaN</td>\n",
       "      <td>NaN</td>\n",
       "      <td>93.71</td>\n",
       "      <td>NaN</td>\n",
       "      <td>NaN</td>\n",
       "      <td>NaN</td>\n",
       "      <td>NaN</td>\n",
       "      <td>...</td>\n",
       "      <td>NaN</td>\n",
       "      <td>NaN</td>\n",
       "      <td>NaN</td>\n",
       "      <td>NaN</td>\n",
       "      <td>NaN</td>\n",
       "      <td>NaN</td>\n",
       "      <td>NaN</td>\n",
       "      <td>NaN</td>\n",
       "      <td>NaN</td>\n",
       "      <td>NaN</td>\n",
       "    </tr>\n",
       "    <tr>\n",
       "      <th>1145</th>\n",
       "      <td>NaN</td>\n",
       "      <td>NaN</td>\n",
       "      <td>NaN</td>\n",
       "      <td>93.71</td>\n",
       "      <td>NaN</td>\n",
       "      <td>NaN</td>\n",
       "      <td>NaN</td>\n",
       "      <td>NaN</td>\n",
       "      <td>NaN</td>\n",
       "      <td>NaN</td>\n",
       "      <td>...</td>\n",
       "      <td>NaN</td>\n",
       "      <td>NaN</td>\n",
       "      <td>NaN</td>\n",
       "      <td>NaN</td>\n",
       "      <td>NaN</td>\n",
       "      <td>NaN</td>\n",
       "      <td>NaN</td>\n",
       "      <td>NaN</td>\n",
       "      <td>NaN</td>\n",
       "      <td>NaN</td>\n",
       "    </tr>\n",
       "    <tr>\n",
       "      <th>...</th>\n",
       "      <td>...</td>\n",
       "      <td>...</td>\n",
       "      <td>...</td>\n",
       "      <td>...</td>\n",
       "      <td>...</td>\n",
       "      <td>...</td>\n",
       "      <td>...</td>\n",
       "      <td>...</td>\n",
       "      <td>...</td>\n",
       "      <td>...</td>\n",
       "      <td>...</td>\n",
       "      <td>...</td>\n",
       "      <td>...</td>\n",
       "      <td>...</td>\n",
       "      <td>...</td>\n",
       "      <td>...</td>\n",
       "      <td>...</td>\n",
       "      <td>...</td>\n",
       "      <td>...</td>\n",
       "      <td>...</td>\n",
       "      <td>...</td>\n",
       "    </tr>\n",
       "    <tr>\n",
       "      <th>1241</th>\n",
       "      <td>NaN</td>\n",
       "      <td>NaN</td>\n",
       "      <td>NaN</td>\n",
       "      <td>NaN</td>\n",
       "      <td>NaN</td>\n",
       "      <td>NaN</td>\n",
       "      <td>NaN</td>\n",
       "      <td>NaN</td>\n",
       "      <td>NaN</td>\n",
       "      <td>NaN</td>\n",
       "      <td>...</td>\n",
       "      <td>NaN</td>\n",
       "      <td>NaN</td>\n",
       "      <td>NaN</td>\n",
       "      <td>NaN</td>\n",
       "      <td>NaN</td>\n",
       "      <td>NaN</td>\n",
       "      <td>NaN</td>\n",
       "      <td>NaN</td>\n",
       "      <td>NaN</td>\n",
       "      <td>NaN</td>\n",
       "    </tr>\n",
       "    <tr>\n",
       "      <th>1242</th>\n",
       "      <td>NaN</td>\n",
       "      <td>NaN</td>\n",
       "      <td>NaN</td>\n",
       "      <td>NaN</td>\n",
       "      <td>NaN</td>\n",
       "      <td>NaN</td>\n",
       "      <td>NaN</td>\n",
       "      <td>NaN</td>\n",
       "      <td>NaN</td>\n",
       "      <td>NaN</td>\n",
       "      <td>...</td>\n",
       "      <td>NaN</td>\n",
       "      <td>NaN</td>\n",
       "      <td>NaN</td>\n",
       "      <td>NaN</td>\n",
       "      <td>NaN</td>\n",
       "      <td>NaN</td>\n",
       "      <td>NaN</td>\n",
       "      <td>NaN</td>\n",
       "      <td>NaN</td>\n",
       "      <td>NaN</td>\n",
       "    </tr>\n",
       "    <tr>\n",
       "      <th>1243</th>\n",
       "      <td>NaN</td>\n",
       "      <td>NaN</td>\n",
       "      <td>NaN</td>\n",
       "      <td>NaN</td>\n",
       "      <td>NaN</td>\n",
       "      <td>NaN</td>\n",
       "      <td>NaN</td>\n",
       "      <td>NaN</td>\n",
       "      <td>NaN</td>\n",
       "      <td>NaN</td>\n",
       "      <td>...</td>\n",
       "      <td>NaN</td>\n",
       "      <td>NaN</td>\n",
       "      <td>NaN</td>\n",
       "      <td>NaN</td>\n",
       "      <td>NaN</td>\n",
       "      <td>NaN</td>\n",
       "      <td>NaN</td>\n",
       "      <td>NaN</td>\n",
       "      <td>NaN</td>\n",
       "      <td>NaN</td>\n",
       "    </tr>\n",
       "    <tr>\n",
       "      <th>1244</th>\n",
       "      <td>NaN</td>\n",
       "      <td>NaN</td>\n",
       "      <td>NaN</td>\n",
       "      <td>NaN</td>\n",
       "      <td>NaN</td>\n",
       "      <td>NaN</td>\n",
       "      <td>NaN</td>\n",
       "      <td>NaN</td>\n",
       "      <td>NaN</td>\n",
       "      <td>NaN</td>\n",
       "      <td>...</td>\n",
       "      <td>NaN</td>\n",
       "      <td>NaN</td>\n",
       "      <td>NaN</td>\n",
       "      <td>NaN</td>\n",
       "      <td>NaN</td>\n",
       "      <td>NaN</td>\n",
       "      <td>NaN</td>\n",
       "      <td>NaN</td>\n",
       "      <td>NaN</td>\n",
       "      <td>NaN</td>\n",
       "    </tr>\n",
       "    <tr>\n",
       "      <th>1245</th>\n",
       "      <td>NaN</td>\n",
       "      <td>NaN</td>\n",
       "      <td>NaN</td>\n",
       "      <td>NaN</td>\n",
       "      <td>NaN</td>\n",
       "      <td>NaN</td>\n",
       "      <td>NaN</td>\n",
       "      <td>NaN</td>\n",
       "      <td>NaN</td>\n",
       "      <td>NaN</td>\n",
       "      <td>...</td>\n",
       "      <td>NaN</td>\n",
       "      <td>NaN</td>\n",
       "      <td>NaN</td>\n",
       "      <td>NaN</td>\n",
       "      <td>NaN</td>\n",
       "      <td>NaN</td>\n",
       "      <td>NaN</td>\n",
       "      <td>NaN</td>\n",
       "      <td>NaN</td>\n",
       "      <td>93.71</td>\n",
       "    </tr>\n",
       "  </tbody>\n",
       "</table>\n",
       "<p>105 rows × 103 columns</p>\n",
       "</div>"
      ],
      "text/plain": [
       "GPA   63.49  64.75  65.04  70.11  71.22  72.89  73.47  74.11  74.17  74.43  \\\n",
       "ID                                                                           \n",
       "1141    NaN    NaN    NaN    NaN    NaN    NaN  93.71    NaN    NaN    NaN   \n",
       "1142    NaN    NaN    NaN    NaN  93.71    NaN    NaN    NaN    NaN    NaN   \n",
       "1143    NaN    NaN    NaN    NaN    NaN    NaN    NaN    NaN    NaN    NaN   \n",
       "1144    NaN    NaN    NaN    NaN    NaN  93.71    NaN    NaN    NaN    NaN   \n",
       "1145    NaN    NaN    NaN  93.71    NaN    NaN    NaN    NaN    NaN    NaN   \n",
       "...     ...    ...    ...    ...    ...    ...    ...    ...    ...    ...   \n",
       "1241    NaN    NaN    NaN    NaN    NaN    NaN    NaN    NaN    NaN    NaN   \n",
       "1242    NaN    NaN    NaN    NaN    NaN    NaN    NaN    NaN    NaN    NaN   \n",
       "1243    NaN    NaN    NaN    NaN    NaN    NaN    NaN    NaN    NaN    NaN   \n",
       "1244    NaN    NaN    NaN    NaN    NaN    NaN    NaN    NaN    NaN    NaN   \n",
       "1245    NaN    NaN    NaN    NaN    NaN    NaN    NaN    NaN    NaN    NaN   \n",
       "\n",
       "GPA   ...  89.95  90.31  90.62  90.66  91.14  91.61  91.74  91.90  93.06  \\\n",
       "ID    ...                                                                  \n",
       "1141  ...    NaN    NaN    NaN    NaN    NaN    NaN    NaN    NaN    NaN   \n",
       "1142  ...    NaN    NaN    NaN    NaN    NaN    NaN    NaN    NaN    NaN   \n",
       "1143  ...    NaN    NaN    NaN    NaN    NaN    NaN    NaN    NaN    NaN   \n",
       "1144  ...    NaN    NaN    NaN    NaN    NaN    NaN    NaN    NaN    NaN   \n",
       "1145  ...    NaN    NaN    NaN    NaN    NaN    NaN    NaN    NaN    NaN   \n",
       "...   ...    ...    ...    ...    ...    ...    ...    ...    ...    ...   \n",
       "1241  ...    NaN    NaN    NaN    NaN    NaN    NaN    NaN    NaN    NaN   \n",
       "1242  ...    NaN    NaN    NaN    NaN    NaN    NaN    NaN    NaN    NaN   \n",
       "1243  ...    NaN    NaN    NaN    NaN    NaN    NaN    NaN    NaN    NaN   \n",
       "1244  ...    NaN    NaN    NaN    NaN    NaN    NaN    NaN    NaN    NaN   \n",
       "1245  ...    NaN    NaN    NaN    NaN    NaN    NaN    NaN    NaN    NaN   \n",
       "\n",
       "GPA   93.71  \n",
       "ID           \n",
       "1141    NaN  \n",
       "1142    NaN  \n",
       "1143    NaN  \n",
       "1144    NaN  \n",
       "1145    NaN  \n",
       "...     ...  \n",
       "1241    NaN  \n",
       "1242    NaN  \n",
       "1243    NaN  \n",
       "1244    NaN  \n",
       "1245  93.71  \n",
       "\n",
       "[105 rows x 103 columns]"
      ]
     },
     "execution_count": 89,
     "metadata": {},
     "output_type": "execute_result"
    }
   ],
   "source": [
    "pd.crosstab(index = a['ID'], columns = a['GPA'],values = a['GPA'].max(),aggfunc = 'max')    #first method"
   ]
  },
  {
   "cell_type": "code",
   "execution_count": 97,
   "id": "1358262d",
   "metadata": {},
   "outputs": [
    {
     "data": {
      "text/plain": [
       "ID                      1245\n",
       "class                      A\n",
       "gender                  male\n",
       "GPA                    93.71\n",
       "Algebra                   93\n",
       "Calculus1                 97\n",
       "Calculus2                 99\n",
       "Statistics               100\n",
       "Probability               97\n",
       "Measure                   90\n",
       "Functional_analysis       90\n",
       "Name: 104, dtype: object"
      ]
     },
     "execution_count": 97,
     "metadata": {},
     "output_type": "execute_result"
    }
   ],
   "source": [
    "top = a.loc[a['GPA'].argmax()]\n",
    "top #second method"
   ]
  },
  {
   "cell_type": "code",
   "execution_count": 98,
   "id": "a0287829",
   "metadata": {},
   "outputs": [
    {
     "data": {
      "text/plain": [
       "1245"
      ]
     },
     "execution_count": 98,
     "metadata": {},
     "output_type": "execute_result"
    }
   ],
   "source": [
    "top['ID']"
   ]
  },
  {
   "cell_type": "code",
   "execution_count": 111,
   "id": "82143309",
   "metadata": {},
   "outputs": [
    {
     "data": {
      "text/plain": [
       "93.71"
      ]
     },
     "execution_count": 111,
     "metadata": {},
     "output_type": "execute_result"
    }
   ],
   "source": [
    " a['GPA'].max() "
   ]
  },
  {
   "cell_type": "code",
   "execution_count": 112,
   "id": "807f1d1a",
   "metadata": {},
   "outputs": [
    {
     "data": {
      "text/plain": [
       "(0      False\n",
       " 1      False\n",
       " 2      False\n",
       " 3      False\n",
       " 4      False\n",
       "        ...  \n",
       " 100    False\n",
       " 101    False\n",
       " 102    False\n",
       " 103    False\n",
       " 104     True\n",
       " Name: GPA, Length: 105, dtype: bool,\n",
       " 0      1141\n",
       " 1      1142\n",
       " 2      1143\n",
       " 3      1144\n",
       " 4      1145\n",
       "        ... \n",
       " 100    1241\n",
       " 101    1242\n",
       " 102    1243\n",
       " 103    1244\n",
       " 104    1245\n",
       " Name: ID, Length: 105, dtype: int64)"
      ]
     },
     "execution_count": 112,
     "metadata": {},
     "output_type": "execute_result"
    }
   ],
   "source": [
    "a['GPA']== 93.71, a['ID']  #third method"
   ]
  },
  {
   "cell_type": "code",
   "execution_count": 117,
   "id": "ae821ce4",
   "metadata": {},
   "outputs": [
    {
     "data": {
      "text/plain": [
       "104    1245\n",
       "Name: ID, dtype: int64"
      ]
     },
     "execution_count": 117,
     "metadata": {},
     "output_type": "execute_result"
    }
   ],
   "source": [
    "a[a['GPA'] == 93.71]['ID']   #fourth method\n"
   ]
  },
  {
   "cell_type": "code",
   "execution_count": 151,
   "id": "675701f2",
   "metadata": {},
   "outputs": [
    {
     "data": {
      "text/plain": [
       "1245"
      ]
     },
     "execution_count": 151,
     "metadata": {},
     "output_type": "execute_result"
    }
   ],
   "source": [
    "q = a['GPA'].idxmax()  \n",
    "id_max_gpa = a.loc[q, 'ID']    #Fifth method\n",
    "id_max_gpa\n"
   ]
  },
  {
   "cell_type": "code",
   "execution_count": 152,
   "id": "d914d207",
   "metadata": {},
   "outputs": [
    {
     "data": {
      "text/plain": [
       "1245"
      ]
     },
     "execution_count": 152,
     "metadata": {},
     "output_type": "execute_result"
    }
   ],
   "source": [
    "s = a['GPA'].argmax()    #sixth method\n",
    "s1 = a.loc[s,'ID']\n",
    "s1"
   ]
  },
  {
   "cell_type": "markdown",
   "id": "8a4e7d09",
   "metadata": {},
   "source": [
    "8.What is the gender of probabilty topper?"
   ]
  },
  {
   "cell_type": "code",
   "execution_count": 133,
   "id": "48456980",
   "metadata": {},
   "outputs": [
    {
     "data": {
      "text/plain": [
       "97"
      ]
     },
     "execution_count": 133,
     "metadata": {},
     "output_type": "execute_result"
    }
   ],
   "source": [
    "gp = a['Probability'].max()\n",
    "gp"
   ]
  },
  {
   "cell_type": "code",
   "execution_count": 136,
   "id": "81dacbe8",
   "metadata": {},
   "outputs": [
    {
     "data": {
      "text/plain": [
       "'male'"
      ]
     },
     "execution_count": 136,
     "metadata": {},
     "output_type": "execute_result"
    }
   ],
   "source": [
    " a.loc[gp,'gender']"
   ]
  },
  {
   "cell_type": "markdown",
   "id": "74d2d1a6",
   "metadata": {},
   "source": [
    "9. Create Pivot Table for gender and class?"
   ]
  },
  {
   "cell_type": "code",
   "execution_count": 167,
   "id": "51897adc",
   "metadata": {},
   "outputs": [
    {
     "data": {
      "text/html": [
       "<div>\n",
       "<style scoped>\n",
       "    .dataframe tbody tr th:only-of-type {\n",
       "        vertical-align: middle;\n",
       "    }\n",
       "\n",
       "    .dataframe tbody tr th {\n",
       "        vertical-align: top;\n",
       "    }\n",
       "\n",
       "    .dataframe thead th {\n",
       "        text-align: right;\n",
       "    }\n",
       "</style>\n",
       "<table border=\"1\" class=\"dataframe\">\n",
       "  <thead>\n",
       "    <tr style=\"text-align: right;\">\n",
       "      <th>class</th>\n",
       "      <th>A</th>\n",
       "      <th>B</th>\n",
       "    </tr>\n",
       "    <tr>\n",
       "      <th>gender</th>\n",
       "      <th></th>\n",
       "      <th></th>\n",
       "    </tr>\n",
       "  </thead>\n",
       "  <tbody>\n",
       "    <tr>\n",
       "      <th>female</th>\n",
       "      <td>48</td>\n",
       "      <td>20</td>\n",
       "    </tr>\n",
       "    <tr>\n",
       "      <th>male</th>\n",
       "      <td>28</td>\n",
       "      <td>9</td>\n",
       "    </tr>\n",
       "  </tbody>\n",
       "</table>\n",
       "</div>"
      ],
      "text/plain": [
       "class    A   B\n",
       "gender        \n",
       "female  48  20\n",
       "male    28   9"
      ]
     },
     "execution_count": 167,
     "metadata": {},
     "output_type": "execute_result"
    }
   ],
   "source": [
    "pd.crosstab(a['gender'],a['class'])"
   ]
  },
  {
   "cell_type": "markdown",
   "id": "ecc121ed",
   "metadata": {},
   "source": [
    "10. Which subject got least average marks.?"
   ]
  },
  {
   "cell_type": "code",
   "execution_count": 180,
   "id": "3a1bf076",
   "metadata": {},
   "outputs": [
    {
     "data": {
      "text/plain": [
       "76.05714285714286"
      ]
     },
     "execution_count": 180,
     "metadata": {},
     "output_type": "execute_result"
    }
   ],
   "source": [
    "a['Algebra'].mean() \n"
   ]
  },
  {
   "cell_type": "code",
   "execution_count": 181,
   "id": "69aefb81",
   "metadata": {},
   "outputs": [
    {
     "data": {
      "text/plain": [
       "71.96190476190476"
      ]
     },
     "execution_count": 181,
     "metadata": {},
     "output_type": "execute_result"
    }
   ],
   "source": [
    "a['Calculus1'].mean()\n"
   ]
  },
  {
   "cell_type": "code",
   "execution_count": 183,
   "id": "6fd7b674",
   "metadata": {},
   "outputs": [
    {
     "data": {
      "text/plain": [
       "78.94285714285714"
      ]
     },
     "execution_count": 183,
     "metadata": {},
     "output_type": "execute_result"
    }
   ],
   "source": [
    "a['Calculus2'].mean()\n"
   ]
  },
  {
   "cell_type": "code",
   "execution_count": 184,
   "id": "757179c2",
   "metadata": {},
   "outputs": [
    {
     "data": {
      "text/plain": [
       "85.13333333333334"
      ]
     },
     "execution_count": 184,
     "metadata": {},
     "output_type": "execute_result"
    }
   ],
   "source": [
    "a['Statistics'].mean()\n"
   ]
  },
  {
   "cell_type": "code",
   "execution_count": 185,
   "id": "11339cb6",
   "metadata": {},
   "outputs": [
    {
     "data": {
      "text/plain": [
       "83.87619047619047"
      ]
     },
     "execution_count": 185,
     "metadata": {},
     "output_type": "execute_result"
    }
   ],
   "source": [
    "a['Probability'].mean()\n"
   ]
  },
  {
   "cell_type": "code",
   "execution_count": 186,
   "id": "cdc474f7",
   "metadata": {},
   "outputs": [
    {
     "data": {
      "text/plain": [
       "80.76190476190476"
      ]
     },
     "execution_count": 186,
     "metadata": {},
     "output_type": "execute_result"
    }
   ],
   "source": [
    "a['Measure'].mean()\n"
   ]
  },
  {
   "cell_type": "code",
   "execution_count": 187,
   "id": "0e4a45ab",
   "metadata": {},
   "outputs": [
    {
     "data": {
      "text/plain": [
       "75.32380952380953"
      ]
     },
     "execution_count": 187,
     "metadata": {},
     "output_type": "execute_result"
    }
   ],
   "source": [
    "a['Functional_analysis'].mean()"
   ]
  },
  {
   "cell_type": "code",
   "execution_count": 197,
   "id": "0d4ce7b7",
   "metadata": {},
   "outputs": [
    {
     "data": {
      "text/plain": [
       "Algebra        76.057143\n",
       "Calculus1      71.961905\n",
       "Calculus2      78.942857\n",
       "Statistics     85.133333\n",
       "Probability    83.876190\n",
       "Measure        80.761905\n",
       "dtype: float64"
      ]
     },
     "execution_count": 197,
     "metadata": {},
     "output_type": "execute_result"
    }
   ],
   "source": [
    "sm = (a.loc[:,['Algebra','Calculus1','Calculus2','Statistics','Probability','Measure']].mean())  #second method\n",
    "sm"
   ]
  },
  {
   "cell_type": "code",
   "execution_count": 199,
   "id": "c378bcb7",
   "metadata": {},
   "outputs": [
    {
     "data": {
      "text/plain": [
       "71.96190476190476"
      ]
     },
     "execution_count": 199,
     "metadata": {},
     "output_type": "execute_result"
    }
   ],
   "source": [
    "sm.min()"
   ]
  },
  {
   "cell_type": "code",
   "execution_count": 224,
   "id": "3d9d8b78",
   "metadata": {},
   "outputs": [
    {
     "name": "stderr",
     "output_type": "stream",
     "text": [
      "C:\\Users\\anaji\\AppData\\Local\\Temp\\ipykernel_12032\\2255029274.py:1: FutureWarning: The default value of numeric_only in DataFrame.mean is deprecated. In a future version, it will default to False. In addition, specifying 'numeric_only=None' is deprecated. Select only valid columns or specify the value of numeric_only to silence this warning.\n",
      "  z = a.mean()\n"
     ]
    },
    {
     "data": {
      "text/plain": [
       "71.96190476190476"
      ]
     },
     "execution_count": 224,
     "metadata": {},
     "output_type": "execute_result"
    }
   ],
   "source": [
    "z = a.mean()\n",
    "z.min()    #third method"
   ]
  },
  {
   "cell_type": "markdown",
   "id": "41ac6eab",
   "metadata": {},
   "source": [
    "11. How many male and female students are there ?"
   ]
  },
  {
   "cell_type": "code",
   "execution_count": 227,
   "id": "93b2d26c",
   "metadata": {},
   "outputs": [
    {
     "data": {
      "text/plain": [
       "37"
      ]
     },
     "execution_count": 227,
     "metadata": {},
     "output_type": "execute_result"
    }
   ],
   "source": [
    "len(a[a['gender']=='male'])"
   ]
  },
  {
   "cell_type": "code",
   "execution_count": 228,
   "id": "aea7b8a7",
   "metadata": {},
   "outputs": [
    {
     "data": {
      "text/plain": [
       "68"
      ]
     },
     "execution_count": 228,
     "metadata": {},
     "output_type": "execute_result"
    }
   ],
   "source": [
    "len(a[a['gender']=='female'])"
   ]
  },
  {
   "cell_type": "code",
   "execution_count": 231,
   "id": "f78843d2",
   "metadata": {},
   "outputs": [
    {
     "data": {
      "text/plain": [
       "37"
      ]
     },
     "execution_count": 231,
     "metadata": {},
     "output_type": "execute_result"
    }
   ],
   "source": [
    "sum(a['gender']=='male')"
   ]
  },
  {
   "cell_type": "code",
   "execution_count": 232,
   "id": "3fac0089",
   "metadata": {},
   "outputs": [
    {
     "data": {
      "text/plain": [
       "68"
      ]
     },
     "execution_count": 232,
     "metadata": {},
     "output_type": "execute_result"
    }
   ],
   "source": [
    "sum(a['gender']=='female')"
   ]
  },
  {
   "cell_type": "code",
   "execution_count": 237,
   "id": "3a569a8c",
   "metadata": {},
   "outputs": [
    {
     "data": {
      "text/plain": [
       "(37, 68)"
      ]
     },
     "execution_count": 237,
     "metadata": {},
     "output_type": "execute_result"
    }
   ],
   "source": [
    "sum(a['gender']=='male'), sum(a['gender']=='female')"
   ]
  },
  {
   "cell_type": "code",
   "execution_count": 238,
   "id": "b69d4813",
   "metadata": {},
   "outputs": [
    {
     "data": {
      "text/plain": [
       "(37, 68)"
      ]
     },
     "execution_count": 238,
     "metadata": {},
     "output_type": "execute_result"
    }
   ],
   "source": [
    "len(a[a['gender']=='male']),len(a[a['gender']=='female'])"
   ]
  },
  {
   "cell_type": "markdown",
   "id": "7485f1ca",
   "metadata": {},
   "source": [
    "12. How many female student are there from class A?"
   ]
  },
  {
   "cell_type": "code",
   "execution_count": 249,
   "id": "96592173",
   "metadata": {},
   "outputs": [
    {
     "data": {
      "text/plain": [
       "48"
      ]
     },
     "execution_count": 249,
     "metadata": {},
     "output_type": "execute_result"
    }
   ],
   "source": [
    "sum((a['gender']=='female') & (a['class']== 'A'))"
   ]
  },
  {
   "cell_type": "code",
   "execution_count": 252,
   "id": "2b64db7e",
   "metadata": {},
   "outputs": [
    {
     "data": {
      "text/plain": [
       "48"
      ]
     },
     "execution_count": 252,
     "metadata": {},
     "output_type": "execute_result"
    }
   ],
   "source": [
    "len(a[(a['gender'] == 'female') & (a['class'] == 'A')])\n"
   ]
  },
  {
   "cell_type": "code",
   "execution_count": 278,
   "id": "8147a7a7",
   "metadata": {},
   "outputs": [
    {
     "data": {
      "text/plain": [
       "48"
      ]
     },
     "execution_count": 278,
     "metadata": {},
     "output_type": "execute_result"
    }
   ],
   "source": [
    "b = a[(a['gender']=='female') & (a['class']=='A')]['gender']\n",
    "b.count()"
   ]
  },
  {
   "cell_type": "markdown",
   "id": "188b2344",
   "metadata": {},
   "source": [
    "13. Which class has more strength ? "
   ]
  },
  {
   "cell_type": "code",
   "execution_count": 256,
   "id": "8cde144a",
   "metadata": {},
   "outputs": [
    {
     "data": {
      "text/plain": [
       "(76, 29)"
      ]
     },
     "execution_count": 256,
     "metadata": {},
     "output_type": "execute_result"
    }
   ],
   "source": [
    "len(a[a['class']=='A']) , len(a[a['class'] == 'B'])  #first method"
   ]
  },
  {
   "cell_type": "code",
   "execution_count": 257,
   "id": "0691240a",
   "metadata": {},
   "outputs": [
    {
     "data": {
      "text/plain": [
       "A    76\n",
       "B    29\n",
       "Name: class, dtype: int64"
      ]
     },
     "execution_count": 257,
     "metadata": {},
     "output_type": "execute_result"
    }
   ],
   "source": [
    "a[\"class\"].value_counts()   #second method"
   ]
  },
  {
   "cell_type": "code",
   "execution_count": 259,
   "id": "c3f2e6b9",
   "metadata": {},
   "outputs": [
    {
     "data": {
      "text/plain": [
       "(76, 29)"
      ]
     },
     "execution_count": 259,
     "metadata": {},
     "output_type": "execute_result"
    }
   ],
   "source": [
    "sum(a['class']=='A'), sum(a['class']=='B')  #third method"
   ]
  },
  {
   "cell_type": "code",
   "execution_count": 263,
   "id": "0dfa5502",
   "metadata": {},
   "outputs": [
    {
     "data": {
      "text/plain": [
       "0    A\n",
       "Name: class, dtype: object"
      ]
     },
     "execution_count": 263,
     "metadata": {},
     "output_type": "execute_result"
    }
   ],
   "source": [
    "a['class'].mode()   #fourth method"
   ]
  },
  {
   "cell_type": "markdown",
   "id": "aee45ed3",
   "metadata": {},
   "source": [
    "14.Sort the data as per algebra ?"
   ]
  },
  {
   "cell_type": "code",
   "execution_count": 280,
   "id": "d135e345",
   "metadata": {},
   "outputs": [
    {
     "data": {
      "text/html": [
       "<div>\n",
       "<style scoped>\n",
       "    .dataframe tbody tr th:only-of-type {\n",
       "        vertical-align: middle;\n",
       "    }\n",
       "\n",
       "    .dataframe tbody tr th {\n",
       "        vertical-align: top;\n",
       "    }\n",
       "\n",
       "    .dataframe thead th {\n",
       "        text-align: right;\n",
       "    }\n",
       "</style>\n",
       "<table border=\"1\" class=\"dataframe\">\n",
       "  <thead>\n",
       "    <tr style=\"text-align: right;\">\n",
       "      <th></th>\n",
       "      <th>ID</th>\n",
       "      <th>class</th>\n",
       "      <th>gender</th>\n",
       "      <th>GPA</th>\n",
       "      <th>Algebra</th>\n",
       "      <th>Calculus1</th>\n",
       "      <th>Calculus2</th>\n",
       "      <th>Statistics</th>\n",
       "      <th>Probability</th>\n",
       "      <th>Measure</th>\n",
       "      <th>Functional_analysis</th>\n",
       "    </tr>\n",
       "  </thead>\n",
       "  <tbody>\n",
       "    <tr>\n",
       "      <th>0</th>\n",
       "      <td>1141</td>\n",
       "      <td>A</td>\n",
       "      <td>male</td>\n",
       "      <td>73.47</td>\n",
       "      <td>64</td>\n",
       "      <td>81</td>\n",
       "      <td>87</td>\n",
       "      <td>60</td>\n",
       "      <td>74</td>\n",
       "      <td>71</td>\n",
       "      <td>60</td>\n",
       "    </tr>\n",
       "    <tr>\n",
       "      <th>1</th>\n",
       "      <td>1142</td>\n",
       "      <td>A</td>\n",
       "      <td>female</td>\n",
       "      <td>71.22</td>\n",
       "      <td>57</td>\n",
       "      <td>50</td>\n",
       "      <td>51</td>\n",
       "      <td>51</td>\n",
       "      <td>55</td>\n",
       "      <td>62</td>\n",
       "      <td>61</td>\n",
       "    </tr>\n",
       "    <tr>\n",
       "      <th>2</th>\n",
       "      <td>1143</td>\n",
       "      <td>A</td>\n",
       "      <td>female</td>\n",
       "      <td>74.56</td>\n",
       "      <td>47</td>\n",
       "      <td>48</td>\n",
       "      <td>71</td>\n",
       "      <td>60</td>\n",
       "      <td>61</td>\n",
       "      <td>68</td>\n",
       "      <td>64</td>\n",
       "    </tr>\n",
       "    <tr>\n",
       "      <th>3</th>\n",
       "      <td>1144</td>\n",
       "      <td>A</td>\n",
       "      <td>female</td>\n",
       "      <td>72.89</td>\n",
       "      <td>46</td>\n",
       "      <td>72</td>\n",
       "      <td>38</td>\n",
       "      <td>60</td>\n",
       "      <td>29</td>\n",
       "      <td>54</td>\n",
       "      <td>51</td>\n",
       "    </tr>\n",
       "    <tr>\n",
       "      <th>4</th>\n",
       "      <td>1145</td>\n",
       "      <td>A</td>\n",
       "      <td>female</td>\n",
       "      <td>70.11</td>\n",
       "      <td>49</td>\n",
       "      <td>45</td>\n",
       "      <td>63</td>\n",
       "      <td>60</td>\n",
       "      <td>66</td>\n",
       "      <td>66</td>\n",
       "      <td>61</td>\n",
       "    </tr>\n",
       "    <tr>\n",
       "      <th>...</th>\n",
       "      <td>...</td>\n",
       "      <td>...</td>\n",
       "      <td>...</td>\n",
       "      <td>...</td>\n",
       "      <td>...</td>\n",
       "      <td>...</td>\n",
       "      <td>...</td>\n",
       "      <td>...</td>\n",
       "      <td>...</td>\n",
       "      <td>...</td>\n",
       "      <td>...</td>\n",
       "    </tr>\n",
       "    <tr>\n",
       "      <th>100</th>\n",
       "      <td>1241</td>\n",
       "      <td>A</td>\n",
       "      <td>female</td>\n",
       "      <td>88.34</td>\n",
       "      <td>87</td>\n",
       "      <td>83</td>\n",
       "      <td>92</td>\n",
       "      <td>98</td>\n",
       "      <td>93</td>\n",
       "      <td>86</td>\n",
       "      <td>90</td>\n",
       "    </tr>\n",
       "    <tr>\n",
       "      <th>101</th>\n",
       "      <td>1242</td>\n",
       "      <td>B</td>\n",
       "      <td>male</td>\n",
       "      <td>89.84</td>\n",
       "      <td>98</td>\n",
       "      <td>77</td>\n",
       "      <td>95</td>\n",
       "      <td>98</td>\n",
       "      <td>96</td>\n",
       "      <td>88</td>\n",
       "      <td>100</td>\n",
       "    </tr>\n",
       "    <tr>\n",
       "      <th>102</th>\n",
       "      <td>1243</td>\n",
       "      <td>B</td>\n",
       "      <td>male</td>\n",
       "      <td>88.82</td>\n",
       "      <td>83</td>\n",
       "      <td>80</td>\n",
       "      <td>91</td>\n",
       "      <td>98</td>\n",
       "      <td>93</td>\n",
       "      <td>95</td>\n",
       "      <td>71</td>\n",
       "    </tr>\n",
       "    <tr>\n",
       "      <th>103</th>\n",
       "      <td>1244</td>\n",
       "      <td>A</td>\n",
       "      <td>male</td>\n",
       "      <td>86.60</td>\n",
       "      <td>92</td>\n",
       "      <td>82</td>\n",
       "      <td>91</td>\n",
       "      <td>99</td>\n",
       "      <td>94</td>\n",
       "      <td>82</td>\n",
       "      <td>78</td>\n",
       "    </tr>\n",
       "    <tr>\n",
       "      <th>104</th>\n",
       "      <td>1245</td>\n",
       "      <td>A</td>\n",
       "      <td>male</td>\n",
       "      <td>93.71</td>\n",
       "      <td>93</td>\n",
       "      <td>97</td>\n",
       "      <td>99</td>\n",
       "      <td>100</td>\n",
       "      <td>97</td>\n",
       "      <td>90</td>\n",
       "      <td>90</td>\n",
       "    </tr>\n",
       "  </tbody>\n",
       "</table>\n",
       "<p>105 rows × 11 columns</p>\n",
       "</div>"
      ],
      "text/plain": [
       "       ID class  gender    GPA  Algebra  Calculus1  Calculus2  Statistics  \\\n",
       "0    1141     A    male  73.47       64         81         87          60   \n",
       "1    1142     A  female  71.22       57         50         51          51   \n",
       "2    1143     A  female  74.56       47         48         71          60   \n",
       "3    1144     A  female  72.89       46         72         38          60   \n",
       "4    1145     A  female  70.11       49         45         63          60   \n",
       "..    ...   ...     ...    ...      ...        ...        ...         ...   \n",
       "100  1241     A  female  88.34       87         83         92          98   \n",
       "101  1242     B    male  89.84       98         77         95          98   \n",
       "102  1243     B    male  88.82       83         80         91          98   \n",
       "103  1244     A    male  86.60       92         82         91          99   \n",
       "104  1245     A    male  93.71       93         97         99         100   \n",
       "\n",
       "     Probability  Measure  Functional_analysis  \n",
       "0             74       71                   60  \n",
       "1             55       62                   61  \n",
       "2             61       68                   64  \n",
       "3             29       54                   51  \n",
       "4             66       66                   61  \n",
       "..           ...      ...                  ...  \n",
       "100           93       86                   90  \n",
       "101           96       88                  100  \n",
       "102           93       95                   71  \n",
       "103           94       82                   78  \n",
       "104           97       90                   90  \n",
       "\n",
       "[105 rows x 11 columns]"
      ]
     },
     "execution_count": 280,
     "metadata": {},
     "output_type": "execute_result"
    }
   ],
   "source": [
    "a"
   ]
  },
  {
   "cell_type": "code",
   "execution_count": 281,
   "id": "ea94e78b",
   "metadata": {},
   "outputs": [
    {
     "data": {
      "text/html": [
       "<div>\n",
       "<style scoped>\n",
       "    .dataframe tbody tr th:only-of-type {\n",
       "        vertical-align: middle;\n",
       "    }\n",
       "\n",
       "    .dataframe tbody tr th {\n",
       "        vertical-align: top;\n",
       "    }\n",
       "\n",
       "    .dataframe thead th {\n",
       "        text-align: right;\n",
       "    }\n",
       "</style>\n",
       "<table border=\"1\" class=\"dataframe\">\n",
       "  <thead>\n",
       "    <tr style=\"text-align: right;\">\n",
       "      <th></th>\n",
       "      <th>ID</th>\n",
       "      <th>class</th>\n",
       "      <th>gender</th>\n",
       "      <th>GPA</th>\n",
       "      <th>Algebra</th>\n",
       "      <th>Calculus1</th>\n",
       "      <th>Calculus2</th>\n",
       "      <th>Statistics</th>\n",
       "      <th>Probability</th>\n",
       "      <th>Measure</th>\n",
       "      <th>Functional_analysis</th>\n",
       "    </tr>\n",
       "  </thead>\n",
       "  <tbody>\n",
       "    <tr>\n",
       "      <th>3</th>\n",
       "      <td>1144</td>\n",
       "      <td>A</td>\n",
       "      <td>female</td>\n",
       "      <td>72.89</td>\n",
       "      <td>46</td>\n",
       "      <td>72</td>\n",
       "      <td>38</td>\n",
       "      <td>60</td>\n",
       "      <td>29</td>\n",
       "      <td>54</td>\n",
       "      <td>51</td>\n",
       "    </tr>\n",
       "    <tr>\n",
       "      <th>2</th>\n",
       "      <td>1143</td>\n",
       "      <td>A</td>\n",
       "      <td>female</td>\n",
       "      <td>74.56</td>\n",
       "      <td>47</td>\n",
       "      <td>48</td>\n",
       "      <td>71</td>\n",
       "      <td>60</td>\n",
       "      <td>61</td>\n",
       "      <td>68</td>\n",
       "      <td>64</td>\n",
       "    </tr>\n",
       "    <tr>\n",
       "      <th>4</th>\n",
       "      <td>1145</td>\n",
       "      <td>A</td>\n",
       "      <td>female</td>\n",
       "      <td>70.11</td>\n",
       "      <td>49</td>\n",
       "      <td>45</td>\n",
       "      <td>63</td>\n",
       "      <td>60</td>\n",
       "      <td>66</td>\n",
       "      <td>66</td>\n",
       "      <td>61</td>\n",
       "    </tr>\n",
       "    <tr>\n",
       "      <th>1</th>\n",
       "      <td>1142</td>\n",
       "      <td>A</td>\n",
       "      <td>female</td>\n",
       "      <td>71.22</td>\n",
       "      <td>57</td>\n",
       "      <td>50</td>\n",
       "      <td>51</td>\n",
       "      <td>51</td>\n",
       "      <td>55</td>\n",
       "      <td>62</td>\n",
       "      <td>61</td>\n",
       "    </tr>\n",
       "    <tr>\n",
       "      <th>9</th>\n",
       "      <td>1150</td>\n",
       "      <td>A</td>\n",
       "      <td>female</td>\n",
       "      <td>76.50</td>\n",
       "      <td>60</td>\n",
       "      <td>61</td>\n",
       "      <td>60</td>\n",
       "      <td>69</td>\n",
       "      <td>73</td>\n",
       "      <td>60</td>\n",
       "      <td>62</td>\n",
       "    </tr>\n",
       "    <tr>\n",
       "      <th>...</th>\n",
       "      <td>...</td>\n",
       "      <td>...</td>\n",
       "      <td>...</td>\n",
       "      <td>...</td>\n",
       "      <td>...</td>\n",
       "      <td>...</td>\n",
       "      <td>...</td>\n",
       "      <td>...</td>\n",
       "      <td>...</td>\n",
       "      <td>...</td>\n",
       "      <td>...</td>\n",
       "    </tr>\n",
       "    <tr>\n",
       "      <th>65</th>\n",
       "      <td>1206</td>\n",
       "      <td>A</td>\n",
       "      <td>male</td>\n",
       "      <td>86.37</td>\n",
       "      <td>95</td>\n",
       "      <td>76</td>\n",
       "      <td>87</td>\n",
       "      <td>90</td>\n",
       "      <td>86</td>\n",
       "      <td>94</td>\n",
       "      <td>84</td>\n",
       "    </tr>\n",
       "    <tr>\n",
       "      <th>75</th>\n",
       "      <td>1216</td>\n",
       "      <td>A</td>\n",
       "      <td>female</td>\n",
       "      <td>91.90</td>\n",
       "      <td>95</td>\n",
       "      <td>86</td>\n",
       "      <td>96</td>\n",
       "      <td>92</td>\n",
       "      <td>95</td>\n",
       "      <td>90</td>\n",
       "      <td>95</td>\n",
       "    </tr>\n",
       "    <tr>\n",
       "      <th>87</th>\n",
       "      <td>1228</td>\n",
       "      <td>A</td>\n",
       "      <td>female</td>\n",
       "      <td>88.62</td>\n",
       "      <td>95</td>\n",
       "      <td>65</td>\n",
       "      <td>97</td>\n",
       "      <td>94</td>\n",
       "      <td>97</td>\n",
       "      <td>85</td>\n",
       "      <td>85</td>\n",
       "    </tr>\n",
       "    <tr>\n",
       "      <th>97</th>\n",
       "      <td>1238</td>\n",
       "      <td>A</td>\n",
       "      <td>male</td>\n",
       "      <td>91.14</td>\n",
       "      <td>98</td>\n",
       "      <td>90</td>\n",
       "      <td>98</td>\n",
       "      <td>97</td>\n",
       "      <td>83</td>\n",
       "      <td>93</td>\n",
       "      <td>89</td>\n",
       "    </tr>\n",
       "    <tr>\n",
       "      <th>101</th>\n",
       "      <td>1242</td>\n",
       "      <td>B</td>\n",
       "      <td>male</td>\n",
       "      <td>89.84</td>\n",
       "      <td>98</td>\n",
       "      <td>77</td>\n",
       "      <td>95</td>\n",
       "      <td>98</td>\n",
       "      <td>96</td>\n",
       "      <td>88</td>\n",
       "      <td>100</td>\n",
       "    </tr>\n",
       "  </tbody>\n",
       "</table>\n",
       "<p>105 rows × 11 columns</p>\n",
       "</div>"
      ],
      "text/plain": [
       "       ID class  gender    GPA  Algebra  Calculus1  Calculus2  Statistics  \\\n",
       "3    1144     A  female  72.89       46         72         38          60   \n",
       "2    1143     A  female  74.56       47         48         71          60   \n",
       "4    1145     A  female  70.11       49         45         63          60   \n",
       "1    1142     A  female  71.22       57         50         51          51   \n",
       "9    1150     A  female  76.50       60         61         60          69   \n",
       "..    ...   ...     ...    ...      ...        ...        ...         ...   \n",
       "65   1206     A    male  86.37       95         76         87          90   \n",
       "75   1216     A  female  91.90       95         86         96          92   \n",
       "87   1228     A  female  88.62       95         65         97          94   \n",
       "97   1238     A    male  91.14       98         90         98          97   \n",
       "101  1242     B    male  89.84       98         77         95          98   \n",
       "\n",
       "     Probability  Measure  Functional_analysis  \n",
       "3             29       54                   51  \n",
       "2             61       68                   64  \n",
       "4             66       66                   61  \n",
       "1             55       62                   61  \n",
       "9             73       60                   62  \n",
       "..           ...      ...                  ...  \n",
       "65            86       94                   84  \n",
       "75            95       90                   95  \n",
       "87            97       85                   85  \n",
       "97            83       93                   89  \n",
       "101           96       88                  100  \n",
       "\n",
       "[105 rows x 11 columns]"
      ]
     },
     "execution_count": 281,
     "metadata": {},
     "output_type": "execute_result"
    }
   ],
   "source": [
    "a.sort_values('Algebra')"
   ]
  },
  {
   "cell_type": "code",
   "execution_count": 283,
   "id": "7c491d51",
   "metadata": {},
   "outputs": [
    {
     "data": {
      "text/html": [
       "<div>\n",
       "<style scoped>\n",
       "    .dataframe tbody tr th:only-of-type {\n",
       "        vertical-align: middle;\n",
       "    }\n",
       "\n",
       "    .dataframe tbody tr th {\n",
       "        vertical-align: top;\n",
       "    }\n",
       "\n",
       "    .dataframe thead th {\n",
       "        text-align: right;\n",
       "    }\n",
       "</style>\n",
       "<table border=\"1\" class=\"dataframe\">\n",
       "  <thead>\n",
       "    <tr style=\"text-align: right;\">\n",
       "      <th></th>\n",
       "      <th>ID</th>\n",
       "      <th>class</th>\n",
       "      <th>gender</th>\n",
       "      <th>GPA</th>\n",
       "      <th>Algebra</th>\n",
       "      <th>Calculus1</th>\n",
       "      <th>Calculus2</th>\n",
       "      <th>Statistics</th>\n",
       "      <th>Probability</th>\n",
       "      <th>Measure</th>\n",
       "      <th>Functional_analysis</th>\n",
       "    </tr>\n",
       "  </thead>\n",
       "  <tbody>\n",
       "    <tr>\n",
       "      <th>3</th>\n",
       "      <td>1144</td>\n",
       "      <td>A</td>\n",
       "      <td>female</td>\n",
       "      <td>72.89</td>\n",
       "      <td>46</td>\n",
       "      <td>72</td>\n",
       "      <td>38</td>\n",
       "      <td>60</td>\n",
       "      <td>29</td>\n",
       "      <td>54</td>\n",
       "      <td>51</td>\n",
       "    </tr>\n",
       "    <tr>\n",
       "      <th>2</th>\n",
       "      <td>1143</td>\n",
       "      <td>A</td>\n",
       "      <td>female</td>\n",
       "      <td>74.56</td>\n",
       "      <td>47</td>\n",
       "      <td>48</td>\n",
       "      <td>71</td>\n",
       "      <td>60</td>\n",
       "      <td>61</td>\n",
       "      <td>68</td>\n",
       "      <td>64</td>\n",
       "    </tr>\n",
       "    <tr>\n",
       "      <th>4</th>\n",
       "      <td>1145</td>\n",
       "      <td>A</td>\n",
       "      <td>female</td>\n",
       "      <td>70.11</td>\n",
       "      <td>49</td>\n",
       "      <td>45</td>\n",
       "      <td>63</td>\n",
       "      <td>60</td>\n",
       "      <td>66</td>\n",
       "      <td>66</td>\n",
       "      <td>61</td>\n",
       "    </tr>\n",
       "    <tr>\n",
       "      <th>1</th>\n",
       "      <td>1142</td>\n",
       "      <td>A</td>\n",
       "      <td>female</td>\n",
       "      <td>71.22</td>\n",
       "      <td>57</td>\n",
       "      <td>50</td>\n",
       "      <td>51</td>\n",
       "      <td>51</td>\n",
       "      <td>55</td>\n",
       "      <td>62</td>\n",
       "      <td>61</td>\n",
       "    </tr>\n",
       "    <tr>\n",
       "      <th>9</th>\n",
       "      <td>1150</td>\n",
       "      <td>A</td>\n",
       "      <td>female</td>\n",
       "      <td>76.50</td>\n",
       "      <td>60</td>\n",
       "      <td>61</td>\n",
       "      <td>60</td>\n",
       "      <td>69</td>\n",
       "      <td>73</td>\n",
       "      <td>60</td>\n",
       "      <td>62</td>\n",
       "    </tr>\n",
       "    <tr>\n",
       "      <th>...</th>\n",
       "      <td>...</td>\n",
       "      <td>...</td>\n",
       "      <td>...</td>\n",
       "      <td>...</td>\n",
       "      <td>...</td>\n",
       "      <td>...</td>\n",
       "      <td>...</td>\n",
       "      <td>...</td>\n",
       "      <td>...</td>\n",
       "      <td>...</td>\n",
       "      <td>...</td>\n",
       "    </tr>\n",
       "    <tr>\n",
       "      <th>65</th>\n",
       "      <td>1206</td>\n",
       "      <td>A</td>\n",
       "      <td>male</td>\n",
       "      <td>86.37</td>\n",
       "      <td>95</td>\n",
       "      <td>76</td>\n",
       "      <td>87</td>\n",
       "      <td>90</td>\n",
       "      <td>86</td>\n",
       "      <td>94</td>\n",
       "      <td>84</td>\n",
       "    </tr>\n",
       "    <tr>\n",
       "      <th>75</th>\n",
       "      <td>1216</td>\n",
       "      <td>A</td>\n",
       "      <td>female</td>\n",
       "      <td>91.90</td>\n",
       "      <td>95</td>\n",
       "      <td>86</td>\n",
       "      <td>96</td>\n",
       "      <td>92</td>\n",
       "      <td>95</td>\n",
       "      <td>90</td>\n",
       "      <td>95</td>\n",
       "    </tr>\n",
       "    <tr>\n",
       "      <th>87</th>\n",
       "      <td>1228</td>\n",
       "      <td>A</td>\n",
       "      <td>female</td>\n",
       "      <td>88.62</td>\n",
       "      <td>95</td>\n",
       "      <td>65</td>\n",
       "      <td>97</td>\n",
       "      <td>94</td>\n",
       "      <td>97</td>\n",
       "      <td>85</td>\n",
       "      <td>85</td>\n",
       "    </tr>\n",
       "    <tr>\n",
       "      <th>97</th>\n",
       "      <td>1238</td>\n",
       "      <td>A</td>\n",
       "      <td>male</td>\n",
       "      <td>91.14</td>\n",
       "      <td>98</td>\n",
       "      <td>90</td>\n",
       "      <td>98</td>\n",
       "      <td>97</td>\n",
       "      <td>83</td>\n",
       "      <td>93</td>\n",
       "      <td>89</td>\n",
       "    </tr>\n",
       "    <tr>\n",
       "      <th>101</th>\n",
       "      <td>1242</td>\n",
       "      <td>B</td>\n",
       "      <td>male</td>\n",
       "      <td>89.84</td>\n",
       "      <td>98</td>\n",
       "      <td>77</td>\n",
       "      <td>95</td>\n",
       "      <td>98</td>\n",
       "      <td>96</td>\n",
       "      <td>88</td>\n",
       "      <td>100</td>\n",
       "    </tr>\n",
       "  </tbody>\n",
       "</table>\n",
       "<p>105 rows × 11 columns</p>\n",
       "</div>"
      ],
      "text/plain": [
       "       ID class  gender    GPA  Algebra  Calculus1  Calculus2  Statistics  \\\n",
       "3    1144     A  female  72.89       46         72         38          60   \n",
       "2    1143     A  female  74.56       47         48         71          60   \n",
       "4    1145     A  female  70.11       49         45         63          60   \n",
       "1    1142     A  female  71.22       57         50         51          51   \n",
       "9    1150     A  female  76.50       60         61         60          69   \n",
       "..    ...   ...     ...    ...      ...        ...        ...         ...   \n",
       "65   1206     A    male  86.37       95         76         87          90   \n",
       "75   1216     A  female  91.90       95         86         96          92   \n",
       "87   1228     A  female  88.62       95         65         97          94   \n",
       "97   1238     A    male  91.14       98         90         98          97   \n",
       "101  1242     B    male  89.84       98         77         95          98   \n",
       "\n",
       "     Probability  Measure  Functional_analysis  \n",
       "3             29       54                   51  \n",
       "2             61       68                   64  \n",
       "4             66       66                   61  \n",
       "1             55       62                   61  \n",
       "9             73       60                   62  \n",
       "..           ...      ...                  ...  \n",
       "65            86       94                   84  \n",
       "75            95       90                   95  \n",
       "87            97       85                   85  \n",
       "97            83       93                   89  \n",
       "101           96       88                  100  \n",
       "\n",
       "[105 rows x 11 columns]"
      ]
     },
     "execution_count": 283,
     "metadata": {},
     "output_type": "execute_result"
    }
   ],
   "source": [
    "a.sort_values(by='Algebra', ascending=True)\n"
   ]
  },
  {
   "cell_type": "code",
   "execution_count": 284,
   "id": "007ab76c",
   "metadata": {},
   "outputs": [
    {
     "data": {
      "text/html": [
       "<div>\n",
       "<style scoped>\n",
       "    .dataframe tbody tr th:only-of-type {\n",
       "        vertical-align: middle;\n",
       "    }\n",
       "\n",
       "    .dataframe tbody tr th {\n",
       "        vertical-align: top;\n",
       "    }\n",
       "\n",
       "    .dataframe thead th {\n",
       "        text-align: right;\n",
       "    }\n",
       "</style>\n",
       "<table border=\"1\" class=\"dataframe\">\n",
       "  <thead>\n",
       "    <tr style=\"text-align: right;\">\n",
       "      <th></th>\n",
       "      <th>ID</th>\n",
       "      <th>class</th>\n",
       "      <th>gender</th>\n",
       "      <th>GPA</th>\n",
       "      <th>Algebra</th>\n",
       "      <th>Calculus1</th>\n",
       "      <th>Calculus2</th>\n",
       "      <th>Statistics</th>\n",
       "      <th>Probability</th>\n",
       "      <th>Measure</th>\n",
       "      <th>Functional_analysis</th>\n",
       "    </tr>\n",
       "  </thead>\n",
       "  <tbody>\n",
       "    <tr>\n",
       "      <th>101</th>\n",
       "      <td>1242</td>\n",
       "      <td>B</td>\n",
       "      <td>male</td>\n",
       "      <td>89.84</td>\n",
       "      <td>98</td>\n",
       "      <td>77</td>\n",
       "      <td>95</td>\n",
       "      <td>98</td>\n",
       "      <td>96</td>\n",
       "      <td>88</td>\n",
       "      <td>100</td>\n",
       "    </tr>\n",
       "    <tr>\n",
       "      <th>97</th>\n",
       "      <td>1238</td>\n",
       "      <td>A</td>\n",
       "      <td>male</td>\n",
       "      <td>91.14</td>\n",
       "      <td>98</td>\n",
       "      <td>90</td>\n",
       "      <td>98</td>\n",
       "      <td>97</td>\n",
       "      <td>83</td>\n",
       "      <td>93</td>\n",
       "      <td>89</td>\n",
       "    </tr>\n",
       "    <tr>\n",
       "      <th>65</th>\n",
       "      <td>1206</td>\n",
       "      <td>A</td>\n",
       "      <td>male</td>\n",
       "      <td>86.37</td>\n",
       "      <td>95</td>\n",
       "      <td>76</td>\n",
       "      <td>87</td>\n",
       "      <td>90</td>\n",
       "      <td>86</td>\n",
       "      <td>94</td>\n",
       "      <td>84</td>\n",
       "    </tr>\n",
       "    <tr>\n",
       "      <th>75</th>\n",
       "      <td>1216</td>\n",
       "      <td>A</td>\n",
       "      <td>female</td>\n",
       "      <td>91.90</td>\n",
       "      <td>95</td>\n",
       "      <td>86</td>\n",
       "      <td>96</td>\n",
       "      <td>92</td>\n",
       "      <td>95</td>\n",
       "      <td>90</td>\n",
       "      <td>95</td>\n",
       "    </tr>\n",
       "    <tr>\n",
       "      <th>87</th>\n",
       "      <td>1228</td>\n",
       "      <td>A</td>\n",
       "      <td>female</td>\n",
       "      <td>88.62</td>\n",
       "      <td>95</td>\n",
       "      <td>65</td>\n",
       "      <td>97</td>\n",
       "      <td>94</td>\n",
       "      <td>97</td>\n",
       "      <td>85</td>\n",
       "      <td>85</td>\n",
       "    </tr>\n",
       "    <tr>\n",
       "      <th>...</th>\n",
       "      <td>...</td>\n",
       "      <td>...</td>\n",
       "      <td>...</td>\n",
       "      <td>...</td>\n",
       "      <td>...</td>\n",
       "      <td>...</td>\n",
       "      <td>...</td>\n",
       "      <td>...</td>\n",
       "      <td>...</td>\n",
       "      <td>...</td>\n",
       "      <td>...</td>\n",
       "    </tr>\n",
       "    <tr>\n",
       "      <th>5</th>\n",
       "      <td>1146</td>\n",
       "      <td>A</td>\n",
       "      <td>male</td>\n",
       "      <td>65.04</td>\n",
       "      <td>60</td>\n",
       "      <td>60</td>\n",
       "      <td>39</td>\n",
       "      <td>61</td>\n",
       "      <td>65</td>\n",
       "      <td>74</td>\n",
       "      <td>60</td>\n",
       "    </tr>\n",
       "    <tr>\n",
       "      <th>1</th>\n",
       "      <td>1142</td>\n",
       "      <td>A</td>\n",
       "      <td>female</td>\n",
       "      <td>71.22</td>\n",
       "      <td>57</td>\n",
       "      <td>50</td>\n",
       "      <td>51</td>\n",
       "      <td>51</td>\n",
       "      <td>55</td>\n",
       "      <td>62</td>\n",
       "      <td>61</td>\n",
       "    </tr>\n",
       "    <tr>\n",
       "      <th>4</th>\n",
       "      <td>1145</td>\n",
       "      <td>A</td>\n",
       "      <td>female</td>\n",
       "      <td>70.11</td>\n",
       "      <td>49</td>\n",
       "      <td>45</td>\n",
       "      <td>63</td>\n",
       "      <td>60</td>\n",
       "      <td>66</td>\n",
       "      <td>66</td>\n",
       "      <td>61</td>\n",
       "    </tr>\n",
       "    <tr>\n",
       "      <th>2</th>\n",
       "      <td>1143</td>\n",
       "      <td>A</td>\n",
       "      <td>female</td>\n",
       "      <td>74.56</td>\n",
       "      <td>47</td>\n",
       "      <td>48</td>\n",
       "      <td>71</td>\n",
       "      <td>60</td>\n",
       "      <td>61</td>\n",
       "      <td>68</td>\n",
       "      <td>64</td>\n",
       "    </tr>\n",
       "    <tr>\n",
       "      <th>3</th>\n",
       "      <td>1144</td>\n",
       "      <td>A</td>\n",
       "      <td>female</td>\n",
       "      <td>72.89</td>\n",
       "      <td>46</td>\n",
       "      <td>72</td>\n",
       "      <td>38</td>\n",
       "      <td>60</td>\n",
       "      <td>29</td>\n",
       "      <td>54</td>\n",
       "      <td>51</td>\n",
       "    </tr>\n",
       "  </tbody>\n",
       "</table>\n",
       "<p>105 rows × 11 columns</p>\n",
       "</div>"
      ],
      "text/plain": [
       "       ID class  gender    GPA  Algebra  Calculus1  Calculus2  Statistics  \\\n",
       "101  1242     B    male  89.84       98         77         95          98   \n",
       "97   1238     A    male  91.14       98         90         98          97   \n",
       "65   1206     A    male  86.37       95         76         87          90   \n",
       "75   1216     A  female  91.90       95         86         96          92   \n",
       "87   1228     A  female  88.62       95         65         97          94   \n",
       "..    ...   ...     ...    ...      ...        ...        ...         ...   \n",
       "5    1146     A    male  65.04       60         60         39          61   \n",
       "1    1142     A  female  71.22       57         50         51          51   \n",
       "4    1145     A  female  70.11       49         45         63          60   \n",
       "2    1143     A  female  74.56       47         48         71          60   \n",
       "3    1144     A  female  72.89       46         72         38          60   \n",
       "\n",
       "     Probability  Measure  Functional_analysis  \n",
       "101           96       88                  100  \n",
       "97            83       93                   89  \n",
       "65            86       94                   84  \n",
       "75            95       90                   95  \n",
       "87            97       85                   85  \n",
       "..           ...      ...                  ...  \n",
       "5             65       74                   60  \n",
       "1             55       62                   61  \n",
       "4             66       66                   61  \n",
       "2             61       68                   64  \n",
       "3             29       54                   51  \n",
       "\n",
       "[105 rows x 11 columns]"
      ]
     },
     "execution_count": 284,
     "metadata": {},
     "output_type": "execute_result"
    }
   ],
   "source": [
    "a.sort_values(by='Algebra', ascending=False)\n"
   ]
  },
  {
   "cell_type": "markdown",
   "id": "cff8aa94",
   "metadata": {},
   "source": [
    "15.How many students got exactly 64 marks from functional analysis?"
   ]
  },
  {
   "cell_type": "code",
   "execution_count": 286,
   "id": "0d7077fd",
   "metadata": {},
   "outputs": [
    {
     "data": {
      "text/html": [
       "<div>\n",
       "<style scoped>\n",
       "    .dataframe tbody tr th:only-of-type {\n",
       "        vertical-align: middle;\n",
       "    }\n",
       "\n",
       "    .dataframe tbody tr th {\n",
       "        vertical-align: top;\n",
       "    }\n",
       "\n",
       "    .dataframe thead th {\n",
       "        text-align: right;\n",
       "    }\n",
       "</style>\n",
       "<table border=\"1\" class=\"dataframe\">\n",
       "  <thead>\n",
       "    <tr style=\"text-align: right;\">\n",
       "      <th></th>\n",
       "      <th>ID</th>\n",
       "      <th>class</th>\n",
       "      <th>gender</th>\n",
       "      <th>GPA</th>\n",
       "      <th>Algebra</th>\n",
       "      <th>Calculus1</th>\n",
       "      <th>Calculus2</th>\n",
       "      <th>Statistics</th>\n",
       "      <th>Probability</th>\n",
       "      <th>Measure</th>\n",
       "      <th>Functional_analysis</th>\n",
       "    </tr>\n",
       "  </thead>\n",
       "  <tbody>\n",
       "    <tr>\n",
       "      <th>2</th>\n",
       "      <td>1143</td>\n",
       "      <td>A</td>\n",
       "      <td>female</td>\n",
       "      <td>74.56</td>\n",
       "      <td>47</td>\n",
       "      <td>48</td>\n",
       "      <td>71</td>\n",
       "      <td>60</td>\n",
       "      <td>61</td>\n",
       "      <td>68</td>\n",
       "      <td>64</td>\n",
       "    </tr>\n",
       "    <tr>\n",
       "      <th>14</th>\n",
       "      <td>1155</td>\n",
       "      <td>A</td>\n",
       "      <td>male</td>\n",
       "      <td>81.67</td>\n",
       "      <td>73</td>\n",
       "      <td>60</td>\n",
       "      <td>55</td>\n",
       "      <td>76</td>\n",
       "      <td>77</td>\n",
       "      <td>74</td>\n",
       "      <td>64</td>\n",
       "    </tr>\n",
       "    <tr>\n",
       "      <th>18</th>\n",
       "      <td>1159</td>\n",
       "      <td>B</td>\n",
       "      <td>male</td>\n",
       "      <td>75.64</td>\n",
       "      <td>60</td>\n",
       "      <td>68</td>\n",
       "      <td>54</td>\n",
       "      <td>76</td>\n",
       "      <td>76</td>\n",
       "      <td>76</td>\n",
       "      <td>64</td>\n",
       "    </tr>\n",
       "    <tr>\n",
       "      <th>19</th>\n",
       "      <td>1160</td>\n",
       "      <td>A</td>\n",
       "      <td>male</td>\n",
       "      <td>76.46</td>\n",
       "      <td>67</td>\n",
       "      <td>73</td>\n",
       "      <td>64</td>\n",
       "      <td>78</td>\n",
       "      <td>83</td>\n",
       "      <td>76</td>\n",
       "      <td>64</td>\n",
       "    </tr>\n",
       "    <tr>\n",
       "      <th>26</th>\n",
       "      <td>1167</td>\n",
       "      <td>B</td>\n",
       "      <td>female</td>\n",
       "      <td>77.76</td>\n",
       "      <td>67</td>\n",
       "      <td>46</td>\n",
       "      <td>71</td>\n",
       "      <td>80</td>\n",
       "      <td>82</td>\n",
       "      <td>69</td>\n",
       "      <td>64</td>\n",
       "    </tr>\n",
       "    <tr>\n",
       "      <th>34</th>\n",
       "      <td>1175</td>\n",
       "      <td>A</td>\n",
       "      <td>female</td>\n",
       "      <td>81.29</td>\n",
       "      <td>67</td>\n",
       "      <td>62</td>\n",
       "      <td>85</td>\n",
       "      <td>83</td>\n",
       "      <td>82</td>\n",
       "      <td>83</td>\n",
       "      <td>64</td>\n",
       "    </tr>\n",
       "    <tr>\n",
       "      <th>46</th>\n",
       "      <td>1187</td>\n",
       "      <td>A</td>\n",
       "      <td>female</td>\n",
       "      <td>80.60</td>\n",
       "      <td>60</td>\n",
       "      <td>60</td>\n",
       "      <td>73</td>\n",
       "      <td>87</td>\n",
       "      <td>82</td>\n",
       "      <td>74</td>\n",
       "      <td>64</td>\n",
       "    </tr>\n",
       "    <tr>\n",
       "      <th>48</th>\n",
       "      <td>1189</td>\n",
       "      <td>A</td>\n",
       "      <td>female</td>\n",
       "      <td>83.15</td>\n",
       "      <td>68</td>\n",
       "      <td>80</td>\n",
       "      <td>92</td>\n",
       "      <td>87</td>\n",
       "      <td>80</td>\n",
       "      <td>83</td>\n",
       "      <td>64</td>\n",
       "    </tr>\n",
       "  </tbody>\n",
       "</table>\n",
       "</div>"
      ],
      "text/plain": [
       "      ID class  gender    GPA  Algebra  Calculus1  Calculus2  Statistics  \\\n",
       "2   1143     A  female  74.56       47         48         71          60   \n",
       "14  1155     A    male  81.67       73         60         55          76   \n",
       "18  1159     B    male  75.64       60         68         54          76   \n",
       "19  1160     A    male  76.46       67         73         64          78   \n",
       "26  1167     B  female  77.76       67         46         71          80   \n",
       "34  1175     A  female  81.29       67         62         85          83   \n",
       "46  1187     A  female  80.60       60         60         73          87   \n",
       "48  1189     A  female  83.15       68         80         92          87   \n",
       "\n",
       "    Probability  Measure  Functional_analysis  \n",
       "2            61       68                   64  \n",
       "14           77       74                   64  \n",
       "18           76       76                   64  \n",
       "19           83       76                   64  \n",
       "26           82       69                   64  \n",
       "34           82       83                   64  \n",
       "46           82       74                   64  \n",
       "48           80       83                   64  "
      ]
     },
     "execution_count": 286,
     "metadata": {},
     "output_type": "execute_result"
    }
   ],
   "source": [
    "a[a['Functional_analysis']== 64]"
   ]
  },
  {
   "cell_type": "code",
   "execution_count": 287,
   "id": "03effc25",
   "metadata": {},
   "outputs": [
    {
     "data": {
      "text/plain": [
       "8"
      ]
     },
     "execution_count": 287,
     "metadata": {},
     "output_type": "execute_result"
    }
   ],
   "source": [
    "len(a[a['Functional_analysis']== 64])"
   ]
  },
  {
   "cell_type": "code",
   "execution_count": 289,
   "id": "4655592f",
   "metadata": {},
   "outputs": [
    {
     "data": {
      "text/plain": [
       "8"
      ]
     },
     "execution_count": 289,
     "metadata": {},
     "output_type": "execute_result"
    }
   ],
   "source": [
    "sum(a['Functional_analysis']== 64)"
   ]
  },
  {
   "cell_type": "code",
   "execution_count": 295,
   "id": "b4d155cf",
   "metadata": {},
   "outputs": [
    {
     "data": {
      "text/plain": [
       "8"
      ]
     },
     "execution_count": 295,
     "metadata": {},
     "output_type": "execute_result"
    }
   ],
   "source": [
    "c = a['Functional_analysis']== 64\n",
    "c.sum()"
   ]
  },
  {
   "cell_type": "code",
   "execution_count": null,
   "id": "a0d6d75c",
   "metadata": {},
   "outputs": [],
   "source": []
  }
 ],
 "metadata": {
  "kernelspec": {
   "display_name": "Python 3 (ipykernel)",
   "language": "python",
   "name": "python3"
  },
  "language_info": {
   "codemirror_mode": {
    "name": "ipython",
    "version": 3
   },
   "file_extension": ".py",
   "mimetype": "text/x-python",
   "name": "python",
   "nbconvert_exporter": "python",
   "pygments_lexer": "ipython3",
   "version": "3.11.4"
  }
 },
 "nbformat": 4,
 "nbformat_minor": 5
}

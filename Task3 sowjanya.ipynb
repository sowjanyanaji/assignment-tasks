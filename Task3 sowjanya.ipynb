{
 "cells": [
  {
   "cell_type": "markdown",
   "id": "110812e8",
   "metadata": {},
   "source": [
    "Assignment Tasks on String Escape Characters, Indexing, and Slicing:\n",
    "\n",
    "**String Escape Characters:**\n",
    "\n",
    "Task 1:\n",
    "1. Create a string containing a sentence that includes both single and double quotes.\n",
    "2. Use escape characters to include quotes within the string.\n",
    "3. Print the modified string.\n",
    "\n",
    "Task 2:\n",
    "1. Declare a string with a backslash \\ character in it.\n",
    "2. Demonstrate the use of the escape character to print the backslash itself.\n",
    "3. Print the resulting string.\n",
    "\n",
    "Task 3:\n",
    "1. Construct a string containing newline and tab escape sequences.\n",
    "2. Print the string to display the formatted output.\n",
    "\n",
    "**Indexing and Slicing:**\n",
    "\n",
    "Task 4:\n",
    "1.  sentence = \"I want to become Data Scientist\".\n",
    "2. Access and print the `first character` of the string using indexing.\n",
    "3. Access and print the `last character` of the string using negative indexing.\n",
    "\n",
    "Task 5:\n",
    "1. What are `possible ways` yo extract `Scientist`(use forward and reverse)\n",
    "2. Use slicing to extract and print the `first word` from the string.\n",
    "3. Use slicing to extract and print the `last three` characters of the string.\n",
    "\n",
    "Task 6:\n",
    "1. name = \"Innomatics Reserach Labs\"\n",
    "2. Apply slicing to extract a substring that includes the `second to fifth` characters.\n",
    "3. `Print` the extracted substring.\n",
    "\n",
    "Task 7:\n",
    "1. string = \"Python@1234\"\n",
    "2. Use slicing to extract every second character from the string.\n",
    "3. Print the resulting sliced string.\n",
    "\n",
    "Task 8:\n",
    "1.  print last five letters.\n",
    "2. Utilize slicing to reverse the word order in the string.\n",
    "3. Print the string with the words in the reversed order.\n",
    "\n",
    "Task 9:\n",
    "1. a = \"123123123\"\n",
    "2. Apply slicing to extract only the numeric characters at odd positions.\n",
    "3. Print the sliced result.\n",
    "\n",
    "Remember to include explanations or comments for each task's code to ensure clarity. Additionally, encourage students to experiment further with different escape characters and slicing techniques beyond the provided tasks to deepen their understanding."
   ]
  },
  {
   "cell_type": "markdown",
   "id": "784da893",
   "metadata": {},
   "source": [
    "Task 1:\n",
    "\n",
    "Create a string containing a sentence that includes both single and double quotes.\n",
    "Use escape characters to include quotes within the string.\n",
    "Print the modified string."
   ]
  },
  {
   "cell_type": "code",
   "execution_count": 3,
   "id": "84c6f615",
   "metadata": {},
   "outputs": [],
   "source": [
    "string = (\"This is sowjanya\\'s task who is learning \\\"python\\\" \")"
   ]
  },
  {
   "cell_type": "code",
   "execution_count": 4,
   "id": "955ff127",
   "metadata": {},
   "outputs": [
    {
     "name": "stdout",
     "output_type": "stream",
     "text": [
      "This is sowjanya's task who is learning \"python\" \n"
     ]
    }
   ],
   "source": [
    "print(string)"
   ]
  },
  {
   "cell_type": "markdown",
   "id": "d712456b",
   "metadata": {},
   "source": [
    "Task 2:\n",
    "\n",
    "Declare a string with a backslash \\ character in it.\n",
    "Demonstrate the use of the escape character to print the backslash itself.\n",
    "Print the resulting string."
   ]
  },
  {
   "cell_type": "code",
   "execution_count": 5,
   "id": "68213db6",
   "metadata": {},
   "outputs": [],
   "source": [
    "string = \"SS\\bowjj\\banyya\""
   ]
  },
  {
   "cell_type": "code",
   "execution_count": 6,
   "id": "453c626b",
   "metadata": {},
   "outputs": [
    {
     "name": "stdout",
     "output_type": "stream",
     "text": [
      "SS\bowjj\banyya\n"
     ]
    }
   ],
   "source": [
    "print(string)"
   ]
  },
  {
   "cell_type": "markdown",
   "id": "7ba6bc01",
   "metadata": {},
   "source": [
    "Task 3:\n",
    "\n",
    "Construct a string containing newline and tab escape sequences.\n",
    "Print the string to display the formatted output."
   ]
  },
  {
   "cell_type": "code",
   "execution_count": 13,
   "id": "954fdb99",
   "metadata": {},
   "outputs": [],
   "source": [
    "string = \"newlinesequence \\t tabsequences need to use to complete the \\n TASK3\""
   ]
  },
  {
   "cell_type": "code",
   "execution_count": 14,
   "id": "f8d1da60",
   "metadata": {},
   "outputs": [
    {
     "name": "stdout",
     "output_type": "stream",
     "text": [
      "newlinesequence \t tabsequences need to use to complete the \n",
      " TASK3\n"
     ]
    }
   ],
   "source": [
    "print(string)"
   ]
  },
  {
   "cell_type": "markdown",
   "id": "6a8b29b1",
   "metadata": {},
   "source": [
    "Task 4:\n",
    "\n",
    "sentence = \"I want to become Data Scientist\".\n",
    "\n",
    "Access and print the first character of the string using indexing.\n",
    "\n",
    "Access and print the last character of the string using negative indexing."
   ]
  },
  {
   "cell_type": "code",
   "execution_count": 15,
   "id": "4ea3a8e3",
   "metadata": {},
   "outputs": [],
   "source": [
    "AIM = \"I want to become Data Scientist\""
   ]
  },
  {
   "cell_type": "code",
   "execution_count": 17,
   "id": "4ca3d5e5",
   "metadata": {},
   "outputs": [
    {
     "data": {
      "text/plain": [
       "'I'"
      ]
     },
     "execution_count": 17,
     "metadata": {},
     "output_type": "execute_result"
    }
   ],
   "source": [
    "AIM[0]"
   ]
  },
  {
   "cell_type": "code",
   "execution_count": 18,
   "id": "18a3ae55",
   "metadata": {},
   "outputs": [
    {
     "data": {
      "text/plain": [
       "'t'"
      ]
     },
     "execution_count": 18,
     "metadata": {},
     "output_type": "execute_result"
    }
   ],
   "source": [
    "AIM[-1]"
   ]
  },
  {
   "cell_type": "markdown",
   "id": "1e9acc81",
   "metadata": {},
   "source": [
    "Task 5:\n",
    "\n",
    "What are possible ways yo extract Scientist(use forward and reverse)\n",
    "Use slicing to extract and print the first word from the string.\n",
    "Use slicing to extract and print the last three characters of the string."
   ]
  },
  {
   "cell_type": "code",
   "execution_count": 21,
   "id": "f3deaf43",
   "metadata": {},
   "outputs": [],
   "source": [
    "string = \" Data Scientist\""
   ]
  },
  {
   "cell_type": "code",
   "execution_count": 26,
   "id": "01829749",
   "metadata": {},
   "outputs": [
    {
     "data": {
      "text/plain": [
       "'Scientist'"
      ]
     },
     "execution_count": 26,
     "metadata": {},
     "output_type": "execute_result"
    }
   ],
   "source": [
    "string[6:15:1]"
   ]
  },
  {
   "cell_type": "code",
   "execution_count": 27,
   "id": "9afa836a",
   "metadata": {},
   "outputs": [
    {
     "data": {
      "text/plain": [
       "'Scientist'"
      ]
     },
     "execution_count": 27,
     "metadata": {},
     "output_type": "execute_result"
    }
   ],
   "source": [
    "string[6: :]"
   ]
  },
  {
   "cell_type": "code",
   "execution_count": 28,
   "id": "ca0b7392",
   "metadata": {},
   "outputs": [
    {
     "data": {
      "text/plain": [
       "'Scientist'"
      ]
     },
     "execution_count": 28,
     "metadata": {},
     "output_type": "execute_result"
    }
   ],
   "source": [
    "string[6::1]"
   ]
  },
  {
   "cell_type": "code",
   "execution_count": 32,
   "id": "10aef55e",
   "metadata": {},
   "outputs": [
    {
     "data": {
      "text/plain": [
       "'Scientist'"
      ]
     },
     "execution_count": 32,
     "metadata": {},
     "output_type": "execute_result"
    }
   ],
   "source": [
    "string[-9: : 1]"
   ]
  },
  {
   "cell_type": "code",
   "execution_count": 33,
   "id": "9c2a5d4c",
   "metadata": {},
   "outputs": [
    {
     "data": {
      "text/plain": [
       "'Scientist'"
      ]
     },
     "execution_count": 33,
     "metadata": {},
     "output_type": "execute_result"
    }
   ],
   "source": [
    "string[-9::]"
   ]
  },
  {
   "cell_type": "markdown",
   "id": "a353cddd",
   "metadata": {},
   "source": [
    "Task 6:\n",
    "\n",
    "name = \"Innomatics Reserach Labs\"\n",
    "Apply slicing to extract a substring that includes the second to fifth characters.\n",
    "Print the extracted substring."
   ]
  },
  {
   "cell_type": "code",
   "execution_count": 34,
   "id": "f454ce0d",
   "metadata": {},
   "outputs": [],
   "source": [
    "name = \"Innomatics Research Labs\""
   ]
  },
  {
   "cell_type": "code",
   "execution_count": 55,
   "id": "4f5135ae",
   "metadata": {},
   "outputs": [
    {
     "data": {
      "text/plain": [
       "'nnom'"
      ]
     },
     "execution_count": 55,
     "metadata": {},
     "output_type": "execute_result"
    }
   ],
   "source": [
    "name[1:5:1]"
   ]
  },
  {
   "cell_type": "code",
   "execution_count": 56,
   "id": "b2f75da7",
   "metadata": {},
   "outputs": [
    {
     "data": {
      "text/plain": [
       "'nnom'"
      ]
     },
     "execution_count": 56,
     "metadata": {},
     "output_type": "execute_result"
    }
   ],
   "source": [
    "name[-23:-19:1]"
   ]
  },
  {
   "cell_type": "markdown",
   "id": "1b6cc9c0",
   "metadata": {},
   "source": [
    "Task 7:\n",
    "\n",
    "string = \"Python@1234\"\n",
    "Use slicing to extract every second character from the string.\n",
    "Print the resulting sliced string."
   ]
  },
  {
   "cell_type": "code",
   "execution_count": 38,
   "id": "52e542e9",
   "metadata": {},
   "outputs": [],
   "source": [
    "string = \"Python@1234\""
   ]
  },
  {
   "cell_type": "code",
   "execution_count": 40,
   "id": "f35cdcf1",
   "metadata": {},
   "outputs": [
    {
     "data": {
      "text/plain": [
       "'yhn13'"
      ]
     },
     "execution_count": 40,
     "metadata": {},
     "output_type": "execute_result"
    }
   ],
   "source": [
    "string[1::2]"
   ]
  },
  {
   "cell_type": "code",
   "execution_count": 41,
   "id": "95a032c6",
   "metadata": {},
   "outputs": [
    {
     "data": {
      "text/plain": [
       "'yhn13'"
      ]
     },
     "execution_count": 41,
     "metadata": {},
     "output_type": "execute_result"
    }
   ],
   "source": [
    "string[-10::2]"
   ]
  },
  {
   "cell_type": "markdown",
   "id": "1efbe727",
   "metadata": {},
   "source": [
    "Task 8\n",
    "\n",
    "print last five letters.\n",
    "Utilize slicing to reverse the word order in the string.\n",
    "Print the string with the words in the reversed order."
   ]
  },
  {
   "cell_type": "code",
   "execution_count": 42,
   "id": "0e325cd6",
   "metadata": {},
   "outputs": [],
   "source": [
    "string = \"Hello world\""
   ]
  },
  {
   "cell_type": "code",
   "execution_count": 43,
   "id": "dcde669f",
   "metadata": {},
   "outputs": [
    {
     "data": {
      "text/plain": [
       "'world'"
      ]
     },
     "execution_count": 43,
     "metadata": {},
     "output_type": "execute_result"
    }
   ],
   "source": [
    "string[6:11:1]"
   ]
  },
  {
   "cell_type": "code",
   "execution_count": 44,
   "id": "7868a2de",
   "metadata": {},
   "outputs": [
    {
     "data": {
      "text/plain": [
       "'world'"
      ]
     },
     "execution_count": 44,
     "metadata": {},
     "output_type": "execute_result"
    }
   ],
   "source": [
    "string[6::]"
   ]
  },
  {
   "cell_type": "code",
   "execution_count": 45,
   "id": "9888eae0",
   "metadata": {},
   "outputs": [
    {
     "data": {
      "text/plain": [
       "'world'"
      ]
     },
     "execution_count": 45,
     "metadata": {},
     "output_type": "execute_result"
    }
   ],
   "source": [
    "string[6: : 1]"
   ]
  },
  {
   "cell_type": "code",
   "execution_count": 46,
   "id": "25f2445a",
   "metadata": {},
   "outputs": [
    {
     "data": {
      "text/plain": [
       "'dlrow'"
      ]
     },
     "execution_count": 46,
     "metadata": {},
     "output_type": "execute_result"
    }
   ],
   "source": [
    "string[-1:-6:-1]"
   ]
  },
  {
   "cell_type": "code",
   "execution_count": 48,
   "id": "9219c02d",
   "metadata": {},
   "outputs": [
    {
     "data": {
      "text/plain": [
       "'dlrow'"
      ]
     },
     "execution_count": 48,
     "metadata": {},
     "output_type": "execute_result"
    }
   ],
   "source": [
    "string[:-6:-1]"
   ]
  },
  {
   "cell_type": "markdown",
   "id": "e4b13823",
   "metadata": {},
   "source": [
    "Task 9:\n",
    "\n",
    "a = \"123123123\"\n",
    "Apply slicing to extract only the numeric characters at odd positions.\n",
    "Print the sliced result.\n"
   ]
  },
  {
   "cell_type": "code",
   "execution_count": 50,
   "id": "31262f8e",
   "metadata": {},
   "outputs": [],
   "source": [
    "a =\"123123123\"  "
   ]
  },
  {
   "cell_type": "code",
   "execution_count": 51,
   "id": "015d3e27",
   "metadata": {},
   "outputs": [
    {
     "data": {
      "text/plain": [
       "'13213'"
      ]
     },
     "execution_count": 51,
     "metadata": {},
     "output_type": "execute_result"
    }
   ],
   "source": [
    "a[0::2]"
   ]
  },
  {
   "cell_type": "code",
   "execution_count": 52,
   "id": "10e1d63e",
   "metadata": {},
   "outputs": [
    {
     "data": {
      "text/plain": [
       "'13213'"
      ]
     },
     "execution_count": 52,
     "metadata": {},
     "output_type": "execute_result"
    }
   ],
   "source": [
    "a[::2]"
   ]
  },
  {
   "cell_type": "code",
   "execution_count": 53,
   "id": "5d98d0e0",
   "metadata": {},
   "outputs": [
    {
     "data": {
      "text/plain": [
       "'13213'"
      ]
     },
     "execution_count": 53,
     "metadata": {},
     "output_type": "execute_result"
    }
   ],
   "source": [
    "a[0:9:2]"
   ]
  },
  {
   "cell_type": "code",
   "execution_count": 54,
   "id": "de5450dd",
   "metadata": {},
   "outputs": [
    {
     "data": {
      "text/plain": [
       "'13213'"
      ]
     },
     "execution_count": 54,
     "metadata": {},
     "output_type": "execute_result"
    }
   ],
   "source": [
    "a[-9:9:2]"
   ]
  },
  {
   "cell_type": "code",
   "execution_count": null,
   "id": "b735324b",
   "metadata": {},
   "outputs": [],
   "source": []
  }
 ],
 "metadata": {
  "kernelspec": {
   "display_name": "Python 3 (ipykernel)",
   "language": "python",
   "name": "python3"
  },
  "language_info": {
   "codemirror_mode": {
    "name": "ipython",
    "version": 3
   },
   "file_extension": ".py",
   "mimetype": "text/x-python",
   "name": "python",
   "nbconvert_exporter": "python",
   "pygments_lexer": "ipython3",
   "version": "3.11.4"
  }
 },
 "nbformat": 4,
 "nbformat_minor": 5
}

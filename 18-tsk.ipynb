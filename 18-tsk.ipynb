{
 "cells": [
  {
   "cell_type": "code",
   "execution_count": 2,
   "id": "d72aa4f8",
   "metadata": {},
   "outputs": [
    {
     "name": "stdout",
     "output_type": "stream",
     "text": [
      "************************* Welcome to Grading System *************************\n",
      "Enter the number of students :: 3\n",
      "Enter student name :: sowji\n",
      "Enter subject 1 marks :: 56\n",
      "Enter subject 2 marks :: 67\n",
      "Enter subject 3 marks :: 78\n",
      "The average of sowji 67.0\n",
      "Enter student name :: sruthi\n",
      "Enter subject 1 marks :: 67\n",
      "Enter subject 2 marks :: 87\n",
      "Enter subject 3 marks :: 78\n",
      "The average of sruthi 77.33333333333333\n",
      "Enter student name :: sneha\n",
      "Enter subject 1 marks :: 46\n",
      "Enter subject 2 marks :: 75\n",
      "Enter subject 3 marks :: 69\n",
      "The average of sneha 63.333333333333336\n",
      "overall class average  69.22222222222221\n",
      "\n",
      " ************************* Thank you for using my application *************************\n"
     ]
    }
   ],
   "source": [
    "class NegativeValueError(Exception):\n",
    "    pass\n",
    "class InvalidNumberError(Exception):\n",
    "    pass\n",
    "print((\"*\"*25),\"Welcome to Grading System\",(\"*\"*25))\n",
    "import traceback\n",
    "try :\n",
    "    \n",
    "    dic = {}\n",
    "    list1 = []\n",
    "    stud = int(input(\"Enter the number of students :: \"))\n",
    "    for i in range(0,stud):\n",
    "        stud_name = input(\"Enter student name :: \")\n",
    "        for j in range(1,4):\n",
    "            subject = int(input(f\"Enter subject {j} marks :: \"))\n",
    "            dic.setdefault(stud_name,[]).extend([subject])\n",
    "            list1.append(subject/3)\n",
    "\n",
    "            if subject < 0:\n",
    "                raise NegativeValueError(\"Enter Valid Marks\")\n",
    "            elif subject == 0:\n",
    "                raise InvalidNumberError(\"Enter Valid Marks\")\n",
    "            elif subject > 100:\n",
    "                raise InvalidNumberError(\"Enter Valid Marks\")\n",
    "        for val in dic.values():\n",
    "            a = len(val)\n",
    "            b = sum(val)\n",
    "                \n",
    "        print(f\"The average of {stud_name}\",b/a)\n",
    "   \n",
    "    \n",
    "    avg = sum(list1)/stud\n",
    "    print(\"overall class average \",avg)\n",
    "    \n",
    "    \n",
    "        \n",
    "except (ValueError,ZeroDivisionError) :\n",
    "    print(traceback.print_exc())\n",
    "    \n",
    "print(\"\\n\",(\"*\"*25),\"Thank you for using my application\",(\"*\"*25))"
   ]
  },
  {
   "cell_type": "code",
   "execution_count": null,
   "id": "a28e0473",
   "metadata": {},
   "outputs": [],
   "source": []
  }
 ],
 "metadata": {
  "kernelspec": {
   "display_name": "Python 3 (ipykernel)",
   "language": "python",
   "name": "python3"
  },
  "language_info": {
   "codemirror_mode": {
    "name": "ipython",
    "version": 3
   },
   "file_extension": ".py",
   "mimetype": "text/x-python",
   "name": "python",
   "nbconvert_exporter": "python",
   "pygments_lexer": "ipython3",
   "version": "3.11.4"
  }
 },
 "nbformat": 4,
 "nbformat_minor": 5
}

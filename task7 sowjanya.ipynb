{
 "cells": [
  {
   "cell_type": "markdown",
   "id": "6423e10d",
   "metadata": {},
   "source": [
    "Task 1: Dictionary Basics Create a Python program that defines a dictionary to store information about your favorite book. Include the title, author, publication year, and genre as key-value pairs. Print out the dictionary.and do atleast 5 dictionary methods on it.\n",
    "\n",
    "\n",
    "\n",
    "Task 2: Dictionary Lookup Write a Python program that simulates a simple dictionary for translating English words to Spanish. Define a dictionary containing a few English words as keys and their corresponding Spanish translations as values. Allow users to enter an English word, and then display its Spanish translation if it exists in the dictionary.(use google for English to Spanish translator)\n",
    "\n",
    "\n",
    "Task 3: Student Grades Create a Python program that stores the grades of five students in a dictionary. Allow users to input the names of the students and their respective grades. Calculate and display the average grade of the students.\n",
    "\n",
    "\n",
    "Task 4: Contact List Build a basic contact list using a dictionary. Initially, the dictionary can be empty. Allow users to add new contacts with names and phone numbers. Users should also be able to search for contacts by name and display their phone numbers(use in operator).\n",
    "\n",
    "\n",
    "Task 5: Dictionary Iteration Write a Python program that defines a dictionary containing the names of fruits as keys and their corresponding colors as values (e.g., 'apple': 'red').Do atleast 5 dictionary methods on it.\n"
   ]
  },
  {
   "cell_type": "markdown",
   "id": "d6982c01",
   "metadata": {},
   "source": [
    "Task 1:\n",
    "**Dictionary Basics Create a Python program that defines a dictionary to store information about your favorite book. Include the title, author, publication year, and genre as key-value pairs. Print out the dictionary.and do atleast 5 dictionary methods on it.**"
   ]
  },
  {
   "cell_type": "code",
   "execution_count": 4,
   "id": "b9f31240",
   "metadata": {},
   "outputs": [],
   "source": [
    "Fav_book = {'Title': 'The atomic habits', 'Author': 'Jamesclear','Year' : '2018'}"
   ]
  },
  {
   "cell_type": "code",
   "execution_count": 5,
   "id": "9db10862",
   "metadata": {},
   "outputs": [
    {
     "data": {
      "text/plain": [
       "{'Title': 'The atomic habits', 'Author': 'Jamesclear', 'Year': '2018'}"
      ]
     },
     "execution_count": 5,
     "metadata": {},
     "output_type": "execute_result"
    }
   ],
   "source": [
    "Fav_book"
   ]
  },
  {
   "cell_type": "code",
   "execution_count": 6,
   "id": "51f27c3c",
   "metadata": {},
   "outputs": [
    {
     "data": {
      "text/plain": [
       "dict"
      ]
     },
     "execution_count": 6,
     "metadata": {},
     "output_type": "execute_result"
    }
   ],
   "source": [
    "type(Fav_book)"
   ]
  },
  {
   "cell_type": "code",
   "execution_count": 17,
   "id": "4800e2e5",
   "metadata": {},
   "outputs": [
    {
     "data": {
      "text/plain": [
       "dict_values(['The atomic habits', 'Jamesclear', '2018', '10star'])"
      ]
     },
     "execution_count": 17,
     "metadata": {},
     "output_type": "execute_result"
    }
   ],
   "source": [
    " Fav_book.values()    #1 method"
   ]
  },
  {
   "cell_type": "code",
   "execution_count": 16,
   "id": "9d0a019d",
   "metadata": {},
   "outputs": [
    {
     "data": {
      "text/plain": [
       "dict_keys(['Title', 'Author', 'Year', 'Reviews'])"
      ]
     },
     "execution_count": 16,
     "metadata": {},
     "output_type": "execute_result"
    }
   ],
   "source": [
    "Fav_book.keys()           #2nd method/function"
   ]
  },
  {
   "cell_type": "code",
   "execution_count": 9,
   "id": "e19fe7ba",
   "metadata": {},
   "outputs": [
    {
     "data": {
      "text/plain": [
       "dict_items([('Title', 'The atomic habits'), ('Author', 'Jamesclear'), ('Year', '2018')])"
      ]
     },
     "execution_count": 9,
     "metadata": {},
     "output_type": "execute_result"
    }
   ],
   "source": [
    "Fav_book.items()        #3rd"
   ]
  },
  {
   "cell_type": "code",
   "execution_count": 12,
   "id": "4391c529",
   "metadata": {},
   "outputs": [],
   "source": [
    "Fav_book.update({'Reviews': '10star'})   #4th"
   ]
  },
  {
   "cell_type": "code",
   "execution_count": 13,
   "id": "9e1619e4",
   "metadata": {},
   "outputs": [
    {
     "data": {
      "text/plain": [
       "{'Title': 'The atomic habits',\n",
       " 'Author': 'Jamesclear',\n",
       " 'Year': '2018',\n",
       " 'Reviews': '10star'}"
      ]
     },
     "execution_count": 13,
     "metadata": {},
     "output_type": "execute_result"
    }
   ],
   "source": [
    "Fav_book"
   ]
  },
  {
   "cell_type": "code",
   "execution_count": 14,
   "id": "baf4a271",
   "metadata": {},
   "outputs": [
    {
     "data": {
      "text/plain": [
       "'Jamesclear'"
      ]
     },
     "execution_count": 14,
     "metadata": {},
     "output_type": "execute_result"
    }
   ],
   "source": [
    "Fav_book.get('Author')    #5th"
   ]
  },
  {
   "cell_type": "markdown",
   "id": "daf252f9",
   "metadata": {},
   "source": [
    "Task 2: **Dictionary Lookup Write a Python program that simulates a simple dictionary for translating English words to Spanish. Define a dictionary containing a few English words as keys and their corresponding Spanish translations as values. Allow users to enter an English word, and then display its Spanish translation if it exists in the dictionary.(use google for English to Spanish translator)**"
   ]
  },
  {
   "cell_type": "code",
   "execution_count": 18,
   "id": "37d520f9",
   "metadata": {},
   "outputs": [],
   "source": [
    "Eng_words=[\"Happy\",\"sad\",\"Good\",\"Bad\",\"Day\"]\n",
    "Span_words=[\"Feliz\",\"Triste\",\"Bueno\",\"Mala\",\"Dia\"]"
   ]
  },
  {
   "cell_type": "code",
   "execution_count": 19,
   "id": "c4a71812",
   "metadata": {},
   "outputs": [],
   "source": [
    "translator=dict(zip(Eng_words,Span_words))"
   ]
  },
  {
   "cell_type": "code",
   "execution_count": 21,
   "id": "f56b419c",
   "metadata": {},
   "outputs": [
    {
     "data": {
      "text/plain": [
       "'Feliz'"
      ]
     },
     "execution_count": 21,
     "metadata": {},
     "output_type": "execute_result"
    }
   ],
   "source": [
    "translator.get(\"Happy\")"
   ]
  },
  {
   "cell_type": "code",
   "execution_count": 26,
   "id": "f2c7f9d0",
   "metadata": {},
   "outputs": [
    {
     "data": {
      "text/plain": [
       "'Mala'"
      ]
     },
     "execution_count": 26,
     "metadata": {},
     "output_type": "execute_result"
    }
   ],
   "source": [
    "translator.get(\"Bad\")"
   ]
  },
  {
   "cell_type": "markdown",
   "id": "97989b90",
   "metadata": {},
   "source": [
    "Task 3: **Student Grades Create a Python program that stores the grades of five students in a dictionary. Allow users to input the names of the students and their respective grades. Calculate and display the average grade of the students.**"
   ]
  },
  {
   "cell_type": "code",
   "execution_count": 115,
   "id": "38443615",
   "metadata": {},
   "outputs": [
    {
     "name": "stdout",
     "output_type": "stream",
     "text": [
      "Enter the name of student1:sowjanya\n",
      "enter the grade of student1:56\n",
      "Enter the name of student2:sruthi\n",
      "enter the grade of student2:67\n",
      "Enter the name of student3:sneha\n",
      "enter the grade of student3:78\n",
      "Enter the name of student4:neha\n",
      "enter the grade of student4:87\n",
      "Enter the name of student5:hema\n",
      "enter the grade of student5:90\n"
     ]
    }
   ],
   "source": [
    "Score_card={}\n",
    "name1= input(\"Enter the name of student1:\")\n",
    "grade1= float(input(\"enter the grade of student1:\"))\n",
    "\n",
    "name2= input(\"Enter the name of student2:\")\n",
    "grade2= float(input(\"enter the grade of student2:\"))\n",
    "\n",
    "name3= input(\"Enter the name of student3:\")\n",
    "grade3= float(input(\"enter the grade of student3:\"))\n",
    "\n",
    "name4= input(\"Enter the name of student4:\")\n",
    "grade4= float(input(\"enter the grade of student4:\"))\n",
    "\n",
    "name5= input(\"Enter the name of student5:\")\n",
    "grade5= float(input(\"enter the grade of student5:\"))"
   ]
  },
  {
   "cell_type": "code",
   "execution_count": 116,
   "id": "723c8609",
   "metadata": {},
   "outputs": [],
   "source": [
    "Score_card.update({name1:grade1,name2:grade2,name3:grade3,name4:grade4,name5:grade5})"
   ]
  },
  {
   "cell_type": "code",
   "execution_count": 117,
   "id": "58450571",
   "metadata": {},
   "outputs": [
    {
     "data": {
      "text/plain": [
       "{'sowjanya': 56.0, 'sruthi': 67.0, 'sneha': 78.0, 'neha': 87.0, 'hema': 90.0}"
      ]
     },
     "execution_count": 117,
     "metadata": {},
     "output_type": "execute_result"
    }
   ],
   "source": [
    "Score_card"
   ]
  },
  {
   "cell_type": "code",
   "execution_count": 118,
   "id": "4ad04b0a",
   "metadata": {},
   "outputs": [],
   "source": [
    "Total=sum(Score_card.values())"
   ]
  },
  {
   "cell_type": "code",
   "execution_count": 119,
   "id": "c16459de",
   "metadata": {},
   "outputs": [
    {
     "data": {
      "text/plain": [
       "378.0"
      ]
     },
     "execution_count": 119,
     "metadata": {},
     "output_type": "execute_result"
    }
   ],
   "source": [
    "Total"
   ]
  },
  {
   "cell_type": "code",
   "execution_count": 122,
   "id": "080ea161",
   "metadata": {},
   "outputs": [],
   "source": [
    "AVERAGE = Total/len(Score_card.values())"
   ]
  },
  {
   "cell_type": "code",
   "execution_count": 123,
   "id": "1347effb",
   "metadata": {},
   "outputs": [
    {
     "data": {
      "text/plain": [
       "75.6"
      ]
     },
     "execution_count": 123,
     "metadata": {},
     "output_type": "execute_result"
    }
   ],
   "source": [
    "AVERAGE"
   ]
  },
  {
   "cell_type": "markdown",
   "id": "4e05ec44",
   "metadata": {},
   "source": [
    "Task 4: **Contact List Build a basic contact list using a dictionary. Initially, the dictionary can be empty. Allow users to add new contacts with names and phone numbers. Users should also be able to search for contacts by name and display their phone numbers(use in operator).**"
   ]
  },
  {
   "cell_type": "code",
   "execution_count": 124,
   "id": "ed475eaf",
   "metadata": {},
   "outputs": [
    {
     "name": "stdout",
     "output_type": "stream",
     "text": [
      "Enter name1:sowji\n",
      "enter contact1:123\n",
      "Enter name2:sruthi\n",
      "enter contact2:234\n",
      "Enter name3:sneha\n",
      "enter contact3:456\n"
     ]
    }
   ],
   "source": [
    "contact_list= {}\n",
    "\n",
    "name1= input(\"Enter name1:\")\n",
    "contact1= int(input(\"enter contact1:\"))\n",
    "\n",
    "name2= input(\"Enter name2:\")\n",
    "contact2= int(input(\"enter contact2:\"))\n",
    "\n",
    "name3= input(\"Enter name3:\")\n",
    "contact3= int(input(\"enter contact3:\"))"
   ]
  },
  {
   "cell_type": "code",
   "execution_count": 125,
   "id": "8f9e9980",
   "metadata": {},
   "outputs": [],
   "source": [
    "contact_list.update({name1:contact1,name2:contact2,name3:contact3})\n"
   ]
  },
  {
   "cell_type": "code",
   "execution_count": 127,
   "id": "7aa54335",
   "metadata": {},
   "outputs": [
    {
     "data": {
      "text/plain": [
       "{'sowji': 123, 'sruthi': 234, 'sneha': 456}"
      ]
     },
     "execution_count": 127,
     "metadata": {},
     "output_type": "execute_result"
    }
   ],
   "source": [
    "contact_list"
   ]
  },
  {
   "cell_type": "code",
   "execution_count": 132,
   "id": "e879cdb8",
   "metadata": {},
   "outputs": [
    {
     "name": "stdout",
     "output_type": "stream",
     "text": [
      "enter name: sowji\n"
     ]
    },
    {
     "data": {
      "text/plain": [
       "123"
      ]
     },
     "execution_count": 132,
     "metadata": {},
     "output_type": "execute_result"
    }
   ],
   "source": [
    "contact=input(\"enter name: \")\n",
    "contact_list[contact]\n"
   ]
  },
  {
   "cell_type": "markdown",
   "id": "3ff12538",
   "metadata": {},
   "source": [
    "Task 5: \n",
    "**Dictionary Iteration Write a Python program that defines a dictionary containing the names of fruits as keys and their corresponding colors as values (e.g., 'apple': 'red').Do atleast 5 dictionary methods on it**"
   ]
  },
  {
   "cell_type": "code",
   "execution_count": 133,
   "id": "efba6f14",
   "metadata": {},
   "outputs": [],
   "source": [
    "fruits={\"apple\":\"red\",\"banana\":\"yellow\",\"orange\":\"orange\",\"grapes\":\"green\"}\n"
   ]
  },
  {
   "cell_type": "code",
   "execution_count": 134,
   "id": "20bd6c0d",
   "metadata": {},
   "outputs": [
    {
     "data": {
      "text/plain": [
       "dict"
      ]
     },
     "execution_count": 134,
     "metadata": {},
     "output_type": "execute_result"
    }
   ],
   "source": [
    "type(fruits)"
   ]
  },
  {
   "cell_type": "code",
   "execution_count": 135,
   "id": "6d57fa8b",
   "metadata": {},
   "outputs": [
    {
     "data": {
      "text/plain": [
       "dict_items([('apple', 'red'), ('banana', 'yellow'), ('orange', 'orange'), ('grapes', 'green')])"
      ]
     },
     "execution_count": 135,
     "metadata": {},
     "output_type": "execute_result"
    }
   ],
   "source": [
    "fruits.items()"
   ]
  },
  {
   "cell_type": "code",
   "execution_count": 136,
   "id": "1ec1ddd8",
   "metadata": {},
   "outputs": [
    {
     "data": {
      "text/plain": [
       "dict_keys(['apple', 'banana', 'orange', 'grapes'])"
      ]
     },
     "execution_count": 136,
     "metadata": {},
     "output_type": "execute_result"
    }
   ],
   "source": [
    "fruits.keys()"
   ]
  },
  {
   "cell_type": "code",
   "execution_count": 137,
   "id": "9b9b3672",
   "metadata": {},
   "outputs": [
    {
     "data": {
      "text/plain": [
       "dict_values(['red', 'yellow', 'orange', 'green'])"
      ]
     },
     "execution_count": 137,
     "metadata": {},
     "output_type": "execute_result"
    }
   ],
   "source": [
    "fruits.values()"
   ]
  },
  {
   "cell_type": "code",
   "execution_count": 138,
   "id": "9f663f23",
   "metadata": {},
   "outputs": [],
   "source": [
    "fruits.update({\"promogranite\":\"red\"})"
   ]
  },
  {
   "cell_type": "code",
   "execution_count": 139,
   "id": "fd6e0cc5",
   "metadata": {},
   "outputs": [
    {
     "data": {
      "text/plain": [
       "{'apple': 'red',\n",
       " 'banana': 'yellow',\n",
       " 'orange': 'orange',\n",
       " 'grapes': 'green',\n",
       " 'promogranite': 'red'}"
      ]
     },
     "execution_count": 139,
     "metadata": {},
     "output_type": "execute_result"
    }
   ],
   "source": [
    "fruits"
   ]
  },
  {
   "cell_type": "code",
   "execution_count": 142,
   "id": "566e7994",
   "metadata": {},
   "outputs": [
    {
     "data": {
      "text/plain": [
       "'red'"
      ]
     },
     "execution_count": 142,
     "metadata": {},
     "output_type": "execute_result"
    }
   ],
   "source": [
    "fruits.pop(\"promogranite\")"
   ]
  },
  {
   "cell_type": "code",
   "execution_count": 143,
   "id": "ce9355cd",
   "metadata": {},
   "outputs": [
    {
     "data": {
      "text/plain": [
       "{'apple': 'red', 'banana': 'yellow', 'orange': 'orange', 'grapes': 'green'}"
      ]
     },
     "execution_count": 143,
     "metadata": {},
     "output_type": "execute_result"
    }
   ],
   "source": [
    "fruits"
   ]
  },
  {
   "cell_type": "code",
   "execution_count": 144,
   "id": "2dd892ce",
   "metadata": {},
   "outputs": [
    {
     "data": {
      "text/plain": [
       "('grapes', 'green')"
      ]
     },
     "execution_count": 144,
     "metadata": {},
     "output_type": "execute_result"
    }
   ],
   "source": [
    "fruits.popitem()"
   ]
  },
  {
   "cell_type": "code",
   "execution_count": null,
   "id": "5e9db203",
   "metadata": {},
   "outputs": [],
   "source": []
  }
 ],
 "metadata": {
  "kernelspec": {
   "display_name": "Python 3 (ipykernel)",
   "language": "python",
   "name": "python3"
  },
  "language_info": {
   "codemirror_mode": {
    "name": "ipython",
    "version": 3
   },
   "file_extension": ".py",
   "mimetype": "text/x-python",
   "name": "python",
   "nbconvert_exporter": "python",
   "pygments_lexer": "ipython3",
   "version": "3.11.4"
  }
 },
 "nbformat": 4,
 "nbformat_minor": 5
}

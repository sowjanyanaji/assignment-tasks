{
 "cells": [
  {
   "cell_type": "raw",
   "id": "2d4040d0",
   "metadata": {},
   "source": [
    "# Check the valid Identifiers and invalid identifers using Python"
   ]
  },
  {
   "cell_type": "markdown",
   "id": "aebe5a40",
   "metadata": {},
   "source": [
    "1. **Run all the identifiers and seprate valid and Invalid Identifiers?**\n",
    "\n",
    "2. **Why Python treating them as invalid Identifers.Explain?**"
   ]
  },
  {
   "cell_type": "markdown",
   "id": "77c112d3",
   "metadata": {},
   "source": [
    "* my_variable = 25\n",
    "\n",
    "\n",
    "* counter = 40.7\n",
    "\n",
    "\n",
    "* _total = \"Hello\"\n",
    "\n",
    "\n",
    " - 123abc   = 34      \n",
    " \n",
    " - my variable   =6.7\n",
    " \n",
    " - @count  = \"hi\"      \n",
    " \n",
    " - for   = \"True\"\n",
    " \n",
    "\n",
    "* Name123 = 136\n",
    "\n",
    "* myFunction = True\n",
    "\n",
    "* _data = False\n",
    "- if_condition? = \"Innomatics\"\n",
    "- class = \"Hyderabad\""
   ]
  },
  {
   "cell_type": "markdown",
   "id": "35c32a6f",
   "metadata": {},
   "source": [
    "### Use different identifiers and assign the below values"
   ]
  },
  {
   "cell_type": "markdown",
   "id": "d606e5ac",
   "metadata": {},
   "source": [
    "10\n",
    "\n",
    "-5\n",
    "\n",
    "3.14159\n",
    "\n",
    "-0.12345\n",
    "\n",
    "1000\n",
    "\n",
    "\"Hello, World!\"\n",
    "\n",
    "\"Python\"\n",
    "\n",
    "\"I am learning\"\n",
    "\n",
    "\"Text type\"\n",
    "\n",
    "\"String\"\n",
    "\n",
    "True\n",
    "\n",
    "False\n",
    "\n",
    "True\n",
    "\n",
    "False\n",
    "\n",
    "True\n",
    "\n"
   ]
  },
  {
   "cell_type": "code",
   "execution_count": null,
   "id": "a8ce7a79",
   "metadata": {},
   "outputs": [],
   "source": []
  }
 ],
 "metadata": {
  "kernelspec": {
   "display_name": "Python 3 (ipykernel)",
   "language": "python",
   "name": "python3"
  },
  "language_info": {
   "codemirror_mode": {
    "name": "ipython",
    "version": 3
   },
   "file_extension": ".py",
   "mimetype": "text/x-python",
   "name": "python",
   "nbconvert_exporter": "python",
   "pygments_lexer": "ipython3",
   "version": "3.11.4"
  }
 },
 "nbformat": 4,
 "nbformat_minor": 5
}

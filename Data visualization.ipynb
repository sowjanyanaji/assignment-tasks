{
 "cells": [
  {
   "cell_type": "markdown",
   "id": "96a87c72",
   "metadata": {},
   "source": [
    "# Data visualization"
   ]
  },
  {
   "cell_type": "markdown",
   "id": "db2f3679",
   "metadata": {},
   "source": [
    "pandas ,matplotlib --almst same visualistn\n",
    "\n",
    "seaborn - advanced visualisation"
   ]
  },
  {
   "cell_type": "markdown",
   "id": "9b5277bc",
   "metadata": {},
   "source": [
    "**what are the insights to find using data visualization?**\n",
    "\n",
    "1. B--> breakdown/divide the data(boxplot,pie chart)\n",
    "2. C-->compare the data(line,stacked bar)\n",
    "3. D--> distribution of the data(histogram,density plot,QQplot)\n",
    "4. R--->relationship\n",
    "5. T---->Trends(predicting the future sales)"
   ]
  },
  {
   "cell_type": "markdown",
   "id": "82b9c97a",
   "metadata": {},
   "source": [
    "**Types of Data Visualization**"
   ]
  },
  {
   "cell_type": "markdown",
   "id": "ef033711",
   "metadata": {},
   "source": [
    "1. univariate Analysis--single column\n",
    "2. Bi variate Analysis--2 columns\n",
    "3. Multivariate Analysis--more than 2"
   ]
  },
  {
   "cell_type": "markdown",
   "id": "4e04fcf2",
   "metadata": {},
   "source": [
    "## univariate Analysis"
   ]
  },
  {
   "cell_type": "markdown",
   "id": "665b82ff",
   "metadata": {},
   "source": [
    "1. it can be number or categorical\n",
    "2. if the data contains numerical/numbers--> we need to use HBD plot(h-histogram,b-boxplot,d-density plot)\n",
    "3. if the data contains categorical variates--> we use CBP plot(c-countplot,barplot,piechart)\n"
   ]
  },
  {
   "cell_type": "markdown",
   "id": "15a83048",
   "metadata": {},
   "source": [
    "countplot is from seaborn, countplot and barplot are same, barplot is from pandas and matplotlib"
   ]
  },
  {
   "cell_type": "markdown",
   "id": "d363ca32",
   "metadata": {},
   "source": [
    "Numerical:\n",
    "    \n",
    "    Histogram -- To find the 'Distribution'(fre/count vs columns)\n",
    "    boxplot---breakdown, to check the outliers\n",
    "    density--To find the distribution(probabilty density vs columns)"
   ]
  },
  {
   "cell_type": "markdown",
   "id": "e3fab2db",
   "metadata": {},
   "source": [
    "# Anatomy of plot"
   ]
  },
  {
   "cell_type": "markdown",
   "id": "c0c2ed8b",
   "metadata": {},
   "source": [
    "Parameters of the plot\n",
    "1. x-axis-->x labels , y-axis-->y labels\n",
    "2. dots on x and y axis is called x ticks and y ticks(value representation of repsective columns)\n",
    "3. legends --indicating colours of each bar\n",
    "4. binsize\n",
    "5. color\n",
    "6. Title of the plot"
   ]
  },
  {
   "cell_type": "markdown",
   "id": "eb35e759",
   "metadata": {},
   "source": [
    "Title : Car Price Analysis\n",
    "\n",
    "Problem statement : Analysing the price of the car based upon some input features/columns\n",
    "\n",
    "features(brand, no of doors,capacity, fueltype, cylinder,mpq"
   ]
  },
  {
   "cell_type": "code",
   "execution_count": 28,
   "id": "06aef9b0",
   "metadata": {},
   "outputs": [],
   "source": [
    "import numpy as np\n",
    "import pandas as pd\n",
    "import matplotlib.pyplot as plt\n",
    "import seaborn as sns"
   ]
  },
  {
   "cell_type": "markdown",
   "id": "b101d0e6",
   "metadata": {},
   "source": [
    "# importing the Dataset"
   ]
  },
  {
   "cell_type": "code",
   "execution_count": 29,
   "id": "1851bf4e",
   "metadata": {},
   "outputs": [
    {
     "data": {
      "text/html": [
       "<div>\n",
       "<style scoped>\n",
       "    .dataframe tbody tr th:only-of-type {\n",
       "        vertical-align: middle;\n",
       "    }\n",
       "\n",
       "    .dataframe tbody tr th {\n",
       "        vertical-align: top;\n",
       "    }\n",
       "\n",
       "    .dataframe thead th {\n",
       "        text-align: right;\n",
       "    }\n",
       "</style>\n",
       "<table border=\"1\" class=\"dataframe\">\n",
       "  <thead>\n",
       "    <tr style=\"text-align: right;\">\n",
       "      <th></th>\n",
       "      <th>Unnamed: 0.1</th>\n",
       "      <th>Unnamed: 0</th>\n",
       "      <th>make</th>\n",
       "      <th>fuel_type</th>\n",
       "      <th>aspiration</th>\n",
       "      <th>num_of_doors</th>\n",
       "      <th>body_style</th>\n",
       "      <th>drive_wheels</th>\n",
       "      <th>engine_location</th>\n",
       "      <th>wheel_base</th>\n",
       "      <th>...</th>\n",
       "      <th>engine_type</th>\n",
       "      <th>num_of_cylinders</th>\n",
       "      <th>engine_size</th>\n",
       "      <th>fuel_system</th>\n",
       "      <th>compression_ratio</th>\n",
       "      <th>horsepower</th>\n",
       "      <th>peak_rpm</th>\n",
       "      <th>city_mpg</th>\n",
       "      <th>highway_mpg</th>\n",
       "      <th>price</th>\n",
       "    </tr>\n",
       "  </thead>\n",
       "  <tbody>\n",
       "    <tr>\n",
       "      <th>0</th>\n",
       "      <td>0</td>\n",
       "      <td>1</td>\n",
       "      <td>alfa-romero</td>\n",
       "      <td>gas</td>\n",
       "      <td>std</td>\n",
       "      <td>two</td>\n",
       "      <td>convertible</td>\n",
       "      <td>rwd</td>\n",
       "      <td>front</td>\n",
       "      <td>88.6</td>\n",
       "      <td>...</td>\n",
       "      <td>dohc</td>\n",
       "      <td>four</td>\n",
       "      <td>130.0</td>\n",
       "      <td>mpfi</td>\n",
       "      <td>9.0</td>\n",
       "      <td>111</td>\n",
       "      <td>5000</td>\n",
       "      <td>21</td>\n",
       "      <td>27</td>\n",
       "      <td>13495</td>\n",
       "    </tr>\n",
       "    <tr>\n",
       "      <th>1</th>\n",
       "      <td>1</td>\n",
       "      <td>2</td>\n",
       "      <td>alfa-romero</td>\n",
       "      <td>gas</td>\n",
       "      <td>std</td>\n",
       "      <td>two</td>\n",
       "      <td>convertible</td>\n",
       "      <td>rwd</td>\n",
       "      <td>front</td>\n",
       "      <td>88.6</td>\n",
       "      <td>...</td>\n",
       "      <td>dohc</td>\n",
       "      <td>four</td>\n",
       "      <td>130.0</td>\n",
       "      <td>mpfi</td>\n",
       "      <td>9.0</td>\n",
       "      <td>111</td>\n",
       "      <td>5000</td>\n",
       "      <td>21</td>\n",
       "      <td>27</td>\n",
       "      <td>16500</td>\n",
       "    </tr>\n",
       "    <tr>\n",
       "      <th>2</th>\n",
       "      <td>2</td>\n",
       "      <td>3</td>\n",
       "      <td>alfa-romero</td>\n",
       "      <td>gas</td>\n",
       "      <td>std</td>\n",
       "      <td>two</td>\n",
       "      <td>hatchback</td>\n",
       "      <td>rwd</td>\n",
       "      <td>front</td>\n",
       "      <td>94.5</td>\n",
       "      <td>...</td>\n",
       "      <td>ohcv</td>\n",
       "      <td>six</td>\n",
       "      <td>152.0</td>\n",
       "      <td>mpfi</td>\n",
       "      <td>9.0</td>\n",
       "      <td>154</td>\n",
       "      <td>5000</td>\n",
       "      <td>19</td>\n",
       "      <td>26</td>\n",
       "      <td>16500</td>\n",
       "    </tr>\n",
       "    <tr>\n",
       "      <th>3</th>\n",
       "      <td>3</td>\n",
       "      <td>4</td>\n",
       "      <td>audi</td>\n",
       "      <td>gas</td>\n",
       "      <td>std</td>\n",
       "      <td>four</td>\n",
       "      <td>sedan</td>\n",
       "      <td>fwd</td>\n",
       "      <td>front</td>\n",
       "      <td>99.8</td>\n",
       "      <td>...</td>\n",
       "      <td>ohc</td>\n",
       "      <td>four</td>\n",
       "      <td>109.0</td>\n",
       "      <td>mpfi</td>\n",
       "      <td>10.0</td>\n",
       "      <td>102</td>\n",
       "      <td>5500</td>\n",
       "      <td>24</td>\n",
       "      <td>30</td>\n",
       "      <td>13950</td>\n",
       "    </tr>\n",
       "    <tr>\n",
       "      <th>4</th>\n",
       "      <td>4</td>\n",
       "      <td>5</td>\n",
       "      <td>audi</td>\n",
       "      <td>gas</td>\n",
       "      <td>std</td>\n",
       "      <td>four</td>\n",
       "      <td>sedan</td>\n",
       "      <td>4wd</td>\n",
       "      <td>front</td>\n",
       "      <td>99.4</td>\n",
       "      <td>...</td>\n",
       "      <td>ohc</td>\n",
       "      <td>five</td>\n",
       "      <td>136.0</td>\n",
       "      <td>mpfi</td>\n",
       "      <td>8.0</td>\n",
       "      <td>115</td>\n",
       "      <td>5500</td>\n",
       "      <td>18</td>\n",
       "      <td>22</td>\n",
       "      <td>17450</td>\n",
       "    </tr>\n",
       "  </tbody>\n",
       "</table>\n",
       "<p>5 rows × 24 columns</p>\n",
       "</div>"
      ],
      "text/plain": [
       "   Unnamed: 0.1  Unnamed: 0         make fuel_type aspiration num_of_doors  \\\n",
       "0             0           1  alfa-romero       gas        std          two   \n",
       "1             1           2  alfa-romero       gas        std          two   \n",
       "2             2           3  alfa-romero       gas        std          two   \n",
       "3             3           4         audi       gas        std         four   \n",
       "4             4           5         audi       gas        std         four   \n",
       "\n",
       "    body_style drive_wheels engine_location  wheel_base  ...  engine_type  \\\n",
       "0  convertible          rwd           front        88.6  ...         dohc   \n",
       "1  convertible          rwd           front        88.6  ...         dohc   \n",
       "2    hatchback          rwd           front        94.5  ...         ohcv   \n",
       "3        sedan          fwd           front        99.8  ...          ohc   \n",
       "4        sedan          4wd           front        99.4  ...          ohc   \n",
       "\n",
       "   num_of_cylinders  engine_size  fuel_system compression_ratio horsepower  \\\n",
       "0              four        130.0         mpfi               9.0        111   \n",
       "1              four        130.0         mpfi               9.0        111   \n",
       "2               six        152.0         mpfi               9.0        154   \n",
       "3              four        109.0         mpfi              10.0        102   \n",
       "4              five        136.0         mpfi               8.0        115   \n",
       "\n",
       "   peak_rpm city_mpg  highway_mpg  price  \n",
       "0      5000       21           27  13495  \n",
       "1      5000       21           27  16500  \n",
       "2      5000       19           26  16500  \n",
       "3      5500       24           30  13950  \n",
       "4      5500       18           22  17450  \n",
       "\n",
       "[5 rows x 24 columns]"
      ]
     },
     "execution_count": 29,
     "metadata": {},
     "output_type": "execute_result"
    }
   ],
   "source": [
    "df = pd.read_csv(r\"C:\\Users\\anaji\\Sowjanya\\car_df_EDA.csv\")\n",
    "df.head()  # first 5 rows of columns"
   ]
  },
  {
   "cell_type": "code",
   "execution_count": 30,
   "id": "f8b35074",
   "metadata": {},
   "outputs": [],
   "source": [
    "file = open (r\"C:\\Users\\anaji\\Sowjanya\\data_description.txt\")"
   ]
  },
  {
   "cell_type": "code",
   "execution_count": 31,
   "id": "5378512c",
   "metadata": {},
   "outputs": [
    {
     "name": "stdout",
     "output_type": "stream",
     "text": [
      "1. `Unnamed: 0.1`: An unnamed or index column, possibly used for row identification.\n",
      "2. `Unnamed: 0`: Another unnamed or index column, which may also serve for row identification.\n",
      "3. `make`: The brand or manufacturer of the vehicle.\n",
      "4. `fuel_type`: The type of fuel the vehicle uses (e.g., gasoline, diesel, etc.).\n",
      "5. `aspiration`: Indicates whether the engine has a turbocharger or is naturally aspirated.\n",
      "6. `num_of_doors`: The number of doors on the vehicle (e.g., two doors, four doors).\n",
      "7. `body_style`: Describes the body style of the vehicle (e.g., sedan, coupe, hatchback).\n",
      "8. `drive_wheels`: Specifies the type of drive wheels (e.g., front-wheel drive, rear-wheel drive, all-wheel drive).\n",
      "9. `engine_location`: Indicates where the engine is located in the vehicle (e.g., front, rear).\n",
      "10. `wheel_base`: The distance between the front and rear axles of the vehicle.\n",
      "11. `length`: The length of the vehicle.\n",
      "12. `width`: The width of the vehicle.\n",
      "13. `height`: The height of the vehicle.\n",
      "14. `curb_weight`: The weight of the vehicle with standard equipment and a full tank of fuel.\n",
      "15. `engine_type`: Describes the type of engine (e.g., dohc, ohv, etc.).\n",
      "16. `num_of_cylinders`: The number of cylinders in the engine (e.g., four cylinders, six cylinders).\n",
      "17. `engine_size`: The size or displacement of the engine in cubic centimeters (cc).\n",
      "18. `fuel_system`: The type of fuel delivery system (e.g., mpfi, 2bbl, etc.).\n",
      "19. `compression_ratio`: The compression ratio of the engine, which relates to its efficiency and power output.\n",
      "20. `horsepower`: The engine's horsepower rating, a measure of its power.\n",
      "21. `peak_rpm`: The engine's peak RPM (Revolutions Per Minute) at which it produces the maximum power.\n",
      "22. `city_mpg`: The vehicle's estimated miles per gallon (MPG) fuel efficiency in city driving conditions.\n",
      "23. `highway_mpg`: The vehicle's estimated MPG fuel efficiency on the highway.\n",
      "24. `price`: The price of the vehicle, typically in the dataset's currency (e.g., dollars).\n",
      "\n",
      "\n"
     ]
    }
   ],
   "source": [
    "print(file.read())"
   ]
  },
  {
   "cell_type": "code",
   "execution_count": 32,
   "id": "7b0f57f3",
   "metadata": {},
   "outputs": [
    {
     "name": "stdout",
     "output_type": "stream",
     "text": [
      "<class 'pandas.core.frame.DataFrame'>\n",
      "RangeIndex: 208 entries, 0 to 207\n",
      "Data columns (total 24 columns):\n",
      " #   Column             Non-Null Count  Dtype  \n",
      "---  ------             --------------  -----  \n",
      " 0   Unnamed: 0.1       208 non-null    int64  \n",
      " 1   Unnamed: 0         208 non-null    int64  \n",
      " 2   make               208 non-null    object \n",
      " 3   fuel_type          208 non-null    object \n",
      " 4   aspiration         208 non-null    object \n",
      " 5   num_of_doors       208 non-null    object \n",
      " 6   body_style         208 non-null    object \n",
      " 7   drive_wheels       208 non-null    object \n",
      " 8   engine_location    208 non-null    object \n",
      " 9   wheel_base         206 non-null    float64\n",
      " 10  length             208 non-null    float64\n",
      " 11  width              208 non-null    float64\n",
      " 12  height             208 non-null    float64\n",
      " 13  curb_weight        208 non-null    int64  \n",
      " 14  engine_type        207 non-null    object \n",
      " 15  num_of_cylinders   208 non-null    object \n",
      " 16  engine_size        206 non-null    float64\n",
      " 17  fuel_system        208 non-null    object \n",
      " 18  compression_ratio  208 non-null    float64\n",
      " 19  horsepower         208 non-null    object \n",
      " 20  peak_rpm           208 non-null    object \n",
      " 21  city_mpg           208 non-null    int64  \n",
      " 22  highway_mpg        208 non-null    int64  \n",
      " 23  price              204 non-null    object \n",
      "dtypes: float64(6), int64(5), object(13)\n",
      "memory usage: 39.1+ KB\n"
     ]
    }
   ],
   "source": [
    "df.info()"
   ]
  },
  {
   "cell_type": "code",
   "execution_count": 23,
   "id": "5784e784",
   "metadata": {},
   "outputs": [
    {
     "data": {
      "text/html": [
       "<div>\n",
       "<style scoped>\n",
       "    .dataframe tbody tr th:only-of-type {\n",
       "        vertical-align: middle;\n",
       "    }\n",
       "\n",
       "    .dataframe tbody tr th {\n",
       "        vertical-align: top;\n",
       "    }\n",
       "\n",
       "    .dataframe thead th {\n",
       "        text-align: right;\n",
       "    }\n",
       "</style>\n",
       "<table border=\"1\" class=\"dataframe\">\n",
       "  <thead>\n",
       "    <tr style=\"text-align: right;\">\n",
       "      <th></th>\n",
       "      <th>Unnamed: 0.1</th>\n",
       "      <th>Unnamed: 0</th>\n",
       "      <th>wheel_base</th>\n",
       "      <th>length</th>\n",
       "      <th>width</th>\n",
       "      <th>height</th>\n",
       "      <th>curb_weight</th>\n",
       "      <th>engine_size</th>\n",
       "      <th>compression_ratio</th>\n",
       "      <th>city_mpg</th>\n",
       "      <th>highway_mpg</th>\n",
       "    </tr>\n",
       "  </thead>\n",
       "  <tbody>\n",
       "    <tr>\n",
       "      <th>count</th>\n",
       "      <td>208.000000</td>\n",
       "      <td>208.000000</td>\n",
       "      <td>206.000000</td>\n",
       "      <td>208.000000</td>\n",
       "      <td>208.000000</td>\n",
       "      <td>208.000000</td>\n",
       "      <td>208.000000</td>\n",
       "      <td>206.000000</td>\n",
       "      <td>208.000000</td>\n",
       "      <td>208.000000</td>\n",
       "      <td>208.000000</td>\n",
       "    </tr>\n",
       "    <tr>\n",
       "      <th>mean</th>\n",
       "      <td>103.456731</td>\n",
       "      <td>104.456731</td>\n",
       "      <td>98.919903</td>\n",
       "      <td>174.262019</td>\n",
       "      <td>65.950962</td>\n",
       "      <td>53.750481</td>\n",
       "      <td>2563.375000</td>\n",
       "      <td>127.543689</td>\n",
       "      <td>10.194808</td>\n",
       "      <td>25.158654</td>\n",
       "      <td>30.668269</td>\n",
       "    </tr>\n",
       "    <tr>\n",
       "      <th>std</th>\n",
       "      <td>60.115573</td>\n",
       "      <td>60.115573</td>\n",
       "      <td>6.121266</td>\n",
       "      <td>12.373790</td>\n",
       "      <td>2.159419</td>\n",
       "      <td>2.435010</td>\n",
       "      <td>521.034018</td>\n",
       "      <td>41.599197</td>\n",
       "      <td>4.044135</td>\n",
       "      <td>6.528187</td>\n",
       "      <td>6.873639</td>\n",
       "    </tr>\n",
       "    <tr>\n",
       "      <th>min</th>\n",
       "      <td>0.000000</td>\n",
       "      <td>1.000000</td>\n",
       "      <td>86.600000</td>\n",
       "      <td>141.100000</td>\n",
       "      <td>60.300000</td>\n",
       "      <td>47.800000</td>\n",
       "      <td>1488.000000</td>\n",
       "      <td>61.000000</td>\n",
       "      <td>7.000000</td>\n",
       "      <td>13.000000</td>\n",
       "      <td>16.000000</td>\n",
       "    </tr>\n",
       "    <tr>\n",
       "      <th>25%</th>\n",
       "      <td>51.750000</td>\n",
       "      <td>52.750000</td>\n",
       "      <td>94.500000</td>\n",
       "      <td>166.675000</td>\n",
       "      <td>64.100000</td>\n",
       "      <td>52.000000</td>\n",
       "      <td>2163.000000</td>\n",
       "      <td>98.000000</td>\n",
       "      <td>8.600000</td>\n",
       "      <td>19.000000</td>\n",
       "      <td>25.000000</td>\n",
       "    </tr>\n",
       "    <tr>\n",
       "      <th>50%</th>\n",
       "      <td>103.500000</td>\n",
       "      <td>104.500000</td>\n",
       "      <td>97.000000</td>\n",
       "      <td>173.200000</td>\n",
       "      <td>65.500000</td>\n",
       "      <td>54.100000</td>\n",
       "      <td>2422.500000</td>\n",
       "      <td>120.000000</td>\n",
       "      <td>9.000000</td>\n",
       "      <td>24.000000</td>\n",
       "      <td>30.000000</td>\n",
       "    </tr>\n",
       "    <tr>\n",
       "      <th>75%</th>\n",
       "      <td>155.250000</td>\n",
       "      <td>156.250000</td>\n",
       "      <td>102.400000</td>\n",
       "      <td>183.775000</td>\n",
       "      <td>66.900000</td>\n",
       "      <td>55.500000</td>\n",
       "      <td>2959.250000</td>\n",
       "      <td>145.000000</td>\n",
       "      <td>9.400000</td>\n",
       "      <td>30.000000</td>\n",
       "      <td>34.000000</td>\n",
       "    </tr>\n",
       "    <tr>\n",
       "      <th>max</th>\n",
       "      <td>204.000000</td>\n",
       "      <td>205.000000</td>\n",
       "      <td>120.900000</td>\n",
       "      <td>208.100000</td>\n",
       "      <td>72.300000</td>\n",
       "      <td>59.800000</td>\n",
       "      <td>4066.000000</td>\n",
       "      <td>326.000000</td>\n",
       "      <td>23.000000</td>\n",
       "      <td>49.000000</td>\n",
       "      <td>54.000000</td>\n",
       "    </tr>\n",
       "  </tbody>\n",
       "</table>\n",
       "</div>"
      ],
      "text/plain": [
       "       Unnamed: 0.1  Unnamed: 0  wheel_base      length       width  \\\n",
       "count    208.000000  208.000000  206.000000  208.000000  208.000000   \n",
       "mean     103.456731  104.456731   98.919903  174.262019   65.950962   \n",
       "std       60.115573   60.115573    6.121266   12.373790    2.159419   \n",
       "min        0.000000    1.000000   86.600000  141.100000   60.300000   \n",
       "25%       51.750000   52.750000   94.500000  166.675000   64.100000   \n",
       "50%      103.500000  104.500000   97.000000  173.200000   65.500000   \n",
       "75%      155.250000  156.250000  102.400000  183.775000   66.900000   \n",
       "max      204.000000  205.000000  120.900000  208.100000   72.300000   \n",
       "\n",
       "           height  curb_weight  engine_size  compression_ratio    city_mpg  \\\n",
       "count  208.000000   208.000000   206.000000         208.000000  208.000000   \n",
       "mean    53.750481  2563.375000   127.543689          10.194808   25.158654   \n",
       "std      2.435010   521.034018    41.599197           4.044135    6.528187   \n",
       "min     47.800000  1488.000000    61.000000           7.000000   13.000000   \n",
       "25%     52.000000  2163.000000    98.000000           8.600000   19.000000   \n",
       "50%     54.100000  2422.500000   120.000000           9.000000   24.000000   \n",
       "75%     55.500000  2959.250000   145.000000           9.400000   30.000000   \n",
       "max     59.800000  4066.000000   326.000000          23.000000   49.000000   \n",
       "\n",
       "       highway_mpg  \n",
       "count   208.000000  \n",
       "mean     30.668269  \n",
       "std       6.873639  \n",
       "min      16.000000  \n",
       "25%      25.000000  \n",
       "50%      30.000000  \n",
       "75%      34.000000  \n",
       "max      54.000000  "
      ]
     },
     "execution_count": 23,
     "metadata": {},
     "output_type": "execute_result"
    }
   ],
   "source": [
    "df.describe()"
   ]
  },
  {
   "cell_type": "markdown",
   "id": "fed389f4",
   "metadata": {},
   "source": [
    "# Data Cleaning"
   ]
  },
  {
   "cell_type": "markdown",
   "id": "80bd46cd",
   "metadata": {},
   "source": [
    "1. what is the maximum price of audi car?"
   ]
  },
  {
   "cell_type": "code",
   "execution_count": 25,
   "id": "1c06ea1f",
   "metadata": {},
   "outputs": [
    {
     "data": {
      "text/plain": [
       "array(['alfa-romero', 'audi', 'bmw', 'chevrolet', 'dodge', 'honda',\n",
       "       'isuzu', 'jaguar', 'mazda', 'mercedes-benz', 'mercury',\n",
       "       'mitsubishi', 'nissan', 'peugot', 'plymouth', 'porsche', 'renault',\n",
       "       'saab', 'subaru', 'toyota', 'volkswagen', 'volvo'], dtype=object)"
      ]
     },
     "execution_count": 25,
     "metadata": {},
     "output_type": "execute_result"
    }
   ],
   "source": [
    "df['make'].unique()"
   ]
  },
  {
   "cell_type": "markdown",
   "id": "4445278c",
   "metadata": {},
   "source": [
    "# to check duplicate values"
   ]
  },
  {
   "cell_type": "code",
   "execution_count": 33,
   "id": "d9b156f2",
   "metadata": {},
   "outputs": [
    {
     "data": {
      "text/plain": [
       "3"
      ]
     },
     "execution_count": 33,
     "metadata": {},
     "output_type": "execute_result"
    }
   ],
   "source": [
    "df.duplicated().sum()"
   ]
  },
  {
   "cell_type": "code",
   "execution_count": 34,
   "id": "e05b2d89",
   "metadata": {},
   "outputs": [
    {
     "data": {
      "text/html": [
       "<div>\n",
       "<style scoped>\n",
       "    .dataframe tbody tr th:only-of-type {\n",
       "        vertical-align: middle;\n",
       "    }\n",
       "\n",
       "    .dataframe tbody tr th {\n",
       "        vertical-align: top;\n",
       "    }\n",
       "\n",
       "    .dataframe thead th {\n",
       "        text-align: right;\n",
       "    }\n",
       "</style>\n",
       "<table border=\"1\" class=\"dataframe\">\n",
       "  <thead>\n",
       "    <tr style=\"text-align: right;\">\n",
       "      <th></th>\n",
       "      <th>Unnamed: 0.1</th>\n",
       "      <th>Unnamed: 0</th>\n",
       "      <th>make</th>\n",
       "      <th>fuel_type</th>\n",
       "      <th>aspiration</th>\n",
       "      <th>num_of_doors</th>\n",
       "      <th>body_style</th>\n",
       "      <th>drive_wheels</th>\n",
       "      <th>engine_location</th>\n",
       "      <th>wheel_base</th>\n",
       "      <th>...</th>\n",
       "      <th>engine_type</th>\n",
       "      <th>num_of_cylinders</th>\n",
       "      <th>engine_size</th>\n",
       "      <th>fuel_system</th>\n",
       "      <th>compression_ratio</th>\n",
       "      <th>horsepower</th>\n",
       "      <th>peak_rpm</th>\n",
       "      <th>city_mpg</th>\n",
       "      <th>highway_mpg</th>\n",
       "      <th>price</th>\n",
       "    </tr>\n",
       "  </thead>\n",
       "  <tbody>\n",
       "    <tr>\n",
       "      <th>205</th>\n",
       "      <td>202</td>\n",
       "      <td>203</td>\n",
       "      <td>volvo</td>\n",
       "      <td>gas</td>\n",
       "      <td>std</td>\n",
       "      <td>four</td>\n",
       "      <td>sedan</td>\n",
       "      <td>rwd</td>\n",
       "      <td>front</td>\n",
       "      <td>109.1</td>\n",
       "      <td>...</td>\n",
       "      <td>ohcv</td>\n",
       "      <td>six</td>\n",
       "      <td>173.0</td>\n",
       "      <td>mpfi</td>\n",
       "      <td>8.8</td>\n",
       "      <td>134</td>\n",
       "      <td>5500</td>\n",
       "      <td>18</td>\n",
       "      <td>23</td>\n",
       "      <td>21485</td>\n",
       "    </tr>\n",
       "    <tr>\n",
       "      <th>206</th>\n",
       "      <td>203</td>\n",
       "      <td>204</td>\n",
       "      <td>volvo</td>\n",
       "      <td>diesel</td>\n",
       "      <td>turbo</td>\n",
       "      <td>four</td>\n",
       "      <td>sedan</td>\n",
       "      <td>rwd</td>\n",
       "      <td>front</td>\n",
       "      <td>109.1</td>\n",
       "      <td>...</td>\n",
       "      <td>ohc</td>\n",
       "      <td>six</td>\n",
       "      <td>145.0</td>\n",
       "      <td>idi</td>\n",
       "      <td>23.0</td>\n",
       "      <td>106</td>\n",
       "      <td>4800</td>\n",
       "      <td>26</td>\n",
       "      <td>27</td>\n",
       "      <td>NaN</td>\n",
       "    </tr>\n",
       "    <tr>\n",
       "      <th>207</th>\n",
       "      <td>204</td>\n",
       "      <td>205</td>\n",
       "      <td>volvo</td>\n",
       "      <td>gas</td>\n",
       "      <td>turbo</td>\n",
       "      <td>four</td>\n",
       "      <td>sedan</td>\n",
       "      <td>rwd</td>\n",
       "      <td>front</td>\n",
       "      <td>109.1</td>\n",
       "      <td>...</td>\n",
       "      <td>ohc</td>\n",
       "      <td>four</td>\n",
       "      <td>141.0</td>\n",
       "      <td>mpfi</td>\n",
       "      <td>9.5</td>\n",
       "      <td>114</td>\n",
       "      <td>5400</td>\n",
       "      <td>19</td>\n",
       "      <td>25</td>\n",
       "      <td>22625</td>\n",
       "    </tr>\n",
       "  </tbody>\n",
       "</table>\n",
       "<p>3 rows × 24 columns</p>\n",
       "</div>"
      ],
      "text/plain": [
       "     Unnamed: 0.1  Unnamed: 0   make fuel_type aspiration num_of_doors  \\\n",
       "205           202         203  volvo       gas        std         four   \n",
       "206           203         204  volvo    diesel      turbo         four   \n",
       "207           204         205  volvo       gas      turbo         four   \n",
       "\n",
       "    body_style drive_wheels engine_location  wheel_base  ...  engine_type  \\\n",
       "205      sedan          rwd           front       109.1  ...         ohcv   \n",
       "206      sedan          rwd           front       109.1  ...          ohc   \n",
       "207      sedan          rwd           front       109.1  ...          ohc   \n",
       "\n",
       "     num_of_cylinders  engine_size  fuel_system compression_ratio horsepower  \\\n",
       "205               six        173.0         mpfi               8.8        134   \n",
       "206               six        145.0          idi              23.0        106   \n",
       "207              four        141.0         mpfi               9.5        114   \n",
       "\n",
       "     peak_rpm city_mpg  highway_mpg  price  \n",
       "205      5500       18           23  21485  \n",
       "206      4800       26           27    NaN  \n",
       "207      5400       19           25  22625  \n",
       "\n",
       "[3 rows x 24 columns]"
      ]
     },
     "execution_count": 34,
     "metadata": {},
     "output_type": "execute_result"
    }
   ],
   "source": [
    "df[df.duplicated()]"
   ]
  },
  {
   "cell_type": "code",
   "execution_count": 35,
   "id": "61f5e1a3",
   "metadata": {},
   "outputs": [],
   "source": [
    "df.drop_duplicates(keep = 'first', inplace = True)"
   ]
  },
  {
   "cell_type": "code",
   "execution_count": 36,
   "id": "b1f2ef7a",
   "metadata": {},
   "outputs": [
    {
     "data": {
      "text/plain": [
       "0"
      ]
     },
     "execution_count": 36,
     "metadata": {},
     "output_type": "execute_result"
    }
   ],
   "source": [
    "df.duplicated().sum()"
   ]
  },
  {
   "cell_type": "markdown",
   "id": "97cccc5c",
   "metadata": {},
   "source": [
    "# structural errors"
   ]
  },
  {
   "cell_type": "code",
   "execution_count": 37,
   "id": "aec620e7",
   "metadata": {},
   "outputs": [],
   "source": [
    "df.drop(['Unnamed: 0.1','Unnamed: 0'],axis =1 ,inplace = True)"
   ]
  },
  {
   "cell_type": "code",
   "execution_count": 38,
   "id": "ba63dadb",
   "metadata": {},
   "outputs": [
    {
     "data": {
      "text/plain": [
       "Index(['make', 'fuel_type', 'aspiration', 'num_of_doors', 'body_style',\n",
       "       'drive_wheels', 'engine_location', 'wheel_base', 'length', 'width',\n",
       "       'height', 'curb_weight', 'engine_type', 'num_of_cylinders',\n",
       "       'engine_size', 'fuel_system', 'compression_ratio', 'horsepower',\n",
       "       'peak_rpm', 'city_mpg', 'highway_mpg', 'price'],\n",
       "      dtype='object')"
      ]
     },
     "execution_count": 38,
     "metadata": {},
     "output_type": "execute_result"
    }
   ],
   "source": [
    "df.columns"
   ]
  },
  {
   "cell_type": "markdown",
   "id": "bca7034f",
   "metadata": {},
   "source": [
    "to find structural erros:\n",
    "    if data type is categorical-- use unique method\n",
    "    if data type is numerical ---"
   ]
  },
  {
   "cell_type": "code",
   "execution_count": 40,
   "id": "363485c9",
   "metadata": {},
   "outputs": [
    {
     "data": {
      "text/plain": [
       "(dtype('O'),\n",
       " array(['alfa-romero', 'audi', 'bmw', 'chevrolet', 'dodge', 'honda',\n",
       "        'isuzu', 'jaguar', 'mazda', 'mercedes-benz', 'mercury',\n",
       "        'mitsubishi', 'nissan', 'peugot', 'plymouth', 'porsche', 'renault',\n",
       "        'saab', 'subaru', 'toyota', 'volkswagen', 'volvo'], dtype=object))"
      ]
     },
     "execution_count": 40,
     "metadata": {},
     "output_type": "execute_result"
    }
   ],
   "source": [
    "df['make'].dtype,df['make'].unique() "
   ]
  },
  {
   "cell_type": "code",
   "execution_count": 41,
   "id": "aa201d69",
   "metadata": {},
   "outputs": [
    {
     "data": {
      "text/plain": [
       "(dtype('O'), array(['gas', 'diesel'], dtype=object))"
      ]
     },
     "execution_count": 41,
     "metadata": {},
     "output_type": "execute_result"
    }
   ],
   "source": [
    "df['fuel_type'].dtype,df['fuel_type'].unique()"
   ]
  },
  {
   "cell_type": "code",
   "execution_count": 42,
   "id": "7fb9996c",
   "metadata": {},
   "outputs": [
    {
     "data": {
      "text/plain": [
       "(dtype('O'), array(['std', 'turbo'], dtype=object))"
      ]
     },
     "execution_count": 42,
     "metadata": {},
     "output_type": "execute_result"
    }
   ],
   "source": [
    "df['aspiration'].dtype,df['aspiration'].unique()"
   ]
  },
  {
   "cell_type": "code",
   "execution_count": 43,
   "id": "9ad9053f",
   "metadata": {},
   "outputs": [
    {
     "data": {
      "text/plain": [
       "dtype('O')"
      ]
     },
     "execution_count": 43,
     "metadata": {},
     "output_type": "execute_result"
    }
   ],
   "source": [
    "df['num_of_doors'].dtype"
   ]
  },
  {
   "cell_type": "code",
   "execution_count": 44,
   "id": "a8ba7b18",
   "metadata": {},
   "outputs": [
    {
     "data": {
      "text/plain": [
       "array(['two', 'four', '?'], dtype=object)"
      ]
     },
     "execution_count": 44,
     "metadata": {},
     "output_type": "execute_result"
    }
   ],
   "source": [
    "df['num_of_doors'].unique()"
   ]
  },
  {
   "cell_type": "code",
   "execution_count": 45,
   "id": "b4ed2ff0",
   "metadata": {},
   "outputs": [],
   "source": [
    "def door(n):\n",
    "    if n == 'two':\n",
    "        return 2\n",
    "    elif n == 'four':\n",
    "        return 4\n",
    "    else:\n",
    "        return np.nan"
   ]
  },
  {
   "cell_type": "code",
   "execution_count": 46,
   "id": "12f7d38e",
   "metadata": {},
   "outputs": [],
   "source": [
    "df['num_of_doors']= df['num_of_doors'].apply(door)"
   ]
  },
  {
   "cell_type": "code",
   "execution_count": 47,
   "id": "2d50eb7e",
   "metadata": {},
   "outputs": [
    {
     "data": {
      "text/plain": [
       "array([ 2.,  4., nan])"
      ]
     },
     "execution_count": 47,
     "metadata": {},
     "output_type": "execute_result"
    }
   ],
   "source": [
    "df['num_of_doors'].unique()"
   ]
  },
  {
   "cell_type": "code",
   "execution_count": 48,
   "id": "524c5e82",
   "metadata": {},
   "outputs": [
    {
     "data": {
      "text/plain": [
       "dtype('O')"
      ]
     },
     "execution_count": 48,
     "metadata": {},
     "output_type": "execute_result"
    }
   ],
   "source": [
    "df['body_style'].dtype"
   ]
  },
  {
   "cell_type": "code",
   "execution_count": 49,
   "id": "88d1ba6b",
   "metadata": {},
   "outputs": [
    {
     "data": {
      "text/plain": [
       "array(['convertible', 'hatchback', 'sedan', 'wagon', 'hardtop'],\n",
       "      dtype=object)"
      ]
     },
     "execution_count": 49,
     "metadata": {},
     "output_type": "execute_result"
    }
   ],
   "source": [
    "df['body_style'].unique()   #to check structural errors and datatype for categoriacl we ise unique"
   ]
  },
  {
   "cell_type": "code",
   "execution_count": 50,
   "id": "5f15ba92",
   "metadata": {},
   "outputs": [
    {
     "data": {
      "text/plain": [
       "array([168.8, 171.2, 176.6, 177.3, 192.7, 178.2, 176.8, 189. , 193.8,\n",
       "       197. , 141.1, 155.9, 158.8, 157.3, 174.6, 173.2, 144.6, 150. ,\n",
       "       163.4, 157.1, 167.5, 175.4, 169.1, 170.7, 172.6, 199.6, 191.7,\n",
       "       159.1, 166.8, 169. , 177.8, 175. , 190.9, 187.5, 202.6, 180.3,\n",
       "       208.1, 199.2, 178.4, 173. , 172.4, 165.3, 170.2, 165.6, 162.4,\n",
       "       173.4, 181.7, 184.6, 178.5, 186.7, 198.9, 167.3, 168.9, 175.7,\n",
       "       181.5, 186.6, 156.9, 157.9, 172. , 173.5, 173.6, 158.7, 169.7,\n",
       "       166.3, 168.7, 176.2, 175.6, 183.5, 187.8, 171.7, 159.3, 165.7,\n",
       "       180.2, 183.1, 188.8])"
      ]
     },
     "execution_count": 50,
     "metadata": {},
     "output_type": "execute_result"
    }
   ],
   "source": [
    "df['length'].unique()"
   ]
  },
  {
   "cell_type": "code",
   "execution_count": 51,
   "id": "be6687fc",
   "metadata": {},
   "outputs": [
    {
     "data": {
      "text/plain": [
       "array([64.1, 65.5, 66.2, 66.4, 66.3, 71.4, 67.9, 64.8, 66.9, 70.9, 60.3,\n",
       "       63.6, 63.8, 64.6, 63.9, 64. , 65.2, 62.5, 66. , 61.8, 69.6, 70.6,\n",
       "       64.2, 65.7, 66.5, 66.1, 70.3, 71.7, 70.5, 72. , 68. , 64.4, 65.4,\n",
       "       68.4, 68.3, 65. , 72.3, 66.6, 63.4, 65.6, 67.7, 67.2, 68.9, 68.8])"
      ]
     },
     "execution_count": 51,
     "metadata": {},
     "output_type": "execute_result"
    }
   ],
   "source": [
    "df['width'].unique()"
   ]
  },
  {
   "cell_type": "code",
   "execution_count": 52,
   "id": "e798beee",
   "metadata": {},
   "outputs": [
    {
     "data": {
      "text/plain": [
       "array([ 88.6,  94.5,  99.8,  99.4, 105.8,  99.5, 101.2,   nan, 103.5,\n",
       "       110. ,  88.4,  93.7, 103.3,  95.9,  86.6,  96.5,  94.3,  96. ,\n",
       "       113. , 102. ,  93.1,  95.3,  98.8, 104.9, 106.7, 115.6,  96.6,\n",
       "       120.9, 112. , 102.7,  93. ,  96.3,  95.1,  97.2, 100.4,  91.3,\n",
       "        99.2, 107.9, 114.2, 108. ,  89.5,  98.4,  96.1,  99.1,  93.3,\n",
       "        97. ,  96.9,  95.7, 102.4, 102.9, 104.5,  97.3, 104.3, 109.1])"
      ]
     },
     "execution_count": 52,
     "metadata": {},
     "output_type": "execute_result"
    }
   ],
   "source": [
    "df['wheel_base'].unique()"
   ]
  },
  {
   "cell_type": "code",
   "execution_count": 53,
   "id": "1dfcbc3b",
   "metadata": {},
   "outputs": [
    {
     "data": {
      "text/plain": [
       "array([48.8, 52.4, 54.3, 53.1, 55.7, 55.9, 52. , 53.7, 56.3, 53.2, 50.8,\n",
       "       50.6, 59.8, 50.2, 52.6, 54.5, 58.3, 53.3, 54.1, 51. , 53.5, 51.4,\n",
       "       52.8, 47.8, 49.6, 55.5, 54.4, 56.5, 58.7, 54.9, 56.7, 55.4, 54.8,\n",
       "       49.4, 51.6, 54.7, 55.1, 56.1, 49.7, 56. , 50.5, 55.2, 52.5, 53. ,\n",
       "       59.1, 53.9, 55.6, 56.2, 57.5])"
      ]
     },
     "execution_count": 53,
     "metadata": {},
     "output_type": "execute_result"
    }
   ],
   "source": [
    "df['height'].unique()"
   ]
  },
  {
   "cell_type": "code",
   "execution_count": 54,
   "id": "7669d9e0",
   "metadata": {},
   "outputs": [
    {
     "data": {
      "text/plain": [
       "array([2548, 2823, 2337, 2824, 2507, 2844, 2954, 3086, 3053, 2395, 2710,\n",
       "       2765, 3055, 3230, 3380, 3505, 1488, 1874, 1909, 1876, 2128, 1967,\n",
       "       1989, 2191, 2535, 2811, 1713, 1819, 1837, 1940, 1956, 2010, 2024,\n",
       "       2236, 2289, 2304, 2372, 2465, 2293, 2734, 4066, 3950, 1890, 1900,\n",
       "       1905, 1945, 1950, 2380, 2385, 2500, 2410, 2443, 2425, 2670, 2700,\n",
       "       3515, 3750, 3495, 3770, 3740, 3685, 3900, 3715, 2910, 1918, 1944,\n",
       "       2004, 2145, 2370, 2328, 2833, 2921, 2926, 2365, 2405, 2403, 1889,\n",
       "       2017, 1938, 1951, 2028, 1971, 2037, 2008, 2324, 2302, 3095, 3296,\n",
       "       3060, 3071, 3139, 3020, 3197, 3430, 3075, 3252, 3285, 3485, 3130,\n",
       "       2818, 2778, 2756, 2800, 3366, 2579, 2460, 2658, 2695, 2707, 2758,\n",
       "       2808, 2847, 2050, 2120, 2240, 2190, 2340, 2510, 2290, 2455, 2420,\n",
       "       2650, 1985, 2040, 2015, 2280, 3110, 2081, 2109, 2275, 2094, 2122,\n",
       "       2140, 2169, 2204, 2265, 2300, 2540, 2536, 2551, 2679, 2714, 2975,\n",
       "       2326, 2480, 2414, 2458, 2976, 3016, 3131, 3151, 2261, 2209, 2264,\n",
       "       2212, 2319, 2254, 2221, 2661, 2563, 2912, 3034, 2935, 3042, 3045,\n",
       "       3157, 2952, 3049, 3012, 3217, 3062], dtype=int64)"
      ]
     },
     "execution_count": 54,
     "metadata": {},
     "output_type": "execute_result"
    }
   ],
   "source": [
    "df['curb_weight'].unique()"
   ]
  },
  {
   "cell_type": "code",
   "execution_count": 55,
   "id": "581d3bec",
   "metadata": {},
   "outputs": [
    {
     "data": {
      "text/plain": [
       "array(['dohc', 'ohcv', 'ohc', 'l', 'rotor', nan, 'ohcf', 'dohcv'],\n",
       "      dtype=object)"
      ]
     },
     "execution_count": 55,
     "metadata": {},
     "output_type": "execute_result"
    }
   ],
   "source": [
    "df['engine_type'].unique()"
   ]
  },
  {
   "cell_type": "code",
   "execution_count": 56,
   "id": "d56b5d03",
   "metadata": {},
   "outputs": [
    {
     "data": {
      "text/plain": [
       "array(['four', 'six', 'five', 'three', 'twelve', 'two', 'eight'],\n",
       "      dtype=object)"
      ]
     },
     "execution_count": 56,
     "metadata": {},
     "output_type": "execute_result"
    }
   ],
   "source": [
    "df['num_of_cylinders'].unique() "
   ]
  },
  {
   "cell_type": "code",
   "execution_count": 57,
   "id": "f6875a13",
   "metadata": {},
   "outputs": [],
   "source": [
    "def dyl(n):\n",
    "    if n == 'two':\n",
    "        return 2\n",
    "    elif n == 'three':\n",
    "        return 3\n",
    "    elif n == 'three':\n",
    "        return 3\n",
    "        return 2\n",
    "    elif n == 'five':\n",
    "        return 5\n",
    "        return 2\n",
    "    elif n == 'six':\n",
    "        return 6\n",
    "        return 2\n",
    "    elif n == 'eight':\n",
    "        return 8\n",
    "        return 2\n",
    "    else:\n",
    "        return 12"
   ]
  },
  {
   "cell_type": "code",
   "execution_count": 58,
   "id": "2122460c",
   "metadata": {},
   "outputs": [],
   "source": [
    "df['num_of_cylinders']=df['num_of_cylinders'].apply(dyl)"
   ]
  },
  {
   "cell_type": "code",
   "execution_count": 59,
   "id": "60f04f66",
   "metadata": {},
   "outputs": [
    {
     "data": {
      "text/plain": [
       "array([12,  6,  5,  3,  2,  8], dtype=int64)"
      ]
     },
     "execution_count": 59,
     "metadata": {},
     "output_type": "execute_result"
    }
   ],
   "source": [
    "df['num_of_cylinders'].unique() "
   ]
  },
  {
   "cell_type": "code",
   "execution_count": 60,
   "id": "2c3bc726",
   "metadata": {},
   "outputs": [
    {
     "data": {
      "text/plain": [
       "array([130., 152., 109., 136., 131., 108., 164., 209.,  61.,  90.,  98.,\n",
       "       122., 156.,  92.,  79., 110.,  nan, 111., 119., 258., 326.,  91.,\n",
       "        70.,  80., 140., 134., 183., 234., 308., 304.,  97., 103., 120.,\n",
       "       181., 151., 194., 203., 132., 121., 146., 171., 161., 141., 173.,\n",
       "       145.])"
      ]
     },
     "execution_count": 60,
     "metadata": {},
     "output_type": "execute_result"
    }
   ],
   "source": [
    "df['engine_size'].unique()"
   ]
  },
  {
   "cell_type": "code",
   "execution_count": 61,
   "id": "29ec8632",
   "metadata": {},
   "outputs": [
    {
     "data": {
      "text/plain": [
       "array(['mpfi', '2bbl', 'mfi', '1bbl', 'spfi', '4bbl', 'idi', 'spdi'],\n",
       "      dtype=object)"
      ]
     },
     "execution_count": 61,
     "metadata": {},
     "output_type": "execute_result"
    }
   ],
   "source": [
    "df['fuel_system'].unique()"
   ]
  },
  {
   "cell_type": "code",
   "execution_count": 62,
   "id": "0128ebfe",
   "metadata": {},
   "outputs": [
    {
     "data": {
      "text/plain": [
       "array([ 9.  , 10.  ,  8.  ,  8.5 ,  8.3 ,  7.  ,  8.8 ,  9.5 ,  9.6 ,\n",
       "        9.41,  9.4 ,  7.6 ,  9.2 , 10.1 ,  9.1 ,  8.1 , 11.5 ,  8.6 ,\n",
       "       22.7 , 22.  , 21.5 ,  7.5 , 21.9 ,  7.8 ,  8.4 , 21.  ,  8.7 ,\n",
       "        9.31,  9.3 ,  7.7 , 22.5 , 23.  ])"
      ]
     },
     "execution_count": 62,
     "metadata": {},
     "output_type": "execute_result"
    }
   ],
   "source": [
    "df['compression_ratio'].unique()"
   ]
  },
  {
   "cell_type": "code",
   "execution_count": 63,
   "id": "688cab12",
   "metadata": {},
   "outputs": [
    {
     "data": {
      "text/plain": [
       "dtype('O')"
      ]
     },
     "execution_count": 63,
     "metadata": {},
     "output_type": "execute_result"
    }
   ],
   "source": [
    "df['horsepower'].dtype"
   ]
  },
  {
   "cell_type": "code",
   "execution_count": 64,
   "id": "4c0f2f83",
   "metadata": {},
   "outputs": [],
   "source": [
    "\n",
    "df['horsepower'] = df['horsepower'].astype(str).replace('?', np.nan)  #first method\n"
   ]
  },
  {
   "cell_type": "code",
   "execution_count": 65,
   "id": "4e52a342",
   "metadata": {},
   "outputs": [
    {
     "data": {
      "text/plain": [
       "array(['111', '154', '102', '115', '110', '140', '160', '101', '121',\n",
       "       '182', '48', '70', '68', '88', '145', '58', '76', '60', '86',\n",
       "       '100', '78', '90', '176', '262', '135', '84', '64', '120', '72',\n",
       "       '123', '155', '184', '175', '116', '69', '55', '97', '152', '200',\n",
       "       '95', '142', '143', '207', '288', nan, '73', '82', '94', '62',\n",
       "       '56', '112', '92', '161', '156', '52', '85', '114', '162', '134',\n",
       "       '106'], dtype=object)"
      ]
     },
     "execution_count": 65,
     "metadata": {},
     "output_type": "execute_result"
    }
   ],
   "source": [
    "df['horsepower'].unique()"
   ]
  },
  {
   "cell_type": "code",
   "execution_count": 6,
   "id": "d227a9c1",
   "metadata": {},
   "outputs": [
    {
     "data": {
      "text/plain": [
       "True     206\n",
       "False      2\n",
       "Name: horsepower, dtype: int64"
      ]
     },
     "execution_count": 6,
     "metadata": {},
     "output_type": "execute_result"
    }
   ],
   "source": [
    "df['horsepower'].str.isnumeric().value_counts ()                                                     "
   ]
  },
  {
   "cell_type": "code",
   "execution_count": 10,
   "id": "5a4174af",
   "metadata": {},
   "outputs": [
    {
     "data": {
      "text/html": [
       "<div>\n",
       "<style scoped>\n",
       "    .dataframe tbody tr th:only-of-type {\n",
       "        vertical-align: middle;\n",
       "    }\n",
       "\n",
       "    .dataframe tbody tr th {\n",
       "        vertical-align: top;\n",
       "    }\n",
       "\n",
       "    .dataframe thead th {\n",
       "        text-align: right;\n",
       "    }\n",
       "</style>\n",
       "<table border=\"1\" class=\"dataframe\">\n",
       "  <thead>\n",
       "    <tr style=\"text-align: right;\">\n",
       "      <th></th>\n",
       "      <th>make</th>\n",
       "      <th>fuel_type</th>\n",
       "      <th>aspiration</th>\n",
       "      <th>num_of_doors</th>\n",
       "      <th>body_style</th>\n",
       "      <th>drive_wheels</th>\n",
       "      <th>engine_location</th>\n",
       "      <th>wheel_base</th>\n",
       "      <th>length</th>\n",
       "      <th>width</th>\n",
       "      <th>...</th>\n",
       "      <th>engine_type</th>\n",
       "      <th>num_of_cylinders</th>\n",
       "      <th>engine_size</th>\n",
       "      <th>fuel_system</th>\n",
       "      <th>compression_ratio</th>\n",
       "      <th>horsepower</th>\n",
       "      <th>peak_rpm</th>\n",
       "      <th>city_mpg</th>\n",
       "      <th>highway_mpg</th>\n",
       "      <th>price</th>\n",
       "    </tr>\n",
       "  </thead>\n",
       "  <tbody>\n",
       "    <tr>\n",
       "      <th>130</th>\n",
       "      <td>renault</td>\n",
       "      <td>gas</td>\n",
       "      <td>std</td>\n",
       "      <td>four</td>\n",
       "      <td>wagon</td>\n",
       "      <td>fwd</td>\n",
       "      <td>front</td>\n",
       "      <td>96.1</td>\n",
       "      <td>181.5</td>\n",
       "      <td>66.5</td>\n",
       "      <td>...</td>\n",
       "      <td>ohc</td>\n",
       "      <td>four</td>\n",
       "      <td>132.0</td>\n",
       "      <td>mpfi</td>\n",
       "      <td>8.7</td>\n",
       "      <td>?</td>\n",
       "      <td>?</td>\n",
       "      <td>23</td>\n",
       "      <td>31</td>\n",
       "      <td>9295</td>\n",
       "    </tr>\n",
       "    <tr>\n",
       "      <th>131</th>\n",
       "      <td>renault</td>\n",
       "      <td>gas</td>\n",
       "      <td>std</td>\n",
       "      <td>two</td>\n",
       "      <td>hatchback</td>\n",
       "      <td>fwd</td>\n",
       "      <td>front</td>\n",
       "      <td>96.1</td>\n",
       "      <td>176.8</td>\n",
       "      <td>66.6</td>\n",
       "      <td>...</td>\n",
       "      <td>ohc</td>\n",
       "      <td>four</td>\n",
       "      <td>132.0</td>\n",
       "      <td>mpfi</td>\n",
       "      <td>8.7</td>\n",
       "      <td>?</td>\n",
       "      <td>?</td>\n",
       "      <td>23</td>\n",
       "      <td>31</td>\n",
       "      <td>9895</td>\n",
       "    </tr>\n",
       "  </tbody>\n",
       "</table>\n",
       "<p>2 rows × 22 columns</p>\n",
       "</div>"
      ],
      "text/plain": [
       "        make fuel_type aspiration num_of_doors body_style drive_wheels  \\\n",
       "130  renault       gas        std         four      wagon          fwd   \n",
       "131  renault       gas        std          two  hatchback          fwd   \n",
       "\n",
       "    engine_location  wheel_base  length  width  ...  engine_type  \\\n",
       "130           front        96.1   181.5   66.5  ...          ohc   \n",
       "131           front        96.1   176.8   66.6  ...          ohc   \n",
       "\n",
       "     num_of_cylinders engine_size fuel_system  compression_ratio horsepower  \\\n",
       "130              four       132.0        mpfi                8.7          ?   \n",
       "131              four       132.0        mpfi                8.7          ?   \n",
       "\n",
       "     peak_rpm city_mpg highway_mpg  price  \n",
       "130         ?       23          31   9295  \n",
       "131         ?       23          31   9895  \n",
       "\n",
       "[2 rows x 22 columns]"
      ]
     },
     "execution_count": 10,
     "metadata": {},
     "output_type": "execute_result"
    }
   ],
   "source": [
    "df[~df['horsepower'].str.isnumeric()]                                                     #second method"
   ]
  },
  {
   "cell_type": "code",
   "execution_count": 12,
   "id": "cbbd27a8",
   "metadata": {},
   "outputs": [],
   "source": [
    "df['horsepower']=df['horsepower'].replace('?',np.nan)"
   ]
  },
  {
   "cell_type": "code",
   "execution_count": 13,
   "id": "09e35ac5",
   "metadata": {},
   "outputs": [
    {
     "data": {
      "text/plain": [
       "array(['111', '154', '102', '115', '110', '140', '160', '101', '121',\n",
       "       '182', '48', '70', '68', '88', '145', '58', '76', '60', '86',\n",
       "       '100', '78', '90', '176', '262', '135', '84', '64', '120', '72',\n",
       "       '123', '155', '184', '175', '116', '69', '55', '97', '152', '200',\n",
       "       '95', '142', '143', '207', '288', nan, '73', '82', '94', '62',\n",
       "       '56', '112', '92', '161', '156', '52', '85', '114', '162', '134',\n",
       "       '106'], dtype=object)"
      ]
     },
     "execution_count": 13,
     "metadata": {},
     "output_type": "execute_result"
    }
   ],
   "source": [
    "df['horsepower'].unique()"
   ]
  },
  {
   "cell_type": "code",
   "execution_count": 66,
   "id": "f52065c6",
   "metadata": {},
   "outputs": [
    {
     "data": {
      "text/plain": [
       "dtype('O')"
      ]
     },
     "execution_count": 66,
     "metadata": {},
     "output_type": "execute_result"
    }
   ],
   "source": [
    "df['peak_rpm'].dtype"
   ]
  },
  {
   "cell_type": "code",
   "execution_count": 67,
   "id": "8cf360cd",
   "metadata": {},
   "outputs": [
    {
     "data": {
      "text/plain": [
       "array(['5000', '5500', '5800', '4250', '5400', '5100', '4800', '6000',\n",
       "       '4750', '4650', '4200', '4350', '4500', '5200', '4150', '5600',\n",
       "       '5900', '5750', '?', '5250', '4900', '4400', '6600', '5300'],\n",
       "      dtype=object)"
      ]
     },
     "execution_count": 67,
     "metadata": {},
     "output_type": "execute_result"
    }
   ],
   "source": [
    "df['peak_rpm'].unique()"
   ]
  },
  {
   "cell_type": "code",
   "execution_count": 68,
   "id": "8d85a528",
   "metadata": {},
   "outputs": [],
   "source": [
    "df['peak_rpm']=df['peak_rpm'].replace('?',np.nan)"
   ]
  },
  {
   "cell_type": "code",
   "execution_count": 69,
   "id": "75484b6e",
   "metadata": {},
   "outputs": [
    {
     "data": {
      "text/plain": [
       "array(['5000', '5500', '5800', '4250', '5400', '5100', '4800', '6000',\n",
       "       '4750', '4650', '4200', '4350', '4500', '5200', '4150', '5600',\n",
       "       '5900', '5750', nan, '5250', '4900', '4400', '6600', '5300'],\n",
       "      dtype=object)"
      ]
     },
     "execution_count": 69,
     "metadata": {},
     "output_type": "execute_result"
    }
   ],
   "source": [
    "df['peak_rpm'].unique() \n"
   ]
  },
  {
   "cell_type": "code",
   "execution_count": 70,
   "id": "cee55075",
   "metadata": {},
   "outputs": [
    {
     "data": {
      "text/plain": [
       "(dtype('int64'),\n",
       " array([21, 19, 24, 18, 17, 16, 23, 20, 15, 47, 38, 37, 31, 49, 30, 27, 25,\n",
       "        13, 26, 36, 22, 14, 45, 28, 32, 35, 34, 29, 33], dtype=int64))"
      ]
     },
     "execution_count": 70,
     "metadata": {},
     "output_type": "execute_result"
    }
   ],
   "source": [
    "df['city_mpg'].dtype,df['city_mpg'].unique()"
   ]
  },
  {
   "cell_type": "code",
   "execution_count": 71,
   "id": "4b210630",
   "metadata": {},
   "outputs": [
    {
     "data": {
      "text/plain": [
       "(dtype('int64'),\n",
       " array([27, 26, 30, 22, 25, 20, 29, 28, 53, 43, 41, 38, 24, 54, 42, 34, 33,\n",
       "        31, 19, 17, 23, 32, 39, 18, 16, 37, 50, 36, 47, 46], dtype=int64))"
      ]
     },
     "execution_count": 71,
     "metadata": {},
     "output_type": "execute_result"
    }
   ],
   "source": [
    "df['highway_mpg'].dtype,df['highway_mpg'].unique()"
   ]
  },
  {
   "cell_type": "code",
   "execution_count": 72,
   "id": "a9c58f02",
   "metadata": {},
   "outputs": [
    {
     "data": {
      "text/plain": [
       "(dtype('O'),\n",
       " array(['13495', '16500', '13950', '17450', '15250', '17710', '18920',\n",
       "        '23875', '?', '16430', '16925', '20970', '21105', '24565', '30760',\n",
       "        '41315', '36880', '5151', '6295', '6575', '5572', '6377', '7957',\n",
       "        '6229', '6692', '7609', '8558', '8921', '12964', '6479', '6855',\n",
       "        '5399', '6529', '7129', '7295', '7895', '9095', '8845', '10295',\n",
       "        '12945', '10345', '6785', '11048', nan, '35550', '36000', '5195',\n",
       "        '6095', '6795', '6695', '7395', '10945', '11845', '13645', '15645',\n",
       "        '8495', '10595', '10245', '10795', '11245', '18280', '18344',\n",
       "        '25552', '28248', '28176', '31600', '34184', '35056', '40960',\n",
       "        '45400', '16503', '5389', '6189', '6669', '7689', '9959', '8499',\n",
       "        '12629', '14869', '14489', '6989', '8189', '9279', '5499', '7099',\n",
       "        '6649', '6849', '7349', '7299', '7799', '7499', '7999', '8249',\n",
       "        '8949', '9549', '13499', '14399', '17199', '19699', '18399',\n",
       "        '11900', '13200', '12440', '13860', '15580', '16695', '17075',\n",
       "        '16630', '17950', '18150', '12764', '22018', '32528', '34028',\n",
       "        '37028', '9295', '9895', '11850', '12170', '15040', '15510',\n",
       "        '18620', '5118', '7053', '7603', '7126', '7775', '9960', '9233',\n",
       "        '11259', '7463', '10198', '8013', '11694', '5348', '6338', '6488',\n",
       "        '6918', '7898', '8778', '6938', '7198', '7788', '7738', '8358',\n",
       "        '9258', '8058', '8238', '9298', '9538', '8449', '9639', '9989',\n",
       "        '11199', '11549', '17669', '8948', '10698', '9988', '10898',\n",
       "        '11248', '16558', '15998', '15690', '15750', '7975', '7995',\n",
       "        '8195', '9495', '9995', '11595', '9980', '13295', '13845', '12290',\n",
       "        '12940', '13415', '15985', '16515', '18420', '18950', '16845',\n",
       "        '19045', '21485', '22625'], dtype=object))"
      ]
     },
     "execution_count": 72,
     "metadata": {},
     "output_type": "execute_result"
    }
   ],
   "source": [
    "df['price'].dtype,df['price'].unique()"
   ]
  },
  {
   "cell_type": "code",
   "execution_count": 73,
   "id": "6a4ba307",
   "metadata": {},
   "outputs": [],
   "source": [
    "df['price']=df['price'].replace('?',np.nan)\n"
   ]
  },
  {
   "cell_type": "code",
   "execution_count": 74,
   "id": "0b69e11b",
   "metadata": {},
   "outputs": [
    {
     "data": {
      "text/plain": [
       "array(['13495', '16500', '13950', '17450', '15250', '17710', '18920',\n",
       "       '23875', nan, '16430', '16925', '20970', '21105', '24565', '30760',\n",
       "       '41315', '36880', '5151', '6295', '6575', '5572', '6377', '7957',\n",
       "       '6229', '6692', '7609', '8558', '8921', '12964', '6479', '6855',\n",
       "       '5399', '6529', '7129', '7295', '7895', '9095', '8845', '10295',\n",
       "       '12945', '10345', '6785', '11048', '35550', '36000', '5195',\n",
       "       '6095', '6795', '6695', '7395', '10945', '11845', '13645', '15645',\n",
       "       '8495', '10595', '10245', '10795', '11245', '18280', '18344',\n",
       "       '25552', '28248', '28176', '31600', '34184', '35056', '40960',\n",
       "       '45400', '16503', '5389', '6189', '6669', '7689', '9959', '8499',\n",
       "       '12629', '14869', '14489', '6989', '8189', '9279', '5499', '7099',\n",
       "       '6649', '6849', '7349', '7299', '7799', '7499', '7999', '8249',\n",
       "       '8949', '9549', '13499', '14399', '17199', '19699', '18399',\n",
       "       '11900', '13200', '12440', '13860', '15580', '16695', '17075',\n",
       "       '16630', '17950', '18150', '12764', '22018', '32528', '34028',\n",
       "       '37028', '9295', '9895', '11850', '12170', '15040', '15510',\n",
       "       '18620', '5118', '7053', '7603', '7126', '7775', '9960', '9233',\n",
       "       '11259', '7463', '10198', '8013', '11694', '5348', '6338', '6488',\n",
       "       '6918', '7898', '8778', '6938', '7198', '7788', '7738', '8358',\n",
       "       '9258', '8058', '8238', '9298', '9538', '8449', '9639', '9989',\n",
       "       '11199', '11549', '17669', '8948', '10698', '9988', '10898',\n",
       "       '11248', '16558', '15998', '15690', '15750', '7975', '7995',\n",
       "       '8195', '9495', '9995', '11595', '9980', '13295', '13845', '12290',\n",
       "       '12940', '13415', '15985', '16515', '18420', '18950', '16845',\n",
       "       '19045', '21485', '22625'], dtype=object)"
      ]
     },
     "execution_count": 74,
     "metadata": {},
     "output_type": "execute_result"
    }
   ],
   "source": [
    "df['price'].unique()\n"
   ]
  },
  {
   "cell_type": "markdown",
   "id": "f2729c68",
   "metadata": {},
   "source": [
    "# Missing values"
   ]
  },
  {
   "cell_type": "code",
   "execution_count": 75,
   "id": "a5625020",
   "metadata": {},
   "outputs": [
    {
     "data": {
      "text/plain": [
       "make                 0\n",
       "fuel_type            0\n",
       "aspiration           0\n",
       "num_of_doors         2\n",
       "body_style           0\n",
       "drive_wheels         0\n",
       "engine_location      0\n",
       "wheel_base           2\n",
       "length               0\n",
       "width                0\n",
       "height               0\n",
       "curb_weight          0\n",
       "engine_type          1\n",
       "num_of_cylinders     0\n",
       "engine_size          2\n",
       "fuel_system          0\n",
       "compression_ratio    0\n",
       "horsepower           2\n",
       "peak_rpm             2\n",
       "city_mpg             0\n",
       "highway_mpg          0\n",
       "price                7\n",
       "dtype: int64"
      ]
     },
     "execution_count": 75,
     "metadata": {},
     "output_type": "execute_result"
    }
   ],
   "source": [
    "df.isna().sum()"
   ]
  },
  {
   "cell_type": "code",
   "execution_count": 76,
   "id": "55904187",
   "metadata": {},
   "outputs": [],
   "source": [
    "df['num_of_doors'].fillna(df['num_of_doors'].mode()[0],inplace=True)\n",
    "df['wheel_base'].fillna(df['wheel_base'].mean(),inplace=True)\n",
    "df['engine_type'].fillna(df['engine_type'].mode()[0],inplace=True)\n",
    "df['engine_size'].fillna(df['engine_size'].median(),inplace=True)\n",
    "df['horsepower'].fillna(df['horsepower'].median(),inplace=True)\n",
    "df['peak_rpm'].fillna(df['peak_rpm'].median(),inplace=True)\n",
    "df['price'].fillna(df['price'].median(),inplace=True)"
   ]
  },
  {
   "cell_type": "code",
   "execution_count": 77,
   "id": "c13a19a2",
   "metadata": {},
   "outputs": [
    {
     "data": {
      "text/plain": [
       "make                 0\n",
       "fuel_type            0\n",
       "aspiration           0\n",
       "num_of_doors         0\n",
       "body_style           0\n",
       "drive_wheels         0\n",
       "engine_location      0\n",
       "wheel_base           0\n",
       "length               0\n",
       "width                0\n",
       "height               0\n",
       "curb_weight          0\n",
       "engine_type          0\n",
       "num_of_cylinders     0\n",
       "engine_size          0\n",
       "fuel_system          0\n",
       "compression_ratio    0\n",
       "horsepower           0\n",
       "peak_rpm             0\n",
       "city_mpg             0\n",
       "highway_mpg          0\n",
       "price                0\n",
       "dtype: int64"
      ]
     },
     "execution_count": 77,
     "metadata": {},
     "output_type": "execute_result"
    }
   ],
   "source": [
    "df.isna().sum()"
   ]
  },
  {
   "cell_type": "markdown",
   "id": "1f02dd09",
   "metadata": {},
   "source": [
    "# Type casting"
   ]
  },
  {
   "cell_type": "code",
   "execution_count": 78,
   "id": "e039d8ec",
   "metadata": {},
   "outputs": [],
   "source": [
    "df[\"price\"] = df[\"price\"].astype(\"int64\")\n",
    "df[\"peak_rpm\"] = df[\"peak_rpm\"].astype(\"int64\")\n",
    "df[\"horsepower\"] = df[\"horsepower\"].astype(\"int64\")"
   ]
  },
  {
   "cell_type": "code",
   "execution_count": 79,
   "id": "0a8f6884",
   "metadata": {},
   "outputs": [
    {
     "name": "stdout",
     "output_type": "stream",
     "text": [
      "<class 'pandas.core.frame.DataFrame'>\n",
      "Int64Index: 205 entries, 0 to 204\n",
      "Data columns (total 22 columns):\n",
      " #   Column             Non-Null Count  Dtype  \n",
      "---  ------             --------------  -----  \n",
      " 0   make               205 non-null    object \n",
      " 1   fuel_type          205 non-null    object \n",
      " 2   aspiration         205 non-null    object \n",
      " 3   num_of_doors       205 non-null    float64\n",
      " 4   body_style         205 non-null    object \n",
      " 5   drive_wheels       205 non-null    object \n",
      " 6   engine_location    205 non-null    object \n",
      " 7   wheel_base         205 non-null    float64\n",
      " 8   length             205 non-null    float64\n",
      " 9   width              205 non-null    float64\n",
      " 10  height             205 non-null    float64\n",
      " 11  curb_weight        205 non-null    int64  \n",
      " 12  engine_type        205 non-null    object \n",
      " 13  num_of_cylinders   205 non-null    int64  \n",
      " 14  engine_size        205 non-null    float64\n",
      " 15  fuel_system        205 non-null    object \n",
      " 16  compression_ratio  205 non-null    float64\n",
      " 17  horsepower         205 non-null    int64  \n",
      " 18  peak_rpm           205 non-null    int64  \n",
      " 19  city_mpg           205 non-null    int64  \n",
      " 20  highway_mpg        205 non-null    int64  \n",
      " 21  price              205 non-null    int64  \n",
      "dtypes: float64(7), int64(7), object(8)\n",
      "memory usage: 36.8+ KB\n"
     ]
    }
   ],
   "source": [
    "df.info()\n"
   ]
  },
  {
   "cell_type": "markdown",
   "id": "4aa7e585",
   "metadata": {},
   "source": [
    "# Univariate analysis\n"
   ]
  },
  {
   "cell_type": "markdown",
   "id": "108968da",
   "metadata": {},
   "source": [
    "# Histograms"
   ]
  },
  {
   "cell_type": "markdown",
   "id": "188e8b0d",
   "metadata": {},
   "source": [
    "# num_of_cylinders"
   ]
  },
  {
   "cell_type": "code",
   "execution_count": 81,
   "id": "cf31b01a",
   "metadata": {},
   "outputs": [],
   "source": [
    "plt.style.use('ggplot')\n"
   ]
  },
  {
   "cell_type": "code",
   "execution_count": 83,
   "id": "f283dbd7",
   "metadata": {},
   "outputs": [
    {
     "data": {
      "text/plain": [
       "<Axes: title={'center': 'Histogram of No of cylinders'}, ylabel='Frequency'>"
      ]
     },
     "execution_count": 83,
     "metadata": {},
     "output_type": "execute_result"
    },
    {
     "data": {
      "image/png": "[encoded data removed]",
      "text/plain": [
       "<Figure size 400x500 with 1 Axes>"
      ]
     },
     "metadata": {},
     "output_type": "display_data"
    }
   ],
   "source": [
    "df['num_of_cylinders'].plot(kind='hist',\n",
    "                           xlabel='No of Cylinders',\n",
    "                           title='Histogram of No of cylinders',\n",
    "                           color='blue',\n",
    "                           figsize=(4,5))"
   ]
  },
  {
   "cell_type": "markdown",
   "id": "386d4059",
   "metadata": {},
   "source": [
    "# wheel base"
   ]
  },
  {
   "cell_type": "code",
   "execution_count": null,
   "id": "ead38167",
   "metadata": {},
   "outputs": [],
   "source": [
    "plt.style.use('classic')\n"
   ]
  },
  {
   "cell_type": "code",
   "execution_count": 84,
   "id": "57085f29",
   "metadata": {},
   "outputs": [
    {
     "data": {
      "text/plain": [
       "<Axes: title={'center': 'Histogram of wheel base'}, ylabel='Frequency'>"
      ]
     },
     "execution_count": 84,
     "metadata": {},
     "output_type": "execute_result"
    },
    {
     "data": {
      "image/png": "[encoded data removed]",
      "text/plain": [
       "<Figure size 400x500 with 1 Axes>"
      ]
     },
     "metadata": {},
     "output_type": "display_data"
    }
   ],
   "source": [
    "df['wheel_base'].plot(kind='hist',\n",
    "                           xlabel='wheel base',\n",
    "                           title='Histogram of wheel base',\n",
    "                           color='green',\n",
    "                           figsize=(4,5))"
   ]
  },
  {
   "cell_type": "markdown",
   "id": "003df9eb",
   "metadata": {},
   "source": [
    "# curb_weight\n"
   ]
  },
  {
   "cell_type": "code",
   "execution_count": 85,
   "id": "a99b1a97",
   "metadata": {},
   "outputs": [],
   "source": [
    "plt.style.use('Solarize_Light2')"
   ]
  },
  {
   "cell_type": "code",
   "execution_count": 86,
   "id": "34cbceea",
   "metadata": {},
   "outputs": [
    {
     "data": {
      "text/plain": [
       "<Axes: title={'center': 'Histogram of curbweight'}, ylabel='Frequency'>"
      ]
     },
     "execution_count": 86,
     "metadata": {},
     "output_type": "execute_result"
    },
    {
     "data": {
      "image/png": "[encoded data removed]",
      "text/plain": [
       "<Figure size 400x300 with 1 Axes>"
      ]
     },
     "metadata": {},
     "output_type": "display_data"
    }
   ],
   "source": [
    "df['curb_weight'].plot(kind='hist',\n",
    "                           xlabel='curb weight',\n",
    "                           title='Histogram of curbweight',\n",
    "                           color='black',\n",
    "                           figsize=(4,3))"
   ]
  },
  {
   "cell_type": "markdown",
   "id": "cb8b85d0",
   "metadata": {},
   "source": [
    "# horsepower"
   ]
  },
  {
   "cell_type": "code",
   "execution_count": 87,
   "id": "63e7bdda",
   "metadata": {},
   "outputs": [],
   "source": [
    "plt.style.use('fast')\n"
   ]
  },
  {
   "cell_type": "code",
   "execution_count": 88,
   "id": "d1453051",
   "metadata": {},
   "outputs": [
    {
     "data": {
      "text/plain": [
       "<Axes: title={'center': 'Histogram of horsepower'}, ylabel='Frequency'>"
      ]
     },
     "execution_count": 88,
     "metadata": {},
     "output_type": "execute_result"
    },
    {
     "data": {
      "image/png": "[encoded data removed]",
      "text/plain": [
       "<Figure size 400x300 with 1 Axes>"
      ]
     },
     "metadata": {},
     "output_type": "display_data"
    }
   ],
   "source": [
    "df['horsepower'].plot(kind='hist',\n",
    "                           xlabel='horsepower',\n",
    "                           title='Histogram of horsepower',\n",
    "                           color='green',\n",
    "                           figsize=(4,3))"
   ]
  },
  {
   "cell_type": "code",
   "execution_count": 89,
   "id": "96f4e091",
   "metadata": {},
   "outputs": [
    {
     "data": {
      "text/plain": [
       "['Solarize_Light2',\n",
       " '_classic_test_patch',\n",
       " '_mpl-gallery',\n",
       " '_mpl-gallery-nogrid',\n",
       " 'bmh',\n",
       " 'classic',\n",
       " 'dark_background',\n",
       " 'fast',\n",
       " 'fivethirtyeight',\n",
       " 'ggplot',\n",
       " 'grayscale',\n",
       " 'seaborn-v0_8',\n",
       " 'seaborn-v0_8-bright',\n",
       " 'seaborn-v0_8-colorblind',\n",
       " 'seaborn-v0_8-dark',\n",
       " 'seaborn-v0_8-dark-palette',\n",
       " 'seaborn-v0_8-darkgrid',\n",
       " 'seaborn-v0_8-deep',\n",
       " 'seaborn-v0_8-muted',\n",
       " 'seaborn-v0_8-notebook',\n",
       " 'seaborn-v0_8-paper',\n",
       " 'seaborn-v0_8-pastel',\n",
       " 'seaborn-v0_8-poster',\n",
       " 'seaborn-v0_8-talk',\n",
       " 'seaborn-v0_8-ticks',\n",
       " 'seaborn-v0_8-white',\n",
       " 'seaborn-v0_8-whitegrid',\n",
       " 'tableau-colorblind10']"
      ]
     },
     "execution_count": 89,
     "metadata": {},
     "output_type": "execute_result"
    }
   ],
   "source": [
    "plt.style.available\n"
   ]
  },
  {
   "cell_type": "code",
   "execution_count": null,
   "id": "e3217a26",
   "metadata": {},
   "outputs": [],
   "source": []
  },
  {
   "cell_type": "code",
   "execution_count": 71,
   "id": "836dd8ba",
   "metadata": {},
   "outputs": [
    {
     "name": "stdout",
     "output_type": "stream",
     "text": [
      "Unnamed: 0.1\n",
      "int64\n",
      "[  0   1   2   3   4   5   6   7   8   9  10  11  12  13  14  15  16  17\n",
      "  18  19  20  21  22  23  24  25  26  27  28  29  30  31  32  33  34  35\n",
      "  36  37  38  39  40  41  42  43  44  45  46  47  48  49  50  51  52  53\n",
      "  54  55  56  57  58  59  60  61  62  63  64  65  66  67  68  69  70  71\n",
      "  72  73  74  75  76  77  78  79  80  81  82  83  84  85  86  87  88  89\n",
      "  90  91  92  93  94  95  96  97  98  99 100 101 102 103 104 105 106 107\n",
      " 108 109 110 111 112 113 114 115 116 117 118 119 120 121 122 123 124 125\n",
      " 126 127 128 129 130 131 132 133 134 135 136 137 138 139 140 141 142 143\n",
      " 144 145 146 147 148 149 150 151 152 153 154 155 156 157 158 159 160 161\n",
      " 162 163 164 165 166 167 168 169 170 171 172 173 174 175 176 177 178 179\n",
      " 180 181 182 183 184 185 186 187 188 189 190 191 192 193 194 195 196 197\n",
      " 198 199 200 201 202 203 204]\n",
      "Unnamed: 0\n",
      "int64\n",
      "[  1   2   3   4   5   6   7   8   9  10  11  12  13  14  15  16  17  18\n",
      "  19  20  21  22  23  24  25  26  27  28  29  30  31  32  33  34  35  36\n",
      "  37  38  39  40  41  42  43  44  45  46  47  48  49  50  51  52  53  54\n",
      "  55  56  57  58  59  60  61  62  63  64  65  66  67  68  69  70  71  72\n",
      "  73  74  75  76  77  78  79  80  81  82  83  84  85  86  87  88  89  90\n",
      "  91  92  93  94  95  96  97  98  99 100 101 102 103 104 105 106 107 108\n",
      " 109 110 111 112 113 114 115 116 117 118 119 120 121 122 123 124 125 126\n",
      " 127 128 129 130 131 132 133 134 135 136 137 138 139 140 141 142 143 144\n",
      " 145 146 147 148 149 150 151 152 153 154 155 156 157 158 159 160 161 162\n",
      " 163 164 165 166 167 168 169 170 171 172 173 174 175 176 177 178 179 180\n",
      " 181 182 183 184 185 186 187 188 189 190 191 192 193 194 195 196 197 198\n",
      " 199 200 201 202 203 204 205]\n",
      "make\n",
      "object\n",
      "['alfa-romero' 'audi' 'bmw' 'chevrolet' 'dodge' 'honda' 'isuzu' 'jaguar'\n",
      " 'mazda' 'mercedes-benz' 'mercury' 'mitsubishi' 'nissan' 'peugot'\n",
      " 'plymouth' 'porsche' 'renault' 'saab' 'subaru' 'toyota' 'volkswagen'\n",
      " 'volvo']\n",
      "fuel_type\n",
      "object\n",
      "['gas' 'diesel']\n",
      "aspiration\n",
      "object\n",
      "['std' 'turbo']\n",
      "num_of_doors\n",
      "object\n",
      "['two' 'four' '?']\n",
      "body_style\n",
      "object\n",
      "['convertible' 'hatchback' 'sedan' 'wagon' 'hardtop']\n",
      "drive_wheels\n",
      "object\n",
      "['rwd' 'fwd' '4wd']\n",
      "engine_location\n",
      "object\n",
      "['front' 'rear']\n",
      "wheel_base\n",
      "float64\n",
      "[ 88.6  94.5  99.8  99.4 105.8  99.5 101.2   nan 103.5 110.   88.4  93.7\n",
      " 103.3  95.9  86.6  96.5  94.3  96.  113.  102.   93.1  95.3  98.8 104.9\n",
      " 106.7 115.6  96.6 120.9 112.  102.7  93.   96.3  95.1  97.2 100.4  91.3\n",
      "  99.2 107.9 114.2 108.   89.5  98.4  96.1  99.1  93.3  97.   96.9  95.7\n",
      " 102.4 102.9 104.5  97.3 104.3 109.1]\n",
      "length\n",
      "float64\n",
      "[168.8 171.2 176.6 177.3 192.7 178.2 176.8 189.  193.8 197.  141.1 155.9\n",
      " 158.8 157.3 174.6 173.2 144.6 150.  163.4 157.1 167.5 175.4 169.1 170.7\n",
      " 172.6 199.6 191.7 159.1 166.8 169.  177.8 175.  190.9 187.5 202.6 180.3\n",
      " 208.1 199.2 178.4 173.  172.4 165.3 170.2 165.6 162.4 173.4 181.7 184.6\n",
      " 178.5 186.7 198.9 167.3 168.9 175.7 181.5 186.6 156.9 157.9 172.  173.5\n",
      " 173.6 158.7 169.7 166.3 168.7 176.2 175.6 183.5 187.8 171.7 159.3 165.7\n",
      " 180.2 183.1 188.8]\n",
      "width\n",
      "float64\n",
      "[64.1 65.5 66.2 66.4 66.3 71.4 67.9 64.8 66.9 70.9 60.3 63.6 63.8 64.6\n",
      " 63.9 64.  65.2 62.5 66.  61.8 69.6 70.6 64.2 65.7 66.5 66.1 70.3 71.7\n",
      " 70.5 72.  68.  64.4 65.4 68.4 68.3 65.  72.3 66.6 63.4 65.6 67.7 67.2\n",
      " 68.9 68.8]\n",
      "height\n",
      "float64\n",
      "[48.8 52.4 54.3 53.1 55.7 55.9 52.  53.7 56.3 53.2 50.8 50.6 59.8 50.2\n",
      " 52.6 54.5 58.3 53.3 54.1 51.  53.5 51.4 52.8 47.8 49.6 55.5 54.4 56.5\n",
      " 58.7 54.9 56.7 55.4 54.8 49.4 51.6 54.7 55.1 56.1 49.7 56.  50.5 55.2\n",
      " 52.5 53.  59.1 53.9 55.6 56.2 57.5]\n",
      "curb_weight\n",
      "int64\n",
      "[2548 2823 2337 2824 2507 2844 2954 3086 3053 2395 2710 2765 3055 3230\n",
      " 3380 3505 1488 1874 1909 1876 2128 1967 1989 2191 2535 2811 1713 1819\n",
      " 1837 1940 1956 2010 2024 2236 2289 2304 2372 2465 2293 2734 4066 3950\n",
      " 1890 1900 1905 1945 1950 2380 2385 2500 2410 2443 2425 2670 2700 3515\n",
      " 3750 3495 3770 3740 3685 3900 3715 2910 1918 1944 2004 2145 2370 2328\n",
      " 2833 2921 2926 2365 2405 2403 1889 2017 1938 1951 2028 1971 2037 2008\n",
      " 2324 2302 3095 3296 3060 3071 3139 3020 3197 3430 3075 3252 3285 3485\n",
      " 3130 2818 2778 2756 2800 3366 2579 2460 2658 2695 2707 2758 2808 2847\n",
      " 2050 2120 2240 2190 2340 2510 2290 2455 2420 2650 1985 2040 2015 2280\n",
      " 3110 2081 2109 2275 2094 2122 2140 2169 2204 2265 2300 2540 2536 2551\n",
      " 2679 2714 2975 2326 2480 2414 2458 2976 3016 3131 3151 2261 2209 2264\n",
      " 2212 2319 2254 2221 2661 2563 2912 3034 2935 3042 3045 3157 2952 3049\n",
      " 3012 3217 3062]\n",
      "engine_type\n",
      "object\n",
      "['dohc' 'ohcv' 'ohc' 'l' 'rotor' nan 'ohcf' 'dohcv']\n",
      "num_of_cylinders\n",
      "object\n",
      "['four' 'six' 'five' 'three' 'twelve' 'two' 'eight']\n",
      "engine_size\n",
      "float64\n",
      "[130. 152. 109. 136. 131. 108. 164. 209.  61.  90.  98. 122. 156.  92.\n",
      "  79. 110.  nan 111. 119. 258. 326.  91.  70.  80. 140. 134. 183. 234.\n",
      " 308. 304.  97. 103. 120. 181. 151. 194. 203. 132. 121. 146. 171. 161.\n",
      " 141. 173. 145.]\n",
      "fuel_system\n",
      "object\n",
      "['mpfi' '2bbl' 'mfi' '1bbl' 'spfi' '4bbl' 'idi' 'spdi']\n",
      "compression_ratio\n",
      "float64\n",
      "[ 9.   10.    8.    8.5   8.3   7.    8.8   9.5   9.6   9.41  9.4   7.6\n",
      "  9.2  10.1   9.1   8.1  11.5   8.6  22.7  22.   21.5   7.5  21.9   7.8\n",
      "  8.4  21.    8.7   9.31  9.3   7.7  22.5  23.  ]\n",
      "horsepower\n",
      "object\n",
      "['111' '154' '102' '115' '110' '140' '160' '101' '121' '182' '48' '70'\n",
      " '68' '88' '145' '58' '76' '60' '86' '100' '78' '90' '176' '262' '135'\n",
      " '84' '64' '120' '72' '123' '155' '184' '175' '116' '69' '55' '97' '152'\n",
      " '200' '95' '142' '143' '207' '288' '?' '73' '82' '94' '62' '56' '112'\n",
      " '92' '161' '156' '52' '85' '114' '162' '134' '106']\n",
      "peak_rpm\n",
      "object\n",
      "['5000' '5500' '5800' '4250' '5400' '5100' '4800' '6000' '4750' '4650'\n",
      " '4200' '4350' '4500' '5200' '4150' '5600' '5900' '5750' '?' '5250' '4900'\n",
      " '4400' '6600' '5300']\n",
      "city_mpg\n",
      "int64\n",
      "[21 19 24 18 17 16 23 20 15 47 38 37 31 49 30 27 25 13 26 36 22 14 45 28\n",
      " 32 35 34 29 33]\n",
      "highway_mpg\n",
      "int64\n",
      "[27 26 30 22 25 20 29 28 53 43 41 38 24 54 42 34 33 31 19 17 23 32 39 18\n",
      " 16 37 50 36 47 46]\n",
      "price\n",
      "object\n",
      "['13495' '16500' '13950' '17450' '15250' '17710' '18920' '23875' '?'\n",
      " '16430' '16925' '20970' '21105' '24565' '30760' '41315' '36880' '5151'\n",
      " '6295' '6575' '5572' '6377' '7957' '6229' '6692' '7609' '8558' '8921'\n",
      " '12964' '6479' '6855' '5399' '6529' '7129' '7295' '7895' '9095' '8845'\n",
      " '10295' '12945' '10345' '6785' '11048' nan '35550' '36000' '5195' '6095'\n",
      " '6795' '6695' '7395' '10945' '11845' '13645' '15645' '8495' '10595'\n",
      " '10245' '10795' '11245' '18280' '18344' '25552' '28248' '28176' '31600'\n",
      " '34184' '35056' '40960' '45400' '16503' '5389' '6189' '6669' '7689'\n",
      " '9959' '8499' '12629' '14869' '14489' '6989' '8189' '9279' '5499' '7099'\n",
      " '6649' '6849' '7349' '7299' '7799' '7499' '7999' '8249' '8949' '9549'\n",
      " '13499' '14399' '17199' '19699' '18399' '11900' '13200' '12440' '13860'\n",
      " '15580' '16695' '17075' '16630' '17950' '18150' '12764' '22018' '32528'\n",
      " '34028' '37028' '9295' '9895' '11850' '12170' '15040' '15510' '18620'\n",
      " '5118' '7053' '7603' '7126' '7775' '9960' '9233' '11259' '7463' '10198'\n",
      " '8013' '11694' '5348' '6338' '6488' '6918' '7898' '8778' '6938' '7198'\n",
      " '7788' '7738' '8358' '9258' '8058' '8238' '9298' '9538' '8449' '9639'\n",
      " '9989' '11199' '11549' '17669' '8948' '10698' '9988' '10898' '11248'\n",
      " '16558' '15998' '15690' '15750' '7975' '7995' '8195' '9495' '9995'\n",
      " '11595' '9980' '13295' '13845' '12290' '12940' '13415' '15985' '16515'\n",
      " '18420' '18950' '16845' '19045' '21485' '22625']\n"
     ]
    }
   ],
   "source": [
    "for i in df.columns:\n",
    "    print(i)\n",
    "    print(df[i].dtype)      #instead of checking the data type and structural erros for each one, we can use for loop\n",
    "    print(df[i].unique())"
   ]
  },
  {
   "cell_type": "code",
   "execution_count": null,
   "id": "f2591a55",
   "metadata": {},
   "outputs": [],
   "source": []
  }
 ],
 "metadata": {
  "kernelspec": {
   "display_name": "Python 3 (ipykernel)",
   "language": "python",
   "name": "python3"
  },
  "language_info": {
   "codemirror_mode": {
    "name": "ipython",
    "version": 3
   },
   "file_extension": ".py",
   "mimetype": "text/x-python",
   "name": "python",
   "nbconvert_exporter": "python",
   "pygments_lexer": "ipython3",
   "version": "3.11.4"
  }
 },
 "nbformat": 4,
 "nbformat_minor": 5
}

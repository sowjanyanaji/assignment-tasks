{
 "cells": [
  {
   "cell_type": "markdown",
   "id": "6fd798fc",
   "metadata": {},
   "source": [
    "# Task 4"
   ]
  },
  {
   "cell_type": "code",
   "execution_count": 11,
   "id": "bb20a1e9",
   "metadata": {},
   "outputs": [],
   "source": [
    "import numpy as np\n",
    "import pandas as pd"
   ]
  },
  {
   "cell_type": "code",
   "execution_count": 170,
   "id": "f4e8c730",
   "metadata": {},
   "outputs": [
    {
     "data": {
      "text/html": [
       "<div>\n",
       "<style scoped>\n",
       "    .dataframe tbody tr th:only-of-type {\n",
       "        vertical-align: middle;\n",
       "    }\n",
       "\n",
       "    .dataframe tbody tr th {\n",
       "        vertical-align: top;\n",
       "    }\n",
       "\n",
       "    .dataframe thead th {\n",
       "        text-align: right;\n",
       "    }\n",
       "</style>\n",
       "<table border=\"1\" class=\"dataframe\">\n",
       "  <thead>\n",
       "    <tr style=\"text-align: right;\">\n",
       "      <th></th>\n",
       "      <th>Employee_Name</th>\n",
       "      <th>EmpID</th>\n",
       "      <th>Position</th>\n",
       "      <th>State</th>\n",
       "      <th>Zip</th>\n",
       "      <th>Gender</th>\n",
       "      <th>MaritalDesc</th>\n",
       "      <th>CitizenDesc</th>\n",
       "      <th>EmploymentStatus</th>\n",
       "      <th>Department</th>\n",
       "      <th>Salaries</th>\n",
       "      <th>age</th>\n",
       "      <th>Race</th>\n",
       "    </tr>\n",
       "  </thead>\n",
       "  <tbody>\n",
       "    <tr>\n",
       "      <th>0</th>\n",
       "      <td>Brown, Mia</td>\n",
       "      <td>1103024456</td>\n",
       "      <td>Accountant I</td>\n",
       "      <td>MA</td>\n",
       "      <td>1450.0</td>\n",
       "      <td>F</td>\n",
       "      <td>Married</td>\n",
       "      <td>US Citizen</td>\n",
       "      <td>Active</td>\n",
       "      <td>Admin Offices</td>\n",
       "      <td>674.28</td>\n",
       "      <td>28</td>\n",
       "      <td>Black or African American</td>\n",
       "    </tr>\n",
       "    <tr>\n",
       "      <th>1</th>\n",
       "      <td>LaRotonda, William</td>\n",
       "      <td>1106026572</td>\n",
       "      <td>Accountant I</td>\n",
       "      <td>MA</td>\n",
       "      <td>1460.0</td>\n",
       "      <td>M</td>\n",
       "      <td>Divorced</td>\n",
       "      <td>US Citizen</td>\n",
       "      <td>Active</td>\n",
       "      <td>Admin Offices</td>\n",
       "      <td>674.28</td>\n",
       "      <td>50</td>\n",
       "      <td>NaN</td>\n",
       "    </tr>\n",
       "    <tr>\n",
       "      <th>2</th>\n",
       "      <td>Steans, Tyrone</td>\n",
       "      <td>1302053333</td>\n",
       "      <td>Accountant I</td>\n",
       "      <td>MA</td>\n",
       "      <td>2703.0</td>\n",
       "      <td>M</td>\n",
       "      <td>Single</td>\n",
       "      <td>US Citizen</td>\n",
       "      <td>Active</td>\n",
       "      <td>Admin Offices</td>\n",
       "      <td>674.28</td>\n",
       "      <td>43</td>\n",
       "      <td>White</td>\n",
       "    </tr>\n",
       "    <tr>\n",
       "      <th>3</th>\n",
       "      <td>Howard, Estelle</td>\n",
       "      <td>1211050782</td>\n",
       "      <td>Administrative Assistant</td>\n",
       "      <td>MA</td>\n",
       "      <td>2170.0</td>\n",
       "      <td>F</td>\n",
       "      <td>Married</td>\n",
       "      <td>US Citizen</td>\n",
       "      <td>Terminated for Cause</td>\n",
       "      <td>Admin Offices</td>\n",
       "      <td>NaN</td>\n",
       "      <td>44</td>\n",
       "      <td>White</td>\n",
       "    </tr>\n",
       "    <tr>\n",
       "      <th>4</th>\n",
       "      <td>Singh, Nan</td>\n",
       "      <td>1307059817</td>\n",
       "      <td>Administrative Assistant</td>\n",
       "      <td>MA</td>\n",
       "      <td>2330.0</td>\n",
       "      <td>F</td>\n",
       "      <td>Single</td>\n",
       "      <td>US Citizen</td>\n",
       "      <td>Active</td>\n",
       "      <td>Admin Offices</td>\n",
       "      <td>61089.35</td>\n",
       "      <td>33</td>\n",
       "      <td>White</td>\n",
       "    </tr>\n",
       "    <tr>\n",
       "      <th>...</th>\n",
       "      <td>...</td>\n",
       "      <td>...</td>\n",
       "      <td>...</td>\n",
       "      <td>...</td>\n",
       "      <td>...</td>\n",
       "      <td>...</td>\n",
       "      <td>...</td>\n",
       "      <td>...</td>\n",
       "      <td>...</td>\n",
       "      <td>...</td>\n",
       "      <td>...</td>\n",
       "      <td>...</td>\n",
       "      <td>...</td>\n",
       "    </tr>\n",
       "    <tr>\n",
       "      <th>305</th>\n",
       "      <td>Daniele, Ann</td>\n",
       "      <td>1411071312</td>\n",
       "      <td>Sr. Network Engineer</td>\n",
       "      <td>CT</td>\n",
       "      <td>6033.0</td>\n",
       "      <td>F</td>\n",
       "      <td>Married</td>\n",
       "      <td>US Citizen</td>\n",
       "      <td>Leave of Absence</td>\n",
       "      <td>IT/IS</td>\n",
       "      <td>37619.01</td>\n",
       "      <td>38</td>\n",
       "      <td>White</td>\n",
       "    </tr>\n",
       "    <tr>\n",
       "      <th>306</th>\n",
       "      <td>Lajiri,  Jyoti</td>\n",
       "      <td>1108028108</td>\n",
       "      <td>Sr. Network Engineer</td>\n",
       "      <td>MA</td>\n",
       "      <td>2169.0</td>\n",
       "      <td>M</td>\n",
       "      <td>Married</td>\n",
       "      <td>US Citizen</td>\n",
       "      <td>Leave of Absence</td>\n",
       "      <td>IT/IS</td>\n",
       "      <td>27603.00</td>\n",
       "      <td>34</td>\n",
       "      <td>White</td>\n",
       "    </tr>\n",
       "    <tr>\n",
       "      <th>307</th>\n",
       "      <td>Semizoglou, Jeremiah</td>\n",
       "      <td>904013591</td>\n",
       "      <td>Sr. Network Engineer</td>\n",
       "      <td>MA</td>\n",
       "      <td>1545.0</td>\n",
       "      <td>M</td>\n",
       "      <td>Married</td>\n",
       "      <td>US Citizen</td>\n",
       "      <td>Future Start</td>\n",
       "      <td>IT/IS</td>\n",
       "      <td>27587.46</td>\n",
       "      <td>24</td>\n",
       "      <td>Asian</td>\n",
       "    </tr>\n",
       "    <tr>\n",
       "      <th>308</th>\n",
       "      <td>South, Joe</td>\n",
       "      <td>1308060959</td>\n",
       "      <td>Sr. Network Engineer</td>\n",
       "      <td>CT</td>\n",
       "      <td>6278.0</td>\n",
       "      <td>M</td>\n",
       "      <td>Single</td>\n",
       "      <td>US Citizen</td>\n",
       "      <td>Active</td>\n",
       "      <td>IT/IS</td>\n",
       "      <td>12126.53</td>\n",
       "      <td>31</td>\n",
       "      <td>White</td>\n",
       "    </tr>\n",
       "    <tr>\n",
       "      <th>309</th>\n",
       "      <td>Warfield, Sarah</td>\n",
       "      <td>1301052347</td>\n",
       "      <td>Sr. Network Engineer</td>\n",
       "      <td>MA</td>\n",
       "      <td>2453.0</td>\n",
       "      <td>F</td>\n",
       "      <td>Widowed</td>\n",
       "      <td>US Citizen</td>\n",
       "      <td>Active</td>\n",
       "      <td>IT/IS</td>\n",
       "      <td>37257.00</td>\n",
       "      <td>46</td>\n",
       "      <td>Asian</td>\n",
       "    </tr>\n",
       "  </tbody>\n",
       "</table>\n",
       "<p>310 rows × 13 columns</p>\n",
       "</div>"
      ],
      "text/plain": [
       "              Employee_Name       EmpID                  Position State  \\\n",
       "0                Brown, Mia  1103024456              Accountant I    MA   \n",
       "1      LaRotonda, William    1106026572              Accountant I    MA   \n",
       "2          Steans, Tyrone    1302053333              Accountant I    MA   \n",
       "3           Howard, Estelle  1211050782  Administrative Assistant    MA   \n",
       "4               Singh, Nan   1307059817  Administrative Assistant    MA   \n",
       "..                      ...         ...                       ...   ...   \n",
       "305          Daniele, Ann    1411071312      Sr. Network Engineer    CT   \n",
       "306          Lajiri,  Jyoti  1108028108      Sr. Network Engineer    MA   \n",
       "307  Semizoglou, Jeremiah     904013591      Sr. Network Engineer    MA   \n",
       "308              South, Joe  1308060959      Sr. Network Engineer    CT   \n",
       "309         Warfield, Sarah  1301052347      Sr. Network Engineer    MA   \n",
       "\n",
       "        Zip Gender MaritalDesc CitizenDesc      EmploymentStatus  \\\n",
       "0    1450.0      F     Married  US Citizen                Active   \n",
       "1    1460.0     M     Divorced  US Citizen                Active   \n",
       "2    2703.0     M       Single  US Citizen                Active   \n",
       "3    2170.0      F     Married  US Citizen  Terminated for Cause   \n",
       "4    2330.0      F      Single  US Citizen                Active   \n",
       "..      ...    ...         ...         ...                   ...   \n",
       "305  6033.0      F     Married  US Citizen      Leave of Absence   \n",
       "306  2169.0     M      Married  US Citizen      Leave of Absence   \n",
       "307  1545.0     M      Married  US Citizen          Future Start   \n",
       "308  6278.0     M       Single  US Citizen                Active   \n",
       "309  2453.0      F     Widowed  US Citizen                Active   \n",
       "\n",
       "        Department  Salaries  age                       Race  \n",
       "0    Admin Offices    674.28   28  Black or African American  \n",
       "1    Admin Offices    674.28   50                        NaN  \n",
       "2    Admin Offices    674.28   43                      White  \n",
       "3    Admin Offices       NaN   44                      White  \n",
       "4    Admin Offices  61089.35   33                      White  \n",
       "..             ...       ...  ...                        ...  \n",
       "305          IT/IS  37619.01   38                      White  \n",
       "306          IT/IS  27603.00   34                      White  \n",
       "307          IT/IS  27587.46   24                      Asian  \n",
       "308          IT/IS  12126.53   31                      White  \n",
       "309          IT/IS  37257.00   46                      Asian  \n",
       "\n",
       "[310 rows x 13 columns]"
      ]
     },
     "execution_count": 170,
     "metadata": {},
     "output_type": "execute_result"
    }
   ],
   "source": [
    "df = pd.read_excel(r\"C:\\Users\\anaji\\Sowjanya\\Task FOLDER\\Pandas\\ethnic_diversity.xlsx\")\n",
    "df"
   ]
  },
  {
   "cell_type": "markdown",
   "id": "87299ee8",
   "metadata": {},
   "source": [
    "a. Kindly fill the missing values with\n",
    "\n",
    "i). value\n",
    "ii). Statistical value\n",
    "iii). Filling  method\n",
    "\n"
   ]
  },
  {
   "cell_type": "code",
   "execution_count": 13,
   "id": "dfcbfc56",
   "metadata": {
    "scrolled": true
   },
   "outputs": [
    {
     "data": {
      "text/plain": [
       "Employee_Name        0\n",
       "EmpID                0\n",
       "Position             3\n",
       "State                2\n",
       "Zip                  2\n",
       "Gender               7\n",
       "MaritalDesc          9\n",
       "CitizenDesc          3\n",
       "EmploymentStatus     0\n",
       "Department           5\n",
       "Salaries            12\n",
       "age                  0\n",
       "Race                 9\n",
       "dtype: int64"
      ]
     },
     "execution_count": 13,
     "metadata": {},
     "output_type": "execute_result"
    }
   ],
   "source": [
    "df.isna().sum()"
   ]
  },
  {
   "cell_type": "markdown",
   "id": "e2f80ca6",
   "metadata": {},
   "source": [
    "# position"
   ]
  },
  {
   "cell_type": "code",
   "execution_count": 4,
   "id": "febcbd33",
   "metadata": {},
   "outputs": [],
   "source": [
    "#based on value"
   ]
  },
  {
   "cell_type": "code",
   "execution_count": 22,
   "id": "9f41fbe2",
   "metadata": {},
   "outputs": [
    {
     "data": {
      "text/plain": [
       "3"
      ]
     },
     "execution_count": 22,
     "metadata": {},
     "output_type": "execute_result"
    }
   ],
   "source": [
    "df['Position'].isna().sum()"
   ]
  },
  {
   "cell_type": "code",
   "execution_count": 8,
   "id": "bf2bf7a7",
   "metadata": {},
   "outputs": [
    {
     "data": {
      "text/html": [
       "<div>\n",
       "<style scoped>\n",
       "    .dataframe tbody tr th:only-of-type {\n",
       "        vertical-align: middle;\n",
       "    }\n",
       "\n",
       "    .dataframe tbody tr th {\n",
       "        vertical-align: top;\n",
       "    }\n",
       "\n",
       "    .dataframe thead th {\n",
       "        text-align: right;\n",
       "    }\n",
       "</style>\n",
       "<table border=\"1\" class=\"dataframe\">\n",
       "  <thead>\n",
       "    <tr style=\"text-align: right;\">\n",
       "      <th></th>\n",
       "      <th>Employee_Name</th>\n",
       "      <th>EmpID</th>\n",
       "      <th>Position</th>\n",
       "      <th>State</th>\n",
       "      <th>Zip</th>\n",
       "      <th>Gender</th>\n",
       "      <th>MaritalDesc</th>\n",
       "      <th>CitizenDesc</th>\n",
       "      <th>EmploymentStatus</th>\n",
       "      <th>Department</th>\n",
       "      <th>Salaries</th>\n",
       "      <th>age</th>\n",
       "      <th>Race</th>\n",
       "    </tr>\n",
       "  </thead>\n",
       "  <tbody>\n",
       "    <tr>\n",
       "      <th>0</th>\n",
       "      <td>Brown, Mia</td>\n",
       "      <td>1103024456</td>\n",
       "      <td>Accountant I</td>\n",
       "      <td>MA</td>\n",
       "      <td>1450.0</td>\n",
       "      <td>F</td>\n",
       "      <td>Married</td>\n",
       "      <td>US Citizen</td>\n",
       "      <td>Active</td>\n",
       "      <td>Admin Offices</td>\n",
       "      <td>674.28</td>\n",
       "      <td>28</td>\n",
       "      <td>Black or African American</td>\n",
       "    </tr>\n",
       "    <tr>\n",
       "      <th>1</th>\n",
       "      <td>LaRotonda, William</td>\n",
       "      <td>1106026572</td>\n",
       "      <td>Accountant I</td>\n",
       "      <td>MA</td>\n",
       "      <td>1460.0</td>\n",
       "      <td>M</td>\n",
       "      <td>Divorced</td>\n",
       "      <td>US Citizen</td>\n",
       "      <td>Active</td>\n",
       "      <td>Admin Offices</td>\n",
       "      <td>674.28</td>\n",
       "      <td>50</td>\n",
       "      <td>NaN</td>\n",
       "    </tr>\n",
       "    <tr>\n",
       "      <th>2</th>\n",
       "      <td>Steans, Tyrone</td>\n",
       "      <td>1302053333</td>\n",
       "      <td>Accountant I</td>\n",
       "      <td>MA</td>\n",
       "      <td>2703.0</td>\n",
       "      <td>M</td>\n",
       "      <td>Single</td>\n",
       "      <td>US Citizen</td>\n",
       "      <td>Active</td>\n",
       "      <td>Admin Offices</td>\n",
       "      <td>674.28</td>\n",
       "      <td>43</td>\n",
       "      <td>White</td>\n",
       "    </tr>\n",
       "    <tr>\n",
       "      <th>3</th>\n",
       "      <td>Howard, Estelle</td>\n",
       "      <td>1211050782</td>\n",
       "      <td>Administrative Assistant</td>\n",
       "      <td>MA</td>\n",
       "      <td>2170.0</td>\n",
       "      <td>F</td>\n",
       "      <td>Married</td>\n",
       "      <td>US Citizen</td>\n",
       "      <td>Terminated for Cause</td>\n",
       "      <td>Admin Offices</td>\n",
       "      <td>NaN</td>\n",
       "      <td>44</td>\n",
       "      <td>White</td>\n",
       "    </tr>\n",
       "    <tr>\n",
       "      <th>4</th>\n",
       "      <td>Singh, Nan</td>\n",
       "      <td>1307059817</td>\n",
       "      <td>Administrative Assistant</td>\n",
       "      <td>MA</td>\n",
       "      <td>2330.0</td>\n",
       "      <td>F</td>\n",
       "      <td>Single</td>\n",
       "      <td>US Citizen</td>\n",
       "      <td>Active</td>\n",
       "      <td>Admin Offices</td>\n",
       "      <td>61089.35</td>\n",
       "      <td>33</td>\n",
       "      <td>White</td>\n",
       "    </tr>\n",
       "    <tr>\n",
       "      <th>...</th>\n",
       "      <td>...</td>\n",
       "      <td>...</td>\n",
       "      <td>...</td>\n",
       "      <td>...</td>\n",
       "      <td>...</td>\n",
       "      <td>...</td>\n",
       "      <td>...</td>\n",
       "      <td>...</td>\n",
       "      <td>...</td>\n",
       "      <td>...</td>\n",
       "      <td>...</td>\n",
       "      <td>...</td>\n",
       "      <td>...</td>\n",
       "    </tr>\n",
       "    <tr>\n",
       "      <th>305</th>\n",
       "      <td>Daniele, Ann</td>\n",
       "      <td>1411071312</td>\n",
       "      <td>Sr. Network Engineer</td>\n",
       "      <td>CT</td>\n",
       "      <td>6033.0</td>\n",
       "      <td>F</td>\n",
       "      <td>Married</td>\n",
       "      <td>US Citizen</td>\n",
       "      <td>Leave of Absence</td>\n",
       "      <td>IT/IS</td>\n",
       "      <td>37619.01</td>\n",
       "      <td>38</td>\n",
       "      <td>White</td>\n",
       "    </tr>\n",
       "    <tr>\n",
       "      <th>306</th>\n",
       "      <td>Lajiri,  Jyoti</td>\n",
       "      <td>1108028108</td>\n",
       "      <td>Sr. Network Engineer</td>\n",
       "      <td>MA</td>\n",
       "      <td>2169.0</td>\n",
       "      <td>M</td>\n",
       "      <td>Married</td>\n",
       "      <td>US Citizen</td>\n",
       "      <td>Leave of Absence</td>\n",
       "      <td>IT/IS</td>\n",
       "      <td>27603.00</td>\n",
       "      <td>34</td>\n",
       "      <td>White</td>\n",
       "    </tr>\n",
       "    <tr>\n",
       "      <th>307</th>\n",
       "      <td>Semizoglou, Jeremiah</td>\n",
       "      <td>904013591</td>\n",
       "      <td>Sr. Network Engineer</td>\n",
       "      <td>MA</td>\n",
       "      <td>1545.0</td>\n",
       "      <td>M</td>\n",
       "      <td>Married</td>\n",
       "      <td>US Citizen</td>\n",
       "      <td>Future Start</td>\n",
       "      <td>IT/IS</td>\n",
       "      <td>27587.46</td>\n",
       "      <td>24</td>\n",
       "      <td>Asian</td>\n",
       "    </tr>\n",
       "    <tr>\n",
       "      <th>308</th>\n",
       "      <td>South, Joe</td>\n",
       "      <td>1308060959</td>\n",
       "      <td>Sr. Network Engineer</td>\n",
       "      <td>CT</td>\n",
       "      <td>6278.0</td>\n",
       "      <td>M</td>\n",
       "      <td>Single</td>\n",
       "      <td>US Citizen</td>\n",
       "      <td>Active</td>\n",
       "      <td>IT/IS</td>\n",
       "      <td>12126.53</td>\n",
       "      <td>31</td>\n",
       "      <td>White</td>\n",
       "    </tr>\n",
       "    <tr>\n",
       "      <th>309</th>\n",
       "      <td>Warfield, Sarah</td>\n",
       "      <td>1301052347</td>\n",
       "      <td>Sr. Network Engineer</td>\n",
       "      <td>MA</td>\n",
       "      <td>2453.0</td>\n",
       "      <td>F</td>\n",
       "      <td>Widowed</td>\n",
       "      <td>US Citizen</td>\n",
       "      <td>Active</td>\n",
       "      <td>IT/IS</td>\n",
       "      <td>37257.00</td>\n",
       "      <td>46</td>\n",
       "      <td>Asian</td>\n",
       "    </tr>\n",
       "  </tbody>\n",
       "</table>\n",
       "<p>310 rows × 13 columns</p>\n",
       "</div>"
      ],
      "text/plain": [
       "              Employee_Name       EmpID                  Position State  \\\n",
       "0                Brown, Mia  1103024456              Accountant I    MA   \n",
       "1      LaRotonda, William    1106026572              Accountant I    MA   \n",
       "2          Steans, Tyrone    1302053333              Accountant I    MA   \n",
       "3           Howard, Estelle  1211050782  Administrative Assistant    MA   \n",
       "4               Singh, Nan   1307059817  Administrative Assistant    MA   \n",
       "..                      ...         ...                       ...   ...   \n",
       "305          Daniele, Ann    1411071312      Sr. Network Engineer    CT   \n",
       "306          Lajiri,  Jyoti  1108028108      Sr. Network Engineer    MA   \n",
       "307  Semizoglou, Jeremiah     904013591      Sr. Network Engineer    MA   \n",
       "308              South, Joe  1308060959      Sr. Network Engineer    CT   \n",
       "309         Warfield, Sarah  1301052347      Sr. Network Engineer    MA   \n",
       "\n",
       "        Zip Gender MaritalDesc CitizenDesc      EmploymentStatus  \\\n",
       "0    1450.0      F     Married  US Citizen                Active   \n",
       "1    1460.0     M     Divorced  US Citizen                Active   \n",
       "2    2703.0     M       Single  US Citizen                Active   \n",
       "3    2170.0      F     Married  US Citizen  Terminated for Cause   \n",
       "4    2330.0      F      Single  US Citizen                Active   \n",
       "..      ...    ...         ...         ...                   ...   \n",
       "305  6033.0      F     Married  US Citizen      Leave of Absence   \n",
       "306  2169.0     M      Married  US Citizen      Leave of Absence   \n",
       "307  1545.0     M      Married  US Citizen          Future Start   \n",
       "308  6278.0     M       Single  US Citizen                Active   \n",
       "309  2453.0      F     Widowed  US Citizen                Active   \n",
       "\n",
       "        Department  Salaries  age                       Race  \n",
       "0    Admin Offices    674.28   28  Black or African American  \n",
       "1    Admin Offices    674.28   50                        NaN  \n",
       "2    Admin Offices    674.28   43                      White  \n",
       "3    Admin Offices       NaN   44                      White  \n",
       "4    Admin Offices  61089.35   33                      White  \n",
       "..             ...       ...  ...                        ...  \n",
       "305          IT/IS  37619.01   38                      White  \n",
       "306          IT/IS  27603.00   34                      White  \n",
       "307          IT/IS  27587.46   24                      Asian  \n",
       "308          IT/IS  12126.53   31                      White  \n",
       "309          IT/IS  37257.00   46                      Asian  \n",
       "\n",
       "[310 rows x 13 columns]"
      ]
     },
     "execution_count": 8,
     "metadata": {},
     "output_type": "execute_result"
    }
   ],
   "source": [
    "df['Position'].fillna('Accountant I',inplace = True)\n",
    "df"
   ]
  },
  {
   "cell_type": "code",
   "execution_count": 9,
   "id": "cb6ba72b",
   "metadata": {},
   "outputs": [
    {
     "data": {
      "text/plain": [
       "0"
      ]
     },
     "execution_count": 9,
     "metadata": {},
     "output_type": "execute_result"
    }
   ],
   "source": [
    "df['Position'].isna().sum()"
   ]
  },
  {
   "cell_type": "code",
   "execution_count": 10,
   "id": "dfa86d49",
   "metadata": {},
   "outputs": [],
   "source": [
    "#based on stastical method"
   ]
  },
  {
   "cell_type": "code",
   "execution_count": 23,
   "id": "996d0524",
   "metadata": {},
   "outputs": [
    {
     "data": {
      "text/plain": [
       "3"
      ]
     },
     "execution_count": 23,
     "metadata": {},
     "output_type": "execute_result"
    }
   ],
   "source": [
    "df['Position'].isna().sum()"
   ]
  },
  {
   "cell_type": "code",
   "execution_count": 18,
   "id": "dbb8b6a4",
   "metadata": {},
   "outputs": [
    {
     "data": {
      "text/plain": [
       "'Production Technician I'"
      ]
     },
     "execution_count": 18,
     "metadata": {},
     "output_type": "execute_result"
    }
   ],
   "source": [
    "df['Position'].mode()[0]"
   ]
  },
  {
   "cell_type": "code",
   "execution_count": 19,
   "id": "095f378c",
   "metadata": {},
   "outputs": [],
   "source": [
    "df['Position'].fillna(df['Position'].mode()[0],inplace = True)"
   ]
  },
  {
   "cell_type": "code",
   "execution_count": 20,
   "id": "248c4ddb",
   "metadata": {},
   "outputs": [
    {
     "data": {
      "text/plain": [
       "0"
      ]
     },
     "execution_count": 20,
     "metadata": {},
     "output_type": "execute_result"
    }
   ],
   "source": [
    "df['Position'].isna().sum()"
   ]
  },
  {
   "cell_type": "code",
   "execution_count": 24,
   "id": "a698f1c7",
   "metadata": {},
   "outputs": [],
   "source": [
    "#based on filling method"
   ]
  },
  {
   "cell_type": "code",
   "execution_count": 26,
   "id": "28b807b9",
   "metadata": {},
   "outputs": [
    {
     "data": {
      "text/plain": [
       "3"
      ]
     },
     "execution_count": 26,
     "metadata": {},
     "output_type": "execute_result"
    }
   ],
   "source": [
    "df['Position'].isna().sum()"
   ]
  },
  {
   "cell_type": "code",
   "execution_count": 27,
   "id": "e2581587",
   "metadata": {},
   "outputs": [],
   "source": [
    "df['Position'].fillna(method = 'bfill',inplace = True)"
   ]
  },
  {
   "cell_type": "code",
   "execution_count": 28,
   "id": "2b4ecac3",
   "metadata": {},
   "outputs": [
    {
     "data": {
      "text/plain": [
       "0"
      ]
     },
     "execution_count": 28,
     "metadata": {},
     "output_type": "execute_result"
    }
   ],
   "source": [
    "df['Position'].isna().sum()"
   ]
  },
  {
   "cell_type": "markdown",
   "id": "cd3cf486",
   "metadata": {},
   "source": [
    "# State"
   ]
  },
  {
   "cell_type": "code",
   "execution_count": 29,
   "id": "5f473968",
   "metadata": {},
   "outputs": [],
   "source": [
    "#based on value"
   ]
  },
  {
   "cell_type": "code",
   "execution_count": 31,
   "id": "bc0475b2",
   "metadata": {},
   "outputs": [
    {
     "data": {
      "text/plain": [
       "2"
      ]
     },
     "execution_count": 31,
     "metadata": {},
     "output_type": "execute_result"
    }
   ],
   "source": [
    "df['State'].isna().sum()"
   ]
  },
  {
   "cell_type": "code",
   "execution_count": 32,
   "id": "9a6fe2b2",
   "metadata": {},
   "outputs": [],
   "source": [
    "df['State'].fillna('MA',inplace = True)"
   ]
  },
  {
   "cell_type": "code",
   "execution_count": 33,
   "id": "0172b0a1",
   "metadata": {},
   "outputs": [
    {
     "data": {
      "text/plain": [
       "0"
      ]
     },
     "execution_count": 33,
     "metadata": {},
     "output_type": "execute_result"
    }
   ],
   "source": [
    "df['State'].isna().sum()"
   ]
  },
  {
   "cell_type": "code",
   "execution_count": 34,
   "id": "9f7d428a",
   "metadata": {},
   "outputs": [],
   "source": [
    "#based on statistical method"
   ]
  },
  {
   "cell_type": "code",
   "execution_count": 36,
   "id": "44402ee6",
   "metadata": {},
   "outputs": [
    {
     "data": {
      "text/plain": [
       "2"
      ]
     },
     "execution_count": 36,
     "metadata": {},
     "output_type": "execute_result"
    }
   ],
   "source": [
    "df['State'].isna().sum()"
   ]
  },
  {
   "cell_type": "code",
   "execution_count": 37,
   "id": "843abc2b",
   "metadata": {},
   "outputs": [
    {
     "data": {
      "text/plain": [
       "'MA'"
      ]
     },
     "execution_count": 37,
     "metadata": {},
     "output_type": "execute_result"
    }
   ],
   "source": [
    "df['State'].mode()[0]"
   ]
  },
  {
   "cell_type": "code",
   "execution_count": 38,
   "id": "ddabcc15",
   "metadata": {},
   "outputs": [],
   "source": [
    "df['State'].fillna(df['State'].mode()[0],inplace = True)"
   ]
  },
  {
   "cell_type": "code",
   "execution_count": 39,
   "id": "2910ee12",
   "metadata": {},
   "outputs": [
    {
     "data": {
      "text/plain": [
       "0"
      ]
     },
     "execution_count": 39,
     "metadata": {},
     "output_type": "execute_result"
    }
   ],
   "source": [
    "df['State'].isna().sum()"
   ]
  },
  {
   "cell_type": "code",
   "execution_count": 40,
   "id": "72139622",
   "metadata": {},
   "outputs": [],
   "source": [
    "#based on filling method"
   ]
  },
  {
   "cell_type": "code",
   "execution_count": 42,
   "id": "74475f38",
   "metadata": {},
   "outputs": [
    {
     "data": {
      "text/plain": [
       "2"
      ]
     },
     "execution_count": 42,
     "metadata": {},
     "output_type": "execute_result"
    }
   ],
   "source": [
    "df['State'].isna().sum()"
   ]
  },
  {
   "cell_type": "code",
   "execution_count": 43,
   "id": "72f14ccc",
   "metadata": {},
   "outputs": [],
   "source": [
    "df['State'].fillna(method = 'ffill',inplace = True)"
   ]
  },
  {
   "cell_type": "code",
   "execution_count": 44,
   "id": "a11386be",
   "metadata": {},
   "outputs": [
    {
     "data": {
      "text/plain": [
       "0"
      ]
     },
     "execution_count": 44,
     "metadata": {},
     "output_type": "execute_result"
    }
   ],
   "source": [
    "df['State'].isna().sum()"
   ]
  },
  {
   "cell_type": "markdown",
   "id": "242daa07",
   "metadata": {},
   "source": [
    "# Zip"
   ]
  },
  {
   "cell_type": "code",
   "execution_count": 50,
   "id": "372b8b2d",
   "metadata": {},
   "outputs": [],
   "source": [
    "#based on value\n"
   ]
  },
  {
   "cell_type": "code",
   "execution_count": 47,
   "id": "ddc9eb9d",
   "metadata": {},
   "outputs": [
    {
     "data": {
      "text/plain": [
       "2"
      ]
     },
     "execution_count": 47,
     "metadata": {},
     "output_type": "execute_result"
    }
   ],
   "source": [
    "df['Zip'].isna().sum()"
   ]
  },
  {
   "cell_type": "code",
   "execution_count": 48,
   "id": "a5290301",
   "metadata": {},
   "outputs": [],
   "source": [
    "df['Zip'].fillna(2703.0, inplace = True)"
   ]
  },
  {
   "cell_type": "code",
   "execution_count": 49,
   "id": "e2984542",
   "metadata": {},
   "outputs": [
    {
     "data": {
      "text/plain": [
       "0"
      ]
     },
     "execution_count": 49,
     "metadata": {},
     "output_type": "execute_result"
    }
   ],
   "source": [
    "df['Zip'].isna().sum()"
   ]
  },
  {
   "cell_type": "code",
   "execution_count": 51,
   "id": "7b3677f6",
   "metadata": {},
   "outputs": [],
   "source": [
    "#based on statistical method"
   ]
  },
  {
   "cell_type": "code",
   "execution_count": 53,
   "id": "fabe5112",
   "metadata": {},
   "outputs": [
    {
     "data": {
      "text/plain": [
       "2"
      ]
     },
     "execution_count": 53,
     "metadata": {},
     "output_type": "execute_result"
    }
   ],
   "source": [
    "df['Zip'].isna().sum()"
   ]
  },
  {
   "cell_type": "code",
   "execution_count": 54,
   "id": "8e89d4f5",
   "metadata": {},
   "outputs": [
    {
     "data": {
      "text/plain": [
       "2132.0"
      ]
     },
     "execution_count": 54,
     "metadata": {},
     "output_type": "execute_result"
    }
   ],
   "source": [
    "df['Zip'].median()"
   ]
  },
  {
   "cell_type": "code",
   "execution_count": 55,
   "id": "9caaa15e",
   "metadata": {},
   "outputs": [],
   "source": [
    "df['Zip'].fillna(df['Zip'].median(), inplace = True)"
   ]
  },
  {
   "cell_type": "code",
   "execution_count": 56,
   "id": "9e3955d8",
   "metadata": {},
   "outputs": [
    {
     "data": {
      "text/plain": [
       "0"
      ]
     },
     "execution_count": 56,
     "metadata": {},
     "output_type": "execute_result"
    }
   ],
   "source": [
    "df['Zip'].isna().sum()"
   ]
  },
  {
   "cell_type": "code",
   "execution_count": 57,
   "id": "7f548ae2",
   "metadata": {},
   "outputs": [],
   "source": [
    "#based on filling method"
   ]
  },
  {
   "cell_type": "code",
   "execution_count": 59,
   "id": "7bb39e83",
   "metadata": {},
   "outputs": [
    {
     "data": {
      "text/plain": [
       "2"
      ]
     },
     "execution_count": 59,
     "metadata": {},
     "output_type": "execute_result"
    }
   ],
   "source": [
    "df['Zip'].isna().sum()"
   ]
  },
  {
   "cell_type": "code",
   "execution_count": 60,
   "id": "1ba84d76",
   "metadata": {},
   "outputs": [],
   "source": [
    "df['Zip'].fillna(method = 'ffill', inplace = True)"
   ]
  },
  {
   "cell_type": "code",
   "execution_count": 61,
   "id": "e1ee069e",
   "metadata": {},
   "outputs": [
    {
     "data": {
      "text/plain": [
       "0"
      ]
     },
     "execution_count": 61,
     "metadata": {},
     "output_type": "execute_result"
    }
   ],
   "source": [
    "df['Zip'].isna().sum()"
   ]
  },
  {
   "cell_type": "markdown",
   "id": "0c5e88e6",
   "metadata": {},
   "source": [
    "# Gender "
   ]
  },
  {
   "cell_type": "code",
   "execution_count": 63,
   "id": "f20d630a",
   "metadata": {},
   "outputs": [
    {
     "data": {
      "text/plain": [
       "7"
      ]
     },
     "execution_count": 63,
     "metadata": {},
     "output_type": "execute_result"
    }
   ],
   "source": [
    "df['Gender'].isna().sum()"
   ]
  },
  {
   "cell_type": "code",
   "execution_count": 64,
   "id": "490ec6b5",
   "metadata": {},
   "outputs": [],
   "source": [
    "#based on value"
   ]
  },
  {
   "cell_type": "code",
   "execution_count": 65,
   "id": "790d0dc5",
   "metadata": {},
   "outputs": [],
   "source": [
    "df['Gender'].fillna('M', inplace = True)"
   ]
  },
  {
   "cell_type": "code",
   "execution_count": 66,
   "id": "c9f44809",
   "metadata": {},
   "outputs": [
    {
     "data": {
      "text/plain": [
       "0"
      ]
     },
     "execution_count": 66,
     "metadata": {},
     "output_type": "execute_result"
    }
   ],
   "source": [
    "df['Gender'].isna().sum()"
   ]
  },
  {
   "cell_type": "code",
   "execution_count": 67,
   "id": "04a22f83",
   "metadata": {},
   "outputs": [],
   "source": [
    "#based on statistical method"
   ]
  },
  {
   "cell_type": "code",
   "execution_count": 69,
   "id": "3fbde9cb",
   "metadata": {},
   "outputs": [
    {
     "data": {
      "text/plain": [
       "7"
      ]
     },
     "execution_count": 69,
     "metadata": {},
     "output_type": "execute_result"
    }
   ],
   "source": [
    "df['Gender'].isna().sum()"
   ]
  },
  {
   "cell_type": "code",
   "execution_count": 70,
   "id": "699728fd",
   "metadata": {},
   "outputs": [
    {
     "data": {
      "text/plain": [
       "'F'"
      ]
     },
     "execution_count": 70,
     "metadata": {},
     "output_type": "execute_result"
    }
   ],
   "source": [
    "df['Gender'].mode()[0]"
   ]
  },
  {
   "cell_type": "code",
   "execution_count": 71,
   "id": "b676e2bc",
   "metadata": {},
   "outputs": [],
   "source": [
    "df['Gender'].fillna('F', inplace = True)"
   ]
  },
  {
   "cell_type": "code",
   "execution_count": 72,
   "id": "8bd286db",
   "metadata": {},
   "outputs": [
    {
     "data": {
      "text/plain": [
       "0"
      ]
     },
     "execution_count": 72,
     "metadata": {},
     "output_type": "execute_result"
    }
   ],
   "source": [
    "df['Gender'].isna().sum()"
   ]
  },
  {
   "cell_type": "code",
   "execution_count": 73,
   "id": "4b14edd4",
   "metadata": {},
   "outputs": [],
   "source": [
    "#based on filling method"
   ]
  },
  {
   "cell_type": "code",
   "execution_count": 80,
   "id": "bd6c0d7b",
   "metadata": {},
   "outputs": [
    {
     "data": {
      "text/plain": [
       "7"
      ]
     },
     "execution_count": 80,
     "metadata": {},
     "output_type": "execute_result"
    }
   ],
   "source": [
    "df['Gender'].isna().sum()"
   ]
  },
  {
   "cell_type": "code",
   "execution_count": 81,
   "id": "f112fd4d",
   "metadata": {},
   "outputs": [],
   "source": [
    "df['Gender'].fillna(method = 'bfill', inplace = True)"
   ]
  },
  {
   "cell_type": "code",
   "execution_count": 82,
   "id": "71db4a3b",
   "metadata": {},
   "outputs": [
    {
     "data": {
      "text/plain": [
       "0"
      ]
     },
     "execution_count": 82,
     "metadata": {},
     "output_type": "execute_result"
    }
   ],
   "source": [
    "df['Gender'].isna().sum()"
   ]
  },
  {
   "cell_type": "markdown",
   "id": "a4bf7594",
   "metadata": {},
   "source": [
    "# MaritalDesc"
   ]
  },
  {
   "cell_type": "code",
   "execution_count": 85,
   "id": "f4d9a113",
   "metadata": {},
   "outputs": [
    {
     "data": {
      "text/plain": [
       "9"
      ]
     },
     "execution_count": 85,
     "metadata": {},
     "output_type": "execute_result"
    }
   ],
   "source": [
    "df['MaritalDesc'].isna().sum()"
   ]
  },
  {
   "cell_type": "code",
   "execution_count": 86,
   "id": "00ca873f",
   "metadata": {},
   "outputs": [],
   "source": [
    "#based on values"
   ]
  },
  {
   "cell_type": "code",
   "execution_count": 87,
   "id": "e9cf9a2e",
   "metadata": {},
   "outputs": [],
   "source": [
    "df['MaritalDesc'].fillna('Single',inplace = True)"
   ]
  },
  {
   "cell_type": "code",
   "execution_count": 88,
   "id": "13331ef1",
   "metadata": {},
   "outputs": [
    {
     "data": {
      "text/plain": [
       "0"
      ]
     },
     "execution_count": 88,
     "metadata": {},
     "output_type": "execute_result"
    }
   ],
   "source": [
    "df['MaritalDesc'].isna().sum()"
   ]
  },
  {
   "cell_type": "code",
   "execution_count": 89,
   "id": "9e084869",
   "metadata": {},
   "outputs": [],
   "source": [
    "#based on statistical method"
   ]
  },
  {
   "cell_type": "code",
   "execution_count": 91,
   "id": "c8ec0a51",
   "metadata": {},
   "outputs": [
    {
     "data": {
      "text/plain": [
       "9"
      ]
     },
     "execution_count": 91,
     "metadata": {},
     "output_type": "execute_result"
    }
   ],
   "source": [
    "df['MaritalDesc'].isna().sum()"
   ]
  },
  {
   "cell_type": "code",
   "execution_count": 93,
   "id": "004d2f3f",
   "metadata": {},
   "outputs": [
    {
     "data": {
      "text/plain": [
       "'Single'"
      ]
     },
     "execution_count": 93,
     "metadata": {},
     "output_type": "execute_result"
    }
   ],
   "source": [
    "df['MaritalDesc'].mode()[0]"
   ]
  },
  {
   "cell_type": "code",
   "execution_count": 94,
   "id": "4b7800aa",
   "metadata": {},
   "outputs": [],
   "source": [
    "df['MaritalDesc'].fillna(df['MaritalDesc'].mode()[0],inplace = True)"
   ]
  },
  {
   "cell_type": "code",
   "execution_count": 95,
   "id": "603cb5e9",
   "metadata": {},
   "outputs": [
    {
     "data": {
      "text/plain": [
       "0"
      ]
     },
     "execution_count": 95,
     "metadata": {},
     "output_type": "execute_result"
    }
   ],
   "source": [
    "df['MaritalDesc'].isna().sum()"
   ]
  },
  {
   "cell_type": "code",
   "execution_count": 96,
   "id": "61829558",
   "metadata": {},
   "outputs": [],
   "source": [
    "#based on filling"
   ]
  },
  {
   "cell_type": "code",
   "execution_count": 98,
   "id": "3fc4c2c0",
   "metadata": {},
   "outputs": [
    {
     "data": {
      "text/plain": [
       "9"
      ]
     },
     "execution_count": 98,
     "metadata": {},
     "output_type": "execute_result"
    }
   ],
   "source": [
    "df['MaritalDesc'].isna().sum()"
   ]
  },
  {
   "cell_type": "code",
   "execution_count": 99,
   "id": "a3541c2d",
   "metadata": {},
   "outputs": [],
   "source": [
    "df['MaritalDesc'].fillna(method = 'ffill', inplace = True)"
   ]
  },
  {
   "cell_type": "code",
   "execution_count": 101,
   "id": "09d044c8",
   "metadata": {},
   "outputs": [
    {
     "data": {
      "text/plain": [
       "0"
      ]
     },
     "execution_count": 101,
     "metadata": {},
     "output_type": "execute_result"
    }
   ],
   "source": [
    "df['MaritalDesc'].isna().sum()"
   ]
  },
  {
   "cell_type": "markdown",
   "id": "fcea6fdd",
   "metadata": {},
   "source": [
    "# CitizenDesc"
   ]
  },
  {
   "cell_type": "code",
   "execution_count": 103,
   "id": "d45fc48c",
   "metadata": {},
   "outputs": [
    {
     "data": {
      "text/plain": [
       "3"
      ]
     },
     "execution_count": 103,
     "metadata": {},
     "output_type": "execute_result"
    }
   ],
   "source": [
    "df['CitizenDesc'].isna().sum()"
   ]
  },
  {
   "cell_type": "code",
   "execution_count": 104,
   "id": "527cac9c",
   "metadata": {},
   "outputs": [],
   "source": [
    "#based on value"
   ]
  },
  {
   "cell_type": "code",
   "execution_count": 108,
   "id": "2c26b180",
   "metadata": {},
   "outputs": [],
   "source": [
    "df['CitizenDesc'].fillna('US Citizen', inplace = True)"
   ]
  },
  {
   "cell_type": "code",
   "execution_count": 109,
   "id": "19c65493",
   "metadata": {},
   "outputs": [
    {
     "data": {
      "text/plain": [
       "0"
      ]
     },
     "execution_count": 109,
     "metadata": {},
     "output_type": "execute_result"
    }
   ],
   "source": [
    "df['CitizenDesc'].isna().sum()"
   ]
  },
  {
   "cell_type": "code",
   "execution_count": 110,
   "id": "ff4b0422",
   "metadata": {},
   "outputs": [],
   "source": [
    "#based on statistical method"
   ]
  },
  {
   "cell_type": "code",
   "execution_count": 112,
   "id": "17e16812",
   "metadata": {},
   "outputs": [
    {
     "data": {
      "text/plain": [
       "3"
      ]
     },
     "execution_count": 112,
     "metadata": {},
     "output_type": "execute_result"
    }
   ],
   "source": [
    "df['CitizenDesc'].isna().sum()"
   ]
  },
  {
   "cell_type": "code",
   "execution_count": 113,
   "id": "1f046f9f",
   "metadata": {},
   "outputs": [
    {
     "data": {
      "text/plain": [
       "'US Citizen'"
      ]
     },
     "execution_count": 113,
     "metadata": {},
     "output_type": "execute_result"
    }
   ],
   "source": [
    "df['CitizenDesc'].mode()[0]"
   ]
  },
  {
   "cell_type": "code",
   "execution_count": 114,
   "id": "57e4374d",
   "metadata": {},
   "outputs": [],
   "source": [
    "df['CitizenDesc'].fillna(df['CitizenDesc'].mode()[0], inplace = True)"
   ]
  },
  {
   "cell_type": "code",
   "execution_count": 115,
   "id": "3a0ce65c",
   "metadata": {},
   "outputs": [
    {
     "data": {
      "text/plain": [
       "0"
      ]
     },
     "execution_count": 115,
     "metadata": {},
     "output_type": "execute_result"
    }
   ],
   "source": [
    "df['CitizenDesc'].isna().sum()"
   ]
  },
  {
   "cell_type": "code",
   "execution_count": 116,
   "id": "8758c09f",
   "metadata": {},
   "outputs": [],
   "source": [
    "#based on filling"
   ]
  },
  {
   "cell_type": "code",
   "execution_count": 118,
   "id": "1dac11ac",
   "metadata": {},
   "outputs": [
    {
     "data": {
      "text/plain": [
       "3"
      ]
     },
     "execution_count": 118,
     "metadata": {},
     "output_type": "execute_result"
    }
   ],
   "source": [
    "df['CitizenDesc'].isna().sum()"
   ]
  },
  {
   "cell_type": "code",
   "execution_count": 119,
   "id": "beb4563a",
   "metadata": {},
   "outputs": [],
   "source": [
    "df['CitizenDesc'].fillna(method = 'bfill', inplace = True)"
   ]
  },
  {
   "cell_type": "code",
   "execution_count": 120,
   "id": "6e44c1cc",
   "metadata": {},
   "outputs": [
    {
     "data": {
      "text/plain": [
       "0"
      ]
     },
     "execution_count": 120,
     "metadata": {},
     "output_type": "execute_result"
    }
   ],
   "source": [
    "df['CitizenDesc'].isna().sum()"
   ]
  },
  {
   "cell_type": "markdown",
   "id": "013644d1",
   "metadata": {},
   "source": [
    "# Department"
   ]
  },
  {
   "cell_type": "code",
   "execution_count": 122,
   "id": "bd1aad8b",
   "metadata": {},
   "outputs": [
    {
     "data": {
      "text/plain": [
       "5"
      ]
     },
     "execution_count": 122,
     "metadata": {},
     "output_type": "execute_result"
    }
   ],
   "source": [
    "df['Department'].isna().sum()"
   ]
  },
  {
   "cell_type": "code",
   "execution_count": 123,
   "id": "60c47836",
   "metadata": {},
   "outputs": [],
   "source": [
    "#based on value"
   ]
  },
  {
   "cell_type": "code",
   "execution_count": 124,
   "id": "1262c826",
   "metadata": {},
   "outputs": [],
   "source": [
    "df['Department'].fillna('Admin Offices',inplace = True)"
   ]
  },
  {
   "cell_type": "code",
   "execution_count": 125,
   "id": "6f723936",
   "metadata": {},
   "outputs": [
    {
     "data": {
      "text/plain": [
       "0"
      ]
     },
     "execution_count": 125,
     "metadata": {},
     "output_type": "execute_result"
    }
   ],
   "source": [
    "df['Department'].isna().sum()"
   ]
  },
  {
   "cell_type": "code",
   "execution_count": 126,
   "id": "be768869",
   "metadata": {},
   "outputs": [],
   "source": [
    "#based on statistical method"
   ]
  },
  {
   "cell_type": "code",
   "execution_count": 128,
   "id": "2ed2af3f",
   "metadata": {},
   "outputs": [
    {
     "data": {
      "text/plain": [
       "5"
      ]
     },
     "execution_count": 128,
     "metadata": {},
     "output_type": "execute_result"
    }
   ],
   "source": [
    "df['Department'].isna().sum()"
   ]
  },
  {
   "cell_type": "code",
   "execution_count": 130,
   "id": "8bba9bc8",
   "metadata": {},
   "outputs": [
    {
     "data": {
      "text/plain": [
       "'Production       '"
      ]
     },
     "execution_count": 130,
     "metadata": {},
     "output_type": "execute_result"
    }
   ],
   "source": [
    "df['Department'].mode()[0]"
   ]
  },
  {
   "cell_type": "code",
   "execution_count": 131,
   "id": "64e9e529",
   "metadata": {},
   "outputs": [],
   "source": [
    "df['Department'].fillna(df['Department'].mode()[0],inplace = True)"
   ]
  },
  {
   "cell_type": "code",
   "execution_count": 132,
   "id": "4c43ece9",
   "metadata": {},
   "outputs": [
    {
     "data": {
      "text/plain": [
       "0"
      ]
     },
     "execution_count": 132,
     "metadata": {},
     "output_type": "execute_result"
    }
   ],
   "source": [
    "df['Department'].isna().sum()"
   ]
  },
  {
   "cell_type": "code",
   "execution_count": 133,
   "id": "cd93bf4e",
   "metadata": {},
   "outputs": [],
   "source": [
    "#basic on filling method"
   ]
  },
  {
   "cell_type": "code",
   "execution_count": 135,
   "id": "b04b3ff3",
   "metadata": {},
   "outputs": [
    {
     "data": {
      "text/plain": [
       "5"
      ]
     },
     "execution_count": 135,
     "metadata": {},
     "output_type": "execute_result"
    }
   ],
   "source": [
    "df['Department'].isna().sum()"
   ]
  },
  {
   "cell_type": "code",
   "execution_count": 136,
   "id": "275f207e",
   "metadata": {},
   "outputs": [],
   "source": [
    "df['Department'].fillna(method = 'bfill',inplace = True)"
   ]
  },
  {
   "cell_type": "code",
   "execution_count": 137,
   "id": "c8a0be25",
   "metadata": {},
   "outputs": [
    {
     "data": {
      "text/plain": [
       "0"
      ]
     },
     "execution_count": 137,
     "metadata": {},
     "output_type": "execute_result"
    }
   ],
   "source": [
    "df['Department'].isna().sum()"
   ]
  },
  {
   "cell_type": "markdown",
   "id": "b1026430",
   "metadata": {},
   "source": [
    "# Salaries            "
   ]
  },
  {
   "cell_type": "code",
   "execution_count": 140,
   "id": "a2140b4d",
   "metadata": {},
   "outputs": [
    {
     "data": {
      "text/plain": [
       "12"
      ]
     },
     "execution_count": 140,
     "metadata": {},
     "output_type": "execute_result"
    }
   ],
   "source": [
    "df['Salaries'].isna().sum()"
   ]
  },
  {
   "cell_type": "code",
   "execution_count": 141,
   "id": "a090c408",
   "metadata": {},
   "outputs": [],
   "source": [
    "#based on values"
   ]
  },
  {
   "cell_type": "code",
   "execution_count": 143,
   "id": "d2b1a354",
   "metadata": {},
   "outputs": [],
   "source": [
    "df['Salaries'].fillna(674.28,inplace = True)"
   ]
  },
  {
   "cell_type": "code",
   "execution_count": 144,
   "id": "9531f97a",
   "metadata": {},
   "outputs": [
    {
     "data": {
      "text/plain": [
       "0"
      ]
     },
     "execution_count": 144,
     "metadata": {},
     "output_type": "execute_result"
    }
   ],
   "source": [
    "df['Salaries'].isna().sum()"
   ]
  },
  {
   "cell_type": "code",
   "execution_count": 145,
   "id": "211680bf",
   "metadata": {},
   "outputs": [],
   "source": [
    "#based on statistical method"
   ]
  },
  {
   "cell_type": "code",
   "execution_count": 147,
   "id": "ee4f5295",
   "metadata": {},
   "outputs": [
    {
     "data": {
      "text/plain": [
       "12"
      ]
     },
     "execution_count": 147,
     "metadata": {},
     "output_type": "execute_result"
    }
   ],
   "source": [
    "df['Salaries'].isna().sum()"
   ]
  },
  {
   "cell_type": "code",
   "execution_count": 148,
   "id": "50e200d1",
   "metadata": {},
   "outputs": [
    {
     "data": {
      "text/plain": [
       "34554.744999999995"
      ]
     },
     "execution_count": 148,
     "metadata": {},
     "output_type": "execute_result"
    }
   ],
   "source": [
    "df['Salaries'].median()"
   ]
  },
  {
   "cell_type": "code",
   "execution_count": 149,
   "id": "06830f21",
   "metadata": {},
   "outputs": [],
   "source": [
    "df['Salaries'].fillna(df['Salaries'].median(),inplace = True)"
   ]
  },
  {
   "cell_type": "code",
   "execution_count": 151,
   "id": "2280bd70",
   "metadata": {},
   "outputs": [
    {
     "data": {
      "text/plain": [
       "0"
      ]
     },
     "execution_count": 151,
     "metadata": {},
     "output_type": "execute_result"
    }
   ],
   "source": [
    "df['Salaries'].isna().sum()"
   ]
  },
  {
   "cell_type": "code",
   "execution_count": 152,
   "id": "07a034e0",
   "metadata": {},
   "outputs": [],
   "source": [
    "#based on filling method"
   ]
  },
  {
   "cell_type": "code",
   "execution_count": 154,
   "id": "628f151d",
   "metadata": {},
   "outputs": [
    {
     "data": {
      "text/plain": [
       "12"
      ]
     },
     "execution_count": 154,
     "metadata": {},
     "output_type": "execute_result"
    }
   ],
   "source": [
    "df['Salaries'].isna().sum()"
   ]
  },
  {
   "cell_type": "code",
   "execution_count": 155,
   "id": "21513d62",
   "metadata": {},
   "outputs": [],
   "source": [
    "df['Salaries'].fillna(method = 'bfill',inplace = True)"
   ]
  },
  {
   "cell_type": "code",
   "execution_count": 156,
   "id": "f2877aae",
   "metadata": {},
   "outputs": [
    {
     "data": {
      "text/plain": [
       "0"
      ]
     },
     "execution_count": 156,
     "metadata": {},
     "output_type": "execute_result"
    }
   ],
   "source": [
    "df['Salaries'].isna().sum()"
   ]
  },
  {
   "cell_type": "markdown",
   "id": "db30ab60",
   "metadata": {},
   "source": [
    "# Race"
   ]
  },
  {
   "cell_type": "code",
   "execution_count": 158,
   "id": "e28d391d",
   "metadata": {},
   "outputs": [
    {
     "data": {
      "text/plain": [
       "9"
      ]
     },
     "execution_count": 158,
     "metadata": {},
     "output_type": "execute_result"
    }
   ],
   "source": [
    "df['Race'].isna().sum()"
   ]
  },
  {
   "cell_type": "code",
   "execution_count": 159,
   "id": "52d46f63",
   "metadata": {},
   "outputs": [],
   "source": [
    "#based on value"
   ]
  },
  {
   "cell_type": "code",
   "execution_count": 160,
   "id": "06c62b4f",
   "metadata": {},
   "outputs": [],
   "source": [
    "df['Race'].fillna('White',inplace = True)"
   ]
  },
  {
   "cell_type": "code",
   "execution_count": 161,
   "id": "05dc2778",
   "metadata": {},
   "outputs": [
    {
     "data": {
      "text/plain": [
       "0"
      ]
     },
     "execution_count": 161,
     "metadata": {},
     "output_type": "execute_result"
    }
   ],
   "source": [
    "df['Race'].isna().sum()"
   ]
  },
  {
   "cell_type": "code",
   "execution_count": 162,
   "id": "f1552f46",
   "metadata": {},
   "outputs": [],
   "source": [
    "#based on statistical method"
   ]
  },
  {
   "cell_type": "code",
   "execution_count": 164,
   "id": "b38932df",
   "metadata": {},
   "outputs": [
    {
     "data": {
      "text/plain": [
       "9"
      ]
     },
     "execution_count": 164,
     "metadata": {},
     "output_type": "execute_result"
    }
   ],
   "source": [
    "df['Race'].isna().sum()"
   ]
  },
  {
   "cell_type": "code",
   "execution_count": 166,
   "id": "db08a079",
   "metadata": {},
   "outputs": [
    {
     "data": {
      "text/plain": [
       "'White'"
      ]
     },
     "execution_count": 166,
     "metadata": {},
     "output_type": "execute_result"
    }
   ],
   "source": [
    "df['Race'].mode()[0]"
   ]
  },
  {
   "cell_type": "code",
   "execution_count": 167,
   "id": "5e85b7c4",
   "metadata": {},
   "outputs": [],
   "source": [
    "df['Race'].fillna(df['Race'].mode()[0],inplace = True)"
   ]
  },
  {
   "cell_type": "code",
   "execution_count": 168,
   "id": "1ab3a3be",
   "metadata": {},
   "outputs": [
    {
     "data": {
      "text/plain": [
       "0"
      ]
     },
     "execution_count": 168,
     "metadata": {},
     "output_type": "execute_result"
    }
   ],
   "source": [
    "df['Race'].isna().sum()"
   ]
  },
  {
   "cell_type": "code",
   "execution_count": 169,
   "id": "3c30cff0",
   "metadata": {},
   "outputs": [],
   "source": [
    "#based on filling method"
   ]
  },
  {
   "cell_type": "code",
   "execution_count": 171,
   "id": "63d6a98d",
   "metadata": {},
   "outputs": [
    {
     "data": {
      "text/plain": [
       "9"
      ]
     },
     "execution_count": 171,
     "metadata": {},
     "output_type": "execute_result"
    }
   ],
   "source": [
    "df['Race'].isna().sum()"
   ]
  },
  {
   "cell_type": "code",
   "execution_count": 172,
   "id": "96a7b0a7",
   "metadata": {},
   "outputs": [],
   "source": [
    "df['Race'].fillna(method = 'ffill',inplace = True)"
   ]
  },
  {
   "cell_type": "code",
   "execution_count": 173,
   "id": "0697b4bf",
   "metadata": {},
   "outputs": [
    {
     "data": {
      "text/plain": [
       "0"
      ]
     },
     "execution_count": 173,
     "metadata": {},
     "output_type": "execute_result"
    }
   ],
   "source": [
    "df['Race'].isna().sum()"
   ]
  },
  {
   "cell_type": "markdown",
   "id": "e902582f",
   "metadata": {},
   "source": [
    "B) Create pivot table for  position and average salary."
   ]
  },
  {
   "cell_type": "code",
   "execution_count": 180,
   "id": "bf180bdc",
   "metadata": {},
   "outputs": [
    {
     "data": {
      "text/html": [
       "<div>\n",
       "<style scoped>\n",
       "    .dataframe tbody tr th:only-of-type {\n",
       "        vertical-align: middle;\n",
       "    }\n",
       "\n",
       "    .dataframe tbody tr th {\n",
       "        vertical-align: top;\n",
       "    }\n",
       "\n",
       "    .dataframe thead th {\n",
       "        text-align: right;\n",
       "    }\n",
       "</style>\n",
       "<table border=\"1\" class=\"dataframe\">\n",
       "  <thead>\n",
       "    <tr style=\"text-align: right;\">\n",
       "      <th></th>\n",
       "      <th>Salaries</th>\n",
       "    </tr>\n",
       "    <tr>\n",
       "      <th>Position</th>\n",
       "      <th></th>\n",
       "    </tr>\n",
       "  </thead>\n",
       "  <tbody>\n",
       "    <tr>\n",
       "      <th>Accountant I</th>\n",
       "      <td>674.280000</td>\n",
       "    </tr>\n",
       "    <tr>\n",
       "      <th>Administrative Assistant</th>\n",
       "      <td>46747.685000</td>\n",
       "    </tr>\n",
       "    <tr>\n",
       "      <th>Area Sales Manager</th>\n",
       "      <td>42048.275769</td>\n",
       "    </tr>\n",
       "    <tr>\n",
       "      <th>BI Developer</th>\n",
       "      <td>37449.776667</td>\n",
       "    </tr>\n",
       "    <tr>\n",
       "      <th>BI Director</th>\n",
       "      <td>4160.000000</td>\n",
       "    </tr>\n",
       "    <tr>\n",
       "      <th>CIO</th>\n",
       "      <td>26418.010000</td>\n",
       "    </tr>\n",
       "    <tr>\n",
       "      <th>Data Analyst</th>\n",
       "      <td>37772.945714</td>\n",
       "    </tr>\n",
       "    <tr>\n",
       "      <th>Data Analyst</th>\n",
       "      <td>42304.750000</td>\n",
       "    </tr>\n",
       "    <tr>\n",
       "      <th>Data Architect</th>\n",
       "      <td>90016.010000</td>\n",
       "    </tr>\n",
       "    <tr>\n",
       "      <th>Database Administrator</th>\n",
       "      <td>33813.996000</td>\n",
       "    </tr>\n",
       "    <tr>\n",
       "      <th>Director of Sales</th>\n",
       "      <td>27595.700000</td>\n",
       "    </tr>\n",
       "    <tr>\n",
       "      <th>Enterprise Architect</th>\n",
       "      <td>5802.000000</td>\n",
       "    </tr>\n",
       "    <tr>\n",
       "      <th>IT Director</th>\n",
       "      <td>36741.000000</td>\n",
       "    </tr>\n",
       "    <tr>\n",
       "      <th>IT Manager - DB</th>\n",
       "      <td>49791.240000</td>\n",
       "    </tr>\n",
       "    <tr>\n",
       "      <th>IT Manager - Infra</th>\n",
       "      <td>8997.890000</td>\n",
       "    </tr>\n",
       "    <tr>\n",
       "      <th>IT Manager - Support</th>\n",
       "      <td>2143.580000</td>\n",
       "    </tr>\n",
       "    <tr>\n",
       "      <th>IT Support</th>\n",
       "      <td>48646.718571</td>\n",
       "    </tr>\n",
       "    <tr>\n",
       "      <th>Network Engineer</th>\n",
       "      <td>35897.950000</td>\n",
       "    </tr>\n",
       "    <tr>\n",
       "      <th>President &amp; CEO</th>\n",
       "      <td>52633.500000</td>\n",
       "    </tr>\n",
       "    <tr>\n",
       "      <th>Principal Data Architect</th>\n",
       "      <td>24828.700000</td>\n",
       "    </tr>\n",
       "    <tr>\n",
       "      <th>Production Manager</th>\n",
       "      <td>51508.537692</td>\n",
       "    </tr>\n",
       "    <tr>\n",
       "      <th>Production Technician I</th>\n",
       "      <td>35136.340787</td>\n",
       "    </tr>\n",
       "    <tr>\n",
       "      <th>Production Technician II</th>\n",
       "      <td>33803.863333</td>\n",
       "    </tr>\n",
       "    <tr>\n",
       "      <th>Sales Manager</th>\n",
       "      <td>34093.246667</td>\n",
       "    </tr>\n",
       "    <tr>\n",
       "      <th>Senior BI Developer</th>\n",
       "      <td>71293.676667</td>\n",
       "    </tr>\n",
       "    <tr>\n",
       "      <th>Shared Services Manager</th>\n",
       "      <td>45262.975000</td>\n",
       "    </tr>\n",
       "    <tr>\n",
       "      <th>Software Engineer</th>\n",
       "      <td>39892.308889</td>\n",
       "    </tr>\n",
       "    <tr>\n",
       "      <th>Software Engineering Manager</th>\n",
       "      <td>40208.000000</td>\n",
       "    </tr>\n",
       "    <tr>\n",
       "      <th>Sr. Accountant</th>\n",
       "      <td>27349.755000</td>\n",
       "    </tr>\n",
       "    <tr>\n",
       "      <th>Sr. DBA</th>\n",
       "      <td>31954.975000</td>\n",
       "    </tr>\n",
       "    <tr>\n",
       "      <th>Sr. Network Engineer</th>\n",
       "      <td>28438.600000</td>\n",
       "    </tr>\n",
       "  </tbody>\n",
       "</table>\n",
       "</div>"
      ],
      "text/plain": [
       "                                  Salaries\n",
       "Position                                  \n",
       "Accountant I                    674.280000\n",
       "Administrative Assistant      46747.685000\n",
       "Area Sales Manager            42048.275769\n",
       "BI Developer                  37449.776667\n",
       "BI Director                    4160.000000\n",
       "CIO                           26418.010000\n",
       "Data Analyst                  37772.945714\n",
       "Data Analyst                  42304.750000\n",
       "Data Architect                90016.010000\n",
       "Database Administrator        33813.996000\n",
       "Director of Sales             27595.700000\n",
       "Enterprise Architect           5802.000000\n",
       "IT Director                   36741.000000\n",
       "IT Manager - DB               49791.240000\n",
       "IT Manager - Infra             8997.890000\n",
       "IT Manager - Support           2143.580000\n",
       "IT Support                    48646.718571\n",
       "Network Engineer              35897.950000\n",
       "President & CEO               52633.500000\n",
       "Principal Data Architect      24828.700000\n",
       "Production Manager            51508.537692\n",
       "Production Technician I       35136.340787\n",
       "Production Technician II      33803.863333\n",
       "Sales Manager                 34093.246667\n",
       "Senior BI Developer           71293.676667\n",
       "Shared Services Manager       45262.975000\n",
       "Software Engineer             39892.308889\n",
       "Software Engineering Manager  40208.000000\n",
       "Sr. Accountant                27349.755000\n",
       "Sr. DBA                       31954.975000\n",
       "Sr. Network Engineer          28438.600000"
      ]
     },
     "execution_count": 180,
     "metadata": {},
     "output_type": "execute_result"
    }
   ],
   "source": [
    "df2=df.pivot_table(values='Salaries',index='Position',aggfunc='mean')\n",
    "df2\n"
   ]
  },
  {
   "cell_type": "markdown",
   "id": "6b147b45",
   "metadata": {},
   "source": [
    "C) Group the data using group by as per gender  and average age.\n"
   ]
  },
  {
   "cell_type": "code",
   "execution_count": 181,
   "id": "744bdc9a",
   "metadata": {},
   "outputs": [
    {
     "data": {
      "text/html": [
       "<div>\n",
       "<style scoped>\n",
       "    .dataframe tbody tr th:only-of-type {\n",
       "        vertical-align: middle;\n",
       "    }\n",
       "\n",
       "    .dataframe tbody tr th {\n",
       "        vertical-align: top;\n",
       "    }\n",
       "\n",
       "    .dataframe thead th {\n",
       "        text-align: right;\n",
       "    }\n",
       "</style>\n",
       "<table border=\"1\" class=\"dataframe\">\n",
       "  <thead>\n",
       "    <tr style=\"text-align: right;\">\n",
       "      <th></th>\n",
       "      <th>age</th>\n",
       "    </tr>\n",
       "    <tr>\n",
       "      <th>Gender</th>\n",
       "      <th></th>\n",
       "    </tr>\n",
       "  </thead>\n",
       "  <tbody>\n",
       "    <tr>\n",
       "      <th>F</th>\n",
       "      <td>38.738372</td>\n",
       "    </tr>\n",
       "    <tr>\n",
       "      <th>M</th>\n",
       "      <td>38.732824</td>\n",
       "    </tr>\n",
       "  </tbody>\n",
       "</table>\n",
       "</div>"
      ],
      "text/plain": [
       "              age\n",
       "Gender           \n",
       "F       38.738372\n",
       "M       38.732824"
      ]
     },
     "execution_count": 181,
     "metadata": {},
     "output_type": "execute_result"
    }
   ],
   "source": [
    "a= df.groupby(by='Gender')[['age']].agg(np.mean)\n",
    "a"
   ]
  },
  {
   "cell_type": "code",
   "execution_count": null,
   "id": "0387ae51",
   "metadata": {},
   "outputs": [],
   "source": []
  }
 ],
 "metadata": {
  "kernelspec": {
   "display_name": "Python 3 (ipykernel)",
   "language": "python",
   "name": "python3"
  },
  "language_info": {
   "codemirror_mode": {
    "name": "ipython",
    "version": 3
   },
   "file_extension": ".py",
   "mimetype": "text/x-python",
   "name": "python",
   "nbconvert_exporter": "python",
   "pygments_lexer": "ipython3",
   "version": "3.11.4"
  }
 },
 "nbformat": 4,
 "nbformat_minor": 5
}

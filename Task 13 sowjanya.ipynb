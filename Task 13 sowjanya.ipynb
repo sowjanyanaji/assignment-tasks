{
 "cells": [
  {
   "cell_type": "markdown",
   "id": "89ffda57",
   "metadata": {},
   "source": [
    "1. Write a function called \"add_numbers\" that takes two integers as input and returns their sum.\n",
    "\n",
    "2. Write a function called \"multiply_numbers\" that takes two integers as input and returns their product.\n",
    "\n",
    "3. Write a function called \"calculate_average\" that takes a list of numbers as input and returns the average of thosenumbers.\n",
    "\n",
    "4. Write a function called \"is_even\" that takes an integer as input and returns True if the number is even, and False otherwise.\n",
    "\n",
    "5. Write a function called \"reverse_string\" that takes a string as input and returns the reverse of that string.\n",
    "\n",
    "6. Write a function called \"count_vowels\" that takes a string as input and returns the number of vowels (a, e, i, o, u) in that string.\n",
    "\n",
    "7. Write a function called \"find_max\" that takes a list of numbers as input and returns the maximum value in that list.\n",
    "\n",
    "8. Write a function called \"find_min\" that takes a list of numbers as input and returns the minimum value in that list."
   ]
  },
  {
   "cell_type": "markdown",
   "id": "2995a6e5",
   "metadata": {},
   "source": [
    "**1. Write a function called \"add_numbers\" that takes two integers as input and returns their sum.**\n"
   ]
  },
  {
   "cell_type": "code",
   "execution_count": 16,
   "id": "a9ea12d8",
   "metadata": {},
   "outputs": [
    {
     "name": "stdout",
     "output_type": "stream",
     "text": [
      "enter the number: 2\n",
      "enter the number : 4\n"
     ]
    },
    {
     "data": {
      "text/plain": [
       "6"
      ]
     },
     "execution_count": 16,
     "metadata": {},
     "output_type": "execute_result"
    }
   ],
   "source": [
    "a=int(input(\"enter the number: \"))\n",
    "b=int(input(\"enter the number : \"))\n",
    "def add_numbers(a,b):\n",
    "    '''adding two integers'''\n",
    "    return(a+b)\n",
    "add_numbers(a,b)"
   ]
  },
  {
   "cell_type": "markdown",
   "id": "7331c01a",
   "metadata": {},
   "source": [
    "**2. Write a function called \"multiply_numbers\" that takes two integers as input and returns their product.**\n"
   ]
  },
  {
   "cell_type": "code",
   "execution_count": 17,
   "id": "061e3404",
   "metadata": {},
   "outputs": [
    {
     "data": {
      "text/plain": [
       "12"
      ]
     },
     "execution_count": 17,
     "metadata": {},
     "output_type": "execute_result"
    }
   ],
   "source": [
    "def multiply_numbers(c,d):\n",
    "    '''multiplication of integers using functions'''\n",
    "    return(c*d)\n",
    "multiply_numbers(3,d=4)"
   ]
  },
  {
   "cell_type": "markdown",
   "id": "cfb69698",
   "metadata": {},
   "source": [
    "**3. Write a function called \"calculate_average\" that takes a list of numbers as input and returns the average of thosenumbers.**\n"
   ]
  },
  {
   "cell_type": "code",
   "execution_count": 19,
   "id": "e5bf1ff2",
   "metadata": {},
   "outputs": [
    {
     "data": {
      "text/plain": [
       "19.75"
      ]
     },
     "execution_count": 19,
     "metadata": {},
     "output_type": "execute_result"
    }
   ],
   "source": [
    "def calculate_average(a,b):\n",
    "    return(sum(values)/len(values))\n",
    "values=[12,13,14,40]\n",
    "calculate_average(a=(sum(values)),b=(len(values)))"
   ]
  },
  {
   "cell_type": "markdown",
   "id": "8ace1056",
   "metadata": {},
   "source": [
    "**4. Write a function called \"is_even\" that takes an integer as input and returns True if the number is even, and False otherwise.**"
   ]
  },
  {
   "cell_type": "code",
   "execution_count": 24,
   "id": "20a48637",
   "metadata": {},
   "outputs": [
    {
     "name": "stdout",
     "output_type": "stream",
     "text": [
      "enter the number : 5\n"
     ]
    },
    {
     "data": {
      "text/plain": [
       "'False,it is odd number'"
      ]
     },
     "execution_count": 24,
     "metadata": {},
     "output_type": "execute_result"
    }
   ],
   "source": [
    "def is_even(a):\n",
    "    a=int(input(\"enter the number : \"))\n",
    "    if a%2==0:\n",
    "        return(\" True,it is even number\")\n",
    "    else:\n",
    "        return(\"False,it is odd number\")\n",
    "is_even(a)"
   ]
  },
  {
   "cell_type": "markdown",
   "id": "65f160b0",
   "metadata": {},
   "source": [
    "**5. Write a function called \"reverse_string\" that takes a string as input and returns the reverse of that string.**\n"
   ]
  },
  {
   "cell_type": "code",
   "execution_count": 23,
   "id": "ce7dcb79",
   "metadata": {},
   "outputs": [
    {
     "name": "stdout",
     "output_type": "stream",
     "text": [
      "enter the name : sowji\n"
     ]
    },
    {
     "data": {
      "text/plain": [
       "'ijwos'"
      ]
     },
     "execution_count": 23,
     "metadata": {},
     "output_type": "execute_result"
    }
   ],
   "source": [
    "def reverse_string(a):\n",
    "    a=(input(\"enter the name : \"))\n",
    "    return(a[::-1])\n",
    "reverse_string(a)"
   ]
  },
  {
   "cell_type": "markdown",
   "id": "683e0257",
   "metadata": {},
   "source": [
    "**6. Write a function called \"count_vowels\" that takes a string as input and returns the number of vowels (a, e, i, o, u)in** **that string**"
   ]
  },
  {
   "cell_type": "code",
   "execution_count": 68,
   "id": "c7b4f1cf",
   "metadata": {},
   "outputs": [
    {
     "name": "stdout",
     "output_type": "stream",
     "text": [
      "enter the string: sowjanya\n"
     ]
    }
   ],
   "source": [
    "\n",
    "vo= [\"a\",\"e\",\"i\",\"o\",\"u\"]\n",
    "a=(input(\"enter the string: \"))\n",
    "count=[]\n",
    "def count_vowels(a):\n",
    "    for i in a:\n",
    "        if i in vo:\n",
    "            count.append(i)\n",
    "    print('number of vowels : ',len(count))    \n",
    "\n",
    "\n"
   ]
  },
  {
   "cell_type": "code",
   "execution_count": 69,
   "id": "0f663a08",
   "metadata": {},
   "outputs": [
    {
     "name": "stdout",
     "output_type": "stream",
     "text": [
      "number of vowels :  3\n"
     ]
    }
   ],
   "source": [
    "count_vowels(a)"
   ]
  },
  {
   "cell_type": "markdown",
   "id": "2009c99c",
   "metadata": {},
   "source": [
    "**7. Write a function called \"find_max\" that takes a list of numbers as input and returns the maximum value in that list.**"
   ]
  },
  {
   "cell_type": "code",
   "execution_count": 70,
   "id": "5babfbd0",
   "metadata": {},
   "outputs": [
    {
     "data": {
      "text/plain": [
       "34"
      ]
     },
     "execution_count": 70,
     "metadata": {},
     "output_type": "execute_result"
    }
   ],
   "source": [
    "def find_max(a):\n",
    "    a=[1,23,34,24]\n",
    "    return(max(a))\n",
    "find_max(a)"
   ]
  },
  {
   "cell_type": "markdown",
   "id": "d5170f58",
   "metadata": {},
   "source": [
    "**8. Write a function called \"find_min\" that takes a list of numbers as input and returns the minimum value in that list.**"
   ]
  },
  {
   "cell_type": "code",
   "execution_count": 71,
   "id": "2c2a7e3d",
   "metadata": {},
   "outputs": [
    {
     "data": {
      "text/plain": [
       "1"
      ]
     },
     "execution_count": 71,
     "metadata": {},
     "output_type": "execute_result"
    }
   ],
   "source": [
    "def find_min(a):\n",
    "    a=[1,23,34,24]\n",
    "    return(min(a))\n",
    "find_min(a)"
   ]
  },
  {
   "cell_type": "code",
   "execution_count": null,
   "id": "8cf21220",
   "metadata": {},
   "outputs": [],
   "source": []
  }
 ],
 "metadata": {
  "kernelspec": {
   "display_name": "Python 3 (ipykernel)",
   "language": "python",
   "name": "python3"
  },
  "language_info": {
   "codemirror_mode": {
    "name": "ipython",
    "version": 3
   },
   "file_extension": ".py",
   "mimetype": "text/x-python",
   "name": "python",
   "nbconvert_exporter": "python",
   "pygments_lexer": "ipython3",
   "version": "3.11.4"
  }
 },
 "nbformat": 4,
 "nbformat_minor": 5
}

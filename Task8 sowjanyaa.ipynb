{
 "cells": [
  {
   "cell_type": "markdown",
   "id": "21c2b7b2",
   "metadata": {},
   "source": [
    "\n",
    "**Task 1: Basic If-Else Statements**\n",
    "Write a Python program that takes an `integer as input` from the user and prints whether it is `multiple of 3 or not` using if-else statements.\n",
    "\n",
    "**Task 2: Nested If Statements**\n",
    "Create a program that `asks the user` for their `age` and `nationality`. Depending on their age and nationality, display a different message using nested if statements. For example, if they are under 18 and from the USA, display `\"You are a minor from the USA.\"`\n",
    "\n",
    "**Task 3: Grade Calculator**\n",
    "Write a program that takes a student's score as input and converts it to a letter grade (A, B, C, D, or F) using if-elif-else statements. Use the following grading scale:\n",
    "- A: 90-100\n",
    "- B: 80-89\n",
    "- C: 70-79\n",
    "- D: 60-69\n",
    "- F: Below 60\n",
    "\n",
    "**Task 4: Leap Year Checker**\n",
    "Create a Python program that checks if a given year is a leap year or not. Use conditional statements to determine whether the year is divisible by 4, 100, and 400 to decide if it's a leap year.\n",
    "\n",
    "**Task 5: BMI Calculator**\n",
    "Write a program that calculates a person's Body Mass Index (BMI) based on their height and weight. Then, use conditional statements to categorize the BMI as Underweight, Normal, Overweight, or Obese. Provide guidance on the healthy range for BMI.(use BMI Formula)\n",
    "\n",
    "**Task 6: Calculator with Menu**\n",
    "Build a simple calculator program that provides a menu with options for addition, subtraction, multiplication, and division. `Take user input for two numbers`and an `operation choice`. Use conditional statements to perform the selected operation and display the result.\n",
    "\n",
    "**Task 7: Temperature Converter**\n",
    "Write a program that `converts temperatures between Celsius and Fahrenhei`t. Allow the user to `choose` the conversion direction and input the temperature value. Use conditional statements to perform the conversion based on the `user's choice`.(Do with conversion formula)\n"
   ]
  },
  {
   "cell_type": "markdown",
   "id": "60ad597f",
   "metadata": {},
   "source": [
    "\n",
    "**Task 1: Basic If-Else Statements**\n",
    "Write a Python program that takes an `integer as input` from the user and prints whether it is `multiple of 3 or not` using if-else statements."
   ]
  },
  {
   "cell_type": "code",
   "execution_count": 1,
   "id": "fc00ec29",
   "metadata": {},
   "outputs": [
    {
     "name": "stdout",
     "output_type": "stream",
     "text": [
      "enter the number6\n"
     ]
    },
    {
     "data": {
      "text/plain": [
       "'odd'"
      ]
     },
     "execution_count": 1,
     "metadata": {},
     "output_type": "execute_result"
    }
   ],
   "source": [
    "num = int(input(\"enter the number\"))\n",
    "\"odd\" if(num%3==0) else \"even\""
   ]
  },
  {
   "cell_type": "markdown",
   "id": "504b9ecc",
   "metadata": {},
   "source": [
    "**Task 2: Nested If Statements**\n",
    "Create a program that `asks the user` for their `age` and `nationality`. Depending on their age and nationality, display a different message using nested if statements. For example, if they are under 18 and from the USA, display `\"You are a minor from the USA.\"`"
   ]
  },
  {
   "cell_type": "code",
   "execution_count": 2,
   "id": "802f9567",
   "metadata": {},
   "outputs": [
    {
     "name": "stdout",
     "output_type": "stream",
     "text": [
      "Enter the age : 19\n",
      "Enter where you were born : Bharath\n",
      "you are major and not from USA \n"
     ]
    }
   ],
   "source": [
    "age = int(input(\"Enter the age : \"))\n",
    "nationality = input(\"Enter where you were born : \")\n",
    "if (age>=18):\n",
    "    if('nationality' == \"USA\"):\n",
    "        print(\"you are major and from 'USA'\")\n",
    "    else:\n",
    "        print(\"you are major and not from USA \")\n",
    "        \n",
    "elif(age<0):\n",
    "    print(\"enter valid age\")\n",
    "    \n",
    "else:\n",
    "    print(f\"you are minor and from {nationality}\")\n",
    "    \n",
    "    "
   ]
  },
  {
   "cell_type": "markdown",
   "id": "8008a28b",
   "metadata": {},
   "source": [
    "**Task 3: Grade Calculator**\n",
    "Write a program that takes a student's score as input and converts it to a letter grade (A, B, C, D, or F) using if-elif-else statements. Use the following grading scale:\n",
    "- A: 90-100\n",
    "- B: 80-89\n",
    "- C: 70-79\n",
    "- D: 60-69\n",
    "- F: Below 60"
   ]
  },
  {
   "cell_type": "code",
   "execution_count": 11,
   "id": "07444151",
   "metadata": {},
   "outputs": [
    {
     "name": "stdout",
     "output_type": "stream",
     "text": [
      "enter the score obtained : 59\n",
      "your grade is 'F'\n"
     ]
    }
   ],
   "source": [
    "score = int(input(\"enter the score obtained : \"))\n",
    "if (score >= 90) and (score < 100):\n",
    "    print(\"Your grade is 'A' \")\n",
    "elif (score >= 80) and (score < 90):\n",
    "    print(\"your grade is 'B' \")\n",
    "elif (score >= 70) and (score < 80):\n",
    "    print(\"your grade is 'C' \")\n",
    "elif (score >= 60) and (score < 70):\n",
    "    print(\"your grade is 'D' \")\n",
    "elif (score > 100) or (score < 0):\n",
    "    print(\"enter valid score\")\n",
    "else:\n",
    "    print(\"your grade is 'F'\")\n"
   ]
  },
  {
   "cell_type": "markdown",
   "id": "d8ae912f",
   "metadata": {},
   "source": [
    "**Task 4: Leap Year Checker**\n",
    "Create a Python program that checks if a given year is a leap year or not. Use conditional statements to determine whether the year is divisible by 4, 100, and 400 to decide if it's a leap year.\n"
   ]
  },
  {
   "cell_type": "code",
   "execution_count": 14,
   "id": "0f0e9c65",
   "metadata": {},
   "outputs": [
    {
     "name": "stdout",
     "output_type": "stream",
     "text": [
      "enter any year: 1998\n",
      "not a leap year\n"
     ]
    }
   ],
   "source": [
    "year=int(input(\"enter any year: \"))\n",
    "if(year%4 == 0 and year % 100 !=0 or (year%400 == 0)):\n",
    "    print(\"leap year\")\n",
    "else:\n",
    "    print(\"not a leap year\")"
   ]
  },
  {
   "cell_type": "markdown",
   "id": "6b71cfb6",
   "metadata": {},
   "source": [
    "\n",
    "**Task 5: BMI Calculator**\n",
    "Write a program that calculates a person's Body Mass Index (BMI) based on their height and weight. Then, use conditional statements to categorize the BMI as Underweight, Normal, Overweight, or Obese. Provide guidance on the healthy range for BMI.(use BMI Formula)"
   ]
  },
  {
   "cell_type": "code",
   "execution_count": 6,
   "id": "02ea0d5d",
   "metadata": {},
   "outputs": [],
   "source": [
    "#here generally we know our height in feets, to convert feet into meters we use 0.3048 and bmi = weight in kg/(height in m)**2"
   ]
  },
  {
   "cell_type": "code",
   "execution_count": 5,
   "id": "1967c679",
   "metadata": {},
   "outputs": [
    {
     "name": "stdout",
     "output_type": "stream",
     "text": [
      "enter the height in feets: 5.4\n",
      "enter the weight in kgs : 88\n",
      "Obese\n",
      "The healthy BMI range is: 18.5 to 24.9\n"
     ]
    }
   ],
   "source": [
    "height = float(input(\"enter the height in feets: \"))\n",
    "weight = float(input(\"enter the weight in kgs : \"))\n",
    "BMI = (weight)/(height*0.3048)**2\n",
    "healthy_range = \"18.5 to 24.9\"\n",
    "if (BMI < 18.5):\n",
    "    print(\"Underweight\")\n",
    "    print(f\"The healthy BMI range is: {healthy_range}\")\n",
    "elif(BMI >= 18.5) and (BMI < 25):\n",
    "    print(\"Normal weight\")\n",
    "elif(BMI >= 25) and (BMI < 30):\n",
    "    print(\"over weight\")\n",
    "    print(f\"The healthy BMI range is: {healthy_range}\")\n",
    "elif(BMI < 0):\n",
    "    print(\"Enter valid inputs\")\n",
    "else:\n",
    "    print(\"Obese\")\n",
    "    print(f\"The healthy BMI range is: {healthy_range}\")\n",
    "    "
   ]
  },
  {
   "cell_type": "markdown",
   "id": "f2571532",
   "metadata": {},
   "source": [
    "**Task 6: Calculator with Menu**\n",
    "Build a simple calculator program that provides a menu with options for addition, subtraction, multiplication, and division. `Take user input for two numbers`and an `operation choice`. Use conditional statements to perform the selected operation and display the result.\n"
   ]
  },
  {
   "cell_type": "code",
   "execution_count": 23,
   "id": "d7830c6b",
   "metadata": {},
   "outputs": [
    {
     "name": "stdout",
     "output_type": "stream",
     "text": [
      "enter the number: 56\n",
      "enter the number : 6\n",
      "enter an operator : /\n",
      "The value 9.333333333333334 \n"
     ]
    }
   ],
   "source": [
    "num1 = float(input(\"enter the number: \"))\n",
    "num2 = float(input(\"enter the number : \"))\n",
    "choice = input(\"enter an operator : \")\n",
    "\n",
    "if choice == '+':\n",
    "    addition = num1+num2\n",
    "    print(f\"The value {addition}\")\n",
    "    \n",
    "elif choice == '-':\n",
    "    subraction = num1-num2\n",
    "    print(f\"The value {subraction} \")\n",
    "    \n",
    "elif choice == '*':\n",
    "    multiplication = num1*num2\n",
    "    print(f\"The value {multiplication} \")\n",
    "    \n",
    "elif choice == '/':\n",
    "    division = num1/num2\n",
    "    print(f\"The value {division} \")\n",
    "    \n",
    "else:\n",
    "    print(\"enter a valid operator\")\n",
    "\n",
    "    "
   ]
  },
  {
   "cell_type": "code",
   "execution_count": 1,
   "id": "48bae018",
   "metadata": {},
   "outputs": [
    {
     "name": "stdout",
     "output_type": "stream",
     "text": [
      "enter the number: 5\n",
      "enter the number : 5\n",
      "please select the choice : \n",
      "+\n",
      "-\n",
      "*\n",
      "/\n",
      "select operations from '+','-'.'*','/' : +\n",
      "The value 10.0\n"
     ]
    }
   ],
   "source": [
    "num1 = float(input(\"enter the number: \"))\n",
    "num2 = float(input(\"enter the number : \"))\n",
    "\n",
    "print(\"please select the choice : \")\n",
    "print('+')\n",
    "print('-')\n",
    "print('*')\n",
    "print('/')\n",
    "\n",
    "choice = input(\"select operations from '+','-'.'*','/' : \")\n",
    "\n",
    "if choice == '+':\n",
    "    addition = num1+num2\n",
    "    print(f\"The value {addition}\")\n",
    "    \n",
    "elif choice == '-':\n",
    "    subraction = num1-num2\n",
    "    print(f\"The value {subraction} \")\n",
    "    \n",
    "elif choice == '*':\n",
    "    multiplication = num1*num2\n",
    "    print(f\"The value {multiplication} \")\n",
    "    \n",
    "elif choice == '/':\n",
    "    division = num1/num2\n",
    "    print(f\"The value {division} \")\n",
    "    \n",
    "else:\n",
    "    print(\"enter a valid operator\")"
   ]
  },
  {
   "cell_type": "markdown",
   "id": "017e0df6",
   "metadata": {},
   "source": [
    "**Task 7: Temperature Converter**\n",
    "Write a program that `converts temperatures between Celsius and Fahrenhei`t. Allow the user to `choose` the conversion direction and input the temperature value. Use conditional statements to perform the conversion based on the `user's choice`.(Do with conversion formula)"
   ]
  },
  {
   "cell_type": "code",
   "execution_count": 29,
   "id": "5079387f",
   "metadata": {},
   "outputs": [
    {
     "name": "stdout",
     "output_type": "stream",
     "text": [
      "enter the value : 36\n",
      "enter the value: fahrenheit\n",
      "The converted temp to fahrenheit is 96.8 \n"
     ]
    }
   ],
   "source": [
    "Temp= float(input(\"enter the value : \"))\n",
    "cf= (input(\"enter the value: \"))\n",
    "\n",
    "if cf == \"celsius\" :\n",
    "          celsius = (Temp-32)/1.8\n",
    "          print(f\"The converted temp to celsius is {celsius} \")\n",
    "            \n",
    "elif cf == \"fahrenheit\":\n",
    "          fahrenheit = (Temp*1.8)+32\n",
    "          print(f\"The converted temp to fahrenheit is {fahrenheit} \")\n",
    "            \n",
    "else:\n",
    "          print(\"enter valid temperature\")\n"
   ]
  },
  {
   "cell_type": "code",
   "execution_count": null,
   "id": "2aca0366",
   "metadata": {},
   "outputs": [],
   "source": []
  }
 ],
 "metadata": {
  "kernelspec": {
   "display_name": "Python 3 (ipykernel)",
   "language": "python",
   "name": "python3"
  },
  "language_info": {
   "codemirror_mode": {
    "name": "ipython",
    "version": 3
   },
   "file_extension": ".py",
   "mimetype": "text/x-python",
   "name": "python",
   "nbconvert_exporter": "python",
   "pygments_lexer": "ipython3",
   "version": "3.11.4"
  }
 },
 "nbformat": 4,
 "nbformat_minor": 5
}

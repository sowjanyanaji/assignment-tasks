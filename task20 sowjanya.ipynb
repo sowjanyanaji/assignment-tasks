{
 "cells": [
  {
   "cell_type": "markdown",
   "id": "741ef0d7",
   "metadata": {},
   "source": [
    "A restaurant management system is a software application that helps streamline various restaurant operations and facilitates efficient management. Here are some typical attributes and methods that such a system might have:\n",
    "\n",
    "Take minimum 5 attributes and atleast 4 methods\n",
    "\n",
    "Attributes:\n",
    "\n",
    "Menu: Represents the list of food and beverage items available in the restaurant, along with their prices and categories (appetizers, main courses, desserts, etc.).\n",
    "\n",
    "Tables: Contains information about the restaurant's seating arrangement, including table numbers, seating capacity, and current occupancy status.\n",
    "\n",
    "Orders: Keeps track of customer orders, including the items ordered, quantities, table number, total amount, and order status (in progress, served, completed, etc.).\n",
    "\n",
    "Staff: Contains information about restaurant employees, such as waiters, chefs, managers, and their respective roles, shifts, and contact details.\n",
    "\n",
    "Reservations: Tracks table reservations made by customers, including reservation time, date, party size, and customer contact information.\n",
    "\n",
    "Payments: Stores details of transactions, including payment method, total amount, payment status, and any applicable discounts or promotions.\n",
    "\n",
    "Methods:\n",
    "\n",
    "Display Menu: Allows restaurant staff to view and update the menu, including adding new items, modifying prices, and removing discontinued items.\n",
    "\n",
    "Take Order: Enables waiters to take customer orders, add items to the order, specify quantities, and send the order to the kitchen for preparation.\n",
    "\n",
    "Manage Table Occupancy: Tracks table availability and occupancy status, allowing staff to assign tables to customers and mark tables as occupied or vacant.\n",
    "\n",
    "Process Order: Allows kitchen staff to view incoming orders, mark items as prepared, and inform the waiters when the order is ready for serving.\n",
    "\n",
    "Manage Reservations: Facilitates the process of making, modifying, and canceling table reservations based on customer requests and availability.\n",
    "\n",
    "Generate Bills: Calculates the total bill amount for each table based on the items ordered, applicable taxes, and any additional charges."
   ]
  },
  {
   "cell_type": "code",
   "execution_count": 14,
   "id": "66c32340",
   "metadata": {},
   "outputs": [],
   "source": [
    "class Menu:\n",
    "    def __init__(self,items,add,modify,remove):\n",
    "        self.items=items\n",
    "        self.add = add\n",
    "        self.modify = modify\n",
    "        self.remove= remove\n",
    "              \n",
    "    def display_menu(self):\n",
    "              self.items=input(\"enter the list of items\")\n",
    "              print(f\"{self.items} these are available items in our restaurant\")  \n",
    "    def add_item(self):\n",
    "        self.add=input(\"enter an item you want to add : \")\n",
    "        print(f\"{self.add} is the item you have added\")\n",
    "    def remove_item(self):\n",
    "        self.remove=input(\"enter an item you want to remove :\")\n",
    "        print(f\"{self.remove} is the removed item from your order\")\n",
    "            \n",
    "    def modify_item(self):\n",
    "        self.modify=int(input(\"enter the modified price of an item: \"))\n",
    "        print(f\"{self.modify} is the modified price of an item\")     \n",
    "        \n",
    "class orders(Menu):\n",
    "    def __init__(self,itemsordered,quantities,tablenum,totalamount,orderstatus):\n",
    "        self.itemsordered=itemsordered\n",
    "        self.quantities=quantities\n",
    "        self.totalamount=totalamount\n",
    "        self.orderstatus=orderstatus\n",
    "        \n",
    "    def take_order(self):\n",
    "        self.itemsordered= input(\"enter the meal you want to have: \")\n",
    "        self.quantities = [int(qty) for qty in input(\"Enter the quantities of each item separated by commas: \").split(',')]\n",
    "        self.totalamount= int(input(\"here is the total amount of the order: \"))\n",
    "        print(f\"{self.itemsordered} of {self.quanitities} is sent to the kitchen\")\n",
    "        \n",
    "              \n",
    "class Tables(orders):\n",
    "    def __init__(self,tablenum,seatingcap,occupancystatus):\n",
    "        self.tablenum=tablenum\n",
    "        self.seatingcap=seatingcap\n",
    "        self.occupancystatus=occupancystatus\n",
    "        \n",
    "    def availability(self):\n",
    "        self.occupancystatus = int(input(\"enter the vacant tables of the restaurant: \"))\n",
    "        \n",
    "    def assign_table(self):\n",
    "        if self.occupancystatus == 0:\n",
    "            print(\"sorry! The restaurant is busy with existing customers\")\n",
    "        else:\n",
    "            self.tablenum=int(input(\"enter the table number you want: \"))\n",
    "            self.seatingcap = int(input(\"enter the number of people willing to come\"))\n",
    "            print(f\"{self.tablenum} is the assigned table for the user\")\n",
    "            \n",
    "class order_status(Tables):\n",
    "    def __init__(self,inprogress,serve,completed):\n",
    "        self.inprogress=inprogress\n",
    "        self.serve=serve\n",
    "        self.completed=completed\n",
    "        \n",
    "    def process_order(self):\n",
    "        \n",
    "        check = input(\"enter the tablenum order status- inprogress or serve or completed : \")\n",
    "        print(f'{check}')\n",
    "            \n",
    "class reservations(order_status):\n",
    "    def __init__(self,reservationtime,date,contact,totaltables):\n",
    "        self.reservationtime=reservationtime\n",
    "        self.date=date\n",
    "        self.contact=contact\n",
    "        self.totaltables=totaltables\n",
    "        \n",
    "    def manageres(self):\n",
    "        self.totaltables=int(input(\"enter the total number of tables\"))\n",
    "        va = self.totaltables-self.occupancystatus\n",
    "        if va != 0:\n",
    "            self.reservationtime=input(\"enter the time: \")\n",
    "            self.date=input(\"enter date: \")\n",
    "            self.contact=int(input(\"enter the phone\"))\n",
    "            print(f\" your booking for {self.reservationtime}-{self.date}is confirmed\")\n",
    "            \n",
    "class payment(reservations):\n",
    "    def __init__(self, paymentmethod,totalamount,paymentstatus,quanitities,occupancystatus):\n",
    "        self.paymentmethod=paymentmethod\n",
    "        self.totalamount=totalamount\n",
    "        self.paymentstatus=paymentstatus\n",
    "        self.quanitities=quanitities\n",
    "        self.occupancystatus=occupancystatus\n",
    "        \n",
    "        \n",
    "    def gen_bill(self):\n",
    "        \n",
    "       \n",
    "        totalbill = (self.totalamount)+0.18*(self.totalamount)\n",
    "        print(f'{totalbill} you have to pay')\n",
    "            \n",
    "                \n",
    "        \n",
    "    \n",
    "    \n",
    "        \n",
    "    "
   ]
  },
  {
   "cell_type": "code",
   "execution_count": 15,
   "id": "5f62f201",
   "metadata": {},
   "outputs": [],
   "source": [
    "user=payment(\"online\",1180,\"successfull\",5,1)\n"
   ]
  },
  {
   "cell_type": "code",
   "execution_count": 46,
   "id": "33898307",
   "metadata": {},
   "outputs": [
    {
     "name": "stdout",
     "output_type": "stream",
     "text": [
      "enter the list of itemsmanchuria-100,crispycorn-180,springrolls-200,vegbiryani-270,chickenbiryani-300,chocobrownie-200,\n",
      "manchuria-100,crispycorn-180,springrolls-200,vegbiryani-270,chickenbiryani-300,chocobrownie-200, these are available items in our restaurant\n"
     ]
    }
   ],
   "source": [
    "user.display_menu()"
   ]
  },
  {
   "cell_type": "code",
   "execution_count": 65,
   "id": "deaa2bec",
   "metadata": {},
   "outputs": [
    {
     "name": "stdout",
     "output_type": "stream",
     "text": [
      "enter the meal you want to have: [manchuria-100,crispycorn-180,vegbiryani-270,chocobrownie-200]\n",
      "Enter the quantities of each item separated by commas: 2,1,1,1\n",
      "here is the total amount of the order: 850\n",
      "[manchuria-100,crispycorn-180,vegbiryani-270,chocobrownie-200] of 5 is sent to the kitchen\n"
     ]
    }
   ],
   "source": [
    "user.take_order()"
   ]
  },
  {
   "cell_type": "code",
   "execution_count": 67,
   "id": "8949655b",
   "metadata": {},
   "outputs": [
    {
     "data": {
      "text/plain": [
       "'[manchuria-100,crispycorn-180,vegbiryani-270,chocobrownie-200]'"
      ]
     },
     "execution_count": 67,
     "metadata": {},
     "output_type": "execute_result"
    }
   ],
   "source": [
    "user.itemsordered"
   ]
  },
  {
   "cell_type": "code",
   "execution_count": 70,
   "id": "689a503f",
   "metadata": {},
   "outputs": [
    {
     "name": "stdout",
     "output_type": "stream",
     "text": [
      "enter an item you want to add : springrolls-200\n",
      "springrolls-200 is the item you have added\n"
     ]
    }
   ],
   "source": [
    "user.add_item()"
   ]
  },
  {
   "cell_type": "code",
   "execution_count": 71,
   "id": "9ca76f9c",
   "metadata": {},
   "outputs": [
    {
     "data": {
      "text/plain": [
       "'springrolls-200'"
      ]
     },
     "execution_count": 71,
     "metadata": {},
     "output_type": "execute_result"
    }
   ],
   "source": [
    "user.add"
   ]
  },
  {
   "cell_type": "code",
   "execution_count": 72,
   "id": "c15f6362",
   "metadata": {},
   "outputs": [
    {
     "name": "stdout",
     "output_type": "stream",
     "text": [
      "enter an item you want to remove :crispycorn\n",
      "crispycorn is the removed item from your order\n"
     ]
    }
   ],
   "source": [
    "user.remove_item()"
   ]
  },
  {
   "cell_type": "code",
   "execution_count": 73,
   "id": "27922d81",
   "metadata": {},
   "outputs": [
    {
     "data": {
      "text/plain": [
       "'crispycorn'"
      ]
     },
     "execution_count": 73,
     "metadata": {},
     "output_type": "execute_result"
    }
   ],
   "source": [
    "user.remove"
   ]
  },
  {
   "cell_type": "code",
   "execution_count": 76,
   "id": "985a1fe7",
   "metadata": {},
   "outputs": [
    {
     "name": "stdout",
     "output_type": "stream",
     "text": [
      "enter the vacant tables of the restaurant: 2\n"
     ]
    }
   ],
   "source": [
    "user.availability()"
   ]
  },
  {
   "cell_type": "code",
   "execution_count": 77,
   "id": "2f956b5c",
   "metadata": {},
   "outputs": [
    {
     "name": "stdout",
     "output_type": "stream",
     "text": [
      "enter the table number you want: 1\n",
      "enter the number of people willing to come4\n",
      "1 is the assigned table for the user\n"
     ]
    }
   ],
   "source": [
    "user.assign_table()"
   ]
  },
  {
   "cell_type": "code",
   "execution_count": 94,
   "id": "9752341f",
   "metadata": {},
   "outputs": [
    {
     "data": {
      "text/plain": [
       "1"
      ]
     },
     "execution_count": 94,
     "metadata": {},
     "output_type": "execute_result"
    }
   ],
   "source": [
    "user.occupancystatus"
   ]
  },
  {
   "cell_type": "code",
   "execution_count": 80,
   "id": "357abc31",
   "metadata": {},
   "outputs": [
    {
     "data": {
      "text/plain": [
       "1"
      ]
     },
     "execution_count": 80,
     "metadata": {},
     "output_type": "execute_result"
    }
   ],
   "source": [
    "user.tablenum"
   ]
  },
  {
   "cell_type": "code",
   "execution_count": 81,
   "id": "b9d884fa",
   "metadata": {},
   "outputs": [
    {
     "data": {
      "text/plain": [
       "4"
      ]
     },
     "execution_count": 81,
     "metadata": {},
     "output_type": "execute_result"
    }
   ],
   "source": [
    "user.seatingcap"
   ]
  },
  {
   "cell_type": "code",
   "execution_count": 82,
   "id": "d4e5cc74",
   "metadata": {},
   "outputs": [
    {
     "data": {
      "text/plain": [
       "'online'"
      ]
     },
     "execution_count": 82,
     "metadata": {},
     "output_type": "execute_result"
    }
   ],
   "source": [
    "user.paymentmethod"
   ]
  },
  {
   "cell_type": "code",
   "execution_count": 85,
   "id": "219c62cf",
   "metadata": {},
   "outputs": [
    {
     "data": {
      "text/plain": [
       "850"
      ]
     },
     "execution_count": 85,
     "metadata": {},
     "output_type": "execute_result"
    }
   ],
   "source": [
    "user.totalamount"
   ]
  },
  {
   "cell_type": "code",
   "execution_count": 95,
   "id": "4dced255",
   "metadata": {},
   "outputs": [
    {
     "name": "stdout",
     "output_type": "stream",
     "text": [
      "enter the total number of tables3\n",
      "enter the time: \"9.00Am\"\n",
      "enter date: \"5-10-23\"\n",
      "enter the phone212121234\n",
      " your booking for \"9.00Am\"-\"5-10-23\"is confirmed\n"
     ]
    }
   ],
   "source": [
    "user.manageres()"
   ]
  },
  {
   "cell_type": "code",
   "execution_count": 96,
   "id": "a9bbf302",
   "metadata": {},
   "outputs": [
    {
     "data": {
      "text/plain": [
       "212121234"
      ]
     },
     "execution_count": 96,
     "metadata": {},
     "output_type": "execute_result"
    }
   ],
   "source": [
    "user.contact"
   ]
  },
  {
   "cell_type": "code",
   "execution_count": 109,
   "id": "716c8f2a",
   "metadata": {},
   "outputs": [
    {
     "data": {
      "text/plain": [
       "'successfull'"
      ]
     },
     "execution_count": 109,
     "metadata": {},
     "output_type": "execute_result"
    }
   ],
   "source": [
    "user.paymentstatus"
   ]
  },
  {
   "cell_type": "code",
   "execution_count": 126,
   "id": "4dc526a2",
   "metadata": {},
   "outputs": [
    {
     "name": "stdout",
     "output_type": "stream",
     "text": [
      "1392.4 you have to pay\n"
     ]
    }
   ],
   "source": [
    "user.gen_bill()  #including tax"
   ]
  },
  {
   "cell_type": "code",
   "execution_count": 122,
   "id": "ed4715ce",
   "metadata": {},
   "outputs": [
    {
     "data": {
      "text/plain": [
       "1180"
      ]
     },
     "execution_count": 122,
     "metadata": {},
     "output_type": "execute_result"
    }
   ],
   "source": [
    "user.totalamount "
   ]
  },
  {
   "cell_type": "code",
   "execution_count": 16,
   "id": "5c81e29d",
   "metadata": {},
   "outputs": [
    {
     "name": "stdout",
     "output_type": "stream",
     "text": [
      "enter the tablenum order status- inprogress or serve or completed : inprogress\n",
      "inprogress\n"
     ]
    }
   ],
   "source": [
    "user.process_order()"
   ]
  },
  {
   "cell_type": "code",
   "execution_count": null,
   "id": "df55735c",
   "metadata": {},
   "outputs": [],
   "source": []
  }
 ],
 "metadata": {
  "kernelspec": {
   "display_name": "Python 3 (ipykernel)",
   "language": "python",
   "name": "python3"
  },
  "language_info": {
   "codemirror_mode": {
    "name": "ipython",
    "version": 3
   },
   "file_extension": ".py",
   "mimetype": "text/x-python",
   "name": "python",
   "nbconvert_exporter": "python",
   "pygments_lexer": "ipython3",
   "version": "3.11.4"
  }
 },
 "nbformat": 4,
 "nbformat_minor": 5
}

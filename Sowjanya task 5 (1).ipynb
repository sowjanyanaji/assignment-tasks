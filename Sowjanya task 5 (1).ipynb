{
 "cells": [
  {
   "cell_type": "markdown",
   "id": "2990a9a3",
   "metadata": {},
   "source": [
    "**Task1: Append and Modify Elements**\n",
    "\n",
    "Create an empty list called numbers. Append the numbers 1, 2, and 3 to the list. \n",
    "\n",
    "Modify the element at index 1 to be 4. Print the updated list."
   ]
  },
  {
   "cell_type": "code",
   "execution_count": 38,
   "id": "64213641",
   "metadata": {},
   "outputs": [],
   "source": [
    "numbers=list()"
   ]
  },
  {
   "cell_type": "code",
   "execution_count": 39,
   "id": "6160e925",
   "metadata": {},
   "outputs": [],
   "source": [
    "numbers.append(1)\n",
    "numbers.append(2)\n",
    "numbers.append(3)"
   ]
  },
  {
   "cell_type": "code",
   "execution_count": 40,
   "id": "e6748eaf",
   "metadata": {},
   "outputs": [
    {
     "data": {
      "text/plain": [
       "[1, 2, 3]"
      ]
     },
     "execution_count": 40,
     "metadata": {},
     "output_type": "execute_result"
    }
   ],
   "source": [
    "numbers"
   ]
  },
  {
   "cell_type": "code",
   "execution_count": 41,
   "id": "e4c2c61e",
   "metadata": {},
   "outputs": [],
   "source": [
    "numbers[1]=4"
   ]
  },
  {
   "cell_type": "code",
   "execution_count": 42,
   "id": "8790259e",
   "metadata": {},
   "outputs": [
    {
     "data": {
      "text/plain": [
       "[1, 4, 3]"
      ]
     },
     "execution_count": 42,
     "metadata": {},
     "output_type": "execute_result"
    }
   ],
   "source": [
    "numbers"
   ]
  },
  {
   "cell_type": "markdown",
   "id": "eb7b4e31",
   "metadata": {},
   "source": [
    "**Task2: Slicing and Concatenation**\n",
    "\n",
    "Create a list called fruits with elements 'apple', 'banana', 'orange', 'mango', and 'kiwi'.\n",
    "\n",
    "Create a new list by slicing fruits to include only the citrus fruits ('orange' and 'mango\").\n",
    "\n",
    "Create a new list called tropical by slicing fruits to include only the tropical fruits ('banana\" and \"kiwi').\n",
    "\n",
    "Concatenate citrus and tropical lists to create a new list called combined. Print combined."
   ]
  },
  {
   "cell_type": "code",
   "execution_count": 45,
   "id": "512e7a29",
   "metadata": {},
   "outputs": [],
   "source": [
    "fruits=[\"apple\",\"banana\",\"orange\",\"mango\",\"kiwi\"]\n",
    "        "
   ]
  },
  {
   "cell_type": "code",
   "execution_count": 103,
   "id": "c6edb249",
   "metadata": {},
   "outputs": [],
   "source": [
    "citrus_fruits = list(fruits[2:4])  #first method"
   ]
  },
  {
   "cell_type": "code",
   "execution_count": 104,
   "id": "1ed3a971",
   "metadata": {},
   "outputs": [
    {
     "name": "stdout",
     "output_type": "stream",
     "text": [
      "['orange', 'mango']\n"
     ]
    }
   ],
   "source": [
    "print(citrus_fruits)"
   ]
  },
  {
   "cell_type": "code",
   "execution_count": 85,
   "id": "6c16781a",
   "metadata": {},
   "outputs": [],
   "source": [
    "citrus_fruits = list(fruits[-2::])   #second method"
   ]
  },
  {
   "cell_type": "code",
   "execution_count": 88,
   "id": "2b7787a6",
   "metadata": {},
   "outputs": [
    {
     "name": "stdout",
     "output_type": "stream",
     "text": [
      "['mango', 'kiwi']\n"
     ]
    }
   ],
   "source": [
    "print(citrus_fruits)"
   ]
  },
  {
   "cell_type": "code",
   "execution_count": 105,
   "id": "0b9af593",
   "metadata": {},
   "outputs": [],
   "source": [
    "tropical_list=list(fruits[1:5:3])  #first method"
   ]
  },
  {
   "cell_type": "code",
   "execution_count": 106,
   "id": "c1883f8c",
   "metadata": {},
   "outputs": [
    {
     "name": "stdout",
     "output_type": "stream",
     "text": [
      "['banana', 'kiwi']\n"
     ]
    }
   ],
   "source": [
    "print(tropical_list)"
   ]
  },
  {
   "cell_type": "code",
   "execution_count": 86,
   "id": "dd183f1b",
   "metadata": {},
   "outputs": [],
   "source": [
    "tropical_list=list(fruits[-1:-5:-3])  #second method"
   ]
  },
  {
   "cell_type": "code",
   "execution_count": 87,
   "id": "e1a5a799",
   "metadata": {},
   "outputs": [
    {
     "name": "stdout",
     "output_type": "stream",
     "text": [
      "['kiwi', 'banana']\n"
     ]
    }
   ],
   "source": [
    "print(tropical_list)"
   ]
  },
  {
   "cell_type": "markdown",
   "id": "33c1ed06",
   "metadata": {},
   "source": [
    "**concatenation using first method**"
   ]
  },
  {
   "cell_type": "code",
   "execution_count": 108,
   "id": "80894785",
   "metadata": {},
   "outputs": [],
   "source": [
    "combined=citrus_fruits+tropical_list"
   ]
  },
  {
   "cell_type": "code",
   "execution_count": 109,
   "id": "587db3cd",
   "metadata": {},
   "outputs": [
    {
     "name": "stdout",
     "output_type": "stream",
     "text": [
      "['orange', 'mango', 'banana', 'kiwi']\n"
     ]
    }
   ],
   "source": [
    "print(combined)"
   ]
  },
  {
   "cell_type": "markdown",
   "id": "cc9c6f35",
   "metadata": {},
   "source": [
    "**concatenation using second method**"
   ]
  },
  {
   "cell_type": "code",
   "execution_count": 95,
   "id": "200189aa",
   "metadata": {},
   "outputs": [],
   "source": [
    "combined=citrus_fruits+tropical_list"
   ]
  },
  {
   "cell_type": "code",
   "execution_count": 96,
   "id": "dc79ccca",
   "metadata": {},
   "outputs": [
    {
     "name": "stdout",
     "output_type": "stream",
     "text": [
      "['mango', 'kiwi', 'kiwi', 'banana']\n"
     ]
    }
   ],
   "source": [
    "print(combined)"
   ]
  },
  {
   "cell_type": "markdown",
   "id": "96f37007",
   "metadata": {},
   "source": [
    "**Task3: Counting and Removing Elements**\n",
    "\n",
    "Create a list called colors with repeated elements 'red', 'blue', 'red', 'green', 'red'. Print the number of occurrences of 'red' in the list. Remove all occurrences of 'red' from the list. Print the updated list."
   ]
  },
  {
   "cell_type": "code",
   "execution_count": 121,
   "id": "1eaaca25",
   "metadata": {},
   "outputs": [],
   "source": [
    "colors = ['red','blue','red','green','red']"
   ]
  },
  {
   "cell_type": "code",
   "execution_count": 122,
   "id": "c1308235",
   "metadata": {},
   "outputs": [
    {
     "data": {
      "text/plain": [
       "3"
      ]
     },
     "execution_count": 122,
     "metadata": {},
     "output_type": "execute_result"
    }
   ],
   "source": [
    "colors.count('red')  #count gives frequnecy of the occurence of the value in the list"
   ]
  },
  {
   "cell_type": "code",
   "execution_count": 123,
   "id": "c1cd5bec",
   "metadata": {},
   "outputs": [],
   "source": [
    "colors.remove('red')    #remove function removes only first occurence of the red"
   ]
  },
  {
   "cell_type": "code",
   "execution_count": 124,
   "id": "6d8794bd",
   "metadata": {},
   "outputs": [
    {
     "data": {
      "text/plain": [
       "['blue', 'red', 'green', 'red']"
      ]
     },
     "execution_count": 124,
     "metadata": {},
     "output_type": "execute_result"
    }
   ],
   "source": [
    "colors"
   ]
  },
  {
   "cell_type": "code",
   "execution_count": 125,
   "id": "9d8b5123",
   "metadata": {},
   "outputs": [],
   "source": [
    "colors.remove('red')"
   ]
  },
  {
   "cell_type": "code",
   "execution_count": 126,
   "id": "577e58de",
   "metadata": {},
   "outputs": [
    {
     "data": {
      "text/plain": [
       "['blue', 'green', 'red']"
      ]
     },
     "execution_count": 126,
     "metadata": {},
     "output_type": "execute_result"
    }
   ],
   "source": [
    "colors"
   ]
  },
  {
   "cell_type": "code",
   "execution_count": 127,
   "id": "748a929f",
   "metadata": {},
   "outputs": [
    {
     "data": {
      "text/plain": [
       "'red'"
      ]
     },
     "execution_count": 127,
     "metadata": {},
     "output_type": "execute_result"
    }
   ],
   "source": [
    "colors.pop()#we can use pop function to remove based on index numbers and if we didnt give index number then it takes last val\n",
    "\n",
    "                    "
   ]
  },
  {
   "cell_type": "code",
   "execution_count": 128,
   "id": "d9d2ae48",
   "metadata": {},
   "outputs": [
    {
     "data": {
      "text/plain": [
       "['blue', 'green']"
      ]
     },
     "execution_count": 128,
     "metadata": {},
     "output_type": "execute_result"
    }
   ],
   "source": [
    "colors"
   ]
  },
  {
   "cell_type": "markdown",
   "id": "acdb8174",
   "metadata": {},
   "source": [
    "**Task 4: List Manipulation**\n",
    "\n",
    "Add 'cheese' to the end of the list. Remove 'milk' from the list.\n",
    "\n",
    "Create a list called groceries with initial items: 'bread', 'milk', 'eggs', 'butter'. Print the final list of groceries.\n",
    "Insert 'yogurt' at index 1"
   ]
  },
  {
   "cell_type": "code",
   "execution_count": 129,
   "id": "b73dc43f",
   "metadata": {},
   "outputs": [],
   "source": [
    "Dairy_products = ['bread','milk','eggs','butter']"
   ]
  },
  {
   "cell_type": "code",
   "execution_count": 131,
   "id": "20fa513a",
   "metadata": {},
   "outputs": [],
   "source": [
    "Dairy_products.append('cheese')"
   ]
  },
  {
   "cell_type": "code",
   "execution_count": 132,
   "id": "92b550f0",
   "metadata": {},
   "outputs": [
    {
     "name": "stdout",
     "output_type": "stream",
     "text": [
      "['bread', 'milk', 'eggs', 'butter', 'cheese']\n"
     ]
    }
   ],
   "source": [
    "print(Dairy_products)"
   ]
  },
  {
   "cell_type": "code",
   "execution_count": 133,
   "id": "c2eae2e1",
   "metadata": {},
   "outputs": [
    {
     "data": {
      "text/plain": [
       "'milk'"
      ]
     },
     "execution_count": 133,
     "metadata": {},
     "output_type": "execute_result"
    }
   ],
   "source": [
    "Dairy_products.pop(1)"
   ]
  },
  {
   "cell_type": "code",
   "execution_count": 134,
   "id": "aa1031d2",
   "metadata": {},
   "outputs": [
    {
     "data": {
      "text/plain": [
       "['bread', 'eggs', 'butter', 'cheese']"
      ]
     },
     "execution_count": 134,
     "metadata": {},
     "output_type": "execute_result"
    }
   ],
   "source": [
    "Dairy_products"
   ]
  },
  {
   "cell_type": "code",
   "execution_count": 137,
   "id": "7bdb67fa",
   "metadata": {},
   "outputs": [],
   "source": [
    "Dairy_products.insert(1,'yogurt')"
   ]
  },
  {
   "cell_type": "code",
   "execution_count": 138,
   "id": "a98edeef",
   "metadata": {},
   "outputs": [
    {
     "data": {
      "text/plain": [
       "['bread', 'yogurt', 'eggs', 'butter', 'cheese']"
      ]
     },
     "execution_count": 138,
     "metadata": {},
     "output_type": "execute_result"
    }
   ],
   "source": [
    "Dairy_products"
   ]
  },
  {
   "cell_type": "code",
   "execution_count": null,
   "id": "6c0bc42d",
   "metadata": {},
   "outputs": [],
   "source": []
  }
 ],
 "metadata": {
  "kernelspec": {
   "display_name": "Python 3 (ipykernel)",
   "language": "python",
   "name": "python3"
  },
  "language_info": {
   "codemirror_mode": {
    "name": "ipython",
    "version": 3
   },
   "file_extension": ".py",
   "mimetype": "text/x-python",
   "name": "python",
   "nbconvert_exporter": "python",
   "pygments_lexer": "ipython3",
   "version": "3.11.4"
  }
 },
 "nbformat": 4,
 "nbformat_minor": 5
}

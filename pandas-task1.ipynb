{
 "cells": [
  {
   "cell_type": "markdown",
   "id": "9cf41f09",
   "metadata": {},
   "source": [
    "# Task 1"
   ]
  },
  {
   "cell_type": "markdown",
   "id": "1a9657d4",
   "metadata": {},
   "source": [
    "**1 ) Create pandas series with different data types in different ways**\n"
   ]
  },
  {
   "cell_type": "code",
   "execution_count": 1,
   "id": "e6010a0b",
   "metadata": {},
   "outputs": [],
   "source": [
    "import pandas as pd"
   ]
  },
  {
   "cell_type": "code",
   "execution_count": 11,
   "id": "7f4832d5",
   "metadata": {},
   "outputs": [],
   "source": [
    "prices = list(range(10,25))   #using list"
   ]
  },
  {
   "cell_type": "code",
   "execution_count": 12,
   "id": "88918809",
   "metadata": {},
   "outputs": [
    {
     "data": {
      "text/plain": [
       "0     10\n",
       "1     11\n",
       "2     12\n",
       "3     13\n",
       "4     14\n",
       "5     15\n",
       "6     16\n",
       "7     17\n",
       "8     18\n",
       "9     19\n",
       "10    20\n",
       "11    21\n",
       "12    22\n",
       "13    23\n",
       "14    24\n",
       "dtype: int64"
      ]
     },
     "execution_count": 12,
     "metadata": {},
     "output_type": "execute_result"
    }
   ],
   "source": [
    "pd.Series(prices)"
   ]
  },
  {
   "cell_type": "code",
   "execution_count": 6,
   "id": "7fc1e141",
   "metadata": {},
   "outputs": [],
   "source": [
    "marks = tuple(range(10,25))   #using tuple"
   ]
  },
  {
   "cell_type": "code",
   "execution_count": 7,
   "id": "db0e7563",
   "metadata": {},
   "outputs": [
    {
     "data": {
      "text/plain": [
       "0     10\n",
       "1     11\n",
       "2     12\n",
       "3     13\n",
       "4     14\n",
       "5     15\n",
       "6     16\n",
       "7     17\n",
       "8     18\n",
       "9     19\n",
       "10    20\n",
       "11    21\n",
       "12    22\n",
       "13    23\n",
       "14    24\n",
       "dtype: int64"
      ]
     },
     "execution_count": 7,
     "metadata": {},
     "output_type": "execute_result"
    }
   ],
   "source": [
    "pd.Series(marks)"
   ]
  },
  {
   "cell_type": "code",
   "execution_count": 13,
   "id": "0e432372",
   "metadata": {},
   "outputs": [],
   "source": [
    "names  = (\"kitkat\",\"Dairymilk\",\"hersheys\",\"temptations\",\"bournville\")  #object dtype"
   ]
  },
  {
   "cell_type": "code",
   "execution_count": 9,
   "id": "165e9b20",
   "metadata": {},
   "outputs": [
    {
     "data": {
      "text/plain": [
       "0         kitkat\n",
       "1      Dairymilk\n",
       "2       hersheys\n",
       "3    temptations\n",
       "4     bournville\n",
       "dtype: object"
      ]
     },
     "execution_count": 9,
     "metadata": {},
     "output_type": "execute_result"
    }
   ],
   "source": [
    "pd.Series(names)"
   ]
  },
  {
   "cell_type": "code",
   "execution_count": 17,
   "id": "00cb4440",
   "metadata": {},
   "outputs": [],
   "source": [
    "import numpy as np                                              #using randint\n",
    "giftvouchers = np.random.randint(3000,4500,5)"
   ]
  },
  {
   "cell_type": "code",
   "execution_count": 16,
   "id": "397c034b",
   "metadata": {},
   "outputs": [
    {
     "data": {
      "text/plain": [
       "1    3639\n",
       "2    3897\n",
       "3    3317\n",
       "4    3558\n",
       "5    3432\n",
       "dtype: int16"
      ]
     },
     "execution_count": 16,
     "metadata": {},
     "output_type": "execute_result"
    }
   ],
   "source": [
    "pd.Series(giftvouchers,index=list(range(1,6)),dtype='int16')"
   ]
  },
  {
   "cell_type": "markdown",
   "id": "756b84f2",
   "metadata": {},
   "source": [
    "**2) Find the attributes of Series of [10,30,40,1,3,6,14,18,23] with index starts from 100**"
   ]
  },
  {
   "cell_type": "code",
   "execution_count": 18,
   "id": "f153e5ca",
   "metadata": {},
   "outputs": [],
   "source": [
    "num = [10,30,40,1,3,6,14,18,23] \n",
    "len_num = len(num)"
   ]
  },
  {
   "cell_type": "code",
   "execution_count": 31,
   "id": "b642d1f2",
   "metadata": {},
   "outputs": [],
   "source": [
    "a = pd.Series(num,index=list(range(100,100+len_num)))"
   ]
  },
  {
   "cell_type": "code",
   "execution_count": 32,
   "id": "fecc5a45",
   "metadata": {},
   "outputs": [
    {
     "data": {
      "text/plain": [
       "100    10\n",
       "101    30\n",
       "102    40\n",
       "103     1\n",
       "104     3\n",
       "105     6\n",
       "106    14\n",
       "107    18\n",
       "108    23\n",
       "dtype: int64"
      ]
     },
     "execution_count": 32,
     "metadata": {},
     "output_type": "execute_result"
    }
   ],
   "source": [
    "a"
   ]
  },
  {
   "cell_type": "code",
   "execution_count": 34,
   "id": "5c466ba7",
   "metadata": {},
   "outputs": [
    {
     "data": {
      "text/plain": [
       "100    10\n",
       "101    30\n",
       "102    40\n",
       "103     1\n",
       "104     3\n",
       "dtype: int64"
      ]
     },
     "execution_count": 34,
     "metadata": {},
     "output_type": "execute_result"
    }
   ],
   "source": [
    "a.head()"
   ]
  },
  {
   "cell_type": "code",
   "execution_count": 35,
   "id": "1fb9e94a",
   "metadata": {},
   "outputs": [
    {
     "data": {
      "text/plain": [
       "100    10\n",
       "101    30\n",
       "102    40\n",
       "dtype: int64"
      ]
     },
     "execution_count": 35,
     "metadata": {},
     "output_type": "execute_result"
    }
   ],
   "source": [
    "a.head(3)"
   ]
  },
  {
   "cell_type": "code",
   "execution_count": 36,
   "id": "3ff05d85",
   "metadata": {},
   "outputs": [
    {
     "data": {
      "text/plain": [
       "104     3\n",
       "105     6\n",
       "106    14\n",
       "107    18\n",
       "108    23\n",
       "dtype: int64"
      ]
     },
     "execution_count": 36,
     "metadata": {},
     "output_type": "execute_result"
    }
   ],
   "source": [
    "a.tail()"
   ]
  },
  {
   "cell_type": "code",
   "execution_count": 37,
   "id": "234d1843",
   "metadata": {},
   "outputs": [
    {
     "data": {
      "text/plain": [
       "106    14\n",
       "107    18\n",
       "108    23\n",
       "dtype: int64"
      ]
     },
     "execution_count": 37,
     "metadata": {},
     "output_type": "execute_result"
    }
   ],
   "source": [
    "a.tail(3)"
   ]
  },
  {
   "cell_type": "code",
   "execution_count": 38,
   "id": "763174c1",
   "metadata": {},
   "outputs": [
    {
     "data": {
      "text/plain": [
       "dtype('int64')"
      ]
     },
     "execution_count": 38,
     "metadata": {},
     "output_type": "execute_result"
    }
   ],
   "source": [
    "a.dtype"
   ]
  },
  {
   "cell_type": "code",
   "execution_count": 40,
   "id": "eec32953",
   "metadata": {},
   "outputs": [
    {
     "data": {
      "text/plain": [
       "count     9.000000\n",
       "mean     16.111111\n",
       "std      13.033078\n",
       "min       1.000000\n",
       "25%       6.000000\n",
       "50%      14.000000\n",
       "75%      23.000000\n",
       "max      40.000000\n",
       "dtype: float64"
      ]
     },
     "execution_count": 40,
     "metadata": {},
     "output_type": "execute_result"
    }
   ],
   "source": [
    "a.describe()"
   ]
  },
  {
   "cell_type": "code",
   "execution_count": 42,
   "id": "335cfe3f",
   "metadata": {},
   "outputs": [
    {
     "data": {
      "text/plain": [
       "72"
      ]
     },
     "execution_count": 42,
     "metadata": {},
     "output_type": "execute_result"
    }
   ],
   "source": [
    "a.nbytes"
   ]
  },
  {
   "cell_type": "code",
   "execution_count": 43,
   "id": "0b20b26e",
   "metadata": {},
   "outputs": [
    {
     "data": {
      "text/plain": [
       "9"
      ]
     },
     "execution_count": 43,
     "metadata": {},
     "output_type": "execute_result"
    }
   ],
   "source": [
    "a.size"
   ]
  },
  {
   "cell_type": "code",
   "execution_count": 44,
   "id": "b4320587",
   "metadata": {},
   "outputs": [
    {
     "data": {
      "text/plain": [
       "144"
      ]
     },
     "execution_count": 44,
     "metadata": {},
     "output_type": "execute_result"
    }
   ],
   "source": [
    "a.memory_usage()"
   ]
  },
  {
   "cell_type": "code",
   "execution_count": 45,
   "id": "3d66db26",
   "metadata": {},
   "outputs": [
    {
     "data": {
      "text/plain": [
       "100     NaN\n",
       "101    30.0\n",
       "102    40.0\n",
       "103     NaN\n",
       "104     NaN\n",
       "105     NaN\n",
       "106    14.0\n",
       "107    18.0\n",
       "108    23.0\n",
       "dtype: float64"
      ]
     },
     "execution_count": 45,
     "metadata": {},
     "output_type": "execute_result"
    }
   ],
   "source": [
    "a.where(a>10)"
   ]
  },
  {
   "cell_type": "code",
   "execution_count": 46,
   "id": "54d48f51",
   "metadata": {},
   "outputs": [
    {
     "name": "stdout",
     "output_type": "stream",
     "text": [
      "<class 'pandas.core.series.Series'>\n",
      "Int64Index: 9 entries, 100 to 108\n",
      "Series name: None\n",
      "Non-Null Count  Dtype\n",
      "--------------  -----\n",
      "9 non-null      int64\n",
      "dtypes: int64(1)\n",
      "memory usage: 144.0 bytes\n"
     ]
    }
   ],
   "source": [
    "a.info()"
   ]
  },
  {
   "cell_type": "markdown",
   "id": "77ebdb6e",
   "metadata": {},
   "source": [
    "**3) create salaries of 30 employee salaries randomly from 30000-90000 then measure and describe the data using pandas series**"
   ]
  },
  {
   "cell_type": "code",
   "execution_count": 21,
   "id": "da9fef2c",
   "metadata": {},
   "outputs": [],
   "source": [
    "salaries = np.random.randint(30000,90000,30)"
   ]
  },
  {
   "cell_type": "code",
   "execution_count": 28,
   "id": "d2234f66",
   "metadata": {},
   "outputs": [],
   "source": [
    "sal = pd.Series(salaries,index=list(range(1,31)),dtype='int32')"
   ]
  },
  {
   "cell_type": "code",
   "execution_count": 29,
   "id": "29705f3c",
   "metadata": {},
   "outputs": [
    {
     "data": {
      "text/plain": [
       "1     59959\n",
       "2     65995\n",
       "3     83598\n",
       "4     81021\n",
       "5     71218\n",
       "6     31431\n",
       "7     33121\n",
       "8     82206\n",
       "9     66479\n",
       "10    74557\n",
       "11    65316\n",
       "12    38784\n",
       "13    33998\n",
       "14    40562\n",
       "15    71664\n",
       "16    86743\n",
       "17    52490\n",
       "18    53548\n",
       "19    59011\n",
       "20    88741\n",
       "21    55760\n",
       "22    39823\n",
       "23    46125\n",
       "24    79413\n",
       "25    65340\n",
       "26    58188\n",
       "27    84550\n",
       "28    85598\n",
       "29    84778\n",
       "30    48618\n",
       "dtype: int32"
      ]
     },
     "execution_count": 29,
     "metadata": {},
     "output_type": "execute_result"
    }
   ],
   "source": [
    "sal"
   ]
  },
  {
   "cell_type": "code",
   "execution_count": 30,
   "id": "61358941",
   "metadata": {},
   "outputs": [
    {
     "name": "stdout",
     "output_type": "stream",
     "text": [
      "<class 'pandas.core.series.Series'>\n",
      "Int64Index: 30 entries, 1 to 30\n",
      "Series name: None\n",
      "Non-Null Count  Dtype\n",
      "--------------  -----\n",
      "30 non-null     int32\n",
      "dtypes: int32(1)\n",
      "memory usage: 360.0 bytes\n"
     ]
    }
   ],
   "source": [
    "sal.info()     #describing info"
   ]
  },
  {
   "cell_type": "code",
   "execution_count": null,
   "id": "5eb47651",
   "metadata": {},
   "outputs": [],
   "source": [
    "#statistical measures"
   ]
  },
  {
   "cell_type": "code",
   "execution_count": 47,
   "id": "b4ec3c9c",
   "metadata": {},
   "outputs": [
    {
     "data": {
      "text/plain": [
       "62954.5"
      ]
     },
     "execution_count": 47,
     "metadata": {},
     "output_type": "execute_result"
    }
   ],
   "source": [
    "sal.mean()"
   ]
  },
  {
   "cell_type": "code",
   "execution_count": 48,
   "id": "4b3ca47f",
   "metadata": {},
   "outputs": [
    {
     "data": {
      "text/plain": [
       "65328.0"
      ]
     },
     "execution_count": 48,
     "metadata": {},
     "output_type": "execute_result"
    }
   ],
   "source": [
    "sal.median()"
   ]
  },
  {
   "cell_type": "code",
   "execution_count": 49,
   "id": "2f432416",
   "metadata": {},
   "outputs": [
    {
     "data": {
      "text/plain": [
       "18119.00696211311"
      ]
     },
     "execution_count": 49,
     "metadata": {},
     "output_type": "execute_result"
    }
   ],
   "source": [
    "sal.std()"
   ]
  },
  {
   "cell_type": "code",
   "execution_count": 50,
   "id": "130381c3",
   "metadata": {},
   "outputs": [
    {
     "data": {
      "text/plain": [
       "0     31431\n",
       "1     33121\n",
       "2     33998\n",
       "3     38784\n",
       "4     39823\n",
       "5     40562\n",
       "6     46125\n",
       "7     48618\n",
       "8     52490\n",
       "9     53548\n",
       "10    55760\n",
       "11    58188\n",
       "12    59011\n",
       "13    59959\n",
       "14    65316\n",
       "15    65340\n",
       "16    65995\n",
       "17    66479\n",
       "18    71218\n",
       "19    71664\n",
       "20    74557\n",
       "21    79413\n",
       "22    81021\n",
       "23    82206\n",
       "24    83598\n",
       "25    84550\n",
       "26    84778\n",
       "27    85598\n",
       "28    86743\n",
       "29    88741\n",
       "dtype: int32"
      ]
     },
     "execution_count": 50,
     "metadata": {},
     "output_type": "execute_result"
    }
   ],
   "source": [
    "sal.mode()"
   ]
  },
  {
   "cell_type": "code",
   "execution_count": 51,
   "id": "4cbd7852",
   "metadata": {},
   "outputs": [
    {
     "data": {
      "text/plain": [
       "328298413.29310346"
      ]
     },
     "execution_count": 51,
     "metadata": {},
     "output_type": "execute_result"
    }
   ],
   "source": [
    "sal.var()"
   ]
  },
  {
   "cell_type": "code",
   "execution_count": 52,
   "id": "f37efeb6",
   "metadata": {},
   "outputs": [
    {
     "data": {
      "text/plain": [
       "count       30.000000\n",
       "mean     62954.500000\n",
       "std      18119.006962\n",
       "min      31431.000000\n",
       "25%      49586.000000\n",
       "50%      65328.000000\n",
       "75%      80619.000000\n",
       "max      88741.000000\n",
       "dtype: float64"
      ]
     },
     "execution_count": 52,
     "metadata": {},
     "output_type": "execute_result"
    }
   ],
   "source": [
    "sal.describe()"
   ]
  },
  {
   "cell_type": "markdown",
   "id": "5d5473c2",
   "metadata": {},
   "source": [
    "**4)What are the similaraties and differences between pandas series and nnumpy array.Prove it with code.**\n"
   ]
  },
  {
   "cell_type": "markdown",
   "id": "ad92db61",
   "metadata": {},
   "source": [
    "pandas series --- index based and numbers or text data\n",
    "\n",
    "numpy array ---- numerical values and not index based\n"
   ]
  },
  {
   "cell_type": "code",
   "execution_count": 56,
   "id": "a7a52c60",
   "metadata": {},
   "outputs": [
    {
     "data": {
      "text/plain": [
       "array([4306, 3361, 3100, 3116, 4282])"
      ]
     },
     "execution_count": 56,
     "metadata": {},
     "output_type": "execute_result"
    }
   ],
   "source": [
    "giftvouchers"
   ]
  },
  {
   "cell_type": "code",
   "execution_count": 58,
   "id": "82e202e8",
   "metadata": {},
   "outputs": [
    {
     "data": {
      "text/plain": [
       "0    4306\n",
       "1    3361\n",
       "2    3100\n",
       "3    3116\n",
       "4    4282\n",
       "dtype: int32"
      ]
     },
     "execution_count": 58,
     "metadata": {},
     "output_type": "execute_result"
    }
   ],
   "source": [
    "pd.Series(giftvouchers)  #index based"
   ]
  },
  {
   "cell_type": "code",
   "execution_count": 60,
   "id": "b886ea18",
   "metadata": {},
   "outputs": [
    {
     "data": {
      "text/plain": [
       "0         kitkat\n",
       "1      Dairymilk\n",
       "2       hersheys\n",
       "3    temptations\n",
       "4     bournville\n",
       "dtype: object"
      ]
     },
     "execution_count": 60,
     "metadata": {},
     "output_type": "execute_result"
    }
   ],
   "source": [
    "pd.Series(names)  #text data"
   ]
  },
  {
   "cell_type": "markdown",
   "id": "302e2182",
   "metadata": {},
   "source": [
    "\n",
    "**5)create pandas series with ranges from 100 to 150 then apply indexing and slicing on it.**"
   ]
  },
  {
   "cell_type": "code",
   "execution_count": 66,
   "id": "2f543b38",
   "metadata": {},
   "outputs": [
    {
     "data": {
      "text/plain": [
       "[100,\n",
       " 101,\n",
       " 102,\n",
       " 103,\n",
       " 104,\n",
       " 105,\n",
       " 106,\n",
       " 107,\n",
       " 108,\n",
       " 109,\n",
       " 110,\n",
       " 111,\n",
       " 112,\n",
       " 113,\n",
       " 114,\n",
       " 115,\n",
       " 116,\n",
       " 117,\n",
       " 118,\n",
       " 119,\n",
       " 120,\n",
       " 121,\n",
       " 122,\n",
       " 123,\n",
       " 124,\n",
       " 125,\n",
       " 126,\n",
       " 127,\n",
       " 128,\n",
       " 129,\n",
       " 130,\n",
       " 131,\n",
       " 132,\n",
       " 133,\n",
       " 134,\n",
       " 135,\n",
       " 136,\n",
       " 137,\n",
       " 138,\n",
       " 139,\n",
       " 140,\n",
       " 141,\n",
       " 142,\n",
       " 143,\n",
       " 144,\n",
       " 145,\n",
       " 146,\n",
       " 147,\n",
       " 148,\n",
       " 149,\n",
       " 150]"
      ]
     },
     "execution_count": 66,
     "metadata": {},
     "output_type": "execute_result"
    }
   ],
   "source": [
    "num_series = list(range(100,151))\n",
    "num_series"
   ]
  },
  {
   "cell_type": "code",
   "execution_count": 72,
   "id": "dcf73bd3",
   "metadata": {},
   "outputs": [
    {
     "data": {
      "text/plain": [
       "0     100\n",
       "1     101\n",
       "2     102\n",
       "3     103\n",
       "4     104\n",
       "5     105\n",
       "6     106\n",
       "7     107\n",
       "8     108\n",
       "9     109\n",
       "10    110\n",
       "11    111\n",
       "12    112\n",
       "13    113\n",
       "14    114\n",
       "15    115\n",
       "16    116\n",
       "17    117\n",
       "18    118\n",
       "19    119\n",
       "20    120\n",
       "21    121\n",
       "22    122\n",
       "23    123\n",
       "24    124\n",
       "25    125\n",
       "26    126\n",
       "27    127\n",
       "28    128\n",
       "29    129\n",
       "30    130\n",
       "31    131\n",
       "32    132\n",
       "33    133\n",
       "34    134\n",
       "35    135\n",
       "36    136\n",
       "37    137\n",
       "38    138\n",
       "39    139\n",
       "40    140\n",
       "41    141\n",
       "42    142\n",
       "43    143\n",
       "44    144\n",
       "45    145\n",
       "46    146\n",
       "47    147\n",
       "48    148\n",
       "49    149\n",
       "50    150\n",
       "dtype: int64"
      ]
     },
     "execution_count": 72,
     "metadata": {},
     "output_type": "execute_result"
    }
   ],
   "source": [
    "p = pd.Series(num_series)\n",
    "p"
   ]
  },
  {
   "cell_type": "code",
   "execution_count": 73,
   "id": "6743d112",
   "metadata": {},
   "outputs": [
    {
     "data": {
      "text/plain": [
       "101"
      ]
     },
     "execution_count": 73,
     "metadata": {},
     "output_type": "execute_result"
    }
   ],
   "source": [
    "# indexing\n",
    "p[1]"
   ]
  },
  {
   "cell_type": "code",
   "execution_count": 74,
   "id": "8a2f50b0",
   "metadata": {},
   "outputs": [],
   "source": [
    "#slicing"
   ]
  },
  {
   "cell_type": "code",
   "execution_count": 76,
   "id": "3b611667",
   "metadata": {},
   "outputs": [
    {
     "data": {
      "text/plain": [
       "50    150\n",
       "49    149\n",
       "48    148\n",
       "47    147\n",
       "46    146\n",
       "45    145\n",
       "44    144\n",
       "43    143\n",
       "42    142\n",
       "41    141\n",
       "dtype: int64"
      ]
     },
     "execution_count": 76,
     "metadata": {},
     "output_type": "execute_result"
    }
   ],
   "source": [
    "p[50:40:-1]    #reverse slicing"
   ]
  },
  {
   "cell_type": "code",
   "execution_count": 80,
   "id": "8c4d3513",
   "metadata": {},
   "outputs": [
    {
     "data": {
      "text/plain": [
       "40    140\n",
       "42    142\n",
       "44    144\n",
       "46    146\n",
       "48    148\n",
       "dtype: int64"
      ]
     },
     "execution_count": 80,
     "metadata": {},
     "output_type": "execute_result"
    }
   ],
   "source": [
    "p[40:50:2]"
   ]
  },
  {
   "cell_type": "code",
   "execution_count": null,
   "id": "5d7acd50",
   "metadata": {},
   "outputs": [],
   "source": []
  }
 ],
 "metadata": {
  "kernelspec": {
   "display_name": "Python 3 (ipykernel)",
   "language": "python",
   "name": "python3"
  },
  "language_info": {
   "codemirror_mode": {
    "name": "ipython",
    "version": 3
   },
   "file_extension": ".py",
   "mimetype": "text/x-python",
   "name": "python",
   "nbconvert_exporter": "python",
   "pygments_lexer": "ipython3",
   "version": "3.11.4"
  }
 },
 "nbformat": 4,
 "nbformat_minor": 5
}

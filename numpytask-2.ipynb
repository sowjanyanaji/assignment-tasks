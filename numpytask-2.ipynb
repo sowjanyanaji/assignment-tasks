{
 "cells": [
  {
   "cell_type": "markdown",
   "id": "3e4c8d4e",
   "metadata": {},
   "source": [
    "Creation of ndarray\n",
    "\n",
    "Write python code to create 3d array in different ways with 15 elements.\n",
    "\n",
    "Array Creation:\n",
    "\n",
    "a. Create a 4D NumPy array containing the first 12 positive integers as arr1.\n",
    "\n",
    "b. Create a 3D NumPy array1 with 20 random elements containing integers between 0 and 1.\n",
    "\n",
    "Find all attributes of array1 and array2\n",
    "\n",
    "Apply measure and describe the data (attributes and descriptive statistics) to above arrays using NumPy"
   ]
  },
  {
   "cell_type": "markdown",
   "id": "9e23ccb4",
   "metadata": {},
   "source": [
    "**1. Write python code to create 3d array in different ways with 15 elements.**"
   ]
  },
  {
   "cell_type": "code",
   "execution_count": 98,
   "id": "501dfb80",
   "metadata": {},
   "outputs": [],
   "source": [
    "import numpy as np"
   ]
  },
  {
   "cell_type": "code",
   "execution_count": 33,
   "id": "4b09d01e",
   "metadata": {},
   "outputs": [],
   "source": [
    "array = np.array([1,2,3,4,5,6,7,8,9,1,2,3,13,14,15],ndmin=3)"
   ]
  },
  {
   "cell_type": "code",
   "execution_count": 34,
   "id": "97784070",
   "metadata": {},
   "outputs": [
    {
     "data": {
      "text/plain": [
       "array([[[ 1,  2,  3,  4,  5,  6,  7,  8,  9,  1,  2,  3, 13, 14, 15]]])"
      ]
     },
     "execution_count": 34,
     "metadata": {},
     "output_type": "execute_result"
    }
   ],
   "source": [
    "array"
   ]
  },
  {
   "cell_type": "code",
   "execution_count": 8,
   "id": "17adc0a6",
   "metadata": {},
   "outputs": [],
   "source": [
    "array1 = np.array([1,2,3,4,45,6,7,8,23,24,25,26,27,28,29]).reshape(1,3,5)"
   ]
  },
  {
   "cell_type": "code",
   "execution_count": 9,
   "id": "07b068e6",
   "metadata": {},
   "outputs": [
    {
     "data": {
      "text/plain": [
       "array([[[ 1,  2,  3,  4, 45],\n",
       "        [ 6,  7,  8, 23, 24],\n",
       "        [25, 26, 27, 28, 29]]])"
      ]
     },
     "execution_count": 9,
     "metadata": {},
     "output_type": "execute_result"
    }
   ],
   "source": [
    "array1"
   ]
  },
  {
   "cell_type": "code",
   "execution_count": 11,
   "id": "ff7340c0",
   "metadata": {},
   "outputs": [
    {
     "name": "stdout",
     "output_type": "stream",
     "text": [
      "[[[1 2 3 4 5 6 7 8 9]]]\n"
     ]
    },
    {
     "data": {
      "text/plain": [
       "3"
      ]
     },
     "execution_count": 11,
     "metadata": {},
     "output_type": "execute_result"
    }
   ],
   "source": [
    "arr2= np.array([[[1,2,3,4,5,6,7,8,9]]]) \n",
    "print(arr2)\n",
    "arr2.ndim"
   ]
  },
  {
   "cell_type": "markdown",
   "id": "d7db5b97",
   "metadata": {},
   "source": [
    "**2. Array Creation:**\n",
    "\n",
    "a. Create a 4D NumPy array containing the first 12 positive integers as arr1.\n",
    "\n",
    "\n"
   ]
  },
  {
   "cell_type": "code",
   "execution_count": 13,
   "id": "8aa99f39",
   "metadata": {},
   "outputs": [
    {
     "name": "stdout",
     "output_type": "stream",
     "text": [
      "[[[[ 1  2  3  4]\n",
      "   [ 5  6  7  8]\n",
      "   [ 9 10 11 12]]]]\n"
     ]
    },
    {
     "data": {
      "text/plain": [
       "4"
      ]
     },
     "execution_count": 13,
     "metadata": {},
     "output_type": "execute_result"
    }
   ],
   "source": [
    "array = np.arange(1,13).reshape(1,1,3,4)\n",
    "print(array)\n",
    "array.ndim"
   ]
  },
  {
   "cell_type": "markdown",
   "id": "54b00657",
   "metadata": {},
   "source": [
    "b. Create a 3D NumPy array1 with 20 random elements containing integers between 0 and 1.\n",
    "\n"
   ]
  },
  {
   "cell_type": "code",
   "execution_count": 15,
   "id": "dd235479",
   "metadata": {},
   "outputs": [
    {
     "data": {
      "text/plain": [
       "array([1, 1, 1, 0, 0, 0, 0, 1, 1, 1, 1, 0, 1, 0, 1, 0, 0, 1, 0, 1])"
      ]
     },
     "execution_count": 15,
     "metadata": {},
     "output_type": "execute_result"
    }
   ],
   "source": [
    "import random\n",
    "array = np.random.randint(0,2,20)\n",
    "array"
   ]
  },
  {
   "cell_type": "markdown",
   "id": "0ba94185",
   "metadata": {},
   "source": [
    "**3. Find all attributes of array1 and array2**"
   ]
  },
  {
   "cell_type": "code",
   "execution_count": 17,
   "id": "bf9564f9",
   "metadata": {},
   "outputs": [
    {
     "data": {
      "text/plain": [
       "array([[[ 1,  2,  3,  4, 45],\n",
       "        [ 6,  7,  8, 23, 24],\n",
       "        [25, 26, 27, 28, 29]]])"
      ]
     },
     "execution_count": 17,
     "metadata": {},
     "output_type": "execute_result"
    }
   ],
   "source": [
    "array1"
   ]
  },
  {
   "cell_type": "code",
   "execution_count": 18,
   "id": "0231eebb",
   "metadata": {},
   "outputs": [
    {
     "data": {
      "text/plain": [
       "dtype('int32')"
      ]
     },
     "execution_count": 18,
     "metadata": {},
     "output_type": "execute_result"
    }
   ],
   "source": [
    "array1.dtype"
   ]
  },
  {
   "cell_type": "code",
   "execution_count": 19,
   "id": "f2c92e26",
   "metadata": {},
   "outputs": [
    {
     "data": {
      "text/plain": [
       "15"
      ]
     },
     "execution_count": 19,
     "metadata": {},
     "output_type": "execute_result"
    }
   ],
   "source": [
    "array1.size"
   ]
  },
  {
   "cell_type": "code",
   "execution_count": 20,
   "id": "34121cfc",
   "metadata": {},
   "outputs": [
    {
     "data": {
      "text/plain": [
       "60"
      ]
     },
     "execution_count": 20,
     "metadata": {},
     "output_type": "execute_result"
    }
   ],
   "source": [
    "array1.nbytes"
   ]
  },
  {
   "cell_type": "code",
   "execution_count": 21,
   "id": "d2247bd1",
   "metadata": {},
   "outputs": [
    {
     "data": {
      "text/plain": [
       "4"
      ]
     },
     "execution_count": 21,
     "metadata": {},
     "output_type": "execute_result"
    }
   ],
   "source": [
    "array1.itemsize"
   ]
  },
  {
   "cell_type": "code",
   "execution_count": 22,
   "id": "e0a9aab9",
   "metadata": {},
   "outputs": [
    {
     "data": {
      "text/plain": [
       "1"
      ]
     },
     "execution_count": 22,
     "metadata": {},
     "output_type": "execute_result"
    }
   ],
   "source": [
    "array.ndim"
   ]
  },
  {
   "cell_type": "code",
   "execution_count": 23,
   "id": "61608d99",
   "metadata": {},
   "outputs": [
    {
     "data": {
      "text/plain": [
       "array([ 1.        ,  1.52631579,  2.05263158,  2.57894737,  3.10526316,\n",
       "        3.63157895,  4.15789474,  4.68421053,  5.21052632,  5.73684211,\n",
       "        6.26315789,  6.78947368,  7.31578947,  7.84210526,  8.36842105,\n",
       "        8.89473684,  9.42105263,  9.94736842, 10.47368421, 11.        ])"
      ]
     },
     "execution_count": 23,
     "metadata": {},
     "output_type": "execute_result"
    }
   ],
   "source": [
    "array2 = np.linspace(1,11,20)  \n",
    "array2"
   ]
  },
  {
   "cell_type": "code",
   "execution_count": 24,
   "id": "4aee0006",
   "metadata": {},
   "outputs": [
    {
     "data": {
      "text/plain": [
       "8"
      ]
     },
     "execution_count": 24,
     "metadata": {},
     "output_type": "execute_result"
    }
   ],
   "source": [
    "array2.itemsize"
   ]
  },
  {
   "cell_type": "code",
   "execution_count": 25,
   "id": "c76a72ab",
   "metadata": {},
   "outputs": [
    {
     "data": {
      "text/plain": [
       "160"
      ]
     },
     "execution_count": 25,
     "metadata": {},
     "output_type": "execute_result"
    }
   ],
   "source": [
    "array2.nbytes"
   ]
  },
  {
   "cell_type": "code",
   "execution_count": 26,
   "id": "d2feb9ab",
   "metadata": {},
   "outputs": [
    {
     "data": {
      "text/plain": [
       "dtype('float64')"
      ]
     },
     "execution_count": 26,
     "metadata": {},
     "output_type": "execute_result"
    }
   ],
   "source": [
    "array2.dtype"
   ]
  },
  {
   "cell_type": "code",
   "execution_count": 27,
   "id": "f7585431",
   "metadata": {},
   "outputs": [
    {
     "data": {
      "text/plain": [
       "20"
      ]
     },
     "execution_count": 27,
     "metadata": {},
     "output_type": "execute_result"
    }
   ],
   "source": [
    "array2.size"
   ]
  },
  {
   "cell_type": "markdown",
   "id": "6503ac29",
   "metadata": {},
   "source": [
    "**4. Apply measure and describe the data (attributes and descriptive statistics) to above arrays using NumPy.**\n",
    "\n"
   ]
  },
  {
   "cell_type": "code",
   "execution_count": 7,
   "id": "05087f95",
   "metadata": {},
   "outputs": [],
   "source": [
    "array3 = np.array([1,2,3,4,5,6,7,8,9,10],ndmin=3)\n"
   ]
  },
  {
   "cell_type": "code",
   "execution_count": 19,
   "id": "e1aef05b",
   "metadata": {},
   "outputs": [
    {
     "data": {
      "text/plain": [
       "array([[[ 1,  2,  3,  4,  5,  6,  7,  8,  9, 10]]])"
      ]
     },
     "execution_count": 19,
     "metadata": {},
     "output_type": "execute_result"
    }
   ],
   "source": [
    "array3"
   ]
  },
  {
   "cell_type": "code",
   "execution_count": 9,
   "id": "9b824bf7",
   "metadata": {},
   "outputs": [
    {
     "data": {
      "text/plain": [
       "3"
      ]
     },
     "execution_count": 9,
     "metadata": {},
     "output_type": "execute_result"
    }
   ],
   "source": [
    "array3.ndim"
   ]
  },
  {
   "cell_type": "code",
   "execution_count": 11,
   "id": "79c38ae3",
   "metadata": {},
   "outputs": [
    {
     "data": {
      "text/plain": [
       "dtype('int32')"
      ]
     },
     "execution_count": 11,
     "metadata": {},
     "output_type": "execute_result"
    }
   ],
   "source": [
    "array3.dtype"
   ]
  },
  {
   "cell_type": "code",
   "execution_count": 12,
   "id": "56d1f483",
   "metadata": {},
   "outputs": [
    {
     "data": {
      "text/plain": [
       "10"
      ]
     },
     "execution_count": 12,
     "metadata": {},
     "output_type": "execute_result"
    }
   ],
   "source": [
    "array3.size"
   ]
  },
  {
   "cell_type": "code",
   "execution_count": 13,
   "id": "843e6993",
   "metadata": {},
   "outputs": [
    {
     "data": {
      "text/plain": [
       "40"
      ]
     },
     "execution_count": 13,
     "metadata": {},
     "output_type": "execute_result"
    }
   ],
   "source": [
    "array3.nbytes"
   ]
  },
  {
   "cell_type": "markdown",
   "id": "4b4a3f71",
   "metadata": {},
   "source": [
    "**Measure of central tendency**\n",
    "\n"
   ]
  },
  {
   "cell_type": "code",
   "execution_count": 20,
   "id": "d0510c87",
   "metadata": {},
   "outputs": [
    {
     "data": {
      "text/plain": [
       "5.5"
      ]
     },
     "execution_count": 20,
     "metadata": {},
     "output_type": "execute_result"
    }
   ],
   "source": [
    "array3.mean()"
   ]
  },
  {
   "cell_type": "code",
   "execution_count": 21,
   "id": "872fb0a3",
   "metadata": {},
   "outputs": [
    {
     "data": {
      "text/plain": [
       "5.5"
      ]
     },
     "execution_count": 21,
     "metadata": {},
     "output_type": "execute_result"
    }
   ],
   "source": [
    "np.median(array3)"
   ]
  },
  {
   "cell_type": "markdown",
   "id": "92092f05",
   "metadata": {},
   "source": [
    "**Measure of spread**"
   ]
  },
  {
   "cell_type": "code",
   "execution_count": 22,
   "id": "75ca90cc",
   "metadata": {},
   "outputs": [
    {
     "data": {
      "text/plain": [
       "9"
      ]
     },
     "execution_count": 22,
     "metadata": {},
     "output_type": "execute_result"
    }
   ],
   "source": [
    "Range = array3.max()-array3.min()\n",
    "Range"
   ]
  },
  {
   "cell_type": "code",
   "execution_count": 23,
   "id": "f285606a",
   "metadata": {},
   "outputs": [
    {
     "data": {
      "text/plain": [
       "8.25"
      ]
     },
     "execution_count": 23,
     "metadata": {},
     "output_type": "execute_result"
    }
   ],
   "source": [
    "np.var(array3)"
   ]
  },
  {
   "cell_type": "code",
   "execution_count": 24,
   "id": "d541c826",
   "metadata": {},
   "outputs": [
    {
     "data": {
      "text/plain": [
       "2.8722813232690143"
      ]
     },
     "execution_count": 24,
     "metadata": {},
     "output_type": "execute_result"
    }
   ],
   "source": [
    "np.std(array3)"
   ]
  },
  {
   "cell_type": "markdown",
   "id": "781b257f",
   "metadata": {},
   "source": [
    "**IQR**"
   ]
  },
  {
   "cell_type": "code",
   "execution_count": 25,
   "id": "607b6265",
   "metadata": {},
   "outputs": [
    {
     "data": {
      "text/plain": [
       "3.25"
      ]
     },
     "execution_count": 25,
     "metadata": {},
     "output_type": "execute_result"
    }
   ],
   "source": [
    "Q1= np.percentile(array3,25)\n",
    "Q1"
   ]
  },
  {
   "cell_type": "code",
   "execution_count": 26,
   "id": "724def9f",
   "metadata": {},
   "outputs": [
    {
     "data": {
      "text/plain": [
       "5.5"
      ]
     },
     "execution_count": 26,
     "metadata": {},
     "output_type": "execute_result"
    }
   ],
   "source": [
    "Q2 = np.percentile(array3,50)\n",
    "Q2"
   ]
  },
  {
   "cell_type": "code",
   "execution_count": 27,
   "id": "e6bc0cbd",
   "metadata": {},
   "outputs": [
    {
     "data": {
      "text/plain": [
       "7.75"
      ]
     },
     "execution_count": 27,
     "metadata": {},
     "output_type": "execute_result"
    }
   ],
   "source": [
    "Q3 = np.percentile(array3,75)\n",
    "Q3"
   ]
  },
  {
   "cell_type": "code",
   "execution_count": 29,
   "id": "2fb5423b",
   "metadata": {},
   "outputs": [
    {
     "data": {
      "text/plain": [
       "4.5"
      ]
     },
     "execution_count": 29,
     "metadata": {},
     "output_type": "execute_result"
    }
   ],
   "source": [
    "IQR = Q3-Q1\n",
    "IQR"
   ]
  },
  {
   "cell_type": "code",
   "execution_count": 30,
   "id": "8d07bf10",
   "metadata": {},
   "outputs": [
    {
     "data": {
      "text/plain": [
       "-3.5"
      ]
     },
     "execution_count": 30,
     "metadata": {},
     "output_type": "execute_result"
    }
   ],
   "source": [
    "lower = Q1-(1.5*IQR)\n",
    "lower"
   ]
  },
  {
   "cell_type": "code",
   "execution_count": 31,
   "id": "bc97ecfa",
   "metadata": {},
   "outputs": [
    {
     "data": {
      "text/plain": [
       "14.5"
      ]
     },
     "execution_count": 31,
     "metadata": {},
     "output_type": "execute_result"
    }
   ],
   "source": [
    "upper = Q3+(1.5*IQR)\n",
    "upper"
   ]
  },
  {
   "cell_type": "code",
   "execution_count": 33,
   "id": "6e041731",
   "metadata": {},
   "outputs": [
    {
     "name": "stdout",
     "output_type": "stream",
     "text": [
      "[]\n",
      "[]\n"
     ]
    }
   ],
   "source": [
    "print(array3[array3>upper])      #Outlier = no outliers\n",
    "\n",
    "print(array3[array3<lower])"
   ]
  },
  {
   "cell_type": "markdown",
   "id": "e6d9909f",
   "metadata": {},
   "source": [
    "# Array Slicing and Indexing:\n",
    "\n",
    "**a. Creating Arrays:**\n",
    "\n",
    "Create a 1-dimensional NumPy array arr1 with the values [0, 11, 26, 73, 42, 51, 6,77, 8,29].\n",
    "\n",
    "Create a 2-dimensional NumPy array arr2 with the values [[0, 1, 2], [3, 4, 5], [6, 7, 8]].\n",
    "\n",
    "**b.Basic Indexing:**\n",
    "\n",
    "Print the element at index 3 of arr1.\n",
    "\n",
    "Print the element at row 2, column 1 of arr2\n",
    "\n",
    "**c. Array Slicing:**\n",
    "\n",
    "Print the first five elements of arr1.\n",
    "\n",
    "Print the subarray of arr2 consisting of the last two rows and the first two columns.\n",
    "\n",
    "Print every second element starting from index 1 up to index 7 of arr1."
   ]
  },
  {
   "cell_type": "code",
   "execution_count": 34,
   "id": "d5c182f4",
   "metadata": {},
   "outputs": [],
   "source": [
    "arr1= np.array([0, 11, 26, 73, 42, 51, 6,77, 8,29])\n",
    "arr2=np.array([[0, 1, 2], [3, 4, 5], [6, 7, 8]])"
   ]
  },
  {
   "cell_type": "code",
   "execution_count": 35,
   "id": "e7952a2c",
   "metadata": {},
   "outputs": [
    {
     "data": {
      "text/plain": [
       "26"
      ]
     },
     "execution_count": 35,
     "metadata": {},
     "output_type": "execute_result"
    }
   ],
   "source": [
    "arr1[2]"
   ]
  },
  {
   "cell_type": "code",
   "execution_count": 37,
   "id": "32b13e87",
   "metadata": {},
   "outputs": [
    {
     "data": {
      "text/plain": [
       "4"
      ]
     },
     "execution_count": 37,
     "metadata": {},
     "output_type": "execute_result"
    }
   ],
   "source": [
    "arr2[1][1]"
   ]
  },
  {
   "cell_type": "code",
   "execution_count": 38,
   "id": "29684529",
   "metadata": {},
   "outputs": [
    {
     "data": {
      "text/plain": [
       "array([ 0, 11, 26, 73, 42])"
      ]
     },
     "execution_count": 38,
     "metadata": {},
     "output_type": "execute_result"
    }
   ],
   "source": [
    "arr1[:5]"
   ]
  },
  {
   "cell_type": "code",
   "execution_count": 44,
   "id": "b8a602e1",
   "metadata": {},
   "outputs": [
    {
     "data": {
      "text/plain": [
       "array([[3, 4],\n",
       "       [6, 7]])"
      ]
     },
     "execution_count": 44,
     "metadata": {},
     "output_type": "execute_result"
    }
   ],
   "source": [
    "arr2[1:,0:2]"
   ]
  },
  {
   "cell_type": "code",
   "execution_count": 47,
   "id": "3d7af063",
   "metadata": {},
   "outputs": [
    {
     "data": {
      "text/plain": [
       "array([11, 73, 51])"
      ]
     },
     "execution_count": 47,
     "metadata": {},
     "output_type": "execute_result"
    }
   ],
   "source": [
    "arr1[1: 7: 2]"
   ]
  },
  {
   "cell_type": "markdown",
   "id": "2b361e68",
   "metadata": {},
   "source": [
    "**Data Type Manipulation**\n",
    "\n",
    "a. Creating Arrays with Specific Data Types:\n",
    "\n",
    "Create a 1-dimensional NumPy array int_array with the values [1, 2, 3, 4, 5] and the data type int16.\n",
    "\n",
    "Create a 1-dimensional NumPy array float_array with the values [0.1, 0.2, 0.3, 0.4, 0.5] and the data type float64."
   ]
  },
  {
   "cell_type": "code",
   "execution_count": 50,
   "id": "3eec73e7",
   "metadata": {},
   "outputs": [],
   "source": [
    "i_arr1= np.array([1,2,3,4,5],dtype ='int16')\n",
    "f_arr2 = np.array([1,2,3])"
   ]
  },
  {
   "cell_type": "code",
   "execution_count": 51,
   "id": "1f2b3b82",
   "metadata": {},
   "outputs": [
    {
     "data": {
      "text/plain": [
       "dtype('int16')"
      ]
     },
     "execution_count": 51,
     "metadata": {},
     "output_type": "execute_result"
    }
   ],
   "source": [
    "i_arr1.dtype"
   ]
  },
  {
   "cell_type": "code",
   "execution_count": 52,
   "id": "6b6ab551",
   "metadata": {},
   "outputs": [
    {
     "data": {
      "text/plain": [
       "dtype('int32')"
      ]
     },
     "execution_count": 52,
     "metadata": {},
     "output_type": "execute_result"
    }
   ],
   "source": [
    "f_arr2.dtype"
   ]
  },
  {
   "cell_type": "markdown",
   "id": "76e69a35",
   "metadata": {},
   "source": [
    "**b.Generating Random Numbers:**\n",
    "\n",
    "Use numpy.random.randint() to create an array rand_integers containing 10 random integers between 0 and 100 (inclusive)"
   ]
  },
  {
   "cell_type": "code",
   "execution_count": 53,
   "id": "04b81e2c",
   "metadata": {},
   "outputs": [],
   "source": [
    "a = np.random.randint(0,101,10)"
   ]
  },
  {
   "cell_type": "code",
   "execution_count": 54,
   "id": "c09ca073",
   "metadata": {},
   "outputs": [
    {
     "data": {
      "text/plain": [
       "array([54,  4,  7, 91, 83, 86, 10,  6, 64, 66])"
      ]
     },
     "execution_count": 54,
     "metadata": {},
     "output_type": "execute_result"
    }
   ],
   "source": [
    "a"
   ]
  },
  {
   "cell_type": "markdown",
   "id": "ac956e16",
   "metadata": {},
   "source": [
    "Use numpy.random.uniform() to create an array rand_uniform containing 5 random numbers sampled from a uniform distribution between -1 and 1."
   ]
  },
  {
   "cell_type": "code",
   "execution_count": 55,
   "id": "c1f68069",
   "metadata": {},
   "outputs": [
    {
     "data": {
      "text/plain": [
       "array([ 0.97949604,  0.70291605, -0.58937441,  0.58542005, -0.01517227])"
      ]
     },
     "execution_count": 55,
     "metadata": {},
     "output_type": "execute_result"
    }
   ],
   "source": [
    "b = np.random.uniform(-1,1,5)\n",
    "b"
   ]
  },
  {
   "cell_type": "markdown",
   "id": "bc7a63cb",
   "metadata": {},
   "source": [
    "Create an array rand_matrix with random integers between 50 and 100 (inclusive).and reshape it to 2-dimensional (4 x 4) matrix.\n"
   ]
  },
  {
   "cell_type": "code",
   "execution_count": 60,
   "id": "3cca4677",
   "metadata": {},
   "outputs": [
    {
     "data": {
      "text/plain": [
       "array([[54, 89, 97, 95],\n",
       "       [59, 96, 87, 95],\n",
       "       [94, 78, 99, 65],\n",
       "       [69, 83, 70, 83]])"
      ]
     },
     "execution_count": 60,
     "metadata": {},
     "output_type": "execute_result"
    }
   ],
   "source": [
    "c = np.random.randint(50,100,16).reshape(4,4)\n",
    "c"
   ]
  },
  {
   "cell_type": "markdown",
   "id": "9bed7bca",
   "metadata": {},
   "source": [
    "**4. Apply descriptive statistics for rand_matrix.**\n",
    "\n"
   ]
  },
  {
   "cell_type": "markdown",
   "id": "f9a1f0dc",
   "metadata": {},
   "source": [
    "***measure of central tendency***\n",
    "\n"
   ]
  },
  {
   "cell_type": "code",
   "execution_count": 57,
   "id": "ca9c7c03",
   "metadata": {},
   "outputs": [
    {
     "data": {
      "text/plain": [
       "71.5"
      ]
     },
     "execution_count": 57,
     "metadata": {},
     "output_type": "execute_result"
    }
   ],
   "source": [
    "c.mean()"
   ]
  },
  {
   "cell_type": "code",
   "execution_count": 59,
   "id": "81fe1ed1",
   "metadata": {},
   "outputs": [
    {
     "data": {
      "text/plain": [
       "70.0"
      ]
     },
     "execution_count": 59,
     "metadata": {},
     "output_type": "execute_result"
    }
   ],
   "source": [
    "np.median(c)"
   ]
  },
  {
   "cell_type": "markdown",
   "id": "c08ab39b",
   "metadata": {},
   "source": [
    "***Measure of spread***\n",
    "\n"
   ]
  },
  {
   "cell_type": "code",
   "execution_count": 61,
   "id": "fa380b99",
   "metadata": {},
   "outputs": [
    {
     "data": {
      "text/plain": [
       "45"
      ]
     },
     "execution_count": 61,
     "metadata": {},
     "output_type": "execute_result"
    }
   ],
   "source": [
    "Range = np.max(c)-np.min(c)\n",
    "Range"
   ]
  },
  {
   "cell_type": "code",
   "execution_count": 62,
   "id": "94646786",
   "metadata": {},
   "outputs": [
    {
     "data": {
      "text/plain": [
       "199.93359375"
      ]
     },
     "execution_count": 62,
     "metadata": {},
     "output_type": "execute_result"
    }
   ],
   "source": [
    "np.var(c)"
   ]
  },
  {
   "cell_type": "code",
   "execution_count": 63,
   "id": "916e7d77",
   "metadata": {},
   "outputs": [
    {
     "data": {
      "text/plain": [
       "14.139787613327153"
      ]
     },
     "execution_count": 63,
     "metadata": {},
     "output_type": "execute_result"
    }
   ],
   "source": [
    "np.std(c)"
   ]
  },
  {
   "cell_type": "markdown",
   "id": "1fea7d5a",
   "metadata": {},
   "source": [
    "***IQR***"
   ]
  },
  {
   "cell_type": "code",
   "execution_count": 65,
   "id": "6cf8c787",
   "metadata": {},
   "outputs": [
    {
     "data": {
      "text/plain": [
       "69.75"
      ]
     },
     "execution_count": 65,
     "metadata": {},
     "output_type": "execute_result"
    }
   ],
   "source": [
    "Q1= np.percentile(c,25)\n",
    "Q1"
   ]
  },
  {
   "cell_type": "code",
   "execution_count": 66,
   "id": "d87201bf",
   "metadata": {},
   "outputs": [
    {
     "data": {
      "text/plain": [
       "85.0"
      ]
     },
     "execution_count": 66,
     "metadata": {},
     "output_type": "execute_result"
    }
   ],
   "source": [
    "Q2 = np.percentile(c,50)\n",
    "Q2"
   ]
  },
  {
   "cell_type": "code",
   "execution_count": 67,
   "id": "09e4ade0",
   "metadata": {},
   "outputs": [
    {
     "data": {
      "text/plain": [
       "95.0"
      ]
     },
     "execution_count": 67,
     "metadata": {},
     "output_type": "execute_result"
    }
   ],
   "source": [
    "Q3 = np.percentile(c,75)\n",
    "Q3"
   ]
  },
  {
   "cell_type": "code",
   "execution_count": 68,
   "id": "0d466656",
   "metadata": {},
   "outputs": [
    {
     "data": {
      "text/plain": [
       "25.25"
      ]
     },
     "execution_count": 68,
     "metadata": {},
     "output_type": "execute_result"
    }
   ],
   "source": [
    "IQR= Q3-Q1\n",
    "IQR"
   ]
  },
  {
   "cell_type": "code",
   "execution_count": 69,
   "id": "b79eedfc",
   "metadata": {},
   "outputs": [
    {
     "data": {
      "text/plain": [
       "31.875"
      ]
     },
     "execution_count": 69,
     "metadata": {},
     "output_type": "execute_result"
    }
   ],
   "source": [
    "Lower_limit = Q1-(1.5*IQR)\n",
    "Lower_limit"
   ]
  },
  {
   "cell_type": "code",
   "execution_count": 70,
   "id": "6f07c2dd",
   "metadata": {},
   "outputs": [
    {
     "data": {
      "text/plain": [
       "132.875"
      ]
     },
     "execution_count": 70,
     "metadata": {},
     "output_type": "execute_result"
    }
   ],
   "source": [
    "Upper_limit= Q3+(1.5*IQR)\n",
    "Upper_limit"
   ]
  },
  {
   "cell_type": "code",
   "execution_count": 71,
   "id": "193ce272",
   "metadata": {},
   "outputs": [
    {
     "name": "stdout",
     "output_type": "stream",
     "text": [
      "[]\n",
      "[]\n"
     ]
    }
   ],
   "source": [
    "print(c[c > Upper_limit])  #Outliers = No outliers\n",
    "print(c[c< Lower_limit])"
   ]
  },
  {
   "cell_type": "markdown",
   "id": "339f330f",
   "metadata": {},
   "source": [
    "**Analyze the Data:**\n",
    "\n",
    "Salaries = [87877, 54494, 54804, 85051, 52453, 31250, 94868, 66349, 39828, 60501, 58570, 74906, 41671, 51428, 56414, 98446, 56819, 82833, 50477, 62898, 99658, 89224, 34225, 79172, 32199, 63795, 90947, 55723, 64557, 3113638]\n",
    "\n",
    "Describe the data using numpy array. Measure the following:\n",
    "\n",
    "How many employees are getting more less than 50000?\n",
    "\n",
    "Is it following Normal Distribution?\n",
    "\n",
    "What is the median salary?\n",
    "\n",
    "What is the range of salaries for this company?\n",
    "\n",
    "Find the salaries between average salary and 75% of salaries?\n",
    "\n",
    "How many employees are getting less than 25 % of salaries ?"
   ]
  },
  {
   "cell_type": "code",
   "execution_count": 102,
   "id": "cb6cecb2",
   "metadata": {},
   "outputs": [],
   "source": [
    "salaries = [87877, 54494, 54804, 85051, 52453, 31250, 94868, 66349, 39828, 60501, 58570, 74906, 41671, 51428, 56414, 98446, 56819, 82833, 50477, 62898, 99658, 89224, 34225, 79172, 32199, 63795, 90947, 55723, 64557, 3113638]"
   ]
  },
  {
   "cell_type": "code",
   "execution_count": 104,
   "id": "1134c989",
   "metadata": {},
   "outputs": [],
   "source": [
    "sal = np.array(salaries)"
   ]
  },
  {
   "cell_type": "code",
   "execution_count": 105,
   "id": "706b8380",
   "metadata": {},
   "outputs": [
    {
     "data": {
      "text/plain": [
       "array([  87877,   54494,   54804,   85051,   52453,   31250,   94868,\n",
       "         66349,   39828,   60501,   58570,   74906,   41671,   51428,\n",
       "         56414,   98446,   56819,   82833,   50477,   62898,   99658,\n",
       "         89224,   34225,   79172,   32199,   63795,   90947,   55723,\n",
       "         64557, 3113638])"
      ]
     },
     "execution_count": 105,
     "metadata": {},
     "output_type": "execute_result"
    }
   ],
   "source": [
    "sal"
   ]
  },
  {
   "cell_type": "code",
   "execution_count": 91,
   "id": "b2ee2efa",
   "metadata": {},
   "outputs": [
    {
     "data": {
      "text/plain": [
       "5"
      ]
     },
     "execution_count": 91,
     "metadata": {},
     "output_type": "execute_result"
    }
   ],
   "source": [
    "len(sal[sal<50000])"
   ]
  },
  {
   "cell_type": "code",
   "execution_count": 92,
   "id": "5e280df5",
   "metadata": {},
   "outputs": [
    {
     "data": {
      "text/plain": [
       "61699.5"
      ]
     },
     "execution_count": 92,
     "metadata": {},
     "output_type": "execute_result"
    }
   ],
   "source": [
    "np.median(sal)"
   ]
  },
  {
   "cell_type": "code",
   "execution_count": 93,
   "id": "6461ed55",
   "metadata": {},
   "outputs": [
    {
     "data": {
      "text/plain": [
       "3082388"
      ]
     },
     "execution_count": 93,
     "metadata": {},
     "output_type": "execute_result"
    }
   ],
   "source": [
    "Range= max(sal)- min(sal)\n",
    "Range"
   ]
  },
  {
   "cell_type": "code",
   "execution_count": 94,
   "id": "8dc09203",
   "metadata": {},
   "outputs": [
    {
     "name": "stdout",
     "output_type": "stream",
     "text": [
      "84496.5\n",
      "166169.16666666666\n"
     ]
    }
   ],
   "source": [
    "Q3= np.percentile(sal,75)\n",
    "m1 = np.mean(sal)\n",
    "print(Q3)\n",
    "print(m1)"
   ]
  },
  {
   "cell_type": "code",
   "execution_count": 95,
   "id": "2a3d0c89",
   "metadata": {},
   "outputs": [
    {
     "data": {
      "text/plain": [
       "array([], dtype=int32)"
      ]
     },
     "execution_count": 95,
     "metadata": {},
     "output_type": "execute_result"
    }
   ],
   "source": [
    "sal= sal[(sal > m1) & (sal <=Q3)]\n",
    "sal"
   ]
  },
  {
   "cell_type": "code",
   "execution_count": 106,
   "id": "284cb8ae",
   "metadata": {},
   "outputs": [],
   "source": [
    "q1 = np.percentile(sal,25)"
   ]
  },
  {
   "cell_type": "code",
   "execution_count": 107,
   "id": "d1c17347",
   "metadata": {},
   "outputs": [
    {
     "data": {
      "text/plain": [
       "52963.25"
      ]
     },
     "execution_count": 107,
     "metadata": {},
     "output_type": "execute_result"
    }
   ],
   "source": [
    "q1"
   ]
  },
  {
   "cell_type": "code",
   "execution_count": 109,
   "id": "370708c1",
   "metadata": {},
   "outputs": [
    {
     "data": {
      "text/plain": [
       "8"
      ]
     },
     "execution_count": 109,
     "metadata": {},
     "output_type": "execute_result"
    }
   ],
   "source": [
    "len(sal[sal<q1])"
   ]
  },
  {
   "cell_type": "code",
   "execution_count": null,
   "id": "766afc18",
   "metadata": {},
   "outputs": [],
   "source": []
  }
 ],
 "metadata": {
  "kernelspec": {
   "display_name": "Python 3 (ipykernel)",
   "language": "python",
   "name": "python3"
  },
  "language_info": {
   "codemirror_mode": {
    "name": "ipython",
    "version": 3
   },
   "file_extension": ".py",
   "mimetype": "text/x-python",
   "name": "python",
   "nbconvert_exporter": "python",
   "pygments_lexer": "ipython3",
   "version": "3.11.4"
  }
 },
 "nbformat": 4,
 "nbformat_minor": 5
}

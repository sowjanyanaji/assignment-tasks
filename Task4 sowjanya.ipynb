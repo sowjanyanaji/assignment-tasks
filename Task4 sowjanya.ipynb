{
 "cells": [
  {
   "cell_type": "markdown",
   "id": "359129ad",
   "metadata": {},
   "source": [
    "Ask user to enter a website name and check whether it is valid or not(True/False)\n",
    "\n",
    "name = \"Innomatics\", course = \"Data Science\" write python code in different ways to show output as : \"Hello World I am learning Data Science in Innomatics\"\n",
    "\n",
    "Replace Science with Analysis in the above output.\n",
    "\n",
    "string = ' Hello World I am learning Python in Innomatics ' a. How many characters are there in the string. b. Slice only 'Python' from above string c. Remove white spaces on both sides then find no.of characters in the string. d. Convert the string in Upper case\n",
    "\n",
    "What is the index number of 'World' in above string.\n",
    "\n",
    "Split the string with respect to whitespace.after that store that splitted into a variable and find the data typeof that variable.\n",
    "\n",
    "How many times 'a' is repeated in above string."
   ]
  },
  {
   "cell_type": "markdown",
   "id": "dbdcaa05",
   "metadata": {},
   "source": [
    "**Ask user to enter a website name and check whether it is valid or not(True/False)**"
   ]
  },
  {
   "cell_type": "code",
   "execution_count": 12,
   "id": "23e2a41d",
   "metadata": {},
   "outputs": [
    {
     "name": "stdout",
     "output_type": "stream",
     "text": [
      "enter website : www.instagram.com\n"
     ]
    },
    {
     "data": {
      "text/plain": [
       "True"
      ]
     },
     "execution_count": 12,
     "metadata": {},
     "output_type": "execute_result"
    }
   ],
   "source": [
    "website = input(\"enter website : \")\n",
    "website.startswith('www.')and website.endswith('.com')"
   ]
  },
  {
   "cell_type": "markdown",
   "id": "7aa44cfa",
   "metadata": {},
   "source": [
    "**name = \"Innomatics\", course = \"Data Science\" write python code in different ways to show output as : \"Hello World I am learning Data Science in Innomatics\"**"
   ]
  },
  {
   "cell_type": "code",
   "execution_count": 17,
   "id": "600b26d1",
   "metadata": {},
   "outputs": [
    {
     "name": "stdout",
     "output_type": "stream",
     "text": [
      "enter the name: Innomatics\n",
      "enter the course name :Data Science\n"
     ]
    }
   ],
   "source": [
    "name = input(\"enter the name: \")\n",
    "course = input(\"enter the course name :\")"
   ]
  },
  {
   "cell_type": "code",
   "execution_count": 20,
   "id": "e747f432",
   "metadata": {},
   "outputs": [
    {
     "name": "stdout",
     "output_type": "stream",
     "text": [
      "hello world I am learning Data Science in Innomatics\n"
     ]
    }
   ],
   "source": [
    "print('hello world I am learning '+ course + ' in '+ name )"
   ]
  },
  {
   "cell_type": "code",
   "execution_count": 24,
   "id": "27e976c6",
   "metadata": {},
   "outputs": [
    {
     "name": "stdout",
     "output_type": "stream",
     "text": [
      "hello world I am learning  Data Science in Innomatics \n"
     ]
    }
   ],
   "source": [
    "print('hello world I am learning  {} in {} '.format(course,name))"
   ]
  },
  {
   "cell_type": "code",
   "execution_count": 27,
   "id": "ec38026a",
   "metadata": {},
   "outputs": [
    {
     "name": "stdout",
     "output_type": "stream",
     "text": [
      "hello world I am learning Data Science in  Innomatics\n"
     ]
    }
   ],
   "source": [
    "print(f'hello world I am learning {course} in  {name}')"
   ]
  },
  {
   "cell_type": "code",
   "execution_count": 29,
   "id": "0e4c24f2",
   "metadata": {},
   "outputs": [
    {
     "name": "stdout",
     "output_type": "stream",
     "text": [
      "hello world I am learning Data Science in Innomatics\n"
     ]
    }
   ],
   "source": [
    "print('hello world I am learning',course,'in',name)"
   ]
  },
  {
   "cell_type": "markdown",
   "id": "20a03545",
   "metadata": {},
   "source": [
    "**Replace Science with Analysis in the above output**"
   ]
  },
  {
   "cell_type": "code",
   "execution_count": 30,
   "id": "97c9c257",
   "metadata": {},
   "outputs": [],
   "source": [
    "string = \"Hello world I am learning Data Science in Innomatics\""
   ]
  },
  {
   "cell_type": "code",
   "execution_count": 32,
   "id": "1e7a164a",
   "metadata": {},
   "outputs": [
    {
     "data": {
      "text/plain": [
       "'Hello world I am learning Data Analysis in Innomatics'"
      ]
     },
     "execution_count": 32,
     "metadata": {},
     "output_type": "execute_result"
    }
   ],
   "source": [
    "string.replace('Science','Analysis')"
   ]
  },
  {
   "cell_type": "markdown",
   "id": "ea97221f",
   "metadata": {},
   "source": [
    "string = ' Hello World I am learning Python in Innomatics ' \n",
    "\n",
    "a. **How many characters are there in the string.**\n",
    "\n",
    "b. **Slice only 'Python' from above string.**\n",
    "\n",
    "c.**Remove white spaces on both sides then find no.of characters in the string.**\n",
    "\n",
    "d. **Convert the string in Upper case**"
   ]
  },
  {
   "cell_type": "code",
   "execution_count": 33,
   "id": "1c2c583b",
   "metadata": {},
   "outputs": [],
   "source": [
    "string = ' Hello World I am learning Python in Innomatics '"
   ]
  },
  {
   "cell_type": "code",
   "execution_count": 35,
   "id": "833b28f5",
   "metadata": {},
   "outputs": [
    {
     "data": {
      "text/plain": [
       "48"
      ]
     },
     "execution_count": 35,
     "metadata": {},
     "output_type": "execute_result"
    }
   ],
   "source": [
    "len(string)"
   ]
  },
  {
   "cell_type": "code",
   "execution_count": 37,
   "id": "034f8df2",
   "metadata": {},
   "outputs": [
    {
     "data": {
      "text/plain": [
       "' Python'"
      ]
     },
     "execution_count": 37,
     "metadata": {},
     "output_type": "execute_result"
    }
   ],
   "source": [
    "string[26:33:1]"
   ]
  },
  {
   "cell_type": "code",
   "execution_count": 38,
   "id": "b476cc0a",
   "metadata": {},
   "outputs": [
    {
     "data": {
      "text/plain": [
       "'Hello World I am learning Python in Innomatics'"
      ]
     },
     "execution_count": 38,
     "metadata": {},
     "output_type": "execute_result"
    }
   ],
   "source": [
    "string.strip()"
   ]
  },
  {
   "cell_type": "code",
   "execution_count": 39,
   "id": "2b75ce9b",
   "metadata": {},
   "outputs": [
    {
     "data": {
      "text/plain": [
       "' HELLO WORLD I AM LEARNING PYTHON IN INNOMATICS '"
      ]
     },
     "execution_count": 39,
     "metadata": {},
     "output_type": "execute_result"
    }
   ],
   "source": [
    "string.upper()"
   ]
  },
  {
   "cell_type": "markdown",
   "id": "82787291",
   "metadata": {},
   "source": [
    "**What is the index number of 'World' in above string.**"
   ]
  },
  {
   "cell_type": "code",
   "execution_count": 40,
   "id": "99fa1f98",
   "metadata": {},
   "outputs": [
    {
     "data": {
      "text/plain": [
       "' Hello World I am learning Python in Innomatics '"
      ]
     },
     "execution_count": 40,
     "metadata": {},
     "output_type": "execute_result"
    }
   ],
   "source": [
    "string"
   ]
  },
  {
   "cell_type": "code",
   "execution_count": 45,
   "id": "f856e41d",
   "metadata": {},
   "outputs": [
    {
     "data": {
      "text/plain": [
       "7"
      ]
     },
     "execution_count": 45,
     "metadata": {},
     "output_type": "execute_result"
    }
   ],
   "source": [
    "string.find('World')"
   ]
  },
  {
   "cell_type": "markdown",
   "id": "988653c3",
   "metadata": {},
   "source": [
    "**Split the string with respect to whitespace.after that store that splitted into a variable and find the data typeof that variable.**"
   ]
  },
  {
   "cell_type": "code",
   "execution_count": 47,
   "id": "c74ceb3e",
   "metadata": {},
   "outputs": [
    {
     "data": {
      "text/plain": [
       "' Hello World I am learning Python in Innomatics '"
      ]
     },
     "execution_count": 47,
     "metadata": {},
     "output_type": "execute_result"
    }
   ],
   "source": [
    "string"
   ]
  },
  {
   "cell_type": "code",
   "execution_count": 48,
   "id": "ade4f46d",
   "metadata": {},
   "outputs": [
    {
     "data": {
      "text/plain": [
       "'Hello World I am learning Python in Innomatics'"
      ]
     },
     "execution_count": 48,
     "metadata": {},
     "output_type": "execute_result"
    }
   ],
   "source": [
    "string.strip()"
   ]
  },
  {
   "cell_type": "code",
   "execution_count": 49,
   "id": "9d098bf6",
   "metadata": {},
   "outputs": [],
   "source": [
    "a = string.strip()"
   ]
  },
  {
   "cell_type": "code",
   "execution_count": 50,
   "id": "e1ff0e49",
   "metadata": {},
   "outputs": [
    {
     "name": "stdout",
     "output_type": "stream",
     "text": [
      "Hello World I am learning Python in Innomatics\n"
     ]
    }
   ],
   "source": [
    "print(a)"
   ]
  },
  {
   "cell_type": "code",
   "execution_count": 51,
   "id": "e142fb1e",
   "metadata": {},
   "outputs": [
    {
     "data": {
      "text/plain": [
       "str"
      ]
     },
     "execution_count": 51,
     "metadata": {},
     "output_type": "execute_result"
    }
   ],
   "source": [
    "type(a)"
   ]
  },
  {
   "cell_type": "markdown",
   "id": "5711d59a",
   "metadata": {},
   "source": [
    "**How many times 'a' is repeated in above string.**"
   ]
  },
  {
   "cell_type": "code",
   "execution_count": 52,
   "id": "76062e85",
   "metadata": {},
   "outputs": [
    {
     "data": {
      "text/plain": [
       "3"
      ]
     },
     "execution_count": 52,
     "metadata": {},
     "output_type": "execute_result"
    }
   ],
   "source": [
    "string.count('a')"
   ]
  },
  {
   "cell_type": "code",
   "execution_count": null,
   "id": "504f2869",
   "metadata": {},
   "outputs": [],
   "source": []
  }
 ],
 "metadata": {
  "kernelspec": {
   "display_name": "Python 3 (ipykernel)",
   "language": "python",
   "name": "python3"
  },
  "language_info": {
   "codemirror_mode": {
    "name": "ipython",
    "version": 3
   },
   "file_extension": ".py",
   "mimetype": "text/x-python",
   "name": "python",
   "nbconvert_exporter": "python",
   "pygments_lexer": "ipython3",
   "version": "3.11.4"
  }
 },
 "nbformat": 4,
 "nbformat_minor": 5
}

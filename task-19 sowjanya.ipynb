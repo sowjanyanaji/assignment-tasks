{
 "cells": [
  {
   "cell_type": "markdown",
   "id": "224f8b3b",
   "metadata": {},
   "source": [
    "# Task-19"
   ]
  },
  {
   "cell_type": "markdown",
   "id": "337afd2e",
   "metadata": {},
   "source": [
    "Create a Python script that simulates a simple login system. The script should prompt the user to enter their username and password. If the entered username and password match the predefined credentials, the script should log a successful login event to a log file. If the credentials do not match, it should log a failed login attempt to the log file. Example Output Assuming the predefined credentials are username: \"user123\" and password: \"pass123\", here's an example output of the script:"
   ]
  },
  {
   "cell_type": "code",
   "execution_count": 12,
   "id": "f66064de",
   "metadata": {},
   "outputs": [],
   "source": [
    "import traceback\n",
    "import time"
   ]
  },
  {
   "cell_type": "code",
   "execution_count": 18,
   "id": "f30beaf1",
   "metadata": {},
   "outputs": [
    {
     "name": "stdout",
     "output_type": "stream",
     "text": [
      "Welcome to TASK-19\n",
      "**************************************************\n",
      "enter the user name : user123\n",
      "enter the password: pass123\n",
      "Thanks for using TASK-19\n",
      "**************************************************\n"
     ]
    }
   ],
   "source": [
    "print(\"Welcome to TASK-19\")\n",
    "print(\"*\"*50)\n",
    "username = input(\"enter the user name : \")\n",
    "password = input(\"enter the password: \")\n",
    "try: \n",
    "    def login (username,password):\n",
    "        user_name = \"user123\"\n",
    "        pass_word = \"pass123\"\n",
    "        if (username == user_name) and (password == pass_word):\n",
    "            print(f\"Login successfull for user - {time.ctime()}\")\n",
    "        else:\n",
    "            print(f\"Login failed for user - {time.ctime()}\")\n",
    "        \n",
    "finally:\n",
    "    print(\"Thanks for using TASK-19\")\n",
    "    print(\"*\"*50)\n"
   ]
  },
  {
   "cell_type": "code",
   "execution_count": 51,
   "id": "1bc445d2",
   "metadata": {},
   "outputs": [
    {
     "name": "stdout",
     "output_type": "stream",
     "text": [
      "Login successfull for user - Sat Sep 30 15:00:26 2023\n"
     ]
    }
   ],
   "source": [
    "login(username,password)"
   ]
  },
  {
   "cell_type": "markdown",
   "id": "697534ca",
   "metadata": {},
   "source": [
    "# Restaurants"
   ]
  },
  {
   "cell_type": "code",
   "execution_count": 27,
   "id": "03e58a1f",
   "metadata": {},
   "outputs": [],
   "source": [
    "import restaurant as e"
   ]
  },
  {
   "cell_type": "code",
   "execution_count": 28,
   "id": "82ce11fd",
   "metadata": {},
   "outputs": [
    {
     "name": "stdout",
     "output_type": "stream",
     "text": [
      "Ghee Idli\n",
      "Butter-panner Dosa\n",
      "Pizza Dosa\n",
      "Tawa Bonda\n"
     ]
    }
   ],
   "source": [
    "e.Breakfast()"
   ]
  },
  {
   "cell_type": "code",
   "execution_count": 29,
   "id": "9affbd81",
   "metadata": {},
   "outputs": [
    {
     "name": "stdout",
     "output_type": "stream",
     "text": [
      "Dum-Biryani\n",
      "Butter-naan with Kadai panner\n",
      "Raagi-mudha with customized curry\n"
     ]
    }
   ],
   "source": [
    "e.lunch()"
   ]
  },
  {
   "cell_type": "code",
   "execution_count": 30,
   "id": "92b662ee",
   "metadata": {},
   "outputs": [
    {
     "name": "stdout",
     "output_type": "stream",
     "text": [
      "Ginger tea\n",
      "Lemon tea\n",
      "Irani tea\n",
      "cookies\n"
     ]
    }
   ],
   "source": [
    "e.evenings()"
   ]
  },
  {
   "cell_type": "markdown",
   "id": "68e60074",
   "metadata": {},
   "source": [
    "# India"
   ]
  },
  {
   "cell_type": "code",
   "execution_count": 31,
   "id": "d58ad9d7",
   "metadata": {},
   "outputs": [
    {
     "name": "stdout",
     "output_type": "stream",
     "text": [
      "Kerala\n",
      "Kashmir\n",
      "coorg\n"
     ]
    }
   ],
   "source": [
    "e.India()"
   ]
  },
  {
   "cell_type": "code",
   "execution_count": 35,
   "id": "641a46ad",
   "metadata": {},
   "outputs": [
    {
     "name": "stdout",
     "output_type": "stream",
     "text": [
      "Allepey\n",
      "Munnar\n",
      "Wayanand\n"
     ]
    }
   ],
   "source": [
    "e.kerala()"
   ]
  },
  {
   "cell_type": "code",
   "execution_count": 36,
   "id": "734ef013",
   "metadata": {},
   "outputs": [
    {
     "name": "stdout",
     "output_type": "stream",
     "text": [
      "shankaryacharya hill\n",
      "Dal lake\n",
      "Nigeen lake\n"
     ]
    }
   ],
   "source": [
    "e.kashmir()"
   ]
  },
  {
   "cell_type": "code",
   "execution_count": 38,
   "id": "fda1a070",
   "metadata": {},
   "outputs": [
    {
     "name": "stdout",
     "output_type": "stream",
     "text": [
      "Abbey falls\n",
      "chiklihole reservoir\n",
      "Harangi Dam\n"
     ]
    }
   ],
   "source": [
    "e.coorg()"
   ]
  },
  {
   "cell_type": "markdown",
   "id": "8cb82790",
   "metadata": {},
   "source": [
    "# Datascience"
   ]
  },
  {
   "cell_type": "code",
   "execution_count": 40,
   "id": "404a6cc2",
   "metadata": {},
   "outputs": [
    {
     "name": "stdout",
     "output_type": "stream",
     "text": [
      "Python\n",
      "R\n",
      "statistics\n"
     ]
    }
   ],
   "source": [
    "e.datascience()"
   ]
  },
  {
   "cell_type": "markdown",
   "id": "e646d27f",
   "metadata": {},
   "source": [
    "# shopping mall"
   ]
  },
  {
   "cell_type": "code",
   "execution_count": 41,
   "id": "a3c6bedd",
   "metadata": {},
   "outputs": [
    {
     "name": "stdout",
     "output_type": "stream",
     "text": [
      "foodzone\n",
      "clothing brand\n",
      "Theatre\n"
     ]
    }
   ],
   "source": [
    "e.shoppingmall()"
   ]
  },
  {
   "cell_type": "code",
   "execution_count": 42,
   "id": "9858942b",
   "metadata": {},
   "outputs": [
    {
     "name": "stdout",
     "output_type": "stream",
     "text": [
      "creamstone\n",
      "dominoz\n",
      "Mcd\n"
     ]
    }
   ],
   "source": [
    "e.foodzone()"
   ]
  },
  {
   "cell_type": "code",
   "execution_count": 43,
   "id": "3c094d9f",
   "metadata": {},
   "outputs": [
    {
     "name": "stdout",
     "output_type": "stream",
     "text": [
      "H & M\n",
      "Us polo\n",
      "Biba\n"
     ]
    }
   ],
   "source": [
    "e.clothingbrand()"
   ]
  },
  {
   "cell_type": "code",
   "execution_count": 44,
   "id": "967f6908",
   "metadata": {},
   "outputs": [
    {
     "name": "stdout",
     "output_type": "stream",
     "text": [
      "chandramukhi-2\n",
      "skanda\n",
      "Pedha kapu\n"
     ]
    }
   ],
   "source": [
    "e.Theatre()"
   ]
  },
  {
   "cell_type": "markdown",
   "id": "92c23189",
   "metadata": {},
   "source": [
    "# Maths"
   ]
  },
  {
   "cell_type": "code",
   "execution_count": 45,
   "id": "19175f17",
   "metadata": {},
   "outputs": [
    {
     "name": "stdout",
     "output_type": "stream",
     "text": [
      "addition\n",
      "subraction\n",
      "multiplication\n",
      "div\n"
     ]
    }
   ],
   "source": [
    "e.maths()"
   ]
  },
  {
   "cell_type": "code",
   "execution_count": 47,
   "id": "9d32cf3c",
   "metadata": {},
   "outputs": [
    {
     "data": {
      "text/plain": [
       "7"
      ]
     },
     "execution_count": 47,
     "metadata": {},
     "output_type": "execute_result"
    }
   ],
   "source": [
    "e.addition(3,4)"
   ]
  },
  {
   "cell_type": "code",
   "execution_count": 48,
   "id": "17d61434",
   "metadata": {},
   "outputs": [
    {
     "data": {
      "text/plain": [
       "2"
      ]
     },
     "execution_count": 48,
     "metadata": {},
     "output_type": "execute_result"
    }
   ],
   "source": [
    "e.subraction(4,2)"
   ]
  },
  {
   "cell_type": "code",
   "execution_count": 49,
   "id": "8176d541",
   "metadata": {},
   "outputs": [
    {
     "data": {
      "text/plain": [
       "21"
      ]
     },
     "execution_count": 49,
     "metadata": {},
     "output_type": "execute_result"
    }
   ],
   "source": [
    "e.multiplication(7,3)"
   ]
  },
  {
   "cell_type": "code",
   "execution_count": 50,
   "id": "61ed7065",
   "metadata": {},
   "outputs": [
    {
     "data": {
      "text/plain": [
       "2.0"
      ]
     },
     "execution_count": 50,
     "metadata": {},
     "output_type": "execute_result"
    }
   ],
   "source": [
    "e.div(4,2)"
   ]
  },
  {
   "cell_type": "code",
   "execution_count": null,
   "id": "df95aa00",
   "metadata": {},
   "outputs": [],
   "source": []
  }
 ],
 "metadata": {
  "kernelspec": {
   "display_name": "Python 3 (ipykernel)",
   "language": "python",
   "name": "python3"
  },
  "language_info": {
   "codemirror_mode": {
    "name": "ipython",
    "version": 3
   },
   "file_extension": ".py",
   "mimetype": "text/x-python",
   "name": "python",
   "nbconvert_exporter": "python",
   "pygments_lexer": "ipython3",
   "version": "3.11.4"
  }
 },
 "nbformat": 4,
 "nbformat_minor": 5
}

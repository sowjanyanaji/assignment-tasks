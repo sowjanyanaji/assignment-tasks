{
 "cells": [
  {
   "cell_type": "markdown",
   "id": "c578985b",
   "metadata": {},
   "source": [
    "# class task"
   ]
  },
  {
   "cell_type": "markdown",
   "id": "c32485cf",
   "metadata": {},
   "source": [
    "### create a dictinary atleast five elements and with their prices."
   ]
  },
  {
   "cell_type": "code",
   "execution_count": 1,
   "id": "8945aeec",
   "metadata": {},
   "outputs": [],
   "source": [
    "basket = {\"orange\":8,\"apple\":15,\"Papaya\":20,\"Promogranite\":30,\"Guava\":25}"
   ]
  },
  {
   "cell_type": "markdown",
   "id": "35722e36",
   "metadata": {},
   "source": [
    "### what are the fruits available in the basket"
   ]
  },
  {
   "cell_type": "code",
   "execution_count": 2,
   "id": "41f55239",
   "metadata": {},
   "outputs": [
    {
     "data": {
      "text/plain": [
       "dict_keys(['orange', 'apple', 'Papaya', 'Promogranite', 'Guava'])"
      ]
     },
     "execution_count": 2,
     "metadata": {},
     "output_type": "execute_result"
    }
   ],
   "source": [
    "basket.keys()  #available fruits"
   ]
  },
  {
   "cell_type": "markdown",
   "id": "87c58d33",
   "metadata": {},
   "source": [
    "### write a program to know the price if i purchase 3 apples and 2 oranges"
   ]
  },
  {
   "cell_type": "code",
   "execution_count": 9,
   "id": "74e6b053",
   "metadata": {},
   "outputs": [
    {
     "name": "stdout",
     "output_type": "stream",
     "text": [
      "enter number of orange fruits taken : 2\n",
      "enter number of apple fruits taken: 3\n",
      "enter number of Papaya fruits taken: 0\n",
      "enter number of Promogranite fruits taken: 0\n",
      "enter number of Guava fruits taken: 0\n",
      "16\n",
      "45\n",
      "0\n",
      "0\n",
      "0\n"
     ]
    }
   ],
   "source": [
    "o=int(input(\"enter number of orange fruits taken : \"))\n",
    "a=int(input(\"enter number of apple fruits taken: \"))\n",
    "pa=int(input(\"enter number of Papaya fruits taken: \"))\n",
    "pr=int(input(\"enter number of Promogranite fruits taken: \"))\n",
    "g=int(input(\"enter number of Guava fruits taken: \"))\n",
    "for i in basket:\n",
    "    if(i==\"orange\"):\n",
    "        print(basket.get(\"orange\")*o)\n",
    "    elif(i==\"apple\"):\n",
    "        print(basket.get(\"apple\")*a)\n",
    "    elif(i==\"Papaya\"):\n",
    "        print(basket.get(\"Papaya\")*pa)\n",
    "    elif(i==\"Promogranite\"):\n",
    "        print(basket.get(\"Promogranite\")*pr)\n",
    "    elif(i==\"Guava\"):\n",
    "        print(basket.get(\"Guava\")*g)\n",
    "    else:\n",
    "        print(\"enter valid number of fruits\")"
   ]
  },
  {
   "cell_type": "markdown",
   "id": "4fa03db0",
   "metadata": {},
   "source": [
    "### add *fruit* for every available fruit"
   ]
  },
  {
   "cell_type": "code",
   "execution_count": 11,
   "id": "00596558",
   "metadata": {},
   "outputs": [
    {
     "data": {
      "text/plain": [
       "dict_items([('orange', 8), ('apple', 15), ('Papaya', 20), ('Promogranite', 30), ('Guava', 25)])"
      ]
     },
     "execution_count": 11,
     "metadata": {},
     "output_type": "execute_result"
    }
   ],
   "source": [
    "basket.items()"
   ]
  },
  {
   "cell_type": "code",
   "execution_count": 23,
   "id": "e427dc7c",
   "metadata": {},
   "outputs": [
    {
     "name": "stdout",
     "output_type": "stream",
     "text": [
      "orange fruit\n",
      "apple fruit\n",
      "Papaya fruit\n",
      "Promogranite fruit\n",
      "Guava fruit\n"
     ]
    }
   ],
   "source": [
    "for i in basket:\n",
    "    print(i + \" fruit\")\n",
    "    "
   ]
  },
  {
   "cell_type": "markdown",
   "id": "6f15ea15",
   "metadata": {},
   "source": [
    "### find the average price of fruits."
   ]
  },
  {
   "cell_type": "code",
   "execution_count": 24,
   "id": "0dbaf7fe",
   "metadata": {},
   "outputs": [
    {
     "data": {
      "text/plain": [
       "dict_values([8, 15, 20, 30, 25])"
      ]
     },
     "execution_count": 24,
     "metadata": {},
     "output_type": "execute_result"
    }
   ],
   "source": [
    "basket.values()"
   ]
  },
  {
   "cell_type": "code",
   "execution_count": 25,
   "id": "a60276c3",
   "metadata": {},
   "outputs": [],
   "source": [
    "total = sum(basket.values())"
   ]
  },
  {
   "cell_type": "code",
   "execution_count": 26,
   "id": "81082946",
   "metadata": {},
   "outputs": [
    {
     "data": {
      "text/plain": [
       "5"
      ]
     },
     "execution_count": 26,
     "metadata": {},
     "output_type": "execute_result"
    }
   ],
   "source": [
    "len(basket.values())"
   ]
  },
  {
   "cell_type": "code",
   "execution_count": 27,
   "id": "6223a492",
   "metadata": {},
   "outputs": [],
   "source": [
    "avg = total/len(basket.values())"
   ]
  },
  {
   "cell_type": "code",
   "execution_count": 28,
   "id": "a7e4661c",
   "metadata": {},
   "outputs": [
    {
     "data": {
      "text/plain": [
       "19.6"
      ]
     },
     "execution_count": 28,
     "metadata": {},
     "output_type": "execute_result"
    }
   ],
   "source": [
    "avg"
   ]
  },
  {
   "cell_type": "markdown",
   "id": "5fcb1700",
   "metadata": {},
   "source": [
    "### which fruit is containing less than 5 characters."
   ]
  },
  {
   "cell_type": "code",
   "execution_count": 3,
   "id": "4328748f",
   "metadata": {},
   "outputs": [],
   "source": [
    "basket = {\"orange\":8,\"apple\":15,\"Papaya\":20,\"Promogranite\":30,\"bery\":25}"
   ]
  },
  {
   "cell_type": "code",
   "execution_count": 7,
   "id": "826bb0d6",
   "metadata": {},
   "outputs": [
    {
     "name": "stdout",
     "output_type": "stream",
     "text": [
      "bery\n"
     ]
    }
   ],
   "source": [
    "for i in basket.keys():\n",
    "    if len(i)<5:\n",
    "        print(i)"
   ]
  },
  {
   "cell_type": "code",
   "execution_count": null,
   "id": "00d2194d",
   "metadata": {},
   "outputs": [],
   "source": []
  }
 ],
 "metadata": {
  "kernelspec": {
   "display_name": "Python 3 (ipykernel)",
   "language": "python",
   "name": "python3"
  },
  "language_info": {
   "codemirror_mode": {
    "name": "ipython",
    "version": 3
   },
   "file_extension": ".py",
   "mimetype": "text/x-python",
   "name": "python",
   "nbconvert_exporter": "python",
   "pygments_lexer": "ipython3",
   "version": "3.11.4"
  }
 },
 "nbformat": 4,
 "nbformat_minor": 5
}

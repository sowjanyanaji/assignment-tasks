{
 "cells": [
  {
   "cell_type": "markdown",
   "id": "70f8edc1",
   "metadata": {},
   "source": [
    "\n"
   ]
  },
  {
   "cell_type": "markdown",
   "id": "94f185cd",
   "metadata": {},
   "source": [
    "# Task 1"
   ]
  },
  {
   "cell_type": "markdown",
   "id": "c24bd7a3",
   "metadata": {},
   "source": [
    "a. **Correct wrong statements about python features**"
   ]
  },
  {
   "cell_type": "code",
   "execution_count": 50,
   "id": "aff05ed4",
   "metadata": {},
   "outputs": [],
   "source": [
    "file = open(\"about_python.txt\",\"r\")"
   ]
  },
  {
   "cell_type": "code",
   "execution_count": 51,
   "id": "5f365daa",
   "metadata": {},
   "outputs": [],
   "source": [
    "replaced_val = file.read()"
   ]
  },
  {
   "cell_type": "code",
   "execution_count": 52,
   "id": "8ffc01e3",
   "metadata": {},
   "outputs": [],
   "source": [
    "replaced_val = replaced_val.replace(\"compiled\",\"Interpreted\")\n",
    "replaced_val = replaced_val.replace(\"paid\",\"free\")\n",
    "replaced_val = replaced_val.replace(\"statically\",\"Dynamic\")\n",
    "replaced_val = replaced_val.replace(\"double\",\"Single, double and triple\")\n",
    "replaced_val = replaced_val.replace(\"web development\",\"data analysis and data visualization\")\n",
    "replaced_val = replaced_val.replace('Elon Musk','Guido van Rossum')"
   ]
  },
  {
   "cell_type": "markdown",
   "id": "a5b55142",
   "metadata": {},
   "source": [
    "d. **after correcting all ..print complete valid features of the python**"
   ]
  },
  {
   "cell_type": "code",
   "execution_count": 53,
   "id": "85686163",
   "metadata": {},
   "outputs": [
    {
     "name": "stdout",
     "output_type": "stream",
     "text": [
      "Python supports object-oriented programming (OOP) concepts.\n",
      "Python is a Interpreted language.\n",
      "Python has a rich ecosystem of third-party libraries.\n",
      "Python is a free programming language\n",
      "Python uses indentation for code block structuring.\n",
      "Python is Dynamic Typed Language\n",
      "Python only supports Single, double and triple quotes for string literals.\n",
      "Python can only be used for data analysis and data visualization.\n",
      "Python was created by Guido van Rossum.\n"
     ]
    }
   ],
   "source": [
    "print(replaced_val)"
   ]
  },
  {
   "cell_type": "code",
   "execution_count": 54,
   "id": "103b2a18",
   "metadata": {},
   "outputs": [],
   "source": [
    "file.close()"
   ]
  },
  {
   "cell_type": "markdown",
   "id": "1251ebb5",
   "metadata": {},
   "source": [
    "b. **How many charactaers present in the data**"
   ]
  },
  {
   "cell_type": "code",
   "execution_count": 55,
   "id": "54cd7f1f",
   "metadata": {},
   "outputs": [
    {
     "data": {
      "text/plain": [
       "451"
      ]
     },
     "execution_count": 55,
     "metadata": {},
     "output_type": "execute_result"
    }
   ],
   "source": [
    "len(replaced_val)"
   ]
  },
  {
   "cell_type": "code",
   "execution_count": 56,
   "id": "e77c7d08",
   "metadata": {},
   "outputs": [
    {
     "data": {
      "text/plain": [
       "4"
      ]
     },
     "execution_count": 56,
     "metadata": {},
     "output_type": "execute_result"
    }
   ],
   "source": [
    "len(\"data\")"
   ]
  },
  {
   "cell_type": "markdown",
   "id": "f40b0c8c",
   "metadata": {},
   "source": [
    " c. **How many times 'Python' word is repeated.** "
   ]
  },
  {
   "cell_type": "code",
   "execution_count": 58,
   "id": "bcc67de1",
   "metadata": {},
   "outputs": [
    {
     "data": {
      "text/plain": [
       "9"
      ]
     },
     "execution_count": 58,
     "metadata": {},
     "output_type": "execute_result"
    }
   ],
   "source": [
    "replaced_val.count(\"Python\")"
   ]
  },
  {
   "cell_type": "markdown",
   "id": "9ba1d14c",
   "metadata": {},
   "source": [
    "# Task 2"
   ]
  },
  {
   "cell_type": "markdown",
   "id": "a4d7ef83",
   "metadata": {},
   "source": [
    "\n",
    "**Create a file 'File.txt'which expalains python file handling whatever you have learnt today(creating,reading,wring and appending...etc) in detail.That reaload the saved file(i.e File.txt) to jupyter notebook.**"
   ]
  },
  {
   "cell_type": "code",
   "execution_count": 97,
   "id": "ebf912a9",
   "metadata": {},
   "outputs": [],
   "source": [
    "f = open(\"File.txt\",'w')"
   ]
  },
  {
   "cell_type": "code",
   "execution_count": 98,
   "id": "1549ecb6",
   "metadata": {},
   "outputs": [
    {
     "data": {
      "text/plain": [
       "794"
      ]
     },
     "execution_count": 98,
     "metadata": {},
     "output_type": "execute_result"
    }
   ],
   "source": [
    "f.write(\"FILE HANDLING \\n1) def :file handling refers to how we store the data in a file with help of a program \\n2)files are treated in two modes as text or binary\\n3)main purpose file handling is to convert unstructured into structured\\n4)we can open file (text)by file path and file names)\\n5)we use backslash and r string to copy the path\\n6)if we want to open based on file name\\n7)we have to check the saved file and make sure it's in the same working directory\\n8)#to know on which directory we are working we use\\n import os \\n os.getcwd()\\n9)READING TEXT : mode = r\\n10)(f.read())   #entire text in the file\\n11)f.readline()     #access line by line\\n12)by default readlines,readline takes -1 that is las value\\n14)To change the directory cursor, we can use seek\\n15)f.seek(1)  #it changes the cursor position\\n\")"
   ]
  },
  {
   "cell_type": "code",
   "execution_count": 99,
   "id": "37bd3be5",
   "metadata": {},
   "outputs": [],
   "source": [
    "f.close()"
   ]
  },
  {
   "cell_type": "code",
   "execution_count": 100,
   "id": "8c4eeee4",
   "metadata": {},
   "outputs": [],
   "source": [
    "f= open(\"File.txt\",'r')"
   ]
  },
  {
   "cell_type": "code",
   "execution_count": 101,
   "id": "c9d9c342",
   "metadata": {},
   "outputs": [],
   "source": [
    "a= f.read()"
   ]
  },
  {
   "cell_type": "code",
   "execution_count": 102,
   "id": "b355596b",
   "metadata": {},
   "outputs": [
    {
     "name": "stdout",
     "output_type": "stream",
     "text": [
      "FILE HANDLING \n",
      "1) def :file handling refers to how we store the data in a file with help of a program \n",
      "2)files are treated in two modes as text or binary\n",
      "3)main purpose file handling is to convert unstructured into structured\n",
      "4)we can open file (text)by file path and file names)\n",
      "5)we use backslash and r string to copy the path\n",
      "6)if we want to open based on file name\n",
      "7)we have to check the saved file and make sure it's in the same working directory\n",
      "8)#to know on which directory we are working we use\n",
      " import os \n",
      " os.getcwd()\n",
      "9)READING TEXT : mode = r\n",
      "10)(f.read())   #entire text in the file\n",
      "11)f.readline()     #access line by line\n",
      "12)by default readlines,readline takes -1 that is las value\n",
      "14)To change the directory cursor, we can use seek\n",
      "15)f.seek(1)  #it changes the cursor position\n",
      "\n"
     ]
    }
   ],
   "source": [
    "print(a)"
   ]
  },
  {
   "cell_type": "code",
   "execution_count": 103,
   "id": "ec106e4b",
   "metadata": {},
   "outputs": [],
   "source": [
    "f = open(\"File.txt\",'a')        #append\n",
    "f.writelines([\"\\n16)Append : as writing overwrites the existing one, to avoid that we use append\\n17)creating a file\\n ->it creates new file but if that file is already existed then it throws an error 'fileexistederror'\\n18)readlines and writelines will be in a list format \"])\n",
    "f.close()"
   ]
  },
  {
   "cell_type": "code",
   "execution_count": 104,
   "id": "e261e886",
   "metadata": {},
   "outputs": [
    {
     "name": "stdout",
     "output_type": "stream",
     "text": [
      "FILE HANDLING \n",
      "1) def :file handling refers to how we store the data in a file with help of a program \n",
      "2)files are treated in two modes as text or binary\n",
      "3)main purpose file handling is to convert unstructured into structured\n",
      "4)we can open file (text)by file path and file names)\n",
      "5)we use backslash and r string to copy the path\n",
      "6)if we want to open based on file name\n",
      "7)we have to check the saved file and make sure it's in the same working directory\n",
      "8)#to know on which directory we are working we use\n",
      " import os \n",
      " os.getcwd()\n",
      "9)READING TEXT : mode = r\n",
      "10)(f.read())   #entire text in the file\n",
      "11)f.readline()     #access line by line\n",
      "12)by default readlines,readline takes -1 that is las value\n",
      "14)To change the directory cursor, we can use seek\n",
      "15)f.seek(1)  #it changes the cursor position\n",
      "\n",
      "16)Append : as writing overwrites the existing one, to avoid that we use append\n",
      "17)creating a file\n",
      " ->it creates new file but if that file is already existed then it throws an error 'fileexistederror'\n",
      "18)readlines and writelines will be in a list format \n"
     ]
    }
   ],
   "source": [
    "f = open(\"File.txt\",'r')          \n",
    "print(f.read())"
   ]
  },
  {
   "cell_type": "code",
   "execution_count": null,
   "id": "f8627c8b",
   "metadata": {},
   "outputs": [],
   "source": []
  }
 ],
 "metadata": {
  "kernelspec": {
   "display_name": "Python 3 (ipykernel)",
   "language": "python",
   "name": "python3"
  },
  "language_info": {
   "codemirror_mode": {
    "name": "ipython",
    "version": 3
   },
   "file_extension": ".py",
   "mimetype": "text/x-python",
   "name": "python",
   "nbconvert_exporter": "python",
   "pygments_lexer": "ipython3",
   "version": "3.11.4"
  }
 },
 "nbformat": 4,
 "nbformat_minor": 5
}

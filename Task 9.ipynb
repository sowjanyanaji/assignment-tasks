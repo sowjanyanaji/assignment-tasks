{
 "cells": [
  {
   "cell_type": "markdown",
   "id": "dd8718fa",
   "metadata": {},
   "source": [
    "\n",
    "\n",
    "1. **Print Numbers from 1 to N:**\n",
    "   Write a Python program that uses a for loop to print all numbers from `1 to N` and `substract 5 `from each number.where N is a `positive integer` entered by the user.\n",
    "\n",
    "2. **Calculate the Sum of Numbers from 1 to N:**\n",
    "   Write a Python program that calculates and prints the `sum` of all numbers from `1 to N`, where N is a `positive integer` entered by the user, using a for loop.\n",
    "\n",
    "3. **Print Even Numbers:**\n",
    "   Write a Python program that prints all `even numbers` from `50 to 100` using a `for` loop.\n",
    "\n",
    "4. **Reverse a String:**\n",
    "   Write a Python program that takes a string as input and uses a `for loop` to print the characters of the string in `reverse order`.\n",
    "\n",
    "5. **Count Vowels in a String:**\n",
    "    `name = \"innomatics research labs\"`\n",
    "   Write a Python program uses a for loop to count the number of vowels (a, e, i, o, u) in the string. Ignore case sensitivity.\n",
    "\n",
    "6. **Generate a Multiplication Table:**\n",
    "   Write a Python program that generates and prints the multiplication table for  6.\n"
   ]
  },
  {
   "cell_type": "code",
   "execution_count": null,
   "id": "2531363c",
   "metadata": {},
   "outputs": [],
   "source": []
  }
 ],
 "metadata": {
  "kernelspec": {
   "display_name": "Python 3 (ipykernel)",
   "language": "python",
   "name": "python3"
  },
  "language_info": {
   "codemirror_mode": {
    "name": "ipython",
    "version": 3
   },
   "file_extension": ".py",
   "mimetype": "text/x-python",
   "name": "python",
   "nbconvert_exporter": "python",
   "pygments_lexer": "ipython3",
   "version": "3.11.4"
  }
 },
 "nbformat": 4,
 "nbformat_minor": 5
}

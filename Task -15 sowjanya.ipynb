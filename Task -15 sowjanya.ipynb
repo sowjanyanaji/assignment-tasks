{
 "cells": [
  {
   "cell_type": "markdown",
   "id": "88102e2e",
   "metadata": {},
   "source": [
    "Task 1: Leap Year Checker\n",
    "\n",
    "Write a program that takes a year as input and determines whether it is a leap year or not. A leap year is a year that is divisible by 4, but not divisible by 100, unless it is also divisible by 400. Display an appropriate message indicating whether the year is a leap year or not.\n",
    "\n",
    "Task 2: Grade Calculator\n",
    "\n",
    "Write a program that takes a student's score as input (out of 100) and determines their grade based on the following conditions: If the score is 90 or above, the grade is 'A'. If the score is between 80 and 89, the grade is 'B'. If the score is between 70 and 79, the grade is 'C'. If the score is between 60 and 69, the grade is 'D'. If the score is below 60, the grade is 'F'. Display the grade corresponding to the entered score.\n",
    "\n",
    "Task 3: Calculator Write a program that takes two numbers as input and performs a mathematical operation (+, -, *, /) based on the user's choice. Use a conditional statement to determine the operation to be performed. Display the result of the calculation.\n",
    "\n",
    "Task 4: Reverse String Write a Python function to reverse a string.\n",
    "\n",
    "Task 5: Palindrome Write a Python function that checks whether a passed string is a palindrome or not.\n",
    "\n",
    "Task 6: Counting Write a Python function that accepts a string and counts the number of upper and lower case letters."
   ]
  },
  {
   "cell_type": "markdown",
   "id": "fe7b6c02",
   "metadata": {},
   "source": [
    "# Task 1: Leap Year Checker\n"
   ]
  },
  {
   "cell_type": "code",
   "execution_count": 33,
   "id": "7a727283",
   "metadata": {},
   "outputs": [
    {
     "name": "stdout",
     "output_type": "stream",
     "text": [
      "enter the year : 1997\n",
      "it is not a leap year\n"
     ]
    }
   ],
   "source": [
    "year = int(input(\"enter the year : \"))               #using if and else\n",
    "if (year%4==0 and year%100 != 0 )or (year%100==0 and year%400==0):\n",
    "    print(\"it is a leap year\")\n",
    "else:\n",
    "    print(\"it is not a leap year\")"
   ]
  },
  {
   "cell_type": "code",
   "execution_count": 34,
   "id": "810e7ca0",
   "metadata": {},
   "outputs": [
    {
     "data": {
      "text/plain": [
       "[1992, 1996, 2000]"
      ]
     },
     "execution_count": 34,
     "metadata": {},
     "output_type": "execute_result"
    }
   ],
   "source": [
    " [i  for i in range(1990,2001) if (i%4==0 and i%100 != 0) or (i%100==0 and i%400==0)]    #using list comprehension\n",
    "    "
   ]
  },
  {
   "cell_type": "code",
   "execution_count": 35,
   "id": "6145c4b2",
   "metadata": {},
   "outputs": [
    {
     "name": "stdout",
     "output_type": "stream",
     "text": [
      "Enter your year:: 1994\n",
      "it is not a leap year\n"
     ]
    }
   ],
   "source": [
    "year = int(input(\"Enter your year:: \"))                        #using nested if and elif \n",
    "\n",
    "if (year%100==0 ) :\n",
    "\n",
    "     if (year%400==0):\n",
    "        print(\"it is a leap year\")\n",
    "elif (year%4==0 and year%100 != 0):\n",
    "    print(\"it's a leap year\")\n",
    "\n",
    "else:\n",
    "    print(\"it is not a leap year\")"
   ]
  },
  {
   "cell_type": "code",
   "execution_count": 36,
   "id": "808c10b5",
   "metadata": {},
   "outputs": [
    {
     "name": "stdout",
     "output_type": "stream",
     "text": [
      "1992 it is a leap year\n",
      "1996 it is a leap year\n",
      "2000 it is a leap year\n"
     ]
    }
   ],
   "source": [
    "for year in range(1990,2001):                           #using while loop\n",
    "    while year :\n",
    "        if(year%100==0)and (year%400==0) or (year%4==0 and year%100 != 0):\n",
    "            print(f\"{year} it is a leap year\")\n",
    "        year = year + 1\n",
    "        year == 2001\n",
    "        break"
   ]
  },
  {
   "cell_type": "code",
   "execution_count": 40,
   "id": "fa732f82",
   "metadata": {},
   "outputs": [
    {
     "name": "stdout",
     "output_type": "stream",
     "text": [
      "enter the year : 1996\n"
     ]
    }
   ],
   "source": [
    "year= int(input(\"enter the year : \"))                    #using function\n",
    "def years(year):\n",
    "        if (year%100==0)and (year%400==0) or (year%4==0 and year%100 != 0):\n",
    "            print(\"it is a leap year\")"
   ]
  },
  {
   "cell_type": "code",
   "execution_count": 41,
   "id": "ab5cdc7c",
   "metadata": {},
   "outputs": [
    {
     "name": "stdout",
     "output_type": "stream",
     "text": [
      "it is a leap year\n"
     ]
    }
   ],
   "source": [
    "years(year)"
   ]
  },
  {
   "cell_type": "code",
   "execution_count": 37,
   "id": "d61c901e",
   "metadata": {},
   "outputs": [],
   "source": [
    "c = lambda year : \"leap year\" if (year%100==0) and (year%400==0) or (year%4==0 and year%100 != 0) else (\"it is not a leap year\")"
   ]
  },
  {
   "cell_type": "code",
   "execution_count": 38,
   "id": "cae228e5",
   "metadata": {},
   "outputs": [
    {
     "data": {
      "text/plain": [
       "'it is not a leap year'"
      ]
     },
     "execution_count": 38,
     "metadata": {},
     "output_type": "execute_result"
    }
   ],
   "source": [
    "c(1997)                                                #using lambda"
   ]
  },
  {
   "cell_type": "code",
   "execution_count": 65,
   "id": "cafc2134",
   "metadata": {},
   "outputs": [],
   "source": [
    "values = list(range(1990,2001))            #using map function"
   ]
  },
  {
   "cell_type": "code",
   "execution_count": 66,
   "id": "36ab4d8e",
   "metadata": {},
   "outputs": [],
   "source": [
    "def years(year):\n",
    "        if (year%100==0)and (year%400==0) or (year%4==0 and year%100 != 0):\n",
    "            return(f\"{year} : it is a leap year\")\n",
    "        else:\n",
    "            return(f\"{year} : it is not a leap year\")"
   ]
  },
  {
   "cell_type": "code",
   "execution_count": 60,
   "id": "aa737d36",
   "metadata": {},
   "outputs": [
    {
     "data": {
      "text/plain": [
       "['1990 : it is not a leap year',\n",
       " '1991 : it is not a leap year',\n",
       " '1992 : it is a leap year',\n",
       " '1993 : it is not a leap year',\n",
       " '1994 : it is not a leap year',\n",
       " '1995 : it is not a leap year',\n",
       " '1996 : it is a leap year',\n",
       " '1997 : it is not a leap year',\n",
       " '1998 : it is not a leap year',\n",
       " '1999 : it is not a leap year',\n",
       " '2000 : it is a leap year']"
      ]
     },
     "execution_count": 60,
     "metadata": {},
     "output_type": "execute_result"
    }
   ],
   "source": [
    "list(map(years,values))"
   ]
  },
  {
   "cell_type": "code",
   "execution_count": 89,
   "id": "11e27d73",
   "metadata": {},
   "outputs": [],
   "source": [
    "def years(year):\n",
    "        if (year%100==0)and (year%400==0) or (year%4==0 and year%100 != 0):     #using filter function\n",
    "            print(f\"{year} : it is a leap year\")"
   ]
  },
  {
   "cell_type": "code",
   "execution_count": 88,
   "id": "493fb374",
   "metadata": {},
   "outputs": [
    {
     "name": "stdout",
     "output_type": "stream",
     "text": [
      "1992 : it is a leap year\n",
      "1996 : it is a leap year\n",
      "2000 : it is a leap year\n"
     ]
    }
   ],
   "source": [
    " c = list(filter(years,values))"
   ]
  },
  {
   "cell_type": "markdown",
   "id": "e1055007",
   "metadata": {},
   "source": [
    "# Task 2: Grade Calculator"
   ]
  },
  {
   "cell_type": "markdown",
   "id": "33c4e9b5",
   "metadata": {},
   "source": [
    "Write a program that takes a student's score as input (out of 100) and determines their grade based on the following conditions: If the score is 90 or above, the grade is 'A'. If the score is between 80 and 89, the grade is 'B'. If the score is between 70 and 79, the grade is 'C'. If the score is between 60 and 69, the grade is 'D'. If the score is below 60, the grade is 'F'. Display the grade corresponding to the entered score."
   ]
  },
  {
   "cell_type": "code",
   "execution_count": 90,
   "id": "c5f72a5f",
   "metadata": {},
   "outputs": [
    {
     "name": "stdout",
     "output_type": "stream",
     "text": [
      "enter the score : 78\n"
     ]
    }
   ],
   "source": [
    "n = int(input(\"enter the score : \"))        #using normal function\n",
    "def score(n):\n",
    "    if n > 90:\n",
    "        print(\"The grade : A \")\n",
    "    elif (n >=80 and n <= 89) :\n",
    "        print(\" The grade is B \")\n",
    "    elif ( n >= 70 and n <= 79) :\n",
    "        print(\" The grade is C \")\n",
    "    elif (n >= 60 and n <= 69) :\n",
    "        print(\"The grade is D \")\n",
    "    elif (n > 100 or n < 0) :\n",
    "        print(\"Enter a valid marks\")\n",
    "    else :\n",
    "        print(\"Fail\")\n"
   ]
  },
  {
   "cell_type": "code",
   "execution_count": 91,
   "id": "16f59a48",
   "metadata": {},
   "outputs": [
    {
     "name": "stdout",
     "output_type": "stream",
     "text": [
      " The grade is C \n"
     ]
    }
   ],
   "source": [
    "score(n)"
   ]
  },
  {
   "cell_type": "code",
   "execution_count": 157,
   "id": "e67bd62f",
   "metadata": {},
   "outputs": [],
   "source": [
    "#using zip function in normal function to know the grades of each student"
   ]
  },
  {
   "cell_type": "code",
   "execution_count": 23,
   "id": "389f5f41",
   "metadata": {},
   "outputs": [
    {
     "name": "stdout",
     "output_type": "stream",
     "text": [
      "swetha : score = 45 : grade = Fail\n",
      "swathi : score = 66 : grade = The grade is D \n",
      "neha : score = 77 : grade =  The grade is C \n",
      "sruthi : score = 98 : grade = The grade is A \n"
     ]
    }
   ],
   "source": [
    "student_names = [\"swetha\",\"swathi\",\"neha\",\"sruthi\"]\n",
    "n = [45,66,77,98]\n",
    "student_score = zip(student_names,n)\n",
    "def score(n):\n",
    "    if n > 90:\n",
    "        return(\"The grade is A \")\n",
    "    elif (n >=80 and n <= 89) :\n",
    "        return(\" The grade is B \")\n",
    "    elif ( n >= 70 and n <= 79) :\n",
    "        return(\" The grade is C \")\n",
    "    elif (n >= 60 and n <= 69) :\n",
    "        return(\"The grade is D \")\n",
    "    elif (n > 100 or n < 0) :\n",
    "        return(\"Enter a valid marks\")\n",
    "    else :\n",
    "        return(\"Fail\")\n",
    "for student, n in student_score:\n",
    "    grade = score(n)\n",
    "    print(f\"{student} : score = {n} : grade = {grade}\")"
   ]
  },
  {
   "cell_type": "code",
   "execution_count": 32,
   "id": "52166cdd",
   "metadata": {},
   "outputs": [
    {
     "name": "stdout",
     "output_type": "stream",
     "text": [
      "sruthi : score = 98 : grade = The grade is A \n"
     ]
    }
   ],
   "source": [
    "a = filter(lambda x: x[1]>70, student_score)              #filter function\n",
    "for student, n in a:\n",
    "    grade = score(n)\n",
    "print(f\"{student} : score = {n} : grade = {grade}\")"
   ]
  },
  {
   "cell_type": "code",
   "execution_count": 18,
   "id": "efd8870b",
   "metadata": {},
   "outputs": [],
   "source": [
    "#map function"
   ]
  },
  {
   "cell_type": "code",
   "execution_count": 33,
   "id": "3777f9db",
   "metadata": {},
   "outputs": [],
   "source": [
    "n = [34,99,86,84,83]\n",
    "def score(n):\n",
    "    if n > 90:\n",
    "        print(\"The grade : A \")\n",
    "    elif (n >=80 and n <= 89) :\n",
    "        print(\" The grade is B \")\n",
    "    elif ( n >= 70 and n <= 79) :\n",
    "        print(\" The grade is C \")\n",
    "    elif (n >= 60 and n <= 69) :\n",
    "        print(\"The grade is D \")\n",
    "    elif (n > 100 or n < 0) :\n",
    "        print(\"Enter a valid marks\")\n",
    "    else :\n",
    "        print(\"Fail\")"
   ]
  },
  {
   "cell_type": "code",
   "execution_count": 38,
   "id": "c2281b2e",
   "metadata": {},
   "outputs": [
    {
     "name": "stdout",
     "output_type": "stream",
     "text": [
      "Fail\n",
      "The grade : A \n",
      " The grade is B \n",
      " The grade is B \n",
      " The grade is B \n"
     ]
    }
   ],
   "source": [
    "a = list(map(score,n))"
   ]
  },
  {
   "cell_type": "markdown",
   "id": "c607262c",
   "metadata": {},
   "source": [
    "# Task 3: mathematical operation\n",
    "\n",
    "Calculator Write a program that takes two numbers as input and performs a mathematical operation (+, -, *, /) based on the user's choice. Use a conditional statement to determine the operation to be performed. Display the result of the calculation."
   ]
  },
  {
   "cell_type": "code",
   "execution_count": 59,
   "id": "fa0082b9",
   "metadata": {},
   "outputs": [
    {
     "name": "stdout",
     "output_type": "stream",
     "text": [
      "enter the first number :23\n",
      "enter the second number : 24\n",
      "enter the operation : addition : \"+\",subraction : \"-\", multiplication : \"*\",division : \"/\" +\n"
     ]
    }
   ],
   "source": [
    "first = int(input(\"enter the first number :\"))    #using function\n",
    "second = int(input(\"enter the second number : \"))\n",
    "operation_choice = input('enter the operation : addition : \"+\",subraction : \"-\", multiplication : \"*\",division : \"/\" ')\n",
    "def operation(first,second):\n",
    "    if operation_choice == \"+\":\n",
    "        print(f\"the sum of two numbers is {first+second}\")\n",
    "    elif operation_choice == \"-\":\n",
    "        print(f\"the difference between two numbers is {first-second}\")\n",
    "    elif operation_choice == \"*\":\n",
    "        print(f\"the product of two numbers is {first*second}\")\n",
    "    else:\n",
    "        print(f\"the divsion of two numbers is {first/second}\")\n"
   ]
  },
  {
   "cell_type": "code",
   "execution_count": 60,
   "id": "1712cdac",
   "metadata": {},
   "outputs": [
    {
     "name": "stdout",
     "output_type": "stream",
     "text": [
      "the sum of two numbers is 47\n"
     ]
    }
   ],
   "source": [
    "operation(first,second)"
   ]
  },
  {
   "cell_type": "code",
   "execution_count": 61,
   "id": "f30692a2",
   "metadata": {},
   "outputs": [],
   "source": [
    "#reduce function"
   ]
  },
  {
   "cell_type": "code",
   "execution_count": 78,
   "id": "00e5d269",
   "metadata": {},
   "outputs": [
    {
     "name": "stdout",
     "output_type": "stream",
     "text": [
      "the sum of two numbers is 47\n"
     ]
    },
    {
     "data": {
      "text/plain": [
       "'+'"
      ]
     },
     "execution_count": 78,
     "metadata": {},
     "output_type": "execute_result"
    }
   ],
   "source": [
    "from functools import reduce\n",
    "a = operation(first,second)\n",
    "reduce(a,operation_choice)"
   ]
  },
  {
   "cell_type": "markdown",
   "id": "f47e3e64",
   "metadata": {},
   "source": [
    "# Task 4 : Reverse String\n",
    "Reverse String Write a Python function to reverse a string.\n"
   ]
  },
  {
   "cell_type": "code",
   "execution_count": 7,
   "id": "aa63434b",
   "metadata": {},
   "outputs": [],
   "source": [
    "def rev_string():                              #using normal function\n",
    "    a = input(\"enter the string : \")\n",
    "    return a[ : :-1]\n",
    "    \n",
    "    "
   ]
  },
  {
   "cell_type": "code",
   "execution_count": 9,
   "id": "6995d47e",
   "metadata": {},
   "outputs": [
    {
     "name": "stdout",
     "output_type": "stream",
     "text": [
      "enter the string : sowjanya\n"
     ]
    },
    {
     "data": {
      "text/plain": [
       "'aynajwos'"
      ]
     },
     "execution_count": 9,
     "metadata": {},
     "output_type": "execute_result"
    }
   ],
   "source": [
    "rev_string()"
   ]
  },
  {
   "cell_type": "code",
   "execution_count": 9,
   "id": "1a4aea2f",
   "metadata": {},
   "outputs": [
    {
     "name": "stdout",
     "output_type": "stream",
     "text": [
      "enter the name : sowji\n",
      "('i', ('j', ('w', ('o', 's'))))\n"
     ]
    }
   ],
   "source": [
    "def rev_string(acc,char):                     #using reduce function\n",
    "    return (char,acc)      \n",
    "a = input(\"enter the name : \")\n",
    "from functools import reduce\n",
    "reversed_string = reduce(rev_string,a)\n",
    "print(f\"{reversed_string}\")"
   ]
  },
  {
   "cell_type": "code",
   "execution_count": 12,
   "id": "aecafdb4",
   "metadata": {},
   "outputs": [
    {
     "name": "stdout",
     "output_type": "stream",
     "text": [
      "enter the name : sowji\n",
      "ijwos\n"
     ]
    }
   ],
   "source": [
    "from functools import reduce\n",
    "import operator\n",
    "a = input(\"enter the name : \")\n",
    "reversed_string = reduce(operator.add,reversed(a))\n",
    "print(f\"{reversed_string}\")"
   ]
  },
  {
   "cell_type": "code",
   "execution_count": 34,
   "id": "22eb3c4a",
   "metadata": {},
   "outputs": [],
   "source": [
    "names = [\"sowji\",\"prani\",\"pandu\"]            #using map function\n",
    "def rev_string(names):\n",
    "    return names[::-1]\n",
    "   "
   ]
  },
  {
   "cell_type": "code",
   "execution_count": 33,
   "id": "8dd66441",
   "metadata": {},
   "outputs": [
    {
     "data": {
      "text/plain": [
       "['ijwos', 'inarp', 'udnap']"
      ]
     },
     "execution_count": 33,
     "metadata": {},
     "output_type": "execute_result"
    }
   ],
   "source": [
    "list(map(rev_string,names))"
   ]
  },
  {
   "cell_type": "code",
   "execution_count": 50,
   "id": "2cf921e4",
   "metadata": {},
   "outputs": [],
   "source": [
    "c = lambda name : name[::-1]               #using lambda function"
   ]
  },
  {
   "cell_type": "code",
   "execution_count": 52,
   "id": "68f440a9",
   "metadata": {},
   "outputs": [
    {
     "data": {
      "text/plain": [
       "'ijwos'"
      ]
     },
     "execution_count": 52,
     "metadata": {},
     "output_type": "execute_result"
    }
   ],
   "source": [
    "c(\"sowji\")"
   ]
  },
  {
   "cell_type": "code",
   "execution_count": 58,
   "id": "9062aa63",
   "metadata": {},
   "outputs": [
    {
     "name": "stdout",
     "output_type": "stream",
     "text": [
      "(1, 'pandu')\n",
      "(2, 'prani')\n",
      "(3, 'sowji')\n"
     ]
    }
   ],
   "source": [
    "names = [\"sowji\",\"prani\",\"pandu\"]            #using enumerate function\n",
    "def rev_string(names):\n",
    "    return names[::-1]\n",
    "c = names[::-1]\n",
    "for i in enumerate(c,1):\n",
    "    print(i)"
   ]
  },
  {
   "cell_type": "code",
   "execution_count": 59,
   "id": "e4dcafdc",
   "metadata": {},
   "outputs": [
    {
     "name": "stdout",
     "output_type": "stream",
     "text": [
      "(1, 'ijwos')\n",
      "(2, 'inarp')\n",
      "(3, 'udnap')\n"
     ]
    }
   ],
   "source": [
    "names = [\"sowji\",\"prani\",\"pandu\"]            #using enumerate function\n",
    "def rev_string(names):\n",
    "    return names[::-1]\n",
    "c = list(map(rev_string,names))\n",
    "for i in enumerate(c,1):\n",
    "    print(i)"
   ]
  },
  {
   "cell_type": "code",
   "execution_count": 113,
   "id": "f706e54a",
   "metadata": {},
   "outputs": [
    {
     "name": "stdout",
     "output_type": "stream",
     "text": [
      "Original Name: sowji, Reversed Name: ijwos\n",
      "Original Name: prani, Reversed Name: inarp\n",
      "Original Name: pandu, Reversed Name: udnap\n"
     ]
    }
   ],
   "source": [
    "names = [\"sowji\", \"prani\", \"pandu\"]                         #using lambda function for multiple values\n",
    "reversed_strings = list(map(lambda x: x[::-1], names))\n",
    "\n",
    "for index, reversed_name in enumerate(reversed_strings):\n",
    "    original_name = names[index]\n",
    "    print(f\"Original Name: {original_name}, Reversed Name: {reversed_name}\")\n"
   ]
  },
  {
   "cell_type": "markdown",
   "id": "1ef6dcea",
   "metadata": {},
   "source": [
    "# Task 5: Palindrome\n",
    "Task 5: Palindrome Write a Python function that checks whether a passed string is a palindrome or not.\n"
   ]
  },
  {
   "cell_type": "code",
   "execution_count": 144,
   "id": "07f0451b",
   "metadata": {},
   "outputs": [
    {
     "name": "stdout",
     "output_type": "stream",
     "text": [
      "enter the string : refer\n"
     ]
    }
   ],
   "source": [
    "user_input = input(\"enter the string : \")      #using functions\n",
    "def pal(user_input):\n",
    "    if user_input[::1]== user_input[::-1]:\n",
    "            print(\"it is a palindrome\")\n",
    "    else:\n",
    "        print(\"it is not a palindrome\")\n",
    "    \n",
    "            \n"
   ]
  },
  {
   "cell_type": "code",
   "execution_count": 145,
   "id": "bbe20d36",
   "metadata": {},
   "outputs": [
    {
     "name": "stdout",
     "output_type": "stream",
     "text": [
      "it is a palindrome\n"
     ]
    }
   ],
   "source": [
    "pal(user_input)"
   ]
  },
  {
   "cell_type": "code",
   "execution_count": 146,
   "id": "e2a0c476",
   "metadata": {},
   "outputs": [],
   "source": [
    "#using lambda function"
   ]
  },
  {
   "cell_type": "code",
   "execution_count": 157,
   "id": "cc60002b",
   "metadata": {},
   "outputs": [],
   "source": [
    "c = (lambda x: \"palindrome\"  if (x[::1]==x[::-1]) else (\"it is not a palindrome\"))"
   ]
  },
  {
   "cell_type": "code",
   "execution_count": 159,
   "id": "768b2d57",
   "metadata": {},
   "outputs": [
    {
     "data": {
      "text/plain": [
       "'palindrome'"
      ]
     },
     "execution_count": 159,
     "metadata": {},
     "output_type": "execute_result"
    }
   ],
   "source": [
    "c(\"mam\")"
   ]
  },
  {
   "cell_type": "code",
   "execution_count": 163,
   "id": "342e1184",
   "metadata": {},
   "outputs": [
    {
     "data": {
      "text/plain": [
       "'it is not a palindrome'"
      ]
     },
     "execution_count": 163,
     "metadata": {},
     "output_type": "execute_result"
    }
   ],
   "source": [
    "c(\"sowji\")"
   ]
  },
  {
   "cell_type": "code",
   "execution_count": 169,
   "id": "70ce6916",
   "metadata": {},
   "outputs": [
    {
     "name": "stdout",
     "output_type": "stream",
     "text": [
      "Original Name: refer, Reversed Name: refer, it is a palindrome\n",
      "original Name : prani, Reversed Name : inarp, it is not a palindrome\n",
      "Original Name: mom, Reversed Name: mom, it is a palindrome\n"
     ]
    }
   ],
   "source": [
    "names = [\"refer\", \"prani\", \"mom\"]                       #using lambda function, map function  and enumerate for multiple values\n",
    "reversed_strings = list(map(lambda x: x[::-1], names))\n",
    "\n",
    "for index, reversed_name in enumerate(reversed_strings):\n",
    "    original_name = names[index]\n",
    "    if (original_name == reversed_name):\n",
    "        print(f\"Original Name: {original_name}, Reversed Name: {reversed_name}, it is a palindrome\")\n",
    "    else:\n",
    "        print(f\"original Name : {original_name}, Reversed Name : {reversed_name}, it is not a palindrome\")"
   ]
  },
  {
   "cell_type": "markdown",
   "id": "2ae82bdd",
   "metadata": {},
   "source": [
    "# Task 6 upper and lower cases\n",
    "Task 6: Counting Write a Python function that accepts a string and counts the number of upper and lower case letters."
   ]
  },
  {
   "cell_type": "code",
   "execution_count": 9,
   "id": "a70cb995",
   "metadata": {},
   "outputs": [
    {
     "name": "stdout",
     "output_type": "stream",
     "text": [
      "Enter a string:: SoWjAnYa\n",
      "['S', 'W', 'A', 'Y']\n",
      "['o', 'j', 'n', 'a']\n",
      "Number of upper case letters are::  4\n",
      "Number of lower case letters are::  4\n"
     ]
    }
   ],
   "source": [
    "string= input(\"Enter a string:: \")   #using function\n",
    "Upper=[]\n",
    "Lower=[]\n",
    "\n",
    "def count(string):\n",
    "    \n",
    "    upper = [chr(65+i) for i in range(0,26)]\n",
    "    lower = [chr(97+i) for i in range(0,26)]\n",
    "    \n",
    "    for i in string:\n",
    "        if i in upper:\n",
    "            Upper.append(i)\n",
    "        else :\n",
    "            Lower.append(i)\n",
    "            \n",
    "    print(Upper)\n",
    "    print(Lower)\n",
    "    print(\"Number of upper case letters are:: \",len(Upper))\n",
    "    print(\"Number of lower case letters are:: \",len(Lower))\n",
    "count(string)\n"
   ]
  },
  {
   "cell_type": "code",
   "execution_count": null,
   "id": "27c7e03f",
   "metadata": {},
   "outputs": [],
   "source": []
  }
 ],
 "metadata": {
  "kernelspec": {
   "display_name": "Python 3 (ipykernel)",
   "language": "python",
   "name": "python3"
  },
  "language_info": {
   "codemirror_mode": {
    "name": "ipython",
    "version": 3
   },
   "file_extension": ".py",
   "mimetype": "text/x-python",
   "name": "python",
   "nbconvert_exporter": "python",
   "pygments_lexer": "ipython3",
   "version": "3.11.4"
  }
 },
 "nbformat": 4,
 "nbformat_minor": 5
}

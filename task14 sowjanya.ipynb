{
 "cells": [
  {
   "cell_type": "markdown",
   "id": "0bbb1d86",
   "metadata": {},
   "source": [
    "**class task**\n",
    "\n",
    "\n",
    "\n",
    "\n",
    "\n"
   ]
  },
  {
   "cell_type": "code",
   "execution_count": 172,
   "id": "ae7ddfb0",
   "metadata": {},
   "outputs": [],
   "source": [
    "# take combination of integers, float and string and print only float values\n",
    "#print only strings\n",
    "#replace integer values with a name is called \"integer\", float as \"float\" and string as \"string\""
   ]
  },
  {
   "cell_type": "code",
   "execution_count": 173,
   "id": "ee732dd9",
   "metadata": {},
   "outputs": [],
   "source": [
    "list1 = [ 2, 2.2, \"hello\", \"25\",2.0,1]"
   ]
  },
  {
   "cell_type": "code",
   "execution_count": 177,
   "id": "6962b5c1",
   "metadata": {},
   "outputs": [
    {
     "data": {
      "text/plain": [
       "[2.2, 2.0]"
      ]
     },
     "execution_count": 177,
     "metadata": {},
     "output_type": "execute_result"
    }
   ],
   "source": [
    "def s(n):                                         #float values\n",
    "    if type(n) == float:\n",
    "        return n\n",
    "list(filter(s,list1))"
   ]
  },
  {
   "cell_type": "code",
   "execution_count": 178,
   "id": "f6f5f140",
   "metadata": {},
   "outputs": [
    {
     "data": {
      "text/plain": [
       "[2, 1]"
      ]
     },
     "execution_count": 178,
     "metadata": {},
     "output_type": "execute_result"
    }
   ],
   "source": [
    "def s(n):                                         #int values\n",
    "    if type(n) == int:\n",
    "        return n\n",
    "list(filter(s,list1))"
   ]
  },
  {
   "cell_type": "code",
   "execution_count": 179,
   "id": "8898d6db",
   "metadata": {},
   "outputs": [
    {
     "data": {
      "text/plain": [
       "['hello', '25']"
      ]
     },
     "execution_count": 179,
     "metadata": {},
     "output_type": "execute_result"
    }
   ],
   "source": [
    "def s(n):                                            #string\n",
    "    if type(n) == str:\n",
    "        return n\n",
    "list(filter(s,list1))"
   ]
  },
  {
   "cell_type": "code",
   "execution_count": 181,
   "id": "89045ccc",
   "metadata": {},
   "outputs": [
    {
     "data": {
      "text/plain": [
       "['integer', 'float', 'string', 'string', 'float', 'integer']"
      ]
     },
     "execution_count": 181,
     "metadata": {},
     "output_type": "execute_result"
    }
   ],
   "source": [
    "def s(n):                                     #replace\n",
    "    if type(n)== int:\n",
    "        return \"integer\"\n",
    "    elif type(n)== float:\n",
    "        return \"float\"\n",
    "    else:\n",
    "        return \"string\"\n",
    "list(map(s,list1))"
   ]
  },
  {
   "cell_type": "markdown",
   "id": "04b9d5da",
   "metadata": {},
   "source": [
    "# task14"
   ]
  },
  {
   "cell_type": "markdown",
   "id": "51396565",
   "metadata": {},
   "source": [
    "1)\n",
    "\n",
    "a) **Create a lambda function that takes two arguments and returns their sum.**\n",
    "\n",
    "\n"
   ]
  },
  {
   "cell_type": "code",
   "execution_count": 1,
   "id": "40b4289a",
   "metadata": {},
   "outputs": [],
   "source": [
    "c = lambda x,y : x+y"
   ]
  },
  {
   "cell_type": "code",
   "execution_count": 2,
   "id": "fd3b9289",
   "metadata": {},
   "outputs": [
    {
     "data": {
      "text/plain": [
       "36"
      ]
     },
     "execution_count": 2,
     "metadata": {},
     "output_type": "execute_result"
    }
   ],
   "source": [
    "c(12,24)"
   ]
  },
  {
   "cell_type": "markdown",
   "id": "544fe150",
   "metadata": {},
   "source": [
    "b) **Create another lambda function that takes a single argument and returns its square.**\n"
   ]
  },
  {
   "cell_type": "code",
   "execution_count": 3,
   "id": "49a8a9a3",
   "metadata": {},
   "outputs": [],
   "source": [
    "c = lambda n : n**2"
   ]
  },
  {
   "cell_type": "code",
   "execution_count": 4,
   "id": "ea88eba5",
   "metadata": {},
   "outputs": [
    {
     "data": {
      "text/plain": [
       "4"
      ]
     },
     "execution_count": 4,
     "metadata": {},
     "output_type": "execute_result"
    }
   ],
   "source": [
    "c(2)"
   ]
  },
  {
   "cell_type": "markdown",
   "id": "07da70d1",
   "metadata": {},
   "source": [
    "c)  **Use the lambda functions to calculate the sum and square of various numbers and print the results.**"
   ]
  },
  {
   "cell_type": "code",
   "execution_count": 19,
   "id": "88b9392d",
   "metadata": {},
   "outputs": [],
   "source": [
    "c= lambda *n : sum(n)\n"
   ]
  },
  {
   "cell_type": "code",
   "execution_count": 20,
   "id": "5c3e1a34",
   "metadata": {},
   "outputs": [
    {
     "data": {
      "text/plain": [
       "21"
      ]
     },
     "execution_count": 20,
     "metadata": {},
     "output_type": "execute_result"
    }
   ],
   "source": [
    "c(1,2,3,4,5,6)"
   ]
  },
  {
   "cell_type": "code",
   "execution_count": 30,
   "id": "8f3875a2",
   "metadata": {},
   "outputs": [
    {
     "data": {
      "text/plain": [
       "[1, 4, 9, 16, 25, 36, 49, 64, 81]"
      ]
     },
     "execution_count": 30,
     "metadata": {},
     "output_type": "execute_result"
    }
   ],
   "source": [
    "list(map(lambda n : n**2  , list(range(1,10))))  #using range method"
   ]
  },
  {
   "cell_type": "code",
   "execution_count": 32,
   "id": "79553e0a",
   "metadata": {},
   "outputs": [
    {
     "data": {
      "text/plain": [
       "[1, 4, 9, 16, 25, 36, 49]"
      ]
     },
     "execution_count": 32,
     "metadata": {},
     "output_type": "execute_result"
    }
   ],
   "source": [
    "list1 = [1,2,3,4,5,6,7]                     #using list of various numbers\n",
    "list(map(lambda n : n**2  , list1))"
   ]
  },
  {
   "cell_type": "markdown",
   "id": "de4c55f0",
   "metadata": {},
   "source": [
    "2)**Define a list of integers.**\n",
    "\n",
    "a) **Use the filter function to create a new list that contains only the even numbers from the original list**.\n",
    "\n",
    "\n"
   ]
  },
  {
   "cell_type": "code",
   "execution_count": 40,
   "id": "03103b64",
   "metadata": {},
   "outputs": [],
   "source": [
    "list2 = [1,2,3,4,5,6,23,24,25,26,82,83,84]"
   ]
  },
  {
   "cell_type": "code",
   "execution_count": 42,
   "id": "052b0e1c",
   "metadata": {},
   "outputs": [],
   "source": [
    "def even(n):\n",
    "    if n %2  == 0:\n",
    "        return n    "
   ]
  },
  {
   "cell_type": "code",
   "execution_count": 43,
   "id": "1f5aa6c6",
   "metadata": {},
   "outputs": [
    {
     "data": {
      "text/plain": [
       "[2, 4, 6, 24, 26, 82, 84]"
      ]
     },
     "execution_count": 43,
     "metadata": {},
     "output_type": "execute_result"
    }
   ],
   "source": [
    "list(filter(even,list2))"
   ]
  },
  {
   "cell_type": "markdown",
   "id": "3d0214ba",
   "metadata": {},
   "source": [
    "b) **Use the filter function again to create a new list that contains only numbers greater than 10 from the original list.**\n"
   ]
  },
  {
   "cell_type": "code",
   "execution_count": 44,
   "id": "481b658b",
   "metadata": {},
   "outputs": [],
   "source": [
    "def num(n):\n",
    "    if n>10:\n",
    "        return n"
   ]
  },
  {
   "cell_type": "code",
   "execution_count": 45,
   "id": "07fade21",
   "metadata": {},
   "outputs": [
    {
     "data": {
      "text/plain": [
       "[23, 24, 25, 26, 82, 83, 84]"
      ]
     },
     "execution_count": 45,
     "metadata": {},
     "output_type": "execute_result"
    }
   ],
   "source": [
    "list(filter(num,list2))"
   ]
  },
  {
   "cell_type": "markdown",
   "id": "699a26bb",
   "metadata": {},
   "source": [
    "c) **Print both filtered lists.**"
   ]
  },
  {
   "cell_type": "code",
   "execution_count": 46,
   "id": "46a20017",
   "metadata": {},
   "outputs": [
    {
     "data": {
      "text/plain": [
       "[2, 4, 6, 24, 26, 82, 84, 23, 24, 25, 26, 82, 83, 84]"
      ]
     },
     "execution_count": 46,
     "metadata": {},
     "output_type": "execute_result"
    }
   ],
   "source": [
    "list(filter(even,list2)) + list(filter(num,list2))"
   ]
  },
  {
   "cell_type": "markdown",
   "id": "db3df7b8",
   "metadata": {},
   "source": [
    "3) **Define a list of strings where each string represents a number (e.g., [\"1\", \"2\", \"3\"]).**\n",
    "\n",
    "a) **Use the map function to convert each string to an integer and store the result in a new list.**\n",
    "\n",
    "\n"
   ]
  },
  {
   "cell_type": "code",
   "execution_count": 66,
   "id": "9fc955c7",
   "metadata": {},
   "outputs": [],
   "source": [
    "n = [\"1\",\"2\",\"3\",\"4\",\"5\",\"6\"]"
   ]
  },
  {
   "cell_type": "code",
   "execution_count": 69,
   "id": "80cb6fea",
   "metadata": {},
   "outputs": [],
   "source": [
    "def si(n):\n",
    "    if type(n)== str:\n",
    "        return int(n)"
   ]
  },
  {
   "cell_type": "code",
   "execution_count": 77,
   "id": "602561a3",
   "metadata": {},
   "outputs": [],
   "source": [
    "newlist = list(map(si,n))"
   ]
  },
  {
   "cell_type": "code",
   "execution_count": 78,
   "id": "150da363",
   "metadata": {},
   "outputs": [
    {
     "data": {
      "text/plain": [
       "[1, 2, 3, 4, 5, 6]"
      ]
     },
     "execution_count": 78,
     "metadata": {},
     "output_type": "execute_result"
    }
   ],
   "source": [
    "newlist"
   ]
  },
  {
   "cell_type": "markdown",
   "id": "f7f542db",
   "metadata": {},
   "source": [
    "b) **Use the map function again to square each integer in the new list and store the result in another new list.**\n"
   ]
  },
  {
   "cell_type": "code",
   "execution_count": 79,
   "id": "426feffc",
   "metadata": {},
   "outputs": [],
   "source": [
    "def square(n):\n",
    "    return n*n"
   ]
  },
  {
   "cell_type": "code",
   "execution_count": 82,
   "id": "f2b69534",
   "metadata": {},
   "outputs": [],
   "source": [
    "newlist_sq = list(map(square,newlist))"
   ]
  },
  {
   "cell_type": "code",
   "execution_count": 83,
   "id": "f27f76c2",
   "metadata": {},
   "outputs": [
    {
     "data": {
      "text/plain": [
       "[1, 4, 9, 16, 25, 36]"
      ]
     },
     "execution_count": 83,
     "metadata": {},
     "output_type": "execute_result"
    }
   ],
   "source": [
    "newlist_sq"
   ]
  },
  {
   "cell_type": "markdown",
   "id": "10bca06e",
   "metadata": {},
   "source": [
    "c) **Print both new lists.**"
   ]
  },
  {
   "cell_type": "code",
   "execution_count": 84,
   "id": "6b1267a5",
   "metadata": {},
   "outputs": [
    {
     "data": {
      "text/plain": [
       "[1, 2, 3, 4, 5, 6, 1, 4, 9, 16, 25, 36]"
      ]
     },
     "execution_count": 84,
     "metadata": {},
     "output_type": "execute_result"
    }
   ],
   "source": [
    "newlist+newlist_sq"
   ]
  },
  {
   "cell_type": "markdown",
   "id": "26f858ab",
   "metadata": {},
   "source": [
    "4)**Create a list of dictionaries, where each dictionary represents a person with keys \"name\" and \"age\".**\n",
    "\n",
    "**Example: [{\"name\": \"Alice\", \"age\": 30}, {\"name\": \"Bob\", \"age\": 25}, ...]**\n",
    "\n",
    "a) **Use the filter function to create a new list that contains only the people who are older than 25.**\n",
    "\n",
    "\n",
    "Print the list of names."
   ]
  },
  {
   "cell_type": "code",
   "execution_count": 85,
   "id": "cbc0b1a1",
   "metadata": {},
   "outputs": [],
   "source": [
    "dict1 = [ {\"name\": \"Alice\", \"age\": 30}, {\"name\": \"Bob\", \"age\": 25},{\"name\": \"Aishu\", \"age\": 26}, {\"name\": \"Barbie\", \"age\": 28},]"
   ]
  },
  {
   "cell_type": "code",
   "execution_count": 114,
   "id": "477aa24c",
   "metadata": {},
   "outputs": [],
   "source": [
    "def people(dict1):\n",
    "    if dict1[\"age\"] > 25:\n",
    "        return (dict1)"
   ]
  },
  {
   "cell_type": "code",
   "execution_count": 116,
   "id": "90931c16",
   "metadata": {},
   "outputs": [],
   "source": [
    "a_25 = list(filter(people,dict1))"
   ]
  },
  {
   "cell_type": "code",
   "execution_count": 117,
   "id": "380fc7a7",
   "metadata": {},
   "outputs": [
    {
     "data": {
      "text/plain": [
       "[{'name': 'Alice', 'age': 30},\n",
       " {'name': 'Aishu', 'age': 26},\n",
       " {'name': 'Barbie', 'age': 28}]"
      ]
     },
     "execution_count": 117,
     "metadata": {},
     "output_type": "execute_result"
    }
   ],
   "source": [
    "a_25"
   ]
  },
  {
   "cell_type": "markdown",
   "id": "225a9c59",
   "metadata": {},
   "source": [
    "b) **Use the map function to create a new list that contains the names of the filtered people.**\n"
   ]
  },
  {
   "cell_type": "code",
   "execution_count": 133,
   "id": "6b8570df",
   "metadata": {},
   "outputs": [],
   "source": [
    "def names_fp(dict1):\n",
    "    return {\"name\" : dict1[\"name\"]}"
   ]
  },
  {
   "cell_type": "code",
   "execution_count": 134,
   "id": "c4bf1af4",
   "metadata": {},
   "outputs": [],
   "source": [
    "selected_names = list(map(names_fp,a_25))"
   ]
  },
  {
   "cell_type": "code",
   "execution_count": 135,
   "id": "d7321d8c",
   "metadata": {},
   "outputs": [
    {
     "data": {
      "text/plain": [
       "[{'name': 'Alice'}, {'name': 'Aishu'}, {'name': 'Barbie'}]"
      ]
     },
     "execution_count": 135,
     "metadata": {},
     "output_type": "execute_result"
    }
   ],
   "source": [
    "selected_names "
   ]
  },
  {
   "cell_type": "markdown",
   "id": "ae07b48b",
   "metadata": {},
   "source": [
    "5)**Create a program that reads a list of numbers from the user (you can use the input function for this).**\n",
    "\n",
    "**Use map and filter functions to perform the following operations:**\n",
    "\n",
    "a) **Square each number.**\n",
    "\n",
    "b) **Filter out numbers that are not divisible by 3.**\n",
    "\n",
    "Print the result."
   ]
  },
  {
   "cell_type": "code",
   "execution_count": 138,
   "id": "b49a8c4d",
   "metadata": {},
   "outputs": [],
   "source": [
    "def sq(n):\n",
    "    return n**2"
   ]
  },
  {
   "cell_type": "code",
   "execution_count": 163,
   "id": "a3d8737d",
   "metadata": {},
   "outputs": [
    {
     "name": "stdout",
     "output_type": "stream",
     "text": [
      "how many integers you want to enter: 4\n",
      "enter the number: 1\n",
      "enter the number: 2\n",
      "enter the number: 6\n",
      "enter the number: 7\n",
      "[1, 2, 6, 7]\n"
     ]
    }
   ],
   "source": [
    "list1 = []\n",
    "n = int(input(\"how many integers you want to enter: \"))\n",
    "for i in range(1,n+1):\n",
    "    a= int(input(\"enter the number: \"))\n",
    "    list1.append(a)\n",
    "print(list1)\n",
    "        \n",
    "\n",
    "        \n",
    "            \n",
    "    "
   ]
  },
  {
   "cell_type": "code",
   "execution_count": 165,
   "id": "4fb8ffd3",
   "metadata": {},
   "outputs": [
    {
     "data": {
      "text/plain": [
       "[1, 4, 36, 49]"
      ]
     },
     "execution_count": 165,
     "metadata": {},
     "output_type": "execute_result"
    }
   ],
   "source": [
    "list(map(sq,list1))   #square of the user given integers"
   ]
  },
  {
   "cell_type": "code",
   "execution_count": 167,
   "id": "228edb05",
   "metadata": {},
   "outputs": [],
   "source": [
    "def n3(n):\n",
    "    if n%3 != 0:\n",
    "        print(n)"
   ]
  },
  {
   "cell_type": "code",
   "execution_count": 171,
   "id": "001dbd84",
   "metadata": {},
   "outputs": [
    {
     "name": "stdout",
     "output_type": "stream",
     "text": [
      "1\n",
      "2\n",
      "7\n"
     ]
    },
    {
     "data": {
      "text/plain": [
       "[]"
      ]
     },
     "execution_count": 171,
     "metadata": {},
     "output_type": "execute_result"
    }
   ],
   "source": [
    "list(filter(n3,list1))"
   ]
  },
  {
   "cell_type": "code",
   "execution_count": null,
   "id": "49e8da3b",
   "metadata": {},
   "outputs": [],
   "source": []
  }
 ],
 "metadata": {
  "kernelspec": {
   "display_name": "Python 3 (ipykernel)",
   "language": "python",
   "name": "python3"
  },
  "language_info": {
   "codemirror_mode": {
    "name": "ipython",
    "version": 3
   },
   "file_extension": ".py",
   "mimetype": "text/x-python",
   "name": "python",
   "nbconvert_exporter": "python",
   "pygments_lexer": "ipython3",
   "version": "3.11.4"
  }
 },
 "nbformat": 4,
 "nbformat_minor": 5
}
